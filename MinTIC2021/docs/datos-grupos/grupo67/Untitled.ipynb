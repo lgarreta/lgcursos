{
 "cells": [
  {
   "cell_type": "code",
   "execution_count": 33,
   "metadata": {},
   "outputs": [
    {
     "data": {
      "text/html": [
       "'/home/lg/repos/lgcursos/2021/MinTIC2021/MinTIC-Python/semana3/reto2/VPL-Junio01'"
      ],
      "text/latex": [
       "'/home/lg/repos/lgcursos/2021/MinTIC2021/MinTIC-Python/semana3/reto2/VPL-Junio01'"
      ],
      "text/markdown": [
       "'/home/lg/repos/lgcursos/2021/MinTIC2021/MinTIC-Python/semana3/reto2/VPL-Junio01'"
      ],
      "text/plain": [
       "[1] \"/home/lg/repos/lgcursos/2021/MinTIC2021/MinTIC-Python/semana3/reto2/VPL-Junio01\""
      ]
     },
     "metadata": {},
     "output_type": "display_data"
    }
   ],
   "source": [
    "options (stringAsFactors=F)\n",
    "getwd()"
   ]
  },
  {
   "cell_type": "code",
   "execution_count": 27,
   "metadata": {},
   "outputs": [
    {
     "data": {
      "text/html": [
       "'/home/lg/repos/lgcursos/2021/MinTIC2021/MinTIC-Python/semana3/reto2/VPL-Junio01'"
      ],
      "text/latex": [
       "'/home/lg/repos/lgcursos/2021/MinTIC2021/MinTIC-Python/semana3/reto2/VPL-Junio01'"
      ],
      "text/markdown": [
       "'/home/lg/repos/lgcursos/2021/MinTIC2021/MinTIC-Python/semana3/reto2/VPL-Junio01'"
      ],
      "text/plain": [
       "[1] \"/home/lg/repos/lgcursos/2021/MinTIC2021/MinTIC-Python/semana3/reto2/VPL-Junio01\""
      ]
     },
     "metadata": {},
     "output_type": "display_data"
    }
   ],
   "source": [
    "setwd (\"/home/lg/repos/lgcursos/2021/MinTIC2021/MinTIC-Python/semana3/reto2/VPL-Junio01/\")\n",
    "getwd()"
   ]
  },
  {
   "cell_type": "code",
   "execution_count": 52,
   "metadata": {
    "collapsed": true
   },
   "outputs": [
    {
     "data": {
      "text/html": [
       "<table class=\"dataframe\">\n",
       "<caption>A data.frame: 6 × 5</caption>\n",
       "<thead>\n",
       "\t<tr><th></th><th scope=col>Numero</th><th scope=col>Apellido</th><th scope=col>Nombre</th><th scope=col>Correo</th><th scope=col>NombreCompleto</th></tr>\n",
       "\t<tr><th></th><th scope=col>&lt;int&gt;</th><th scope=col>&lt;fct&gt;</th><th scope=col>&lt;fct&gt;</th><th scope=col>&lt;fct&gt;</th><th scope=col>&lt;fct&gt;</th></tr>\n",
       "</thead>\n",
       "<tbody>\n",
       "\t<tr><th scope=row>1</th><td>1</td><td>Acevedo Ariza  </td><td>Jorge Andres    </td><td>viajerosrcn@gmail.com     </td><td>Jorge Andres Acevedo Ariza  </td></tr>\n",
       "\t<tr><th scope=row>2</th><td>2</td><td>Ahumada Rincón </td><td>Diego Nicolas   </td><td>nicolas1504@hotmail.com   </td><td>Diego Nicolas Ahumada Rincón</td></tr>\n",
       "\t<tr><th scope=row>3</th><td>3</td><td>Aldana  Barrera</td><td>Andres          </td><td>ing.andresaldana@gmail.com</td><td>Andres Aldana  Barrera      </td></tr>\n",
       "\t<tr><th scope=row>4</th><td>4</td><td>Arias Camargo  </td><td>Flor Mariles    </td><td>florimar-1986@hotmail.com </td><td>Flor Mariles Arias Camargo  </td></tr>\n",
       "\t<tr><th scope=row>5</th><td>5</td><td>Barajas Ochoa  </td><td>Lorent Dhalila  </td><td>dhalilabarajas@gmail.com  </td><td>Lorent Dhalila Barajas Ochoa</td></tr>\n",
       "\t<tr><th scope=row>6</th><td>6</td><td>Bastos Meza    </td><td>Nancy Yarilennys</td><td>yarilennys@hotmail.com    </td><td>Nancy Yarilennys Bastos Meza</td></tr>\n",
       "</tbody>\n",
       "</table>\n"
      ],
      "text/latex": [
       "A data.frame: 6 × 5\n",
       "\\begin{tabular}{r|lllll}\n",
       "  & Numero & Apellido & Nombre & Correo & NombreCompleto\\\\\n",
       "  & <int> & <fct> & <fct> & <fct> & <fct>\\\\\n",
       "\\hline\n",
       "\t1 & 1 & Acevedo Ariza   & Jorge Andres     & viajerosrcn@gmail.com      & Jorge Andres Acevedo Ariza  \\\\\n",
       "\t2 & 2 & Ahumada Rincón  & Diego Nicolas    & nicolas1504@hotmail.com    & Diego Nicolas Ahumada Rincón\\\\\n",
       "\t3 & 3 & Aldana  Barrera & Andres           & ing.andresaldana@gmail.com & Andres Aldana  Barrera      \\\\\n",
       "\t4 & 4 & Arias Camargo   & Flor Mariles     & florimar-1986@hotmail.com  & Flor Mariles Arias Camargo  \\\\\n",
       "\t5 & 5 & Barajas Ochoa   & Lorent Dhalila   & dhalilabarajas@gmail.com   & Lorent Dhalila Barajas Ochoa\\\\\n",
       "\t6 & 6 & Bastos Meza     & Nancy Yarilennys & yarilennys@hotmail.com     & Nancy Yarilennys Bastos Meza\\\\\n",
       "\\end{tabular}\n"
      ],
      "text/markdown": [
       "\n",
       "A data.frame: 6 × 5\n",
       "\n",
       "| <!--/--> | Numero &lt;int&gt; | Apellido &lt;fct&gt; | Nombre &lt;fct&gt; | Correo &lt;fct&gt; | NombreCompleto &lt;fct&gt; |\n",
       "|---|---|---|---|---|---|\n",
       "| 1 | 1 | Acevedo Ariza   | Jorge Andres     | viajerosrcn@gmail.com      | Jorge Andres Acevedo Ariza   |\n",
       "| 2 | 2 | Ahumada Rincón  | Diego Nicolas    | nicolas1504@hotmail.com    | Diego Nicolas Ahumada Rincón |\n",
       "| 3 | 3 | Aldana  Barrera | Andres           | ing.andresaldana@gmail.com | Andres Aldana  Barrera       |\n",
       "| 4 | 4 | Arias Camargo   | Flor Mariles     | florimar-1986@hotmail.com  | Flor Mariles Arias Camargo   |\n",
       "| 5 | 5 | Barajas Ochoa   | Lorent Dhalila   | dhalilabarajas@gmail.com   | Lorent Dhalila Barajas Ochoa |\n",
       "| 6 | 6 | Bastos Meza     | Nancy Yarilennys | yarilennys@hotmail.com     | Nancy Yarilennys Bastos Meza |\n",
       "\n"
      ],
      "text/plain": [
       "  Numero Apellido        Nombre           Correo                    \n",
       "1 1      Acevedo Ariza   Jorge Andres     viajerosrcn@gmail.com     \n",
       "2 2      Ahumada Rincón  Diego Nicolas    nicolas1504@hotmail.com   \n",
       "3 3      Aldana  Barrera Andres           ing.andresaldana@gmail.com\n",
       "4 4      Arias Camargo   Flor Mariles     florimar-1986@hotmail.com \n",
       "5 5      Barajas Ochoa   Lorent Dhalila   dhalilabarajas@gmail.com  \n",
       "6 6      Bastos Meza     Nancy Yarilennys yarilennys@hotmail.com    \n",
       "  NombreCompleto              \n",
       "1 Jorge Andres Acevedo Ariza  \n",
       "2 Diego Nicolas Ahumada Rincón\n",
       "3 Andres Aldana  Barrera      \n",
       "4 Flor Mariles Arias Camargo  \n",
       "5 Lorent Dhalila Barajas Ochoa\n",
       "6 Nancy Yarilennys Bastos Meza"
      ]
     },
     "metadata": {},
     "output_type": "display_data"
    }
   ],
   "source": [
    "data = read.csv (\"lista-datos-grupo67.csv\", stringsAsFactors=T)\n",
    "head (data)"
   ]
  },
  {
   "cell_type": "code",
   "execution_count": 53,
   "metadata": {
    "collapsed": true
   },
   "outputs": [
    {
     "data": {
      "text/html": [
       "<table class=\"dataframe\">\n",
       "<caption>A data.frame: 6 × 2</caption>\n",
       "<thead>\n",
       "\t<tr><th></th><th scope=col>NOMBRE</th><th scope=col>CALIFICACION</th></tr>\n",
       "\t<tr><th></th><th scope=col>&lt;fct&gt;</th><th scope=col>&lt;int&gt;</th></tr>\n",
       "</thead>\n",
       "<tbody>\n",
       "\t<tr><th scope=row>1</th><td>'Sepúlveda Burgos Miguel Angel' </td><td>100</td></tr>\n",
       "\t<tr><th scope=row>2</th><td>'Gonzalez Garavito Andrea'      </td><td>  0</td></tr>\n",
       "\t<tr><th scope=row>3</th><td>'Quiroga Yopasa Carlos Felipe'  </td><td>100</td></tr>\n",
       "\t<tr><th scope=row>4</th><td>'Tequia Pinilla Rodney Snehyder'</td><td>100</td></tr>\n",
       "\t<tr><th scope=row>5</th><td>'Solano suarez Jeison david'    </td><td>100</td></tr>\n",
       "\t<tr><th scope=row>6</th><td>'Aldana Barrera Andres'         </td><td>100</td></tr>\n",
       "</tbody>\n",
       "</table>\n"
      ],
      "text/latex": [
       "A data.frame: 6 × 2\n",
       "\\begin{tabular}{r|ll}\n",
       "  & NOMBRE & CALIFICACION\\\\\n",
       "  & <fct> & <int>\\\\\n",
       "\\hline\n",
       "\t1 & 'Sepúlveda Burgos Miguel Angel'  & 100\\\\\n",
       "\t2 & 'Gonzalez Garavito Andrea'       &   0\\\\\n",
       "\t3 & 'Quiroga Yopasa Carlos Felipe'   & 100\\\\\n",
       "\t4 & 'Tequia Pinilla Rodney Snehyder' & 100\\\\\n",
       "\t5 & 'Solano suarez Jeison david'     & 100\\\\\n",
       "\t6 & 'Aldana Barrera Andres'          & 100\\\\\n",
       "\\end{tabular}\n"
      ],
      "text/markdown": [
       "\n",
       "A data.frame: 6 × 2\n",
       "\n",
       "| <!--/--> | NOMBRE &lt;fct&gt; | CALIFICACION &lt;int&gt; |\n",
       "|---|---|---|\n",
       "| 1 | 'Sepúlveda Burgos Miguel Angel'  | 100 |\n",
       "| 2 | 'Gonzalez Garavito Andrea'       |   0 |\n",
       "| 3 | 'Quiroga Yopasa Carlos Felipe'   | 100 |\n",
       "| 4 | 'Tequia Pinilla Rodney Snehyder' | 100 |\n",
       "| 5 | 'Solano suarez Jeison david'     | 100 |\n",
       "| 6 | 'Aldana Barrera Andres'          | 100 |\n",
       "\n"
      ],
      "text/plain": [
       "  NOMBRE                           CALIFICACION\n",
       "1 'Sepúlveda Burgos Miguel Angel'  100         \n",
       "2 'Gonzalez Garavito Andrea'         0         \n",
       "3 'Quiroga Yopasa Carlos Felipe'   100         \n",
       "4 'Tequia Pinilla Rodney Snehyder' 100         \n",
       "5 'Solano suarez Jeison david'     100         \n",
       "6 'Aldana Barrera Andres'          100         "
      ]
     },
     "metadata": {},
     "output_type": "display_data"
    }
   ],
   "source": [
    "grades = read.csv (\"calificaciones-reto2-VPL-Junio.csv\", stringsAsFactors = T)\n",
    "head (grades)"
   ]
  },
  {
   "cell_type": "code",
   "execution_count": 62,
   "metadata": {},
   "outputs": [
    {
     "data": {
      "text/html": [
       "<table class=\"dataframe\">\n",
       "<caption>A data.frame: 35 × 6</caption>\n",
       "<thead>\n",
       "\t<tr><th scope=col>NOMBRE</th><th scope=col>CALIFICACION</th><th scope=col>Numero</th><th scope=col>Apellido</th><th scope=col>Nombre</th><th scope=col>Correo</th></tr>\n",
       "\t<tr><th scope=col>&lt;fct&gt;</th><th scope=col>&lt;int&gt;</th><th scope=col>&lt;int&gt;</th><th scope=col>&lt;fct&gt;</th><th scope=col>&lt;fct&gt;</th><th scope=col>&lt;fct&gt;</th></tr>\n",
       "</thead>\n",
       "<tbody>\n",
       "\t<tr><td>'Sepúlveda Burgos Miguel Angel'     </td><td>100</td><td>NA</td><td>NA</td><td>NA</td><td>NA</td></tr>\n",
       "\t<tr><td>'Gonzalez Garavito Andrea'          </td><td>  0</td><td>NA</td><td>NA</td><td>NA</td><td>NA</td></tr>\n",
       "\t<tr><td>'Quiroga Yopasa Carlos Felipe'      </td><td>100</td><td>NA</td><td>NA</td><td>NA</td><td>NA</td></tr>\n",
       "\t<tr><td>'Tequia Pinilla Rodney Snehyder'    </td><td>100</td><td>NA</td><td>NA</td><td>NA</td><td>NA</td></tr>\n",
       "\t<tr><td>'Solano suarez Jeison david'        </td><td>100</td><td>NA</td><td>NA</td><td>NA</td><td>NA</td></tr>\n",
       "\t<tr><td>'Aldana Barrera Andres'             </td><td>100</td><td>NA</td><td>NA</td><td>NA</td><td>NA</td></tr>\n",
       "\t<tr><td>'Salazar Portilla Juan Pablo'       </td><td>100</td><td>NA</td><td>NA</td><td>NA</td><td>NA</td></tr>\n",
       "\t<tr><td>'Colorado Perez Laura Camila'       </td><td>100</td><td>NA</td><td>NA</td><td>NA</td><td>NA</td></tr>\n",
       "\t<tr><td>'Paez Torres Angela Daniela'        </td><td>100</td><td>NA</td><td>NA</td><td>NA</td><td>NA</td></tr>\n",
       "\t<tr><td>'Ortiz Hunda Andres Felipe'         </td><td>100</td><td>NA</td><td>NA</td><td>NA</td><td>NA</td></tr>\n",
       "\t<tr><td>'VILLAMIL AVILA GEOVANI ARIEL'      </td><td>100</td><td>NA</td><td>NA</td><td>NA</td><td>NA</td></tr>\n",
       "\t<tr><td>'Duque Giraldo Luz Alba'            </td><td>  0</td><td>NA</td><td>NA</td><td>NA</td><td>NA</td></tr>\n",
       "\t<tr><td>'Ruiz Oliverio'                     </td><td>100</td><td>NA</td><td>NA</td><td>NA</td><td>NA</td></tr>\n",
       "\t<tr><td>'Serna Forero Jhon Esneider'        </td><td>100</td><td>NA</td><td>NA</td><td>NA</td><td>NA</td></tr>\n",
       "\t<tr><td>'Velandia Martínez Andrés Fernando' </td><td>100</td><td>NA</td><td>NA</td><td>NA</td><td>NA</td></tr>\n",
       "\t<tr><td>'cruz barragan juan erasmo'         </td><td>  0</td><td>NA</td><td>NA</td><td>NA</td><td>NA</td></tr>\n",
       "\t<tr><td>'Córdoba Nariño Héctor Antonio'     </td><td>100</td><td>NA</td><td>NA</td><td>NA</td><td>NA</td></tr>\n",
       "\t<tr><td>'Mendoza Garcia Lady Joanna'        </td><td>100</td><td>NA</td><td>NA</td><td>NA</td><td>NA</td></tr>\n",
       "\t<tr><td>'Izquierdo Alarcon Nilet Yolanda'   </td><td>100</td><td>NA</td><td>NA</td><td>NA</td><td>NA</td></tr>\n",
       "\t<tr><td>'Beleño Ortega Michael Stally'      </td><td>100</td><td>NA</td><td>NA</td><td>NA</td><td>NA</td></tr>\n",
       "\t<tr><td>'Bergano Daniel'                    </td><td>100</td><td>NA</td><td>NA</td><td>NA</td><td>NA</td></tr>\n",
       "\t<tr><td>'Gonzalez Arango Alejandro'         </td><td>100</td><td>NA</td><td>NA</td><td>NA</td><td>NA</td></tr>\n",
       "\t<tr><td>'Briceño Moreno Johanna Paola'      </td><td>100</td><td>NA</td><td>NA</td><td>NA</td><td>NA</td></tr>\n",
       "\t<tr><td>'montealegre ramos william fernando'</td><td>100</td><td>NA</td><td>NA</td><td>NA</td><td>NA</td></tr>\n",
       "\t<tr><td>'Beltran Vergara Daniel Alejandro'  </td><td>100</td><td>NA</td><td>NA</td><td>NA</td><td>NA</td></tr>\n",
       "\t<tr><td>'Ruiz Muñoz Fabian Andres'          </td><td>100</td><td>NA</td><td>NA</td><td>NA</td><td>NA</td></tr>\n",
       "\t<tr><td>'Girata Mora Pedro Rodolfo'         </td><td>100</td><td>NA</td><td>NA</td><td>NA</td><td>NA</td></tr>\n",
       "\t<tr><td>'MARTINEZ BENAVIDES RENZZO ANTONIO' </td><td>100</td><td>NA</td><td>NA</td><td>NA</td><td>NA</td></tr>\n",
       "\t<tr><td>'Norena Gil Liliana Marisela'       </td><td>100</td><td>NA</td><td>NA</td><td>NA</td><td>NA</td></tr>\n",
       "\t<tr><td>'Castro Castellanos Leidy Alejandra'</td><td>100</td><td>NA</td><td>NA</td><td>NA</td><td>NA</td></tr>\n",
       "\t<tr><td>'Ahumada Rincón Diego Nicolas'      </td><td>100</td><td>NA</td><td>NA</td><td>NA</td><td>NA</td></tr>\n",
       "\t<tr><td>'Sinisterra Ciro Laura'             </td><td>100</td><td>NA</td><td>NA</td><td>NA</td><td>NA</td></tr>\n",
       "\t<tr><td>'Lopez Gamarra Elsie Geraldine'     </td><td>  0</td><td>NA</td><td>NA</td><td>NA</td><td>NA</td></tr>\n",
       "\t<tr><td>'Sanchez Suarez Jennifer Alejandra' </td><td>100</td><td>NA</td><td>NA</td><td>NA</td><td>NA</td></tr>\n",
       "\t<tr><td>'Quintero Gutiérrez Pablo Julio'    </td><td>100</td><td>NA</td><td>NA</td><td>NA</td><td>NA</td></tr>\n",
       "</tbody>\n",
       "</table>\n"
      ],
      "text/latex": [
       "A data.frame: 35 × 6\n",
       "\\begin{tabular}{llllll}\n",
       " NOMBRE & CALIFICACION & Numero & Apellido & Nombre & Correo\\\\\n",
       " <fct> & <int> & <int> & <fct> & <fct> & <fct>\\\\\n",
       "\\hline\n",
       "\t 'Sepúlveda Burgos Miguel Angel'      & 100 & NA & NA & NA & NA\\\\\n",
       "\t 'Gonzalez Garavito Andrea'           &   0 & NA & NA & NA & NA\\\\\n",
       "\t 'Quiroga Yopasa Carlos Felipe'       & 100 & NA & NA & NA & NA\\\\\n",
       "\t 'Tequia Pinilla Rodney Snehyder'     & 100 & NA & NA & NA & NA\\\\\n",
       "\t 'Solano suarez Jeison david'         & 100 & NA & NA & NA & NA\\\\\n",
       "\t 'Aldana Barrera Andres'              & 100 & NA & NA & NA & NA\\\\\n",
       "\t 'Salazar Portilla Juan Pablo'        & 100 & NA & NA & NA & NA\\\\\n",
       "\t 'Colorado Perez Laura Camila'        & 100 & NA & NA & NA & NA\\\\\n",
       "\t 'Paez Torres Angela Daniela'         & 100 & NA & NA & NA & NA\\\\\n",
       "\t 'Ortiz Hunda Andres Felipe'          & 100 & NA & NA & NA & NA\\\\\n",
       "\t 'VILLAMIL AVILA GEOVANI ARIEL'       & 100 & NA & NA & NA & NA\\\\\n",
       "\t 'Duque Giraldo Luz Alba'             &   0 & NA & NA & NA & NA\\\\\n",
       "\t 'Ruiz Oliverio'                      & 100 & NA & NA & NA & NA\\\\\n",
       "\t 'Serna Forero Jhon Esneider'         & 100 & NA & NA & NA & NA\\\\\n",
       "\t 'Velandia Martínez Andrés Fernando'  & 100 & NA & NA & NA & NA\\\\\n",
       "\t 'cruz barragan juan erasmo'          &   0 & NA & NA & NA & NA\\\\\n",
       "\t 'Córdoba Nariño Héctor Antonio'      & 100 & NA & NA & NA & NA\\\\\n",
       "\t 'Mendoza Garcia Lady Joanna'         & 100 & NA & NA & NA & NA\\\\\n",
       "\t 'Izquierdo Alarcon Nilet Yolanda'    & 100 & NA & NA & NA & NA\\\\\n",
       "\t 'Beleño Ortega Michael Stally'       & 100 & NA & NA & NA & NA\\\\\n",
       "\t 'Bergano Daniel'                     & 100 & NA & NA & NA & NA\\\\\n",
       "\t 'Gonzalez Arango Alejandro'          & 100 & NA & NA & NA & NA\\\\\n",
       "\t 'Briceño Moreno Johanna Paola'       & 100 & NA & NA & NA & NA\\\\\n",
       "\t 'montealegre ramos william fernando' & 100 & NA & NA & NA & NA\\\\\n",
       "\t 'Beltran Vergara Daniel Alejandro'   & 100 & NA & NA & NA & NA\\\\\n",
       "\t 'Ruiz Muñoz Fabian Andres'           & 100 & NA & NA & NA & NA\\\\\n",
       "\t 'Girata Mora Pedro Rodolfo'          & 100 & NA & NA & NA & NA\\\\\n",
       "\t 'MARTINEZ BENAVIDES RENZZO ANTONIO'  & 100 & NA & NA & NA & NA\\\\\n",
       "\t 'Norena Gil Liliana Marisela'        & 100 & NA & NA & NA & NA\\\\\n",
       "\t 'Castro Castellanos Leidy Alejandra' & 100 & NA & NA & NA & NA\\\\\n",
       "\t 'Ahumada Rincón Diego Nicolas'       & 100 & NA & NA & NA & NA\\\\\n",
       "\t 'Sinisterra Ciro Laura'              & 100 & NA & NA & NA & NA\\\\\n",
       "\t 'Lopez Gamarra Elsie Geraldine'      &   0 & NA & NA & NA & NA\\\\\n",
       "\t 'Sanchez Suarez Jennifer Alejandra'  & 100 & NA & NA & NA & NA\\\\\n",
       "\t 'Quintero Gutiérrez Pablo Julio'     & 100 & NA & NA & NA & NA\\\\\n",
       "\\end{tabular}\n"
      ],
      "text/markdown": [
       "\n",
       "A data.frame: 35 × 6\n",
       "\n",
       "| NOMBRE &lt;fct&gt; | CALIFICACION &lt;int&gt; | Numero &lt;int&gt; | Apellido &lt;fct&gt; | Nombre &lt;fct&gt; | Correo &lt;fct&gt; |\n",
       "|---|---|---|---|---|---|\n",
       "| 'Sepúlveda Burgos Miguel Angel'      | 100 | NA | NA | NA | NA |\n",
       "| 'Gonzalez Garavito Andrea'           |   0 | NA | NA | NA | NA |\n",
       "| 'Quiroga Yopasa Carlos Felipe'       | 100 | NA | NA | NA | NA |\n",
       "| 'Tequia Pinilla Rodney Snehyder'     | 100 | NA | NA | NA | NA |\n",
       "| 'Solano suarez Jeison david'         | 100 | NA | NA | NA | NA |\n",
       "| 'Aldana Barrera Andres'              | 100 | NA | NA | NA | NA |\n",
       "| 'Salazar Portilla Juan Pablo'        | 100 | NA | NA | NA | NA |\n",
       "| 'Colorado Perez Laura Camila'        | 100 | NA | NA | NA | NA |\n",
       "| 'Paez Torres Angela Daniela'         | 100 | NA | NA | NA | NA |\n",
       "| 'Ortiz Hunda Andres Felipe'          | 100 | NA | NA | NA | NA |\n",
       "| 'VILLAMIL AVILA GEOVANI ARIEL'       | 100 | NA | NA | NA | NA |\n",
       "| 'Duque Giraldo Luz Alba'             |   0 | NA | NA | NA | NA |\n",
       "| 'Ruiz Oliverio'                      | 100 | NA | NA | NA | NA |\n",
       "| 'Serna Forero Jhon Esneider'         | 100 | NA | NA | NA | NA |\n",
       "| 'Velandia Martínez Andrés Fernando'  | 100 | NA | NA | NA | NA |\n",
       "| 'cruz barragan juan erasmo'          |   0 | NA | NA | NA | NA |\n",
       "| 'Córdoba Nariño Héctor Antonio'      | 100 | NA | NA | NA | NA |\n",
       "| 'Mendoza Garcia Lady Joanna'         | 100 | NA | NA | NA | NA |\n",
       "| 'Izquierdo Alarcon Nilet Yolanda'    | 100 | NA | NA | NA | NA |\n",
       "| 'Beleño Ortega Michael Stally'       | 100 | NA | NA | NA | NA |\n",
       "| 'Bergano Daniel'                     | 100 | NA | NA | NA | NA |\n",
       "| 'Gonzalez Arango Alejandro'          | 100 | NA | NA | NA | NA |\n",
       "| 'Briceño Moreno Johanna Paola'       | 100 | NA | NA | NA | NA |\n",
       "| 'montealegre ramos william fernando' | 100 | NA | NA | NA | NA |\n",
       "| 'Beltran Vergara Daniel Alejandro'   | 100 | NA | NA | NA | NA |\n",
       "| 'Ruiz Muñoz Fabian Andres'           | 100 | NA | NA | NA | NA |\n",
       "| 'Girata Mora Pedro Rodolfo'          | 100 | NA | NA | NA | NA |\n",
       "| 'MARTINEZ BENAVIDES RENZZO ANTONIO'  | 100 | NA | NA | NA | NA |\n",
       "| 'Norena Gil Liliana Marisela'        | 100 | NA | NA | NA | NA |\n",
       "| 'Castro Castellanos Leidy Alejandra' | 100 | NA | NA | NA | NA |\n",
       "| 'Ahumada Rincón Diego Nicolas'       | 100 | NA | NA | NA | NA |\n",
       "| 'Sinisterra Ciro Laura'              | 100 | NA | NA | NA | NA |\n",
       "| 'Lopez Gamarra Elsie Geraldine'      |   0 | NA | NA | NA | NA |\n",
       "| 'Sanchez Suarez Jennifer Alejandra'  | 100 | NA | NA | NA | NA |\n",
       "| 'Quintero Gutiérrez Pablo Julio'     | 100 | NA | NA | NA | NA |\n",
       "\n"
      ],
      "text/plain": [
       "   NOMBRE                               CALIFICACION Numero Apellido Nombre\n",
       "1  'Sepúlveda Burgos Miguel Angel'      100          NA     NA       NA    \n",
       "2  'Gonzalez Garavito Andrea'             0          NA     NA       NA    \n",
       "3  'Quiroga Yopasa Carlos Felipe'       100          NA     NA       NA    \n",
       "4  'Tequia Pinilla Rodney Snehyder'     100          NA     NA       NA    \n",
       "5  'Solano suarez Jeison david'         100          NA     NA       NA    \n",
       "6  'Aldana Barrera Andres'              100          NA     NA       NA    \n",
       "7  'Salazar Portilla Juan Pablo'        100          NA     NA       NA    \n",
       "8  'Colorado Perez Laura Camila'        100          NA     NA       NA    \n",
       "9  'Paez Torres Angela Daniela'         100          NA     NA       NA    \n",
       "10 'Ortiz Hunda Andres Felipe'          100          NA     NA       NA    \n",
       "11 'VILLAMIL AVILA GEOVANI ARIEL'       100          NA     NA       NA    \n",
       "12 'Duque Giraldo Luz Alba'               0          NA     NA       NA    \n",
       "13 'Ruiz Oliverio'                      100          NA     NA       NA    \n",
       "14 'Serna Forero Jhon Esneider'         100          NA     NA       NA    \n",
       "15 'Velandia Martínez Andrés Fernando'  100          NA     NA       NA    \n",
       "16 'cruz barragan juan erasmo'            0          NA     NA       NA    \n",
       "17 'Córdoba Nariño Héctor Antonio'      100          NA     NA       NA    \n",
       "18 'Mendoza Garcia Lady Joanna'         100          NA     NA       NA    \n",
       "19 'Izquierdo Alarcon Nilet Yolanda'    100          NA     NA       NA    \n",
       "20 'Beleño Ortega Michael Stally'       100          NA     NA       NA    \n",
       "21 'Bergano Daniel'                     100          NA     NA       NA    \n",
       "22 'Gonzalez Arango Alejandro'          100          NA     NA       NA    \n",
       "23 'Briceño Moreno Johanna Paola'       100          NA     NA       NA    \n",
       "24 'montealegre ramos william fernando' 100          NA     NA       NA    \n",
       "25 'Beltran Vergara Daniel Alejandro'   100          NA     NA       NA    \n",
       "26 'Ruiz Muñoz Fabian Andres'           100          NA     NA       NA    \n",
       "27 'Girata Mora Pedro Rodolfo'          100          NA     NA       NA    \n",
       "28 'MARTINEZ BENAVIDES RENZZO ANTONIO'  100          NA     NA       NA    \n",
       "29 'Norena Gil Liliana Marisela'        100          NA     NA       NA    \n",
       "30 'Castro Castellanos Leidy Alejandra' 100          NA     NA       NA    \n",
       "31 'Ahumada Rincón Diego Nicolas'       100          NA     NA       NA    \n",
       "32 'Sinisterra Ciro Laura'              100          NA     NA       NA    \n",
       "33 'Lopez Gamarra Elsie Geraldine'        0          NA     NA       NA    \n",
       "34 'Sanchez Suarez Jennifer Alejandra'  100          NA     NA       NA    \n",
       "35 'Quintero Gutiérrez Pablo Julio'     100          NA     NA       NA    \n",
       "   Correo\n",
       "1  NA    \n",
       "2  NA    \n",
       "3  NA    \n",
       "4  NA    \n",
       "5  NA    \n",
       "6  NA    \n",
       "7  NA    \n",
       "8  NA    \n",
       "9  NA    \n",
       "10 NA    \n",
       "11 NA    \n",
       "12 NA    \n",
       "13 NA    \n",
       "14 NA    \n",
       "15 NA    \n",
       "16 NA    \n",
       "17 NA    \n",
       "18 NA    \n",
       "19 NA    \n",
       "20 NA    \n",
       "21 NA    \n",
       "22 NA    \n",
       "23 NA    \n",
       "24 NA    \n",
       "25 NA    \n",
       "26 NA    \n",
       "27 NA    \n",
       "28 NA    \n",
       "29 NA    \n",
       "30 NA    \n",
       "31 NA    \n",
       "32 NA    \n",
       "33 NA    \n",
       "34 NA    \n",
       "35 NA    "
      ]
     },
     "metadata": {},
     "output_type": "display_data"
    }
   ],
   "source": [
    "library (\"dplyr\")\n",
    "left_join (x=grades, y=data, by=c(\"NOMBRE\"=\"NombreCompleto\"))"
   ]
  },
  {
   "cell_type": "code",
   "execution_count": 31,
   "metadata": {},
   "outputs": [
    {
     "name": "stdout",
     "output_type": "stream",
     "text": [
      "[1] \"\\n\"\n",
      "[1] \"\\n\"\n",
      "[1] \"\\n\"\n",
      "[1] \"\\n\"\n",
      "[1] \"\\n\"\n",
      "[1] \"\\n\"\n",
      "[1] \"\\n\"\n",
      "[1] \"\\n\"\n",
      "[1] \"\\n\"\n",
      "[1] \"\\n\"\n",
      "[1] \"\\n\"\n",
      "[1] \"\\n\"\n",
      "[1] \"\\n\"\n",
      "[1] \"\\n\"\n",
      "[1] \"\\n\"\n",
      "[1] \"\\n\"\n",
      "[1] \"\\n\"\n",
      "[1] \"\\n\"\n",
      "[1] \"\\n\"\n",
      "[1] \"\\n\"\n",
      "[1] \"\\n\"\n",
      "[1] \"\\n\"\n",
      "[1] \"\\n\"\n",
      "[1] \"\\n\"\n",
      "[1] \"\\n\"\n",
      "[1] \"\\n\"\n",
      "[1] \"\\n\"\n",
      "[1] \"\\n\"\n",
      "[1] \"\\n\"\n",
      "[1] \"\\n\"\n",
      "[1] \"\\n\"\n",
      "[1] \"\\n\"\n",
      "[1] \"\\n\"\n",
      "[1] \"\\n\"\n",
      "[1] \"\\n\"\n",
      "[1] \"\\n\"\n",
      "[1] \"\\n\"\n",
      "[1] \"\\n\"\n",
      "[1] \"\\n\"\n",
      "[1] \"\\n\"\n",
      "[1] \"\\n\"\n",
      "[1] \"\\n\"\n",
      "[1] \"\\n\"\n",
      "[1] \"\\n\"\n",
      "[1] \"\\n\"\n",
      "[1] \"\\n\"\n",
      "[1] \"\\n\"\n",
      "[1] \"\\n\"\n",
      "[1] \"\\n\"\n",
      "[1] \"\\n\"\n",
      "[1] \"\\n\"\n",
      "[1] \"\\n\"\n",
      "[1] \"\\n\"\n",
      "[1] \"\\n\"\n",
      "[1] \"\\n\"\n",
      "[1] \"\\n\"\n",
      "[1] \"\\n\"\n",
      "[1] \"\\n\"\n",
      "[1] \"\\n\"\n",
      "[1] \"\\n\"\n",
      "[1] \"\\n\"\n",
      "[1] \"\\n\"\n",
      "[1] \"\\n\"\n",
      "[1] \"\\n\"\n",
      "[1] \"\\n\"\n",
      "[1] \"\\n\"\n",
      "[1] \"\\n\"\n",
      "[1] \"\\n\"\n",
      "[1] \"\\n\"\n",
      "[1] \"\\n\"\n",
      "[1] \"\\n\"\n",
      "[1] \"\\n\"\n",
      "[1] \"\\n\"\n",
      "[1] \"\\n\"\n",
      "[1] \"\\n\"\n",
      "[1] \"\\n\"\n",
      "[1] \"\\n\"\n",
      "[1] \"\\n\"\n",
      "[1] \"\\n\"\n",
      "[1] \"\\n\"\n",
      "[1] \"\\n\"\n",
      "[1] \"\\n\"\n",
      "[1] \"\\n\"\n",
      "[1] \"\\n\"\n",
      "[1] \"\\n\"\n",
      "[1] \"\\n\"\n",
      "[1] \"\\n\"\n",
      "[1] \"\\n\"\n",
      "[1] \"\\n\"\n",
      "[1] \"\\n\"\n",
      "[1] \"\\n\"\n",
      "[1] \"\\n\"\n",
      "[1] \"\\n\"\n",
      "[1] \"\\n\"\n",
      "[1] \"\\n\"\n",
      "[1] \"\\n\"\n",
      "[1] \"\\n\"\n",
      "[1] \"\\n\"\n",
      "[1] \"\\n\"\n",
      "[1] \"\\n\"\n"
     ]
    }
   ],
   "source": [
    "for (i in 1:100) print (\"\\n\")"
   ]
  },
  {
   "cell_type": "code",
   "execution_count": null,
   "metadata": {},
   "outputs": [],
   "source": []
  }
 ],
 "metadata": {
  "kernelspec": {
   "display_name": "R",
   "language": "R",
   "name": "ir"
  },
  "language_info": {
   "codemirror_mode": "r",
   "file_extension": ".r",
   "mimetype": "text/x-r-source",
   "name": "R",
   "pygments_lexer": "r",
   "version": "3.6.3"
  }
 },
 "nbformat": 4,
 "nbformat_minor": 4
}
