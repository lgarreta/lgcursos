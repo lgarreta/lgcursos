{
 "cells": [
  {
   "cell_type": "markdown",
   "metadata": {},
   "source": [
    "# Repaso de Conceptos de POO en Java"
   ]
  },
  {
   "cell_type": "markdown",
   "metadata": {},
   "source": [
    "## Clases y Objetos"
   ]
  },
  {
   "cell_type": "code",
   "execution_count": 6,
   "metadata": {},
   "outputs": [],
   "source": [
    "// Definición de la clase\n",
    "// Se conoce como clase base, superclase\n",
    "public class Persona {\n",
    "    // ATRIBUTOS\n",
    "    String nombre;\n",
    "    int    edad;\n",
    "    \n",
    "    // CONSTRUCTOR\n",
    "    public Persona () {\n",
    "        nombre = \"Desconocido\";\n",
    "        edad   = 0;\n",
    "    }\n",
    "    \n",
    "    public Persona (String nombrePersona, int edadPersona) {\n",
    "        nombre = nombrePersona;\n",
    "        edad   = edadPersona;\n",
    "    }\n",
    "    \n",
    "    // METODOS\n",
    "    public void presentarse () {\n",
    "        System.out.println (\"Mi nombre es \" + nombre);\n",
    "        System.out.println (\"Mi edad es \" + edad + \" años\");\n",
    "    }\n",
    "    \n",
    "    public void caminar () {\n",
    "        System.out.println (\"Estoy caminando...\");\n",
    "    }\n",
    "}"
   ]
  },
  {
   "cell_type": "code",
   "execution_count": 7,
   "metadata": {},
   "outputs": [
    {
     "name": "stdout",
     "output_type": "stream",
     "text": [
      "Mi nombre es Desconocido\n",
      "Mi edad es 0 años\n",
      "Estoy caminando...\n"
     ]
    }
   ],
   "source": [
    "// Creación de objetos\n",
    "Persona p = new Persona ();\n",
    "p.presentarse ();\n",
    "p.caminar ();"
   ]
  },
  {
   "cell_type": "code",
   "execution_count": 5,
   "metadata": {},
   "outputs": [
    {
     "name": "stdout",
     "output_type": "stream",
     "text": [
      "Mi nombre es Maria\n",
      "Mi edad es 30 años\n"
     ]
    }
   ],
   "source": [
    "Persona x = new Persona (\"Maria\", 30);\n",
    "x.presentarse ();"
   ]
  },
  {
   "cell_type": "markdown",
   "metadata": {},
   "source": [
    "## Herencia\n",
    "- Permite crear nuevas clases reusando clases ya existentes"
   ]
  },
  {
   "cell_type": "code",
   "execution_count": 41,
   "metadata": {},
   "outputs": [],
   "source": [
    "// Clase Estudiante\n",
    "// Se conoce como subclase o clase hija\n",
    "public class Estudiante extends Persona {\n",
    "    // ATRIBUTOS\n",
    "    int codigo;\n",
    "    \n",
    "    // CONSTRUCTOR\n",
    "    public Estudiante (String nombre, int edad, int codigo) {\n",
    "        super (nombre, edad);\n",
    "        this.codigo = codigo;\n",
    "    }\n",
    "    \n",
    "    // METODOS\n",
    "    public void estudiar (){\n",
    "        System.out.println (\"Estoy estudiando...\");\n",
    "    }  \n",
    "    \n",
    "    public void presentarse () {\n",
    "        super.presentarse ();\n",
    "        System.out.println (\"Mi código es: \" + codigo);\n",
    "    }\n",
    "}"
   ]
  },
  {
   "cell_type": "code",
   "execution_count": 43,
   "metadata": {},
   "outputs": [
    {
     "name": "stdout",
     "output_type": "stream",
     "text": [
      "Mi nombre es Maria\n",
      "Mi edad es 15 años\n",
      "Mi código es: 2020\n",
      "Estoy caminando...\n",
      "Estoy estudiando...\n"
     ]
    }
   ],
   "source": [
    "// Objetos de la clase Estudiante\n",
    "Estudiante e = new Estudiante (\"Maria\", 15, 2020);\n",
    "e.presentarse ();\n",
    "e.caminar ();\n",
    "e.estudiar ();"
   ]
  },
  {
   "cell_type": "code",
   "execution_count": 42,
   "metadata": {},
   "outputs": [
    {
     "name": "stdout",
     "output_type": "stream",
     "text": [
      "Mi nombre es Jorge\n",
      "Mi edad es 22 años\n",
      "Mi código es: 1010\n"
     ]
    }
   ],
   "source": [
    "// Ejemplo 2:\n",
    "Estudiante estX = new Estudiante (\"Jorge\", 22, 1010);\n",
    "estX.presentarse ();"
   ]
  },
  {
   "cell_type": "code",
   "execution_count": 49,
   "metadata": {},
   "outputs": [],
   "source": [
    "// Subclase Estudiante de Primaria\n",
    "public class EstudianteColegio extends Estudiante {\n",
    "    int grado;\n",
    "    \n",
    "    public EstudianteColegio (String nombre, int edad, int codigo, int grado) {\n",
    "        super (nombre, edad, codigo);\n",
    "        this.grado  = grado;\n",
    "        \n",
    "    }\n",
    "    \n",
    "    public void presentarse () {\n",
    "        super.presentarse ();\n",
    "        System.out.println (\"Y estoy en el grado: \" + grado);\n",
    "    }\n",
    "    \n",
    "    public void presentarPruebasSaber () {\n",
    "        System.out.println (\"Presentado pruebas saber 11...\");\n",
    "    }\n",
    "}"
   ]
  },
  {
   "cell_type": "code",
   "execution_count": 51,
   "metadata": {},
   "outputs": [
    {
     "name": "stdout",
     "output_type": "stream",
     "text": [
      "Mi nombre es ana\n",
      "Mi edad es 19 años\n",
      "Mi código es: 3030\n",
      "Y estoy en el grado: 11\n",
      "Estoy caminando...\n",
      "Presentado pruebas saber 11...\n"
     ]
    }
   ],
   "source": [
    "// Objetos de la clase\n",
    "EstudianteColegio ep = new EstudianteColegio (\"ana\", 19, 3030, 11);\n",
    "\n",
    "ep.presentarse ();\n",
    "ep.caminar ();\n",
    "ep.presentarPruebasSaber ();"
   ]
  },
  {
   "cell_type": "markdown",
   "metadata": {},
   "source": [
    "## Polimorfismo\n",
    "- Multiples formas de actuar"
   ]
  },
  {
   "cell_type": "code",
   "execution_count": 88,
   "metadata": {},
   "outputs": [
    {
     "name": "stdout",
     "output_type": "stream",
     "text": [
      "guau guau\n",
      "muerde y dice GUAU GUAU\n"
     ]
    }
   ],
   "source": [
    "public abstract class Animal {\n",
    "    public abstract void producirSonido ();\n",
    "}\n",
    "\n",
    "public class Perro extends Animal {\n",
    "    public void producirSonido () {\n",
    "        System.out.println (\"guau guau\");\n",
    "    }\n",
    "    \n",
    "    public void producirSonido (String estado) {\n",
    "        if (estado==\"contento\") {\n",
    "            System.out.println (\"mueve la cola y dice guau guau\");\n",
    "        }else \n",
    "            System.out.println (\"muerde y dice GUAU GUAU\");\n",
    "    }    \n",
    "}\n",
    "\n",
    "public class Gato extends Animal {\n",
    "    public void producirSonido () {\n",
    "        System.out.println (\"miau miau\");\n",
    "    }\n",
    "}\n",
    "\n",
    "public class Vaca extends Animal {\n",
    "    public void producirSonido () {\n",
    "        System.out.println (\"muu muu\");\n",
    "    }\n",
    "}\n",
    "\n",
    "public class Marciano extends Animal {\n",
    "    public void producirSonido () {\n",
    "        System.out.println (\"bezz bezzz\");\n",
    "    }\n",
    "}\n",
    "\n",
    "// Objetos\n",
    "Perro firulais = new Perro ();\n",
    "firulais.producirSonido ();\n",
    "firulais.producirSonido (\"bravo\");"
   ]
  },
  {
   "cell_type": "code",
   "execution_count": 70,
   "metadata": {},
   "outputs": [
    {
     "name": "stdout",
     "output_type": "stream",
     "text": [
      "11\n",
      "Hola Mundo\n"
     ]
    }
   ],
   "source": [
    "// Polimorfismo de operadores\n",
    "int x = 5 + 6;\n",
    "System.out.println (x);\n",
    "\n",
    "String s = \"Hola \"  + \"Mundo\";\n",
    "System.out.println (s);"
   ]
  },
  {
   "cell_type": "code",
   "execution_count": 81,
   "metadata": {},
   "outputs": [
    {
     "name": "stdout",
     "output_type": "stream",
     "text": [
      "miau miau\n",
      "muu muu\n"
     ]
    }
   ],
   "source": [
    "Gato garfiel = new Gato ();\n",
    "garfiel.producirSonido ();\n",
    "\n",
    "Vaca lola = new Vaca ();\n",
    "lola.producirSonido ();"
   ]
  },
  {
   "cell_type": "code",
   "execution_count": 89,
   "metadata": {},
   "outputs": [
    {
     "name": "stdout",
     "output_type": "stream",
     "text": [
      "bezz bezzz\n"
     ]
    }
   ],
   "source": [
    "Marciano m = new Marciano ();\n",
    "m.producirSonido ();"
   ]
  },
  {
   "cell_type": "code",
   "execution_count": 90,
   "metadata": {},
   "outputs": [
    {
     "name": "stdout",
     "output_type": "stream",
     "text": [
      "guau guau\n",
      "muu muu\n",
      "miau miau\n",
      "bezz bezzz\n"
     ]
    }
   ],
   "source": [
    "// Polimorfismo usando listas\n",
    "List<Animal> miLista = new ArrayList<>();\n",
    "\n",
    "\n",
    "miLista.add (firulais);\n",
    "miLista.add (lola);\n",
    "miLista.add (garfiel);\n",
    "miLista.add (m);\n",
    "\n",
    "for (Animal x: miLista) {\n",
    "  x.producirSonido ();\n",
    "}"
   ]
  }
 ],
 "metadata": {
  "kernelspec": {
   "display_name": "Java",
   "language": "java",
   "name": "java"
  },
  "language_info": {
   "codemirror_mode": "java",
   "file_extension": ".jshell",
   "mimetype": "text/x-java-source",
   "name": "Java",
   "pygments_lexer": "java",
   "version": "16.0.1+9-24"
  }
 },
 "nbformat": 4,
 "nbformat_minor": 4
}
