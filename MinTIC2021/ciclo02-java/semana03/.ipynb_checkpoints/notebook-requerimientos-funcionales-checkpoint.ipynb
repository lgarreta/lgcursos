{
 "cells": [
  {
   "cell_type": "markdown",
   "metadata": {},
   "source": [
    "# Ejemplo : Notas de Estudiantes\n",
    "Se requiere calcular las notas de dos materias: algebra y biologia. Cada materia tiene un porcentaje valor determinado de la nota final. Algebra vale el 70% y Biología el 30%. Lo que se requiere calcular el valor final de cada nota y la nota final que es la suma de las dos notas. Se debe mostrar un menú con las opciones:\n",
    "\n",
    "- (1) Para calcular nota algebra\n",
    "- (2) Para calcular nota biología\n",
    "- (3) Para calcular nota final\n",
    "- (0) Salir\n",
    "\n",
    "Para calcular la nota debe solicitar al estudiante la nota que sacó y el programa debe hacer cálculo con el porcentaje y mostrar ese resultado."
   ]
  },
  {
   "cell_type": "markdown",
   "metadata": {},
   "source": [
    "# Requerimientos funcionales\n",
    "## Explicitos\n",
    "- Calcular nota algebra   \n",
    "- Calcular nota biología    \n",
    "- Calcular nota final\n",
    "- Usar un menú de opciones\n",
    "- Ingresa nota\n",
    "\n",
    "## Implicitos\n",
    "- Mostrar un menú\n",
    "- Leer opción\n",
    "- Leer nota\n"
   ]
  }
 ],
 "metadata": {
  "kernelspec": {
   "display_name": "Java",
   "language": "java",
   "name": "java"
  },
  "language_info": {
   "codemirror_mode": "java",
   "file_extension": ".jshell",
   "mimetype": "text/x-java-source",
   "name": "Java",
   "pygments_lexer": "java",
   "version": "16.0.1+9-24"
  }
 },
 "nbformat": 4,
 "nbformat_minor": 4
}
