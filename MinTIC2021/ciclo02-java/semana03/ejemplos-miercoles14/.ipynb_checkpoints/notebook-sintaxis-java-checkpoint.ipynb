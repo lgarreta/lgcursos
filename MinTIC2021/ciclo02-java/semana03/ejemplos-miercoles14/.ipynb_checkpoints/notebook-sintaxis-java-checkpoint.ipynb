{
 "cells": [
  {
   "cell_type": "markdown",
   "metadata": {},
   "source": [
    "# Repaso sintaxis lenjuaje JAVA"
   ]
  },
  {
   "cell_type": "markdown",
   "metadata": {},
   "source": [
    "## Bloques en Java\n",
    "  - Sentencias que usan bloques abren y cierran con llaves: {}\n",
    "  - Sentencias de bloques:\n",
    "    - declaracion de clases\n",
    "    - declaracion de metodos\n",
    "    - condicionales: if, else, swithch\n",
    "    - ciclos : while, do-while, for"
   ]
  },
  {
   "cell_type": "markdown",
   "metadata": {},
   "source": [
    "### Ejemplos"
   ]
  },
  {
   "cell_type": "code",
   "execution_count": null,
   "metadata": {},
   "outputs": [],
   "source": [
    "// Clase\n",
    "public class Factura {\n",
    " // ...\n",
    " \n",
    " // Metodo\n",
    " public double calcularServicio () {\n",
    "   //....\n",
    "   \n",
    "   // Sentencia condicional\n",
    "   if (estrato == 1 || estrato == 2) {\n",
    "     //....\n",
    "   }\n",
    "   \n",
    "   // Ciclo\n",
    "   while (opcion != 4) {\n",
    "      //...\n",
    "   }\n",
    "   \n",
    " }\n",
    "}"
   ]
  },
  {
   "cell_type": "markdown",
   "metadata": {},
   "source": [
    "## Operadores lógicos en Java\n",
    "- \"||\" : O lógico (en python \"or\")\n",
    "- \"&&\" : Y lógico (en python \"and)\n",
    "- \"==\" : igual\n",
    "- !=   : diferentes\n",
    "- !    : negación"
   ]
  },
  {
   "cell_type": "code",
   "execution_count": null,
   "metadata": {},
   "outputs": [],
   "source": [
    "// Ejemplos\n",
    "   if (estrato == 1 || estrato == 2) {\n",
    "     //....\n",
    "   }\n",
    "   \n",
    "   while (opcion != 0 && opcion !=4 ) {\n",
    "       // ..\n",
    "   }"
   ]
  },
  {
   "cell_type": "markdown",
   "metadata": {},
   "source": [
    "## Declaracion de variables de tipos básicos\n",
    "- Tipos básicos:\n",
    "  - int : Enteros\n",
    "  - double : Reales\n",
    "  - boolean : lógicios (true: verdad, false: Falso)\n",
    "  - char    : caracterés (Ej. 'a', '#', '5')\n",
    "  - String  : cadenas   (\"hola\")"
   ]
  },
  {
   "cell_type": "markdown",
   "metadata": {},
   "source": [
    "### Sintaxis de tipos básicos"
   ]
  },
  {
   "cell_type": "code",
   "execution_count": null,
   "metadata": {},
   "outputs": [],
   "source": [
    "<Tipo de dato> <Nombre de la variable>;\n",
    "\n",
    "<Tipo de dato> <Nombre de la variable> = <valor inicial>;"
   ]
  },
  {
   "cell_type": "code",
   "execution_count": null,
   "metadata": {},
   "outputs": [],
   "source": [
    "// Ejemplos\n",
    "int descuento;\n",
    "\n",
    "double impuesto = 0.01;\n",
    "\n",
    "String saludo = \"Hola Mundo\";"
   ]
  },
  {
   "cell_type": "markdown",
   "metadata": {},
   "source": [
    "### Sintaxis de Clases de objetos"
   ]
  },
  {
   "cell_type": "code",
   "execution_count": null,
   "metadata": {},
   "outputs": [],
   "source": [
    "<Nombre de la clase> <Nombre del objeto>;\n",
    "\n",
    "<Tipo de la clase> <Nombre del objeto> = new <Nombre de la clase> ();"
   ]
  },
  {
   "cell_type": "markdown",
   "metadata": {},
   "source": [
    "### Ejemplos"
   ]
  },
  {
   "cell_type": "code",
   "execution_count": null,
   "metadata": {},
   "outputs": [],
   "source": [
    "// Scanner\n",
    "Scanner lector;\n",
    "\n",
    "Scanner lector = new Scanner (System.in);\n",
    "\n",
    "// Persona\n",
    "Persona personaX = new Persona ();\n",
    "\n",
    "Persona personita = new Persona (\"Anita\", 33, \"0+\");"
   ]
  },
  {
   "cell_type": "markdown",
   "metadata": {},
   "source": [
    "## Condicionales en Java\n",
    "- Varios tipos:\n",
    "  - simple:    if (condicion) {...}\n",
    "  - completo:  if (condicion) {...} else {....}\n",
    "  - compuesto: if (condicion) {...} else if (condicion) {...] else if {...} else {...}\n",
    "  - casos    : switch (variable) {case 1: .... case 2: ... case3: ....; default: ....}  "
   ]
  },
  {
   "cell_type": "markdown",
   "metadata": {},
   "source": [
    "### Ejemplos"
   ]
  },
  {
   "cell_type": "code",
   "execution_count": null,
   "metadata": {},
   "outputs": [],
   "source": [
    "// Condicional simple\n",
    "if (estrato==2 || estrato==3) {\n",
    "    //....\n",
    "}\n",
    "\n",
    "// Condicional completo\n",
    "if (opcion == 2) {\n",
    "    //...\n",
    "}\n",
    "else {\n",
    "    //...\n",
    "}\n",
    "\n",
    "// Condicional compuesto\n",
    "if (opcion==1){\n",
    "    //....\n",
    "}else if (opcion==2) {\n",
    "    //...\n",
    "}else if (opcion==3) {\n",
    "    ....\n",
    "}else if (opcion==4) {\n",
    "    //...\n",
    "}else {\n",
    "    // Por defecto\n",
    "}\n",
    "\n",
    "// switch : condicional compuesto pero usa casos \"En caso que el valor sea\"\n",
    "//          funciona para variables enteras y de tipo caracter\n",
    "\n",
    "switch (opcion) {\n",
    "    case 1: \n",
    "        //...\n",
    "        //...\n",
    "        break;\n",
    "    case 2:\n",
    "        //...\n",
    "        //...\n",
    "        break;\n",
    "    case 3:\n",
    "        //...\n",
    "        //...\n",
    "        break;\n",
    "    case 4:\n",
    "        //...\n",
    "        //...\n",
    "        break;\n",
    "    default:\n",
    "        // Defecto cuando ninguno de los casos anteriores se ejecuta\n",
    "}"
   ]
  },
  {
   "cell_type": "markdown",
   "metadata": {},
   "source": [
    "## Sintaxis de los ciclos : while\n",
    "- inicializacione\n",
    "- while (condicion) {\n",
    "-  // instrucciones\n",
    "-  // avance o incremento\n",
    "- }"
   ]
  },
  {
   "cell_type": "code",
   "execution_count": null,
   "metadata": {},
   "outputs": [],
   "source": [
    "/// Ejemplo:\n",
    "int i = 0;\n",
    "int N = 9;\n",
    "while (i < N) {\n",
    "  System.out.println (i);\n",
    "  i = i +1;\n",
    "  \n",
    "}"
   ]
  }
 ],
 "metadata": {
  "kernelspec": {
   "display_name": "Java",
   "language": "java",
   "name": "java"
  },
  "language_info": {
   "codemirror_mode": "java",
   "file_extension": ".jshell",
   "mimetype": "text/x-java-source",
   "name": "Java",
   "pygments_lexer": "java",
   "version": "16.0.1+9-24"
  }
 },
 "nbformat": 4,
 "nbformat_minor": 4
}
