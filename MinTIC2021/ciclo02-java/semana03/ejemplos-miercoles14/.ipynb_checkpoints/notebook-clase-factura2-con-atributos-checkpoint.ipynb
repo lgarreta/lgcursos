{
 "cells": [
  {
   "cell_type": "markdown",
   "metadata": {},
   "source": [
    "# Implementación clase Factura: Reto usando atributos"
   ]
  },
  {
   "cell_type": "code",
   "execution_count": 6,
   "metadata": {},
   "outputs": [],
   "source": [
    "import java.util.Scanner;\n",
    "\n",
    "public class Factura {\n",
    "    // ATRIBUTOS\n",
    "    int estrato;\n",
    "    int consumo;\n",
    "    \n",
    "    int valorUnidad;    \n",
    "    double costoParcial;\n",
    "    double descuento;\n",
    "    double impuesto;\n",
    "    double costoTotal;\n",
    "    \n",
    "    Scanner lector;\n",
    "    \n",
    "    // CONSTRUCTOR\n",
    "    public Factura () {\n",
    "        estrato = 0;\n",
    "        consumo = 0;\n",
    "\n",
    "        valorUnidad = 0;    \n",
    "        costoParcial = 0.0;\n",
    "        descuento = 0.0;\n",
    "        impuesto = 0.0;\n",
    "        costoTotal = 0.0;\n",
    "        \n",
    "        lector = new Scanner (System.in);\n",
    "    }\n",
    "    \n",
    "    public void leerDatos () {\n",
    "        System.out.println (\"Estrato del inmueble:\");\n",
    "        estrato = lector.nextInt ();\n",
    "        System.out.println (\"Consumo del inmueble:\");\n",
    "        consumo = lector.nextInt ();  \n",
    "    }\n",
    "        \n",
    "    public void calcularCostoAgua (int valorUnidadServicio) {\n",
    "        costoParcial = consumo * valorUnidadServicio;\n",
    "        impuesto     = costoParcial * 0.01;\n",
    "        \n",
    "        descuento   = 0.5;\n",
    "        // if (estrato .....) {\n",
    "        //    descuente = ....\n",
    "        costoTotal  = costoParcial + impuesto - descuento;\n",
    "    }\n",
    "         \n",
    "    public void mostrarResultados () {\n",
    "        System.out.println (\"El consumo fue: \" + consumo);\n",
    "        System.out.println (\"Valor unidad:  \" + valorUnidad);\n",
    "        System.out.println (\"Estrato del inmueble: \" + estrato);\n",
    "        System.out.println (\"Costo total:: \" + costoParcial);\n",
    "        System.out.println (\"Descuento o sobrecosto: \" + descuento);\n",
    "        System.out.println (\"Impuesto por infraestructura: \" + impuesto);\n",
    "        System.out.println (\"TOTAL A PAGAR: \" + costoTotal);\n",
    "        \n",
    "    }   \n",
    "}"
   ]
  },
  {
   "cell_type": "code",
   "execution_count": 9,
   "metadata": {},
   "outputs": [
    {
     "name": "stdout",
     "output_type": "stream",
     "text": [
      "Estrato del inmueble:\n",
      "2\n",
      "Consumo del inmueble:\n",
      "45\n",
      "El consumo fue: 45\n",
      "Valor unidad:  0\n",
      "Estrato del inmueble: 2\n",
      "Costo total:: 0.0\n",
      "Descuento o sobrecosto: 0.0\n",
      "Impuesto por infraestructura: 0.0\n",
      "TOTAL A PAGAR: 0.0\n"
     ]
    }
   ],
   "source": [
    "// UsoFactura : main\n",
    "Factura miFactura = new Factura ();\n",
    "\n",
    "//miFactura.mostrarMenu ();\n",
    "//int opcion = miFactura.leerOpcion ();\n",
    "\n",
    "miFactura.leerDatos ();\n",
    "\n",
    "int valorUnidad = 6256;\n",
    "       \n",
    "miFactura.calcularCostoAgua (valorUnidad);\n",
    "        \n",
    "miFactura.mostrarResultados ();\n"
   ]
  }
 ],
 "metadata": {
  "kernelspec": {
   "display_name": "Java",
   "language": "java",
   "name": "java"
  },
  "language_info": {
   "codemirror_mode": "java",
   "file_extension": ".jshell",
   "mimetype": "text/x-java-source",
   "name": "Java",
   "pygments_lexer": "java",
   "version": "16.0.1+9-24"
  }
 },
 "nbformat": 4,
 "nbformat_minor": 4
}
