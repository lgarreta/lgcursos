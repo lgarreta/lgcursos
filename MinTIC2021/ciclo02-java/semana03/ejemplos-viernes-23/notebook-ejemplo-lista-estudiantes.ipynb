{
 "cells": [
  {
   "cell_type": "markdown",
   "metadata": {},
   "source": [
    "\n",
    "# Manejo de Atributos de una clase\n",
    "- Se debería tener los atributos con acceso privado (ocultamiento de la información)\n",
    "- Acceso a a los atributos a través de dos metodos: set y get (asignar y obtener):\n",
    "  - Asignar : setXXX (nuevoValor) : asigna el nuevo valor al atributo XXXXX\n",
    "  - Obtener : getXXX () : retornar el valor del atributo XXX"
   ]
  },
  {
   "cell_type": "markdown",
   "metadata": {},
   "source": [
    "# Clase Estudiante\n",
    " - nombre\n",
    " - codigo\n",
    " - Estudiante (nombre, codigo)\n",
    " - presentarse ()\n",
    " - getCodigo () : int\n",
    " - setNombre (nuevoNombre) "
   ]
  },
  {
   "cell_type": "code",
   "execution_count": 47,
   "metadata": {},
   "outputs": [],
   "source": [
    "// Estudiante.java\n",
    "public class Estudiante {\n",
    "    // Atributos\n",
    "    private String nombre;\n",
    "    private int codigo;\n",
    "    \n",
    "    // Constructor\n",
    "    public Estudiante (String nombre, int codigo) {\n",
    "        this.nombre = nombre;\n",
    "        this.codigo = codigo;\n",
    "    }\n",
    "    \n",
    "    public void presentarse () {\n",
    "        System.out.println (\"Mi nombre es: \" + nombre + \" y mi codigo es: \" + codigo);\n",
    "    }\n",
    "    \n",
    "    public int getCodigo () {\n",
    "        return (codigo);\n",
    "    }\n",
    "    \n",
    "    public void setNombre (String nuevoNombre) {\n",
    "        this.nombre = nuevoNombre;\n",
    "    }\n",
    "} "
   ]
  },
  {
   "cell_type": "code",
   "execution_count": 48,
   "metadata": {},
   "outputs": [
    {
     "name": "stdout",
     "output_type": "stream",
     "text": [
      "Mi nombre es: ana y mi codigo es: 10\n",
      "Mi nombre es: Anita y mi codigo es: 10\n",
      "El codigo es: 10\n"
     ]
    }
   ],
   "source": [
    "// Programa.java : uso de la clase Estudiante\n",
    "Estudiante e1 = new Estudiante (\"ana\", 10);\n",
    "e1.presentarse ();\n",
    "\n",
    "e1.setNombre (\"Anita\");\n",
    "e1.presentarse ();\n",
    "int cod = e1.getCodigo ();\n",
    "System.out.println (\"El codigo es: \" + cod);"
   ]
  },
  {
   "cell_type": "markdown",
   "metadata": {},
   "source": [
    "# Ejemplos de Listas en Java\n",
    "- Adicionar elementos\n",
    "- Buscar elementos\n",
    "- Remover elementos\n",
    "- Actualizar un elemento\n",
    "- Imprimir todos los elementos la lista"
   ]
  },
  {
   "cell_type": "markdown",
   "metadata": {},
   "source": [
    "## Crear una lista"
   ]
  },
  {
   "cell_type": "code",
   "execution_count": 60,
   "metadata": {},
   "outputs": [],
   "source": [
    "// Creación de un objeto lista parametrizado\n",
    "ArrayList <Estudiante> miLista = new ArrayList <Estudiante> ();"
   ]
  },
  {
   "cell_type": "markdown",
   "metadata": {},
   "source": [
    "## Creación de objetos estudiante"
   ]
  },
  {
   "cell_type": "code",
   "execution_count": null,
   "metadata": {},
   "outputs": [],
   "source": [
    "// Creación de varios estudiantes\n",
    "Estudiante e1          = new Estudiante (\"ana\", 11);\n",
    "Estudiante e2          = new Estudiante (\"lady\", 22);\n",
    "Estudiante e3          = new Estudiante (\"sofia\", 33);\n",
    "Estudiante x           = new Estudiante (\"luis\", 44);\n",
    "Estudiante y           = new Estudiante (\"andres\", 99);\n",
    "Estudiante z           = new Estudiante (\"oscar\", 88);\n",
    "Estudiante maria       = new Estudiante (\"maria\", 77);\n",
    "Estudiante juan        = new Estudiante (\"juan\", 66);\n",
    "Estudiante pedro       = new Estudiante (\"pedro\", 55);\n",
    "Estudiante estudianteX = new Estudiante (\"kamilo\", 100);"
   ]
  },
  {
   "cell_type": "markdown",
   "metadata": {},
   "source": [
    "## Adicionar estudiantes a la lista"
   ]
  },
  {
   "cell_type": "code",
   "execution_count": null,
   "metadata": {},
   "outputs": [],
   "source": [
    "// Adicionar objetos a la lista\n",
    "miLista.add (e1);\n",
    "miLista.add (e2);\n",
    "miLista.add (e3);\n",
    "miLista.add (x);\n",
    "miLista.add (y);\n",
    "miLista.add (z);\n",
    "miLista.add (maria);\n",
    "miLista.add (juan);\n",
    "miLista.add (pedro);\n",
    "miLista.add (estudianteX);"
   ]
  },
  {
   "cell_type": "markdown",
   "metadata": {},
   "source": [
    "## Mostrar todos los elementos de la lista"
   ]
  },
  {
   "cell_type": "code",
   "execution_count": null,
   "metadata": {},
   "outputs": [],
   "source": [
    "// Mostrar lista recorriéndola usando iterador for desde el inicio hasta el fin\n",
    "for (Estudiante e : miLista) {\n",
    "    e.presentarse ();\n",
    "}"
   ]
  },
  {
   "cell_type": "markdown",
   "metadata": {},
   "source": [
    "## Adicionar un estudiante leyendo sus datos desde teclado"
   ]
  },
  {
   "cell_type": "code",
   "execution_count": 50,
   "metadata": {},
   "outputs": [
    {
     "name": "stdout",
     "output_type": "stream",
     "text": [
      "88\n",
      "Carlos\n"
     ]
    },
    {
     "ename": "EvalException",
     "evalue": "null",
     "output_type": "error",
     "traceback": [
      "\u001b[1m\u001b[31m---------------------------------------------------------------------------\u001b[0m",
      "\u001b[1m\u001b[31mjava.util.InputMismatchException: null\u001b[0m",
      "\u001b[1m\u001b[31m\tat java.base/java.util.Scanner.throwFor(Scanner.java:939)\u001b[0m",
      "\u001b[1m\u001b[31m\tat java.base/java.util.Scanner.next(Scanner.java:1594)\u001b[0m",
      "\u001b[1m\u001b[31m\tat java.base/java.util.Scanner.nextInt(Scanner.java:2258)\u001b[0m",
      "\u001b[1m\u001b[31m\tat java.base/java.util.Scanner.nextInt(Scanner.java:2212)\u001b[0m",
      "\u001b[1m\u001b[31m\tat .(#69:1)\u001b[0m"
     ]
    }
   ],
   "source": [
    "// Adicion de un estudiante leyendo datos desde el teclado\n",
    "// Leer desde teclado nombre y codigo\n",
    "import java.util.Scanner;\n",
    "Scanner lector = new Scanner (System.in);\n",
    "\n",
    "String nombreNuevo = lector.nextLine ();\n",
    "int    codigoNuevo = lector.nextInt ();\n",
    "\n",
    "Estudiante nuevo = new Estudiante (nombreNuevo, codigoNuevo);\n",
    "nuevo.presentarse ();\n",
    "\n",
    "miLista.add (nuevo);\n",
    "// Recorrido de una lista usando iterador for\n",
    "for (Estudiante e : miLista) {\n",
    "    e.presentarse ();\n",
    "}"
   ]
  },
  {
   "cell_type": "code",
   "execution_count": 32,
   "metadata": {},
   "outputs": [
    {
     "name": "stdout",
     "output_type": "stream",
     "text": [
      "Mi nombre es: ana y mi codigo es: 11\n",
      "Mi nombre es: lady y mi codigo es: 22\n",
      "Mi nombre es: sofia y mi codigo es: 33\n",
      "Mi nombre es: luis y mi codigo es: 44\n",
      "Mi nombre es: andres y mi codigo es: 99\n",
      "Mi nombre es: oscar y mi codigo es: 88\n",
      "Mi nombre es: maria y mi codigo es: 77\n",
      "Mi nombre es: juan y mi codigo es: 66\n",
      "Mi nombre es: pedro y mi codigo es: 55\n",
      "Mi nombre es: kamilo y mi codigo es: 100\n",
      "Mi nombre es: Diego y mi codigo es: 200\n",
      "Mi nombre es: Diego y mi codigo es: 200\n"
     ]
    }
   ],
   "source": [
    "// Adicion del estudiante nuevo a la lista\n"
   ]
  },
  {
   "cell_type": "markdown",
   "metadata": {},
   "source": [
    "## Buscar un estudiante dado el código\n",
    "- Se hace un recorrido de la lista preguntado por el codigo de cada estudiante si es igual al codigo a buscar\n",
    "- Si lo encuentra, ejecuta algo, y termina."
   ]
  },
  {
   "cell_type": "code",
   "execution_count": 34,
   "metadata": {},
   "outputs": [
    {
     "name": "stdout",
     "output_type": "stream",
     "text": [
      "Lo encontre!!\n",
      "Mi nombre es: oscar y mi codigo es: 88\n"
     ]
    }
   ],
   "source": [
    "// codigo asignado a una variable\n",
    "int codigoBuscar = 88;\n",
    "\n",
    "for (Estudiante e : miLista) {\n",
    "    if (e.getCodigo() == codigoBuscar) {\n",
    "        System.out.println (\"Lo encontre!!\");\n",
    "        e.presentarse();\n",
    "        break;\n",
    "    }\n",
    "}"
   ]
  },
  {
   "cell_type": "code",
   "execution_count": 40,
   "metadata": {},
   "outputs": [
    {
     "name": "stdout",
     "output_type": "stream",
     "text": [
      "Digite el codigo: \n",
      "88\n"
     ]
    }
   ],
   "source": [
    "// codigo se lee desde teclado\n",
    "System.out.println (\"Digite el codigo: \");\n",
    "int codigoBuscar = lector.nextInt();\n",
    "\n",
    "for (Estudiante e : miLista) {\n",
    "    if (e.getCodigo() == codigoBuscar) {\n",
    "        System.out.println (\"Lo encontre!!\");\n",
    "        e.presentarse();\n",
    "        break;\n",
    "    }\n",
    "}"
   ]
  },
  {
   "cell_type": "markdown",
   "metadata": {},
   "source": [
    "## Remover un estudiante dado el código\n",
    "- Recorrer la lista\n",
    "- Preguntar a cada iteración si es el estudiante comparando los codigos\n",
    "- Si lo encontre, entonces remover todo ese estudiante"
   ]
  },
  {
   "cell_type": "code",
   "execution_count": 46,
   "metadata": {},
   "outputs": [
    {
     "name": "stdout",
     "output_type": "stream",
     "text": [
      "Digite el codigo: \n",
      "88\n"
     ]
    },
    {
     "ename": "EvalException",
     "evalue": "Cannot invoke \"java.util.ArrayList.iterator()\" because \"REPL.$JShell$35B.miLista\" is null",
     "output_type": "error",
     "traceback": [
      "\u001b[1m\u001b[31m---------------------------------------------------------------------------\u001b[0m",
      "\u001b[1m\u001b[31mjava.lang.NullPointerException: Cannot invoke \"java.util.ArrayList.iterator()\" because \"REPL.$JShell$35B.miLista\" is null\u001b[0m",
      "\u001b[1m\u001b[31m\tat .(#106:1)\u001b[0m"
     ]
    }
   ],
   "source": [
    "// codigo se lee desde teclado\n",
    "System.out.println (\"Digite el codigo: \");\n",
    "int codigoBuscar = lector.nextInt();\n",
    "\n",
    "for (Estudiante e : miLista) {\n",
    "    if (e.getCodigo () == codigoBuscar) {\n",
    "        miLista.remove (e);\n",
    "    }\n",
    "}\n",
    "\n",
    "// Recorrido de una lista usando iterador for\n",
    "for (Estudiante e : miLista) {\n",
    "    e.presentarse ();\n",
    "}"
   ]
  },
  {
   "cell_type": "markdown",
   "metadata": {},
   "source": [
    "## Actualizar el nombre de un estudiante dado el código\n",
    "- Recorrer la lista (for)\n",
    "- Ubicar el elemento preguntando si su codigo es igual al codigo que estoy buscando (if)\n",
    "- Se obtiene la posicion de ese objeto en la lista (indexOf)\n",
    "- Se modifica el nombre del objeto (setNombre)\n",
    "- Se actualiza la lista con el metodo set (posicione, objeto)"
   ]
  },
  {
   "cell_type": "code",
   "execution_count": 59,
   "metadata": {},
   "outputs": [
    {
     "name": "stdout",
     "output_type": "stream",
     "text": [
      "Mi nombre es:  y mi codigo es: 11\n",
      "Mi nombre es: lady y mi codigo es: 22\n",
      "Mi nombre es: Pepito y mi codigo es: 33\n",
      "Mi nombre es: luis y mi codigo es: 44\n",
      "Mi nombre es: andres y mi codigo es: 99\n",
      "Mi nombre es: oscar y mi codigo es: 88\n",
      "Mi nombre es: maria y mi codigo es: 77\n",
      "Mi nombre es: juan y mi codigo es: 66\n",
      "Mi nombre es: pedro y mi codigo es: 55\n",
      "Mi nombre es: kamilo y mi codigo es: 100\n",
      "\n",
      "Mi nombre es:  y mi codigo es: 11\n",
      "Mi nombre es: lady y mi codigo es: 22\n",
      "Mi nombre es: Pepito y mi codigo es: 33\n",
      "Mi nombre es: Pablito y mi codigo es: 44\n",
      "Mi nombre es: andres y mi codigo es: 99\n",
      "Mi nombre es: oscar y mi codigo es: 88\n",
      "Mi nombre es: maria y mi codigo es: 77\n",
      "Mi nombre es: juan y mi codigo es: 66\n",
      "Mi nombre es: pedro y mi codigo es: 55\n",
      "Mi nombre es: kamilo y mi codigo es: 100\n"
     ]
    }
   ],
   "source": [
    "// codigo fijo\n",
    "int codigoBuscar = 44;\n",
    "String nuevoNombre = \"Pablito\";\n",
    "\n",
    "// Recorrido de una lista usando iterador for\n",
    "for (Estudiante e : miLista) {\n",
    "    e.presentarse ();\n",
    "}\n",
    "    \n",
    "// Recorro la lista preguntando si los codigos son iguales\n",
    "for (Estudiante e : miLista) {\n",
    "    if (e.getCodigo () == codigoBuscar) {\n",
    "        // Encuentro la posición dentro de la lista\n",
    "        int posicion = miLista.indexOf (e);\n",
    "        // Modifico el objeto\n",
    "        e.setNombre (nuevoNombre);\n",
    "        // Actualizo la lista\n",
    "        miLista.set (posicion, e);        \n",
    "    }\n",
    "}\n",
    "System.out.println (\"\");\n",
    "\n",
    "// Recorrido de una lista usando iterador for\n",
    "for (Estudiante e : miLista) {\n",
    "    e.presentarse ();\n",
    "}"
   ]
  },
  {
   "cell_type": "code",
   "execution_count": 61,
   "metadata": {},
   "outputs": [
    {
     "name": "stdout",
     "output_type": "stream",
     "text": [
      "Digite el codigo: 88\n",
      "Digite el nombre: "
     ]
    }
   ],
   "source": [
    "System.out.print (\"Digite el codigo: \");\n",
    "int codigoBuscar = lector.nextInt();\n",
    "\n",
    "System.out.print (\"Digite el nombre: \");\n",
    "String nuevoNombre = lector.nextLine();"
   ]
  },
  {
   "cell_type": "code",
   "execution_count": 69,
   "metadata": {},
   "outputs": [
    {
     "ename": "CompilationException",
     "evalue": "",
     "output_type": "error",
     "traceback": [
      "\u001b[1m\u001b[30m|   \u001b[1m\u001b[30m    int valor = \u001b[0m\u001b[1m\u001b[30m\u001b[41m\"a\"\u001b[0m\u001b[1m\u001b[30m;\u001b[0m",
      "\u001b[1m\u001b[31mincompatible types: java.lang.String cannot be converted to int\u001b[0m",
      "",
      "\u001b[1m\u001b[30m|   \u001b[1m\u001b[30m    \u001b[0m\u001b[1m\u001b[30m\u001b[41mvalor\u001b[0m\u001b[1m\u001b[30m = 0;\u001b[0m",
      "\u001b[1m\u001b[31mcannot find symbol\u001b[0m",
      "\u001b[1m\u001b[31m  symbol:   variable valor\u001b[0m",
      ""
     ]
    }
   ],
   "source": []
  }
 ],
 "metadata": {
  "kernelspec": {
   "display_name": "Java",
   "language": "java",
   "name": "java"
  },
  "language_info": {
   "codemirror_mode": "java",
   "file_extension": ".jshell",
   "mimetype": "text/x-java-source",
   "name": "Java",
   "pygments_lexer": "java",
   "version": "16.0.1+9-24"
  }
 },
 "nbformat": 4,
 "nbformat_minor": 4
}
