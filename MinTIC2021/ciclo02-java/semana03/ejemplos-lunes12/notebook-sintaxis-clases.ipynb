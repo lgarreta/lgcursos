{
 "cells": [
  {
   "cell_type": "markdown",
   "metadata": {},
   "source": [
    "# Sintaxis de Clases en JAVA\n",
    "# Clase\n",
    "- Contiene tres elementos:\n",
    "  - Atributos            : variables, datos de la clase\n",
    "  - Método constructor   : función que inicializa los atributos de la clase\n",
    "  - Métodos              : funcones que nos permiten realizar acciones\n",
    "  \n",
    "- El archivo donde se guarde la clase debe tener el mismo nombre q la clase:\n",
    "  - j. clase Persona....el archivo se llamará \"Persona.java\""
   ]
  },
  {
   "cell_type": "code",
   "execution_count": 1,
   "metadata": {},
   "outputs": [],
   "source": [
    "// Sintaxis\n",
    "public class NombreClase {\n",
    "    // ATRIBUTOS\n",
    "    //....\n",
    "    \n",
    "    // CONTRUCTOR \n",
    "    //....\n",
    "        \n",
    "    // METODOS\n",
    "}"
   ]
  },
  {
   "cell_type": "code",
   "execution_count": null,
   "metadata": {},
   "outputs": [],
   "source": [
    "// Ejemplo: clase Persona\n",
    "public class Persona {\n",
    "    //...\n",
    "    //...\n",
    "    //...\n",
    "}\n"
   ]
  },
  {
   "cell_type": "markdown",
   "metadata": {},
   "source": [
    "## Atributos\n",
    "- Son variables o datos que tiene la clase\n",
    "- Tipos:\n",
    "  - Básicos: int, float, boolean, String\n",
    "  - Clases  : Scanner\n",
    "  \n",
    "- Para los tipos de atributos de tipo clase, tiene que construirlos usando **new**\n",
    "  - Ej. Scanner lector;\n",
    "  -     lector = new Scanner (System.in);\n",
    "  \n",
    "- La sintaxis de la declaración:\n",
    "  - TipoDelAtributo NombreDelAtributo\n",
    "  - String nombre;\n",
    "  - int edad;\n",
    "  - String tipoSangre;\n",
    "  - double estatura;\n",
    "  \n",
    "  - Scanner lector;\n"
   ]
  },
  {
   "cell_type": "markdown",
   "metadata": {},
   "source": [
    "## Métodos\n",
    "- Son funciones y pueden o no retorna un valor o tiene parametros\n",
    "- Sintaxis:\n",
    "  public TipoDeDatos NombreDelMetodo (parametro1, parametro2, ....) {\n",
    "     // Instrucciones\n",
    "     //\n",
    "  }\n",
    "\n",
    "- Tipos de valores puede retornar:\n",
    "  - Básicos: int, float, String, boolean, char\n",
    "  - Clase  : Scanner, Random, .....\n",
    "  - void   : El método no retorna nada"
   ]
  },
  {
   "cell_type": "code",
   "execution_count": 5,
   "metadata": {},
   "outputs": [],
   "source": [
    "// Ejemplos\n",
    "public void presentarse () {\n",
    "    System.out.println (\"Mi nombre es \" + nombre);\n",
    "    System.out.println (\"Mi estatura es \" + estatura);\n",
    "}\n",
    "\n",
    "public double calcularSalario (int horasTrabajadas, float costoSalario) {\n",
    "    double salario;\n",
    "    salario = horasTrabajadas * costoSalario;\n",
    "    return (salario);\n",
    "}"
   ]
  },
  {
   "cell_type": "markdown",
   "metadata": {},
   "source": [
    "## Constructores\n",
    "- Metodo especial que se utiliza para inicializar los atributos de la clase\n",
    "- El nombre del método es el mismo de la clase\n",
    "- Este constructor se llama al inicio cuando construye un objeto\n",
    "\n",
    "- Sintaxis:"
   ]
  },
  {
   "cell_type": "markdown",
   "metadata": {},
   "source": [
    "### Sintaxis"
   ]
  },
  {
   "cell_type": "code",
   "execution_count": 10,
   "metadata": {},
   "outputs": [],
   "source": [
    "public class NombreClase {\n",
    "\n",
    "    // Constructor\n",
    "    public NombreClase () {\n",
    "         //....\n",
    "    }\n",
    "\n",
    "}"
   ]
  },
  {
   "cell_type": "markdown",
   "metadata": {},
   "source": [
    "### Ejemplos"
   ]
  },
  {
   "cell_type": "code",
   "execution_count": 12,
   "metadata": {},
   "outputs": [],
   "source": [
    "public class Persona {\n",
    "    // Construtor sin paramatros\n",
    "    public Persona () {\n",
    "      nombre = \"Ninguno\";\n",
    "      edad   = 0;\n",
    "      tipoSangre = \"Ninguno\";\n",
    "      estatura   = 0.0;\n",
    "    }\n",
    "\n",
    "    // Constructor con parametros\n",
    "    public Persona (String nombrePersona, int edadPersona, String sangrePersona, double estaturaPersona) {\n",
    "      nombre = nombrePersona;\n",
    "      edad   = edadPersona;\n",
    "      tipoSangre = sangrePersona;\n",
    "      estatura   = estaturaPersona;    \n",
    "    }\n",
    "}"
   ]
  },
  {
   "cell_type": "markdown",
   "metadata": {},
   "source": [
    "## Clase completa: atributos, constructures, metodos"
   ]
  },
  {
   "cell_type": "code",
   "execution_count": 18,
   "metadata": {},
   "outputs": [],
   "source": [
    "public class Persona {\n",
    "    // ATRIBUTOS\n",
    "    String nombre;\n",
    "    int edad;\n",
    "    String tipoSangre;\n",
    "    double estatura;\n",
    "\n",
    "    // COSTRUCTORES\n",
    "    public Persona () {\n",
    "      nombre = \"Ninguno\";\n",
    "      edad   = 0;\n",
    "      tipoSangre = \"Ninguno\";\n",
    "      estatura   = 0.0;\n",
    "    } \n",
    "    \n",
    "    public Persona (String nombrePersona, int edadPersona, String sangrePersona, double estaturaPersona) {\n",
    "      nombre = nombrePersona;\n",
    "      edad   = edadPersona;\n",
    "      tipoSangre = sangrePersona;\n",
    "      estatura   = estaturaPersona;    \n",
    "    }    \n",
    "    \n",
    "    // METODOS\n",
    "    public void presentarse () {\n",
    "        System.out.println (\"Mi nombre es \" + nombre);\n",
    "        System.out.println (\"Mi estatura es \" + estatura);\n",
    "    }\n",
    "\n",
    "    public double calcularSalario (int horasTrabajadas, float costoSalario) {\n",
    "        double salario;\n",
    "        salario = horasTrabajadas * costoSalario;\n",
    "        return (salario);\n",
    "    }    \n",
    "}"
   ]
  },
  {
   "cell_type": "markdown",
   "metadata": {},
   "source": [
    "### Programa: Clase UsoPersona "
   ]
  },
  {
   "cell_type": "code",
   "execution_count": 9,
   "metadata": {},
   "outputs": [],
   "source": [
    "public class UsoPersona {\n",
    "    public static void main (String argumentos[]) {\n",
    "        // Usos de esa clase\n",
    "        Persona x;\n",
    "        x = new Persona ();\n",
    "\n",
    "        x.presentarse ();\n",
    "        double valor = x.calcularSalario (10, 150);\n",
    "        System.out.println (valor);\n",
    "\n",
    "        // Ejemplo uso construtor con parametros\n",
    "        Persona personita;\n",
    "        personita = new Persona (\"anita\", 33, \"O+\", 1.70);\n",
    "\n",
    "        personita.presentarse ()\n",
    "        \n",
    "    }\n",
    "}"
   ]
  }
 ],
 "metadata": {
  "kernelspec": {
   "display_name": "Java",
   "language": "java",
   "name": "java"
  },
  "language_info": {
   "codemirror_mode": "java",
   "file_extension": ".jshell",
   "mimetype": "text/x-java-source",
   "name": "Java",
   "pygments_lexer": "java",
   "version": "16.0.1+9-24"
  }
 },
 "nbformat": 4,
 "nbformat_minor": 4
}
