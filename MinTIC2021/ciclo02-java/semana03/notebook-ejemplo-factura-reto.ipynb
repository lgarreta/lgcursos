{
 "cells": [
  {
   "cell_type": "markdown",
   "metadata": {},
   "source": [
    "# Ejemplo uso de Clase Factura\n",
    "- En este ejemplo vamos a usar un archivo Factura.class que implementa las principales funciones que están en el reto.\n",
    "- El archivo Factura.class tiene ya implementadas las funciones, pero no se puede acceder al código fuente (Factura.java)\n",
    "- Su trabajo será el implementar la clase Factura.java con la misma funcionalidad descrita en este ejemplo."
   ]
  },
  {
   "cell_type": "markdown",
   "metadata": {},
   "source": [
    "## Tips:\n",
    "- En java \"or\" es ||\n",
    "- En java \"and\" es &&\n",
    "\n",
    "\n",
    "\n",
    "## Clases involucradas en el reto\n",
    "- Factura\n",
    "- UsoFactura"
   ]
  },
  {
   "cell_type": "code",
   "execution_count": null,
   "metadata": {},
   "outputs": [],
   "source": []
  },
  {
   "cell_type": "markdown",
   "metadata": {},
   "source": [
    "## Clase Factura\n",
    "unidad de gas     : 5234\n",
    "unidad de energia : 1200\n",
    "unidad de agua    : 9256\n",
    "\n",
    "- Calcular pago agua:\n",
    "  - Calcula el valor teniendo en cuenta los descuentos y los impuestos\n",
    "  - Entradas: consumo y estrato\n",
    "  - Salida  : total a pagar\n",
    "  \n",
    "- Calcular pago gas:\n",
    "  - Calcula el valor teniendo en cuenta los descuentos y los impuestos\n",
    "  - Entradas: consumo y estrato\n",
    "  - Salida  : total a pagar\n",
    "\n",
    "- Calcular pago energía:\n",
    "  - Calcula el valor teniendo en cuenta los descuentos y los impuestos\n",
    "  - Entradas: consumo y estrato\n",
    "  - Salida  : total a pagar\n",
    "\n",
    "- Mostrar un menu:\n",
    "  - Muestra un menu de opciones en pantall\n",
    "  - Entradas : ninguna\n",
    "  - Salidas  : ninguna\n",
    "  \n",
    "- Leer opcion:\n",
    "  - Leer desde el teclado un valor entero\n",
    "  - Entradas: Ninguno\n",
    "  - Salidas : el valor de la opción\n",
    "  \n",
    "- Leer consumo:\n",
    "  - Leer desde el teclado un valor entero\n",
    "  - Entradas: Ninguno\n",
    "  - Salidas : el valor del consumo\n",
    "\n",
    "- Leer estrato:\n",
    "  - Leer desde el teclado un valor entero\n",
    "  - Entradas: Ninguno\n",
    "  - Salidas : el valor del estrato\n",
    "\n",
    "- Mostrar resultado:\n",
    "  - Muestra en pantalla el resultado del costo total del servicio\n",
    "  - Entradas: total a Pagar\n",
    "  - Salida: Ninguno"
   ]
  },
  {
   "cell_type": "markdown",
   "metadata": {},
   "source": [
    "## Especificación de metodos, atributos, y tipos de datos\n",
    "- ATRIBUTOS\n",
    "    - int unidadAgua;\n",
    "    - int unidadGas;\n",
    "    - int unidadEnergia;\n",
    "    - Scanner lector;\n",
    "\n",
    "- METODOS:\n",
    "    - double calculaPagoAgua (int consumo, int estrato)   \n",
    "    - double calculaPagoGas (int consumo, int estrato)\n",
    "    - double calculaPagoEnergia (int consumo, int estrato)\n",
    "\n",
    "    - void mostrarMenu ()\n",
    "    - int leerOpcion ()\n",
    "    - int leerConsumo ()\n",
    "    - int leerEstrato ()\n",
    "    - void mostrarResultado (dobule valorPagar)"
   ]
  },
  {
   "cell_type": "markdown",
   "metadata": {},
   "source": [
    "## Ejemplo de programa que **usa** la clase Factura"
   ]
  },
  {
   "cell_type": "code",
   "execution_count": null,
   "metadata": {},
   "outputs": [],
   "source": [
    "public class UsoFactura {\n",
    "\tpublic static void main (String argumentos[]) {\n",
    "\t\tFactura miFactura;\n",
    "\t\tmiFactura = new Factura ();\n",
    "\n",
    "\t\twhile (true) {\n",
    "\t\t\tmiFactura.mostrarMenu ();\n",
    "\t\t\tint opcion = miFactura.leerOpcion ();\n",
    "\n",
    "\t\t\tif (opcion == 1) {\n",
    "\t\t\t\tSystem.out.println (\"Liquidando agua...\");\n",
    "\t\t\t\tint consumo = miFactura.leerConsumo ();\n",
    "\t\t\t\tint estrato = miFactura.leerEstrato ();\n",
    "\t\t\t\tdouble costoTotal = miFactura.calcularPagoAgua (consumo, estrato);\n",
    "\t\t\t\tmiFactura.mostrarResultado (costoTotal);\n",
    "\t\t\t}else if (opcion == 2) {\n",
    "\t\t\t\tSystem.out.println (\"Liquidando gas...\");\n",
    "\t\t\t\tint consumo = miFactura.leerConsumo ();\n",
    "\t\t\t\tint estrato = miFactura.leerEstrato ();\n",
    "\t\t\t\tdouble costoTotal = miFactura.calcularPagoGas (consumo, estrato);\n",
    "\t\t\t\tmiFactura.mostrarResultado (costoTotal);\n",
    "\t\t\t}else if (opcion == 3) {\n",
    "\t\t\t\tSystem.out.println (\"Liquidando energia...\");\n",
    "\t\t\t\tint consumo = miFactura.leerConsumo ();\n",
    "\t\t\t\tint estrato = miFactura.leerEstrato ();\n",
    "\t\t\t\tdouble costoTotal = miFactura.calcularPagoEnergia (consumo, estrato);\n",
    "\t\t\t\tmiFactura.mostrarResultado (costoTotal);\n",
    "\t\t\t}else if (opcion == 4) {\n",
    "\t\t\t\tbreak;\n",
    "\t\t\t}\n",
    "\t\t}\n",
    "\t\tSystem.out.println (\"Adios...\");\n",
    "\t}\n",
    "}"
   ]
  },
  {
   "cell_type": "markdown",
   "metadata": {},
   "source": [
    "# TAREA\n",
    "- Aquí solo hemos usado una clase Factura que ya implementa las funciones principales del reto\n",
    "- El archivo que implementa esta clase esta en un formato de código máquina (Factura.class), es decir no tiene el código fuente.\n",
    "- Usted debe implementar su propia clase Factura siguiendo la especificación de las entradas y salidas de los métodos.\n",
    "- Además, tiene que adicionarle otros atributos y modificar o crear nuevos métodos para que resuelvan completamente el reto."
   ]
  },
  {
   "cell_type": "markdown",
   "metadata": {},
   "source": [
    "### Ejemplo de una posible implementación de la clase Factura"
   ]
  },
  {
   "cell_type": "code",
   "execution_count": 8,
   "metadata": {},
   "outputs": [],
   "source": [
    "public class Factura {\n",
    "    int unidadAgua;\n",
    "    int unidadGas;\n",
    "    \n",
    "    //....\n",
    "    Scanner lector;\n",
    "    \n",
    "    public Factura () {\n",
    "        unidadAgua = 5270;\n",
    "        unidadGas  = 1230;\n",
    "        //...\n",
    "        lector = new Scanner (System.in);\n",
    "    }\n",
    "    \n",
    "    public double calcularPagoAgua (int consumo, int estrato) {\n",
    "        double pagoTotal = 0.0;\n",
    "        //.....\n",
    "        //if (estrato==2 || estrato == 3) {\n",
    "        // ....\n",
    "   \n",
    "        return (pagoTotal);    \n",
    "    }\n",
    "        \n",
    "    \n",
    "    public void mostrarResultados (double valorTotal) {\n",
    "\n",
    "        //...|\n",
    "    }\n",
    "    \n",
    "};\n"
   ]
  }
 ],
 "metadata": {
  "kernelspec": {
   "display_name": "Java",
   "language": "java",
   "name": "java"
  },
  "language_info": {
   "codemirror_mode": "java",
   "file_extension": ".jshell",
   "mimetype": "text/x-java-source",
   "name": "Java",
   "pygments_lexer": "java",
   "version": "16.0.1+9-24"
  }
 },
 "nbformat": 4,
 "nbformat_minor": 4
}
