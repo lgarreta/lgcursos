{
 "cells": [
  {
   "cell_type": "markdown",
   "metadata": {},
   "source": [
    "## Manejo de BD para el Reto 04\n",
    "- Manejador para el reto es sqlite:\n",
    "  - https://www.sqlite.org/download.html\n",
    "  \n",
    "- Los DBMS ofrecen dos \"capas\":\n",
    "  - El core del DBMS\n",
    "  - Interacturar con el DBMS:\n",
    "    - Shell\n",
    "    - Aplicación gráfica\n",
    "    \n",
    "- Sqlite:\n",
    "  - App gráfica: slqstudio\n",
    "- MySQL:\n",
    "  - App gráfica: mysql-workbench\n",
    "  \n",
    "  \n",
    "## TAREA del Reto:\n",
    "- Installar sqlite;\n",
    "- Installar sqlite studio\n",
    "- O interaccionan desde el shell\n",
    "- Descarga jdbc para sqlite\n",
    "- Modificar codigo java: Atributos de conexion DB_URL, USUARIO, CLAVE\n",
    "- Prueban el ejemplo:\n",
    "  - Crean una base de datos bd_ejemplo\n",
    "  - Crean una tabla Estudiantes\n",
    "    - id : integer\n",
    "    - nombres : TEXT\n",
    "    - correoInsitucional TEXT\n",
    "    - numeroCelular int\n",
    "  - Inserta valores\n",
    "  - Ejecutan programa ejemplo Java (netbeans)\n",
    "    - Addiconar a libraries el jdbc\n",
    "  - Ejecutan programa ejemplo Java (consola)\n",
    "    - Compilar de forma normal\n",
    "    - Ejecutar adicionando el classpat:\n",
    "      java -classpath .;sqlite-jdbc-3.7.2.jar ProgramaDirectorio\n",
    "\n",
    "    \n",
    "   \n",
    "    "
   ]
  }
 ],
 "metadata": {
  "kernelspec": {
   "display_name": "Java",
   "language": "java",
   "name": "java"
  },
  "language_info": {
   "codemirror_mode": "java",
   "file_extension": ".jshell",
   "mimetype": "text/x-java-source",
   "name": "Java",
   "pygments_lexer": "java",
   "version": "16.0.1+9-24"
  }
 },
 "nbformat": 4,
 "nbformat_minor": 4
}
