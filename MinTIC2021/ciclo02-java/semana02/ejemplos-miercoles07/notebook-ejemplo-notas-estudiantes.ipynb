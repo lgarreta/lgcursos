{
 "cells": [
  {
   "cell_type": "markdown",
   "metadata": {},
   "source": [
    "# Programacion Orientada a Objetos (POO)\n",
    "- Resolver problemas va a girar alrededor de objetos y no funciones como en la programación estructurada (python)\n",
    "\n",
    "- Objetos tienen unas caracterísiticas y pueden ejecutar unas funciones\n",
    "\n",
    "- Objetos se construyen de lo que se llamarán las clases: \n",
    "  - Ej. Clase Carro:\n",
    "    - Datos : Atributos\n",
    "      - Potencia\n",
    "      - Kilomentraje\n",
    "      - NroRuedas\n",
    "    - Funciones : Métodos\n",
    "      - Avanzar ()\n",
    "      - Detenerse ()\n",
    "      - Retroceder ()\n",
    "      \n",
    "- Una clase es la especificación general de un objetos\n",
    "\n",
    "- Un objeto es una construcción o instancia de una clase, es algo que existe. \n",
    "  - Ej. miCarro es una intancia de la clase Carro\n",
    "    - Atributos:\n",
    "      - Potencia : 1000 Caballos de Fuerza\n",
    "      - Kilomentraje: 5000 km\n",
    "      - NroRuedas   : 3        "
   ]
  },
  {
   "cell_type": "markdown",
   "metadata": {},
   "source": [
    "# Lenguaje de Programación Java\n",
    "- Java es un lenguaje orientado a objetos: Progragamación Orientada a Objetos (POO)\n",
    "- Lo fundamental del POO: Clases\n",
    "- Clases están compuestas de dos elementos:\n",
    "  - **Atributos**: Características, Variables, Datos\n",
    "  - **Metodos**: Funciones\n",
    "\n",
    "- Java es un lenguaje de POO\n",
    "- Se escribe codigo fuente: archivos con extension .java\n",
    "- Se compila, se traduce a código **máquina** (bytecodes) : archivos con extension .class\n",
    "\n",
    "## Entorno de desarrollo\n",
    "- Edición de código: \n",
    "  - Cualquier editor de código: Visual Code Studio, o sublime, o atom,  o vim.\n",
    "  \n",
    "- Vamos a compilar (traducir) usando la terminal (línea de comandos, CMD)\n",
    "  - javac <Nombre del archivo con extension .java>\n",
    "    Ej. javac ProgramaNotas.java\n",
    "                  \n",
    "- Vamos a ejecutar o interpretar los programas en la terminal (línea de comandos, CMD):\n",
    "  - java <Nombre del archivo sin extension>\n",
    "    Ej. java ProgramaNotas\n",
    "    \n",
    "## Tipos de datos en Java\n",
    "- Enteros            : int   (Ej. 5, 9, 110,...)\n",
    "- Reales o flotantes : float (Ej. 3.45, 0.5678, ...)\n",
    "- Lógicos o boolean  : bool  (Ej. True, False)\n",
    "- Sin tipo           : void  (no retorna ningún tipo) \n",
    "\n",
    "\n",
    "- Clases:\n",
    "  - Cadenas            : String (Ej. \"Hola\")\n",
    "  - Entrada de datos   : Scanner \n",
    "\n",
    "## Nombramiento de clases, atributos, funciones\n",
    "- Nombres de clases inician con mayusculas: \n",
    "  - Ej. ProgramaNotas\n",
    "- Nombres de atributos y metodos (funciones) inician con minuscula:\n",
    "  - Ej. porcentajeAlgebra\n",
    "  - Ej. mostrarMenu ()\n",
    "- Nombres compuestos se hace cambio a mayuscula: \n",
    "  - Ej. ProgramaNotas"
   ]
  },
  {
   "cell_type": "markdown",
   "metadata": {},
   "source": [
    "# Herramienta de modelamiento UML\n",
    "- UML: Lenguaje Unificado de Modelamiento\n",
    "- Lenguaje gráfico, usa distintos diagramas para especificar las clases, objetos, y su interacción.\n",
    "- Permiten diseñar aplicaciones orientadas a objetos\n",
    "- El principal diagrama es el diagrama de clases:\n",
    "  - Se especifica el nombre de la clase\n",
    "  - Los atributos\n",
    "  - Las funciones\n",
    "  \n",
    "- El principal diagrama en UML son los diagramas de clases, donde se especifíca:\n",
    "  - El nombre de la clase:\n",
    "    - Se deben iniciar con mayúsculas\n",
    "    - Si hay cambio de palabras, también con mayúscula\n",
    "    Ej. clase ProgramaNotas, clase Carro, clase ImpresoraColor\n",
    "    \n",
    "  - Los atributos o datos de la clases:\n",
    "    - deben iniciar con minusculas, procurar usar sustantivos\n",
    "     \n",
    "  - Los métodos o funciones:\n",
    "    - deben iniciar con minusculas y procurar usar verbos  "
   ]
  },
  {
   "cell_type": "markdown",
   "metadata": {},
   "source": [
    "# Ejemplo : Notas de Estudiantes\n",
    "Se requiere calcular las notas de dos materias: algebra y biologia. Cada materia tiene un porcentaje valor determinado de la nota final. Algebra vale el 70% y Biología el 30%. Lo que se requiere calcular el valor final de cada nota y la nota final que es la suma de las dos notas. \n",
    "Se debe mostrar un menú con las opciones:\n",
    "- (1) Para calcular nota algebra\n",
    "- (2) Para calcular nota biología\n",
    "- (3) Para calcular nota final\n",
    "- (0) Salir\n",
    "\n",
    "Para calcular la nota debe solicitar al estudiante la nota que sacó y el programa debe hacer cálculo con el porcentaje y mostrar ese resultado."
   ]
  },
  {
   "cell_type": "markdown",
   "metadata": {},
   "source": [
    "# Configuración entorno de trabajo : Visual Studio Code\n",
    "- Configurar en idioma español:\n",
    "  - File --> Preferencias --> Extensions --> Buscar \"spanish\" e instalar \"Spanish Language Pack\"\n",
    "\n",
    "- Creación de carpeta de trabajo:\n",
    "  - Agregar carpeta a entorno --> Crear carpeta\n",
    "  "
   ]
  },
  {
   "cell_type": "markdown",
   "metadata": {},
   "source": [
    "# Comandos básicos en la terminal (CMD en windows)\n",
    "- **dir** \n",
    "  - Muestra los archivos en la carpeta actual\n",
    "  \n",
    "- **javac** :\n",
    "  - Compila un archivo de java a código máquina (bytecodes)\n",
    "  - Ej. javac ProgramaNotas.java\n",
    "  -     Genera un archivo .class: ProgramaNotas.class\n",
    "  \n",
    "- **java**:\n",
    "  - Ejecuta o interpreta un archivo compilado de java (.class)\n",
    "  - Ej. java ProgramaNotas\n",
    "\n",
    "- **cd**:\n",
    "  - Cambio de directorio o carpeta de trabajo\n",
    "  - Ej. cd c:\\Documentos\\trabajos\\java\\ejemplo-notas"
   ]
  },
  {
   "cell_type": "markdown",
   "metadata": {},
   "source": [
    "## Especificación de una clase\n",
    "- Nombre del archivo debe ser igual al de la clase con las mismas mayúsculas:"
   ]
  },
  {
   "cell_type": "code",
   "execution_count": 2,
   "metadata": {},
   "outputs": [],
   "source": [
    "// Paso 01: Especificación clase ProgramaNotas\n",
    "// Archivo: ProgramaNotas.java\n",
    "\n",
    "public class ProgramaNotas {\n",
    "    \n",
    "}"
   ]
  },
  {
   "cell_type": "code",
   "execution_count": 3,
   "metadata": {},
   "outputs": [],
   "source": [
    "// Paso 02: Definición de la función mostrarMenu\n",
    "public class ProgramaNotas {    \n",
    "    public void mostrarMenu () {\n",
    "        System.out.println (\"-----Opciones-----\");\n",
    "        System.out.println (\"1. Calcular nota final de algebra\");\n",
    "        System.out.println (\"2. Calcular nota final de biologia\");\n",
    "        System.out.println (\"3. Calcular nota final\");\n",
    "        System.out.println (\"0. Salir\"); \n",
    "    }\n",
    "}        "
   ]
  },
  {
   "cell_type": "markdown",
   "metadata": {},
   "source": [
    "### Compilación\n",
    "javac ProgramaNotas.java"
   ]
  },
  {
   "cell_type": "code",
   "execution_count": 12,
   "metadata": {},
   "outputs": [],
   "source": [
    "// Paso03: Crear una clase para usar a ProgramaNotas\n",
    "public class UsoProgramaNotas {    \n",
    "    public static void main (String argumentos[]) {\n",
    "        System.out.println (\"Hola...\");\n",
    "    }    \n",
    "}"
   ]
  },
  {
   "cell_type": "markdown",
   "metadata": {},
   "source": [
    "### Compilación\n",
    "javac UsoProgramaNotas.java\n",
    "\n",
    "### Ejecución o interpretacion del programa\n",
    "java UsoProgramaNotas"
   ]
  },
  {
   "cell_type": "code",
   "execution_count": null,
   "metadata": {},
   "outputs": [],
   "source": [
    "// Paso04: Adicion de un atributo lector para leer numeros\n",
    "//         Adicion de un metodo para leer opciones de tipo entero\n",
    "\n",
    "import java.util.Scanner;  // import clase Scanner desde las librerias de Java\n",
    "\n",
    "public class ProgramaNotas {\n",
    "    // ATRIBUTOS\n",
    "    Scanner lector = new Scanner ();   // Definición y creación de un objeto lector\n",
    "\n",
    "    \n",
    "    // METODOS\n",
    "    // Muestra en pantalla menu de opciones\n",
    "    public void mostrarMenu () {\n",
    "        System.out.println (\"-----Opciones-----\");\n",
    "        System.out.println (\"1. Calcular nota final de algebra\");\n",
    "        System.out.println (\"2. Calcular nota final de biologia\");\n",
    "        System.out.println (\"3. Calcular nota final\");\n",
    "        System.out.println (\"0. Salir\"); \n",
    "    }\n",
    "    \n",
    "    // Lee desde el teclado un valor entero\n",
    "    public int leerOpcion () {\n",
    "        System.out.println (\"Ingrese opción: \");\n",
    "        int opcion = lector.nextInt ();\n",
    "        \n",
    "        return (opcion);        \n",
    "    }\n",
    "}        "
   ]
  },
  {
   "cell_type": "code",
   "execution_count": 14,
   "metadata": {},
   "outputs": [],
   "source": [
    "// Paso 05: Creación de un objeto de la clase ProgramaNotas y \n",
    "//          y llamado del metodo mostrarMenu de ese objeto\n",
    "public class UsoProgramaNotas {    \n",
    "    public static void main (String argumentos[]) {\n",
    "        ProgramaNotas progNotas;          // Declaración de un objeto\n",
    "        \n",
    "        progNotas = new ProgramaNotas (); // Instanciacion del objeto, nacimiento\n",
    "        \n",
    "        progNotas.mostrarMenu ();         // Llamado de la función mostrarMenu del objeto\n",
    "\n",
    "        int opcion = progNotas.leerOpcion(); // Lectura de una opción\n",
    "        \n",
    "        System.out.println (\"Ingresó la opcion \" + opcion)\n",
    "    }    \n",
    "}"
   ]
  }
 ],
 "metadata": {
  "kernelspec": {
   "display_name": "Java",
   "language": "java",
   "name": "java"
  },
  "language_info": {
   "codemirror_mode": "java",
   "file_extension": ".jshell",
   "mimetype": "text/x-java-source",
   "name": "Java",
   "pygments_lexer": "java",
   "version": "16.0.1+9-24"
  }
 },
 "nbformat": 4,
 "nbformat_minor": 4
}
