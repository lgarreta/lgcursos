{
 "cells": [
  {
   "cell_type": "markdown",
   "metadata": {},
   "source": [
    "# Clase Persona\n",
    "\n",
    "## Una persona tiene las siguientes características o atributos\n",
    "- Nombre      : de tipo String (Ej. \"Juan\", \"Maria\")\n",
    "- Edad        : de tipo int    (Ej. 33, 22, 40)\n",
    "- Tipo Sangre : de tipo String (Ej. \"O+\", \"A-\", \"O+\")\n",
    "- Altura      : de tipo float  (Ej 1.85, 1.60, 1.75)\n",
    "\n",
    "## Además una persona puede ejecutar las siguientes funciones o métodos \n",
    "\n",
    "### presentarse ()\n",
    "  - Muestra en pantalla el nombre, edad, tipo de sangre y altura de la persona\n",
    "\n",
    "### correr   (int distancia, int velocidad) :  int\n",
    "  - Retorna el número de calorias gastadas después de correr una distancia a una velocidad     determinada.  \n",
    "\n",
    "### trabajar (horas, costoHora) : float\n",
    "  - Retorna la ganancia obtenida después de trabajar unas horas a un costo determinado"
   ]
  },
  {
   "cell_type": "markdown",
   "metadata": {},
   "source": [
    "## Diagrama de la Clase Persona"
   ]
  },
  {
   "cell_type": "markdown",
   "metadata": {},
   "source": [
    "![Diagrama clase Persona](diagrama-clase-persona.png)"
   ]
  },
  {
   "cell_type": "markdown",
   "metadata": {},
   "source": [
    "## Codigo Java Clase Persona"
   ]
  },
  {
   "cell_type": "code",
   "execution_count": 5,
   "metadata": {},
   "outputs": [],
   "source": [
    "import java.util.Scanner;\n",
    "\n",
    "public class Persona {\n",
    "    // Aquí van los ATRIBUTOS, variables\n",
    "    String nombre;\n",
    "    int edad;\n",
    "    String tipoSangre;\n",
    "    Scanner lector;  // Permite entrada de datos desde el teclado\n",
    "\n",
    "    // Aquí van los CONSTRUCTURES\n",
    "    public Persona () {\n",
    "        nombre     = \"Sin nombre\";\n",
    "        edad       = 0;\n",
    "        tipoSangre = \"No registrada\";\n",
    "        lector     = new Scanner (System.in);\n",
    "    }\n",
    "    \n",
    "    public Persona (String nombrePersona, int edadPersona, String sangrePersona) {\n",
    "        nombre     = nombrePersona;\n",
    "        edad       = edadPersona;\n",
    "        tipoSangre = sangrePersona;\n",
    "        lector     = new Scanner (System.in); \n",
    "    }\n",
    "\n",
    "    // Aqúi van los METODOS, funciones\n",
    "    public void leerDatos () {\n",
    "        System.out.println (\"NOMBRE: \");\n",
    "        nombre = lector.nextLine ();\n",
    "        System.out.println (\"SANGRE: \");\n",
    "        tipoSangre = lector.nextLine (); \n",
    "        System.out.println (\"EDAD: \");\n",
    "        edad = lector.nextInt (); \n",
    "    }\n",
    "\n",
    "    public void presentarse () {\n",
    "        System.out.println (\"\\n\");\n",
    "        System.out.println (\"Mi nombre es: \" + nombre);\n",
    "        System.out.println (\"Mi edad es: \" + edad);\n",
    "        System.out.println (\"Mi tipo sangre es: \" + tipoSangre);\n",
    "    }\n",
    "\n",
    "    public int correr (int distancia, int velocidad) {\n",
    "        int calorias;\n",
    "        calorias = distancia * velocidad / 100;\n",
    "        return (calorias);\n",
    "    }\n",
    "\n",
    "    public float trabajar (int horas, float costo) {\n",
    "        float salario;\n",
    "        salario = horas * costo;\n",
    "        return (salario);\n",
    "    }\n",
    "}"
   ]
  },
  {
   "cell_type": "markdown",
   "metadata": {},
   "source": [
    "## Código Java Programa que usa la clase Persona"
   ]
  },
  {
   "cell_type": "code",
   "execution_count": null,
   "metadata": {},
   "outputs": [],
   "source": [
    "public class UsoPersona {\n",
    "    public static void main (String args []) {\n",
    "        Persona desconocido;\n",
    "        desconocido = new Persona (\"maria\", 33, \"A+\");\n",
    "        desconocido.presentarse ();\n",
    "\n",
    "        Persona jorge = new Persona (\"jorge\", 22, \"O-\");\n",
    "        jorge.presentarse ();\n",
    "\n",
    "        Persona juan = new Persona ();\n",
    "        juan.leerDatos ();\n",
    "        juan.presentarse ();\n",
    "\n",
    "        float ganancia = juan.trabajar (10, 5500);\n",
    "        System.out.println (\"Juan ganó: \" + ganancia);\n",
    "\n",
    "    }\n",
    "}"
   ]
  }
 ],
 "metadata": {
  "kernelspec": {
   "display_name": "Java",
   "language": "java",
   "name": "java"
  },
  "language_info": {
   "codemirror_mode": "java",
   "file_extension": ".jshell",
   "mimetype": "text/x-java-source",
   "name": "Java",
   "pygments_lexer": "java",
   "version": "16.0.1+9-24"
  }
 },
 "nbformat": 4,
 "nbformat_minor": 4
}
