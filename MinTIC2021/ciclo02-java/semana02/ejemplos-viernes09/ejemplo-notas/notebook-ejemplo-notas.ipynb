{
 "cells": [
  {
   "cell_type": "markdown",
   "metadata": {},
   "source": [
    "# Ejemplo : Notas de Estudiantes\n",
    "Se requiere calcular las notas de dos materias: algebra y biologia. Cada materia tiene un porcentaje valor determinado de la nota final. Algebra vale el 70% y Biología el 30%. Lo que se requiere calcular el valor final de cada nota y la nota final que es la suma de las dos notas. Se debe mostrar un menú con las opciones:\n",
    "\n",
    "- (1) Para calcular nota algebra\n",
    "- (2) Para calcular nota biología\n",
    "- (3) Para calcular nota final\n",
    "- (0) Salir\n",
    "\n",
    "Para calcular la nota debe solicitar al estudiante la nota que sacó y el programa debe hacer cálculo con el porcentaje y mostrar ese resultado."
   ]
  },
  {
   "cell_type": "markdown",
   "metadata": {},
   "source": [
    "# Requerimientos funcionales\n",
    "## Explicitos\n",
    "- Calcular nota algebra   \n",
    "- Calcular nota biología    \n",
    "- Calcular nota final\n",
    "- Usar un menú de opciones\n",
    "- Ingresa nota\n",
    "\n",
    "## Implicitos\n",
    "- Mostrar un menú\n",
    "- Leer opción\n",
    "- Leer nota\n"
   ]
  },
  {
   "cell_type": "markdown",
   "metadata": {},
   "source": [
    "## Diagrama clase Notas\n",
    "![UML Notas](diagrama-clase-Nota.png)\n"
   ]
  },
  {
   "cell_type": "markdown",
   "metadata": {},
   "source": [
    "## Codigo java Clase Nota"
   ]
  },
  {
   "cell_type": "code",
   "execution_count": 2,
   "metadata": {},
   "outputs": [],
   "source": [
    "import java.util.Scanner;\n",
    "\n",
    "public class Notas {\n",
    "    int porcentajeAlgebre;\n",
    "    int porcentajeBiologia;\n",
    "    Scanner lector;\n",
    "\n",
    "    public Notas () {\n",
    "        porcentajeAlgebre = 70;\n",
    "        porcentajeBiologia = 30;\n",
    "        lector = new Scanner (System.in);\n",
    "    }\n",
    "\n",
    "    public void mostrarMenu () {\n",
    "        System.out.println (\"---Opciones---\");\n",
    "        System.out.println (\"1. Calcular nota final Algebra\");\n",
    "        System.out.println (\"2. Calcular nota final Biologia\");\n",
    "        System.out.println (\"3. Calcular nota final\");\n",
    "        System.out.println (\"0. Salir\");\n",
    "    }\n",
    "\n",
    "    public int leerOpcion () {\n",
    "        System.out.println (\"Ingrese opcion: \");\n",
    "        int opcion = lector.nextInt ();\n",
    "        return (opcion);\n",
    "    }\n",
    "\n",
    "    public void ejecutarOpcion (int opcion) {\n",
    "        System.out.println (\"La opcion fué: \" + opcion);\n",
    "    }   \n",
    "}"
   ]
  },
  {
   "cell_type": "markdown",
   "metadata": {},
   "source": [
    "## Program prinicpal java que usa a la clase Nota"
   ]
  },
  {
   "cell_type": "code",
   "execution_count": null,
   "metadata": {},
   "outputs": [],
   "source": [
    "public class UsoNotas {\n",
    "    public static void main(String args[]) {\n",
    "        Notas progNotas;\n",
    "        progNotas = new Notas (); \n",
    "\n",
    "        int opcion = 9999;\n",
    "        \n",
    "        while (opcion != 0) {\n",
    "            progNotas.mostrarMenu ();\n",
    "            opcion = progNotas.leerOpcion ();\n",
    "            progNotas.ejecutarOpcion (opcion);\n",
    "        }\n",
    "    }   \n",
    "}"
   ]
  }
 ],
 "metadata": {
  "kernelspec": {
   "display_name": "Java",
   "language": "java",
   "name": "java"
  },
  "language_info": {
   "codemirror_mode": "java",
   "file_extension": ".jshell",
   "mimetype": "text/x-java-source",
   "name": "Java",
   "pygments_lexer": "java",
   "version": "16.0.1+9-24"
  }
 },
 "nbformat": 4,
 "nbformat_minor": 4
}
