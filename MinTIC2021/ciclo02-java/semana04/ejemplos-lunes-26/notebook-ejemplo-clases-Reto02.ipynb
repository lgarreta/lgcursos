{
 "cells": [
  {
   "cell_type": "markdown",
   "metadata": {},
   "source": [
    "# Ejemplo clases involucradas en Reto 02\n",
    "- El controlador contiene a una vista (VistaMenu) y a un modelo (DirectorioDAO)\n",
    "- El DirectorioDAO implementa las funciones definidas en la interface\n",
    "\n",
    "<img src=\"UML-Reto02.png\" width=\"800\">"
   ]
  },
  {
   "cell_type": "code",
   "execution_count": 2,
   "metadata": {},
   "outputs": [],
   "source": [
    "public class Estudiante {\n",
    "    // Atributos\n",
    "    String nombres;\n",
    "    String correoInstitucional;\n",
    "    long numeroCelular;\n",
    "        \n",
    "    // Constructor\n",
    "    public Estudiante () {\n",
    "        this.nombres = \"Sin nombres\";\n",
    "        this.correoInstitucional = \"Sin correo\";\n",
    "        this.numeroCelular = 0;\n",
    "    }\n",
    "    \n",
    "    public Estudiante (String nombres, String correoInst, long nroCelular){\n",
    "        this.nombres = nombres;\n",
    "        this.correoInstitucional = correoInst;\n",
    "        this.numeroCelular = nroCelular;\n",
    "    }\n",
    "    \n",
    "    // Metodos\n",
    "    public void presentarse () {\n",
    "        System.out.println (\"NOMBRES: \" + nombres + \" CORREO: \" + correoInstitucional + \" CELULAR\" + numeroCelular);\n",
    "    }            \n",
    "}"
   ]
  },
  {
   "cell_type": "code",
   "execution_count": 3,
   "metadata": {},
   "outputs": [
    {
     "name": "stdout",
     "output_type": "stream",
     "text": [
      "NOMBRES: Sin nombres CORREO: Sin correo CELULAR0\n",
      "NOMBRES: ana CORREO: a@x CELULAR11\n"
     ]
    }
   ],
   "source": [
    "Estudiante e1 = new Estudiante ();\n",
    "e1.presentarse ();\n",
    "\n",
    "Estudiante e2 = new Estudiante (\"ana\", \"a@x\", 11);\n",
    "e2.presentarse ();"
   ]
  },
  {
   "cell_type": "code",
   "execution_count": 4,
   "metadata": {},
   "outputs": [],
   "source": [
    "import java.util.Scanner;\n",
    "public class VistaMenu {\n",
    "    // Atributos\n",
    "    Scanner lector = new Scanner (System.in);\n",
    "    \n",
    "    // Metodos\n",
    "    public void mostrarMenu () {\n",
    "        System.out.println (\"\");\n",
    "        System.out.println (\"----MENU----\");\n",
    "        System.out.println (\"1. Adicionar\");\n",
    "        System.out.println (\"2. Buscar\");\n",
    "        System.out.println (\"3. Eliminar\");\n",
    "        System.out.println (\"4. Modificar\");\n",
    "        System.out.println (\"5. Ver directorio completo\");\n",
    "        System.out.println (\"6. Salir\");\n",
    "    }\n",
    "    \n",
    "    public int leerOpcion () {\n",
    "        System.out.println (\"Opción:\");\n",
    "        int opcion = lector.nextInt ();\n",
    "        lector.nextLine ();\n",
    "        return (opcion);\n",
    "    }\n",
    "    \n",
    "    public Estudiante leerDatos () {\n",
    "        Estudiante e = new Estudiante ();\n",
    "        \n",
    "        e.nombres             = leerNombres ();\n",
    "        e.correoInstitucional = leerCorreoInstitucional();\n",
    "        e.numeroCelular       = leerNumeroCelular ();\n",
    "        \n",
    "        return (e);\n",
    "    }\n",
    "    \n",
    "    public void mostrarEstudiante (Estudiante e) {\n",
    "        System.out.println (\"NOMBRES: \" + e.nombres);\n",
    "        System.out.println (\"CORREO INST: \" + e.correoInstitucional); \n",
    "        System.out.println (\"CELULAR: \" + e.numeroCelular);        \n",
    "    }\n",
    "    \n",
    "    public String leerNombres () {\n",
    "        System.out.println (\"NOMBRES:\");\n",
    "        String nombres = lector.nextLine ();\n",
    "        return (nombres);\n",
    "    }\n",
    "    public String leerCorreoInstitucional () {\n",
    "        System.out.println (\"CORREO INST:\");\n",
    "        String correoInst = lector.nextLine ();\n",
    "        return (correoInst);        \n",
    "    }\n",
    "    public long leerNumeroCelular () {        \n",
    "        System.out.println (\"CELULAR:\");\n",
    "        long nroCelular = lector.nextLong ();\n",
    "        lector.nextLine ();\n",
    "        return (nroCelular);        \n",
    "    }    \n",
    "}"
   ]
  },
  {
   "cell_type": "code",
   "execution_count": 5,
   "metadata": {},
   "outputs": [
    {
     "name": "stdout",
     "output_type": "stream",
     "text": [
      "NOMBRES:\n",
      "a\n",
      "CORREO INST:\n",
      "aa\n",
      "CELULAR:\n",
      "11\n",
      "NOMBRES: a\n",
      "CORREO INST: aa\n",
      "CELULAR: 11\n"
     ]
    }
   ],
   "source": [
    "VistaMenu miVista = new VistaMenu ();\n",
    "\n",
    "Estudiante x = miVista.leerDatos ();\n",
    "\n",
    "miVista.mostrarEstudiante (x);\n"
   ]
  },
  {
   "cell_type": "code",
   "execution_count": 6,
   "metadata": {},
   "outputs": [
    {
     "name": "stdout",
     "output_type": "stream",
     "text": [
      "Opción:\n",
      "1\n",
      "1\n"
     ]
    }
   ],
   "source": [
    "int op = miVista.leerOpcion ();\n",
    "System.out.println (op);"
   ]
  },
  {
   "cell_type": "code",
   "execution_count": 7,
   "metadata": {},
   "outputs": [
    {
     "name": "stdout",
     "output_type": "stream",
     "text": [
      "NOMBRES:\n",
      "aa\n",
      "CORREO INST:\n",
      "aaa\n",
      "CELULAR:\n",
      "11\n",
      "NOMBRES: aa\n",
      "CORREO INST: aaa\n",
      "CELULAR: 11\n"
     ]
    }
   ],
   "source": [
    "Estudiante e = miVista.leerDatos ();\n",
    "\n",
    "miVista.mostrarEstudiante (e);"
   ]
  },
  {
   "cell_type": "code",
   "execution_count": 8,
   "metadata": {
    "collapsed": true
   },
   "outputs": [
    {
     "ename": "CompilationException",
     "evalue": "",
     "output_type": "error",
     "traceback": [
      "\u001b[1m\u001b[30m|   \u001b[1m\u001b[30m\u001b[0m",
      "\u001b[1m\u001b[30m|   \u001b[1m\u001b[30mpublic class Controlador {\u001b[0m",
      "\u001b[1m\u001b[30m|   \u001b[1m\u001b[30m    // Atributos\u001b[0m",
      "\u001b[1m\u001b[30m|   \u001b[1m\u001b[30m    VistaMenu     miVista = new VistaMenu ();\u001b[0m",
      "\u001b[1m\u001b[30m|   \u001b[1m\u001b[30m    DirectorioDAO miDAO   = new DirectorioDAO ();\u001b[0m",
      "\u001b[1m\u001b[30m|   \u001b[1m\u001b[30m    \u001b[0m",
      "\u001b[1m\u001b[30m|   \u001b[1m\u001b[30m    // Constructor\u001b[0m",
      "\u001b[1m\u001b[30m|   \u001b[1m\u001b[30m    public Controlador () {\u001b[0m",
      "\u001b[1m\u001b[30m|   \u001b[1m\u001b[30m        miDAO.crear ();\u001b[0m",
      "\u001b[1m\u001b[30m|   \u001b[1m\u001b[30m    }\u001b[0m",
      "\u001b[1m\u001b[30m|   \u001b[1m\u001b[30m    \u001b[0m",
      "\u001b[1m\u001b[30m|   \u001b[1m\u001b[30m    // Metodos\u001b[0m",
      "\u001b[1m\u001b[30m|   \u001b[1m\u001b[30m    public void iniciar () {\u001b[0m",
      "\u001b[1m\u001b[30m|   \u001b[1m\u001b[30m        while (true) {\u001b[0m",
      "\u001b[1m\u001b[30m|   \u001b[1m\u001b[30m            miVista.mostrarMenu ();\u001b[0m",
      "\u001b[1m\u001b[30m|   \u001b[1m\u001b[30m            int opcion = miVista.leerOpcion ();\u001b[0m",
      "\u001b[1m\u001b[30m|   \u001b[1m\u001b[30m            \u001b[0m",
      "\u001b[1m\u001b[30m|   \u001b[1m\u001b[30m            switch (opcion) {\u001b[0m",
      "\u001b[1m\u001b[30m|   \u001b[1m\u001b[30m                case 1: adicionar (); break;\u001b[0m",
      "\u001b[1m\u001b[30m|   \u001b[1m\u001b[30m                case 2: buscar (); break;\u001b[0m",
      "\u001b[1m\u001b[30m|   \u001b[1m\u001b[30m                case 3: eliminar (); break;\u001b[0m",
      "\u001b[1m\u001b[30m|   \u001b[1m\u001b[30m                case 4: modificar (); break;\u001b[0m",
      "\u001b[1m\u001b[30m|   \u001b[1m\u001b[30m                case 5: ver (); break;\u001b[0m",
      "\u001b[1m\u001b[30m|   \u001b[1m\u001b[30m                case 6: salir (); break;\u001b[0m",
      "\u001b[1m\u001b[30m|   \u001b[1m\u001b[30m            }  \u001b[0m",
      "\u001b[1m\u001b[30m|   \u001b[1m\u001b[30m        }\u001b[0m",
      "\u001b[1m\u001b[30m|   \u001b[1m\u001b[30m    }\u001b[0m",
      "\u001b[1m\u001b[30m|   \u001b[1m\u001b[30m    // Adiciona estudiante al DAO\u001b[0m",
      "\u001b[1m\u001b[30m|   \u001b[1m\u001b[30m    public void adicionar () {\u001b[0m",
      "\u001b[1m\u001b[30m|   \u001b[1m\u001b[30m        System.out.println (\"Está adicionando...\");\u001b[0m",
      "\u001b[1m\u001b[30m|   \u001b[1m\u001b[30m        Estudiante e = miVista.leerDatos ();\u001b[0m",
      "\u001b[1m\u001b[30m|   \u001b[1m\u001b[30m        miDAO.adicionar (e);                \u001b[0m",
      "\u001b[1m\u001b[30m|   \u001b[1m\u001b[30m    }\u001b[0m",
      "\u001b[1m\u001b[30m|   \u001b[1m\u001b[30m\t// Solicita correo y lo busca en el DAO e imprimer la informacion\u001b[0m",
      "\u001b[1m\u001b[30m|   \u001b[1m\u001b[30m    public void buscar () {\u001b[0m",
      "\u001b[1m\u001b[30m|   \u001b[1m\u001b[30m        System.out.println (\"Está buscando...\");\u001b[0m",
      "\u001b[1m\u001b[30m|   \u001b[1m\u001b[30m\t\tString correo = miVista.leerCorreoInstitucional ();\u001b[0m",
      "\u001b[1m\u001b[30m|   \u001b[1m\u001b[30m\t\tEstudiante e = miDAO.buscar (correo);\u001b[0m",
      "\u001b[1m\u001b[30m|   \u001b[1m\u001b[30m\t\tmiVista.mostrarEstudiante (e);\u001b[0m",
      "\u001b[1m\u001b[30m|   \u001b[1m\u001b[30m    }\u001b[0m",
      "\u001b[1m\u001b[30m|   \u001b[1m\u001b[30m\t// Solicita el correo y le dice al DAO que lo elimine\u001b[0m",
      "\u001b[1m\u001b[30m|   \u001b[1m\u001b[30m    public void eliminar () {\u001b[0m",
      "\u001b[1m\u001b[30m|   \u001b[1m\u001b[30m        System.out.println (\"Está eliminando...\");\u001b[0m",
      "\u001b[1m\u001b[30m|   \u001b[1m\u001b[30m\t\tString correo = miVista.leerCorreoInstitucional ();\u001b[0m",
      "\u001b[1m\u001b[30m|   \u001b[1m\u001b[30m\t\tmiDAO.eliminar (correo);\u001b[0m",
      "\u001b[1m\u001b[30m|   \u001b[1m\u001b[30m    }\u001b[0m",
      "\u001b[1m\u001b[30m|   \u001b[1m\u001b[30m\t// 1. Solita el correo \u001b[0m",
      "\u001b[1m\u001b[30m|   \u001b[1m\u001b[30m\t// 2. Busco el estuddiante en el DAO\u001b[0m",
      "\u001b[1m\u001b[30m|   \u001b[1m\u001b[30m\t// 3. Pedirle los datos a modificar y modificar el estudiante\u001b[0m",
      "\u001b[1m\u001b[30m|   \u001b[1m\u001b[30m\t// 4. Actualiza en el DAO con ese correo y el estudiante modificado\u001b[0m",
      "\u001b[1m\u001b[30m|   \u001b[1m\u001b[30m    public void modificar () {\u001b[0m",
      "\u001b[1m\u001b[30m|   \u001b[1m\u001b[30m        System.out.println (\"Está modificando...\");\u001b[0m",
      "\u001b[1m\u001b[30m|   \u001b[1m\u001b[30m    }\u001b[0m",
      "\u001b[1m\u001b[30m|   \u001b[1m\u001b[30m    public void ver () {\u001b[0m",
      "\u001b[1m\u001b[30m|   \u001b[1m\u001b[30m        System.out.println (\"Está viendo directorio...\");\u001b[0m",
      "\u001b[1m\u001b[30m|   \u001b[1m\u001b[30m\t\tArrayList <Estudiante> miLista = miDAO.obtenerTodos();\u001b[0m",
      "\u001b[1m\u001b[30m|   \u001b[1m\u001b[30m\u001b[0m",
      "\u001b[1m\u001b[30m|   \u001b[1m\u001b[30m\t\tfor (int i=0; i < miLista.size (); i++) {\u001b[0m",
      "\u001b[1m\u001b[30m|   \u001b[1m\u001b[30m\t\t\tEstudiante e = miLista.get (i);\u001b[0m",
      "\u001b[1m\u001b[30m|   \u001b[1m\u001b[30m\t\t\tmiVista.mostrarEstudiante (e);\u001b[0m",
      "\u001b[1m\u001b[30m|   \u001b[1m\u001b[30m\t\t}\u001b[0m",
      "\u001b[1m\u001b[30m|   \u001b[1m\u001b[30m    }\u001b[0m",
      "\u001b[1m\u001b[30m|   \u001b[1m\u001b[30m    public void salir () {\u001b[0m",
      "\u001b[1m\u001b[30m|   \u001b[1m\u001b[30m        System.out.println (\"Hasta pronto\");\u001b[0m",
      "\u001b[1m\u001b[30m|   \u001b[1m\u001b[30m        System.exit (0);\u001b[0m",
      "\u001b[1m\u001b[30m|   \u001b[1m\u001b[30m    }    \u001b[0m",
      "\u001b[1m\u001b[30m|   \u001b[1m\u001b[30m}\u001b[0m",
      "\u001b[1m\u001b[31mUnresolved dependencies:\u001b[0m",
      "\u001b[1m\u001b[31m   - class DirectorioDAO\u001b[0m"
     ]
    }
   ],
   "source": [
    "import java.util.ArrayList;\n",
    "public class Controlador {\n",
    "    // Atributos\n",
    "    VistaMenu     miVista = new VistaMenu ();\n",
    "    DirectorioDAO miDAO   = new DirectorioDAO ();\n",
    "    \n",
    "    // Constructor\n",
    "    public Controlador () {\n",
    "        miDAO.crear ();\n",
    "    }\n",
    "    \n",
    "    // Metodos\n",
    "    public void iniciar () {\n",
    "        while (true) {\n",
    "            miVista.mostrarMenu ();\n",
    "            int opcion = miVista.leerOpcion ();\n",
    "            \n",
    "            switch (opcion) {\n",
    "                case 1: adicionar (); break;\n",
    "                case 2: buscar (); break;\n",
    "                case 3: eliminar (); break;\n",
    "                case 4: modificar (); break;\n",
    "                case 5: ver (); break;\n",
    "                case 6: salir (); break;\n",
    "            }  \n",
    "        }\n",
    "    }\n",
    "    // Adiciona estudiante al DAO\n",
    "    public void adicionar () {\n",
    "        System.out.println (\"Está adicionando...\");\n",
    "        Estudiante e = miVista.leerDatos ();\n",
    "        miDAO.adicionar (e);                \n",
    "    }\n",
    "\t// Solicita correo y lo busca en el DAO e imprimer la informacion\n",
    "    public void buscar () {\n",
    "        System.out.println (\"Está buscando...\");\n",
    "\t\tString correo = miVista.leerCorreoInstitucional ();\n",
    "\t\tEstudiante e = miDAO.buscar (correo);\n",
    "\t\tmiVista.mostrarEstudiante (e);\n",
    "    }\n",
    "\t// Solicita el correo y le dice al DAO que lo elimine\n",
    "    public void eliminar () {\n",
    "        System.out.println (\"Está eliminando...\");\n",
    "\t\tString correo = miVista.leerCorreoInstitucional ();\n",
    "\t\tmiDAO.eliminar (correo);\n",
    "    }\n",
    "\n",
    "    // Algoritmo para Modificar:\n",
    "    // 1. Solita el correo del estudiante a modifica (leerCorreoInstitucional)\n",
    "\t// 2. Obtener al estudiante con este correo dentro del DAO (buscar)\n",
    "\t// 3. Leer los datos a modificar del estudiante y cambiarselos al objeto estudiante\n",
    "    // 4. Actualizar en el DAO con ese correo y el estudiante modificado\n",
    "    public void modificar () {\n",
    "        System.out.println (\"Está modificando...\");\n",
    "    }\n",
    "    public void ver () {\n",
    "        System.out.println (\"Está viendo directorio...\");\n",
    "\t\tArrayList <Estudiante> miLista = miDAO.obtenerTodos();\n",
    "\n",
    "\t\tfor (int i=0; i < miLista.size (); i++) {\n",
    "\t\t\tEstudiante e = miLista.get (i);\n",
    "\t\t\tmiVista.mostrarEstudiante (e);\n",
    "\t\t}\n",
    "    }\n",
    "    public void salir () {\n",
    "        System.out.println (\"Hasta pronto\");\n",
    "        System.exit (0);\n",
    "    }    \n",
    "}"
   ]
  },
  {
   "cell_type": "code",
   "execution_count": 9,
   "metadata": {
    "collapsed": true
   },
   "outputs": [
    {
     "ename": "CompilationException",
     "evalue": "",
     "output_type": "error",
     "traceback": [
      "\u001b[1m\u001b[30m|   \u001b[1m\u001b[30m\u001b[0m\u001b[1m\u001b[30m\u001b[41mControlador\u001b[0m\u001b[1m\u001b[30m ctrl = new Controlador ();\u001b[0m",
      "\u001b[1m\u001b[31mcannot find symbol\u001b[0m",
      "\u001b[1m\u001b[31m  symbol:   class Controlador\u001b[0m",
      "",
      "\u001b[1m\u001b[30m|   \u001b[1m\u001b[30mControlador ctrl = new \u001b[0m\u001b[1m\u001b[30m\u001b[41mControlador\u001b[0m\u001b[1m\u001b[30m ();\u001b[0m",
      "\u001b[1m\u001b[31mcannot find symbol\u001b[0m",
      "\u001b[1m\u001b[31m  symbol:   class Controlador\u001b[0m",
      ""
     ]
    }
   ],
   "source": [
    "Controlador ctrl = new Controlador ();\n",
    "ctrl.iniciar ();"
   ]
  },
  {
   "cell_type": "code",
   "execution_count": 10,
   "metadata": {},
   "outputs": [],
   "source": [
    "public class ProgramaDirectorio {\n",
    "\tpublic static void main (String args []) {\n",
    "\t\tControlador ctrl = new Controlador ();\n",
    "\t\tctrl.iniciar ();\n",
    "\t}\n",
    "}"
   ]
  }
 ],
 "metadata": {
  "kernelspec": {
   "display_name": "Java",
   "language": "java",
   "name": "java"
  },
  "language_info": {
   "codemirror_mode": "java",
   "file_extension": ".jshell",
   "mimetype": "text/x-java-source",
   "name": "Java",
   "pygments_lexer": "java",
   "version": "16.0.1+9-24"
  }
 },
 "nbformat": 4,
 "nbformat_minor": 4
}
