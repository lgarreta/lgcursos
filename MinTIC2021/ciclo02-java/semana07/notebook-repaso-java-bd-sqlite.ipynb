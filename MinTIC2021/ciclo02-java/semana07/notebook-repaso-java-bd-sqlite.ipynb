{
 "cells": [
  {
   "cell_type": "markdown",
   "metadata": {},
   "source": [
    "# Repaso Ejemplos Java SQLite\n",
    "## Abrir una consola\n",
    "\n",
    "## Crear la base de datos\n",
    "- Ejecute el script del archivo ***crear.bat***\n",
    "```\n",
    "  crear.bat\n",
    "```\n",
    "\n",
    "## Probar la base de datos\n",
    "- Ejecutar el manejador ***sqlite3.exe*** con la base de datos creada\n",
    "```\n",
    "sqlite3 bd_estudiantes\n",
    "```\n",
    "- Ver las tablas\n",
    "```\n",
    "sqlite> .tables\n",
    "```\n",
    "- Ejecutar un query general:\n",
    "```\n",
    "sqlite> SELECT * FROM estudiantes;\n",
    "```\n",
    "```\n",
    "sqlite> SELECT nombres,programa FROM estudiantes;\n",
    "```\n"
   ]
  },
  {
   "cell_type": "markdown",
   "metadata": {},
   "source": [
    "## Ejemplo HolaDB en consola\n",
    "- Copiar los archivos:\n",
    "  - HolaDB.java\n",
    "  - sqlite-jdbc-3.7.2.jar\n",
    "\n",
    "- Compilar:\n",
    "```\n",
    "javac *.java\n",
    "```\n",
    "\n",
    "- Ejecutar:\n",
    "```\n",
    "java -classpath .;sqlite-jdbc-3.7.2.jar HolaDB\n",
    "```"
   ]
  },
  {
   "cell_type": "markdown",
   "metadata": {},
   "source": [
    "## Ejemplo HolaDB en netbeans\n",
    "- Copiar la base de datos bd_estudiantes.db en la raíz de la carpeta del proyecto\n",
    "- Adicionar el jdbd de sqlite **sqlite-jdbc-3.7.2.jar** al proyecto en netbeans:\n",
    "  - Van ***libraries***\n",
    "    - Van ***Add Jar/Forlders***\n",
    "      - Buscan el jar en sus archivos y lo adicionan"
   ]
  },
  {
   "cell_type": "markdown",
   "metadata": {},
   "source": [
    "## Ejemplo Estudiantes en Netbeans\n",
    "- Abrir el proyecto **ProgramaDirectorioDB**\n",
    "- Adicionar el JAR del JDBC:\n",
    "  - Lo adiciona en **libraries** --**Add JAR/Forlder**\n",
    "  \n",
    "- Copian la base de datos **bd_estudiantes.db** en la raíz del directorio"
   ]
  },
  {
   "cell_type": "markdown",
   "metadata": {},
   "source": [
    "# Ejemplos de consultas o queries para manejoa de BD"
   ]
  },
  {
   "cell_type": "markdown",
   "metadata": {},
   "source": [
    "## Seleccionar todos los campos de todos los \n",
    "- Utilizarlo en obtener todos del DirectorioDAO\n",
    "```\n",
    "SELECT * FROM estudiantes\n",
    "```"
   ]
  },
  {
   "cell_type": "markdown",
   "metadata": {},
   "source": [
    "## Adicionar estudiante\n",
    "```\n",
    "INSERT INTO estudiantes VALUES ('joana', 'jj', '10-02-80', 'jj', 'pp', 11, 111, 'sociales');\n",
    "```"
   ]
  },
  {
   "cell_type": "markdown",
   "metadata": {},
   "source": [
    "## Búsqueda de un estudiante dado su correo institucional\n",
    "- Se va a realizar la búsqueda sobre el correo 'kk'\n",
    "```\n",
    "SELECT * FROM estudiantes WHERE correoInstitucional=='kk'\n",
    "```\n",
    "- Para el proyecto debe construir la cadena con el correo que llegué como parámetro"
   ]
  },
  {
   "cell_type": "markdown",
   "metadata": {},
   "source": [
    "## Eliminar dado un correo Institucional\n",
    "```\n",
    "DELETE FROM estudiantes WHERE correoInstitucional=='mm'\n",
    "```"
   ]
  },
  {
   "cell_type": "markdown",
   "metadata": {},
   "source": [
    "## Actualizar un elemento\n",
    "```\n",
    "UPDATE estudiantes SET nombres=\"anamaria\" WHERE correoInstitucional=\"aa\"\n",
    "```"
   ]
  },
  {
   "cell_type": "markdown",
   "metadata": {},
   "source": [
    "## Contar cuantos estudiantes en total hay en la tabla \n",
    "```\n",
    "SELECT COUNT(*) FROM estudiantes;\n",
    "```"
   ]
  },
  {
   "cell_type": "markdown",
   "metadata": {},
   "source": [
    "## Dado un programa mostrar los estudiantes de ese programa\n",
    "- Obtiene todos los campos:\n",
    "```\n",
    "SELECT * FROM estudiantes WHERE programa='ingenieria';\n",
    "```\n",
    "- Obtiene solo nombres y apellidos\n",
    "```\n",
    "SELECT nombres,apellidos FROM estudiantes WHERE programa='ingenieria';\n",
    "```"
   ]
  },
  {
   "cell_type": "markdown",
   "metadata": {},
   "source": [
    "## Dado un programa mostrar los estudiantes de ese programa\n",
    "```\n",
    "SELECT count(*) FROM estudiantes WHERE programa='ingenieria'\n",
    "```"
   ]
  },
  {
   "cell_type": "markdown",
   "metadata": {},
   "source": [
    "## Buscar por fecha de nacimiento\n",
    "```\n",
    "SELECT * FROM estudiantes WHERE fechaNacimiento='12-01-90'\n",
    "```"
   ]
  },
  {
   "cell_type": "markdown",
   "metadata": {},
   "source": [
    "## Buscar por número de celular\n",
    "```\n",
    "SELECT nombres, programa FROM estudiantes WHERE numeroCelular=50;\n",
    "```"
   ]
  },
  {
   "cell_type": "markdown",
   "metadata": {},
   "source": [
    "## Formateo de cadenas en Java\n",
    "- Se utiliza para crear cadena de texto que se necesita modificar una parte de la cadena\n",
    "- Se utiliza una cadena de texto con parámetros\n",
    "- Los parametros se especifican con: %s\n",
    "- La función de java es : String.format, así:\n",
    "```\n",
    "String nuevaCadena = String.format (\"CadenaTextoConParamatros\", ListaParametros);\n",
    "```"
   ]
  },
  {
   "cell_type": "markdown",
   "metadata": {},
   "source": [
    "### Ejemplos"
   ]
  },
  {
   "cell_type": "code",
   "execution_count": 4,
   "metadata": {},
   "outputs": [
    {
     "name": "stdout",
     "output_type": "stream",
     "text": [
      "SELECT * FROM estudiantes WHERE correoInstitucional='ana@gmail.com'\n"
     ]
    }
   ],
   "source": [
    "// Se quiere construir la cadena:\n",
    "// SELECT * FROM estudiantes WHERE correoInstitucional=='ana@gmail.com'\n",
    "\n",
    "String correoIns = \"ana@gmail.com\";\n",
    "\n",
    "String consulta = String.format (\"SELECT * FROM estudiantes WHERE correoInstitucional='%s'\", correoIns);\n",
    "\n",
    "System.out.println (consulta);"
   ]
  },
  {
   "cell_type": "code",
   "execution_count": 6,
   "metadata": {},
   "outputs": [
    {
     "name": "stdout",
     "output_type": "stream",
     "text": [
      "SELECT * FROM estudiantes WHERE correoInstitucional='pepe@hotmail.com'\n"
     ]
    }
   ],
   "source": [
    "String correoIns = \"pepe@hotmail.com\";\n",
    "\n",
    "String consulta = String.format (\"SELECT * FROM estudiantes WHERE correoInstitucional='%s'\", correoIns);\n",
    "\n",
    "System.out.println (consulta);"
   ]
  },
  {
   "cell_type": "code",
   "execution_count": 10,
   "metadata": {},
   "outputs": [
    {
     "name": "stdout",
     "output_type": "stream",
     "text": [
      "SELECT * FROM estudiantes WHERE numeroCelular=11\n"
     ]
    }
   ],
   "source": [
    " // Cambia numeroCelular\n",
    "int numero = 11;\n",
    "\n",
    "String consulta = String.format (\"SELECT * FROM estudiantes WHERE numeroCelular=%s\", numero);\n",
    "\n",
    "System.out.println (consulta);\n",
    " "
   ]
  },
  {
   "cell_type": "markdown",
   "metadata": {},
   "source": [
    "## Ejemplo de Formateo de cadenas con los datos de estudiante"
   ]
  },
  {
   "cell_type": "code",
   "execution_count": 15,
   "metadata": {},
   "outputs": [],
   "source": [
    "public class Estudiantes {\n",
    "    // Atributos\n",
    "    String nombres;\n",
    "    String correoInstitucional;\n",
    "    long numeroCelular;\n",
    "        \n",
    "    // Constructor\n",
    "    public Estudiantes () {\n",
    "        this.nombres = \"\";\n",
    "        this.correoInstitucional = \"\";\n",
    "        this.numeroCelular = 0;\n",
    "    }\n",
    "    \n",
    "    public Estudiantes (String nombres, String correoInst, long nroCelular){\n",
    "        this.nombres = nombres;\n",
    "        this.correoInstitucional = correoInst;\n",
    "        this.numeroCelular = nroCelular;\n",
    "    }\n",
    "    \n",
    "    // Metodos\n",
    "    public void presentarse () {\n",
    "        System.out.println (\"NOMBRES: \" + nombres + \" CORREO: \" + correoInstitucional + \" CELULAR\" + numeroCelular);\n",
    "    }            \n",
    "}\n"
   ]
  },
  {
   "cell_type": "code",
   "execution_count": 23,
   "metadata": {},
   "outputs": [
    {
     "name": "stdout",
     "output_type": "stream",
     "text": [
      "NOMBRES: joana CORREO: jj CELULAR11\n"
     ]
    }
   ],
   "source": [
    "Estudiantes e = new Estudiantes (\"joana\", \"jj\", 11);\n",
    "e.presentarse ();"
   ]
  },
  {
   "cell_type": "code",
   "execution_count": 26,
   "metadata": {},
   "outputs": [
    {
     "name": "stdout",
     "output_type": "stream",
     "text": [
      "INSERT INTO estudiantes VALUES ('joana', 'jj', 11)\n"
     ]
    }
   ],
   "source": [
    "// Cadena para insertar en SQL\n",
    "String consulta = String.format (\"INSERT INTO estudiantes VALUES ('%s', '%s', %s)\", e.nombres, e.correoInstitucional, e.numeroCelular);\n",
    "System.out.println (consulta);"
   ]
  }
 ],
 "metadata": {
  "kernelspec": {
   "display_name": "Java",
   "language": "java",
   "name": "java"
  },
  "language_info": {
   "codemirror_mode": "java",
   "file_extension": ".jshell",
   "mimetype": "text/x-java-source",
   "name": "Java",
   "pygments_lexer": "java",
   "version": "16.0.1+9-24"
  }
 },
 "nbformat": 4,
 "nbformat_minor": 4
}
