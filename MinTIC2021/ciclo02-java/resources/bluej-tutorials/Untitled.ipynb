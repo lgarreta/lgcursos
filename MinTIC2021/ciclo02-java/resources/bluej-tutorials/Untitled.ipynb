{
 "cells": [
  {
   "cell_type": "markdown",
   "metadata": {},
   "source": [
    "# Metodología\n",
    "- Enfoque orientado/basado proyectos (retos)\n",
    "- Se trabaja el reto desde el inicio de la semana\n",
    "- El reto se entrega el viernes de la misma semana (***)\n",
    "- El lunes después se realiza una **retroalimentación**\n",
    "- Control de asistencia\n",
    "- Clases de reposición de común acuerdo (si no se dan algún día)\n",
    "\n",
    "# Herramientas\n",
    "- Entorno de desarrollo Programación Java: Netbeans\n",
    "    https://netbeans.apache.org/download/nb120/nb120.html\n",
    "    \n",
    "- Entorno de diseño diagrams UML: violet UML\n",
    "    https://sourceforge.net/projects/violet/\n"
   ]
  }
 ],
 "metadata": {
  "kernelspec": {
   "display_name": "Python 3",
   "language": "python",
   "name": "python3"
  },
  "language_info": {
   "codemirror_mode": {
    "name": "ipython",
    "version": 3
   },
   "file_extension": ".py",
   "mimetype": "text/x-python",
   "name": "python",
   "nbconvert_exporter": "python",
   "pygments_lexer": "ipython3",
   "version": "3.8.5"
  }
 },
 "nbformat": 4,
 "nbformat_minor": 4
}
