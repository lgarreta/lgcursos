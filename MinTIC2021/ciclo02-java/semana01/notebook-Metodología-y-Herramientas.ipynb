{
 "cells": [
  {
   "cell_type": "markdown",
   "metadata": {},
   "source": [
    "# Metodología:\n",
    "- Aprendizaje basado en resolución de casos (retos):\n",
    "  - Al principio de cada semana el estudiante **debe** conocer de que trata el reto (ha leído el reto)\n",
    "  - En las reuniones se buscará orientar los temas hacia los conceptos involucrados en el reto.\n",
    "  - Fecha de entrega de los retos será hasta el viernes de la misma semana.\n",
    "- Asistencias, más controladas."
   ]
  },
  {
   "cell_type": "markdown",
   "metadata": {},
   "source": [
    "# Herramientas:\n",
    "- Inicialmente vamos a trabajar un entorno básico donde el estudiante edite los programas y los compile desde la línea de comandos.\n",
    "- Para esto, las herramientas a instalar y usar serán las siguientes:\n",
    "\n",
    "  1) Compilador de java Oracle Java SE 16: https://www.oracle.com/java/technologies/javase-downloads.html\n",
    "\n",
    "  2) Editor de código Visual Studio Code (stable): https://code.visualstudio.com/download\n",
    "  \n",
    "  3) Editor de diagrama UML: violetUML: https://sourceforge.net/projects/violet/"
   ]
  }
 ],
 "metadata": {
  "kernelspec": {
   "display_name": "Python 3",
   "language": "python",
   "name": "python3"
  },
  "language_info": {
   "codemirror_mode": {
    "name": "ipython",
    "version": 3
   },
   "file_extension": ".py",
   "mimetype": "text/x-python",
   "name": "python",
   "nbconvert_exporter": "python",
   "pygments_lexer": "ipython3",
   "version": "3.8.5"
  }
 },
 "nbformat": 4,
 "nbformat_minor": 4
}
