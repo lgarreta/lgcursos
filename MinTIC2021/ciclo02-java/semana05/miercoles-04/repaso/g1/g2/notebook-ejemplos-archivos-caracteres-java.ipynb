{
 "cells": [
  {
   "cell_type": "markdown",
   "metadata": {},
   "source": [
    "# Ejemplo de entrada/salida archivos de caracteres en JAVA\n",
    "Clases principales:\n",
    "- FileReader: leer desde archivos\n",
    "- FileWriter: Escribir en archivos:\n",
    "  - FileWriter (nombreArchivo) : Para adicionar data a un archivo **nuevo**\n",
    "  - FileWriter (nombreArchivo, true) : Para adicioanr datos a un archivo existente\n",
    "\n",
    "- PrintWriter: Escribir texto con formato (Saltos de línea)\n",
    "- BufferedReader : Leer texto con formato (Saltos de línea)\n",
    " \n",
    "Combinación:\n",
    "- **PrintWriter** utiliza un FileWrite : Escribe texto con formato en archivos\n",
    "  - **println (String)**: método para escribir el texto en un dispositivo (ej. archivo, nube, teclado, ...)\n",
    "  \n",
    "- **BufferedReader** utiliza un FileReader : Lee texto desde archivos con formato\n",
    "  - **readLine (): String** : método para leer un texto desde un dispositivo (ej. archivo, nube, teclado, ...)"
   ]
  },
  {
   "cell_type": "code",
   "execution_count": 14,
   "metadata": {},
   "outputs": [],
   "source": [
    "// ESCRIBIR:\n",
    "// Crear un flujo de salida/escritura de texto con formato hacia archivos\n",
    "String nombre = \"ana\";\n",
    "String correo = \"a@a\";\n",
    "long   numero = 11;\n",
    "// Abrir:\n",
    "FileWriter fw = new FileWriter (\"ej1.txt\");\n",
    "PrintWriter pw = new PrintWriter (fw);\n",
    "// Escribir:\n",
    "pw.println (nombre);\n",
    "pw.println (correo);\n",
    "pw.println (numero);\n",
    "// Cerrar:\n",
    "pw.close ();"
   ]
  },
  {
   "cell_type": "code",
   "execution_count": 15,
   "metadata": {},
   "outputs": [
    {
     "name": "stdout",
     "output_type": "stream",
     "text": [
      "null,null, 0\n",
      "ana, a@a, 11\n"
     ]
    }
   ],
   "source": [
    "// LEER:\n",
    "// Leer texto con formato desde un archivo\n",
    "String nombre;\n",
    "String correo;\n",
    "long   numero;\n",
    "System.out.println (nombre + \",\" + correo + \", \" + numero);\n",
    "\n",
    "// Abrir\n",
    "FileReader fr = new FileReader (\"ej1.txt\");\n",
    "BufferedReader br = new BufferedReader (fr);\n",
    "\n",
    "// Leer:\n",
    "nombre = br.readLine ();\n",
    "correo = br.readLine ();\n",
    "numero = new Long (br.readLine());\n",
    "System.out.println (nombre + \", \" + correo + \", \" + numero);\n",
    "\n",
    "// Cerrar:\n",
    "br.close ()"
   ]
  },
  {
   "cell_type": "markdown",
   "metadata": {},
   "source": [
    "## Escritura de los atributos de un objeto Estudiante a un archivo fijo\n",
    "- El nombre del archivo está dentro del método\n",
    "- Posibles problemas que siempre escribe en un nuevo archivo y borra el anterior"
   ]
  },
  {
   "cell_type": "code",
   "execution_count": 37,
   "metadata": {},
   "outputs": [],
   "source": [
    "public class Estudiante {\n",
    "    // Atributos\n",
    "    String nombres;\n",
    "    String correoInstitucional;\n",
    "    long numeroCelular;\n",
    "        \n",
    "    // Constructor\n",
    "    public Estudiante () {\n",
    "        this.nombres = \"Sin nombres\";\n",
    "        this.correoInstitucional = \"Sin correo\";\n",
    "        this.numeroCelular = 0;\n",
    "    }\n",
    "    \n",
    "    public Estudiante (String nombres, String correoInst, long nroCelular){\n",
    "        this.nombres = nombres;\n",
    "        this.correoInstitucional = correoInst;\n",
    "        this.numeroCelular = nroCelular;\n",
    "    }\n",
    "    \n",
    "    // Metodos\n",
    "    public void presentarse () {\n",
    "        System.out.println (\"NOMBRES: \" + nombres + \" CORREO: \" + correoInstitucional + \" CELULAR: \" + numeroCelular);\n",
    "    }\n",
    "    \n",
    "    public void guardarse () {\n",
    "        try {\n",
    "        FileWriter fw = new FileWriter (\"ej2.txt\", true);\n",
    "        PrintWriter pw = new PrintWriter (fw);\n",
    "        // Escribir:\n",
    "        pw.println (nombres);\n",
    "        pw.println (correoInstitucional);\n",
    "        pw.println (numeroCelular);\n",
    "        \n",
    "        pw.close ();\n",
    "            \n",
    "        }catch (IOException ex) {\n",
    "            System.out.println (\"Error en tipos de datos\");\n",
    "        }\n",
    "    }\n",
    "    \n",
    "    public void recuperarse () {\n",
    "        try {\n",
    "        FileReader fr = new FileReader (\"ej2.txt\");\n",
    "        BufferedReader br = new BufferedReader (fr);\n",
    "        \n",
    "        nombres = br.readLine ();\n",
    "        correoInstitucional = br.readLine ();\n",
    "        numeroCelular = new Long (br.readLine());\n",
    "        \n",
    "        fr.close ();\n",
    "            \n",
    "        }catch (FileNotFoundException ex) {\n",
    "            System.out.println (\"Archivo no encontrado.\");\n",
    "        }catch (IOException ex) {\n",
    "            System.out.println (\"Error en lectura de tipos.\");\n",
    "        }\n",
    "    }\n",
    "}"
   ]
  },
  {
   "cell_type": "code",
   "execution_count": 39,
   "metadata": {},
   "outputs": [
    {
     "name": "stdout",
     "output_type": "stream",
     "text": [
      "NOMBRES: ana CORREO: aa CELULAR: 11\n"
     ]
    }
   ],
   "source": [
    "Estudiante e1 = new Estudiante (\"ana\",\"aa\", 11);\n",
    "e1.presentarse ();\n",
    "e1.guardarse ();"
   ]
  },
  {
   "cell_type": "code",
   "execution_count": 40,
   "metadata": {},
   "outputs": [
    {
     "name": "stdout",
     "output_type": "stream",
     "text": [
      "NOMBRES: maria CORREO: bb CELULAR: 22\n"
     ]
    }
   ],
   "source": [
    "Estudiante e2 = new Estudiante (\"maria\",\"bb\", 22);\n",
    "e2.presentarse ();\n",
    "e2.guardarse ();"
   ]
  },
  {
   "cell_type": "code",
   "execution_count": 41,
   "metadata": {},
   "outputs": [
    {
     "name": "stdout",
     "output_type": "stream",
     "text": [
      "NOMBRES: ana CORREO: aa CELULAR: 11\n"
     ]
    }
   ],
   "source": [
    "Estudiante e3 = new Estudiante ();\n",
    "e3.recuperarse ();\n",
    "e3.presentarse ();"
   ]
  },
  {
   "cell_type": "markdown",
   "metadata": {},
   "source": [
    "## Ejemplo escritura/lectura de datos de Estudiante con archivo externo\n",
    "- El flujo o archivo se envía como parámetro y se escribe o lee desde allí\n",
    "- El que crea el flujo es el que llama a Estudiante (ef. Controlador)"
   ]
  },
  {
   "cell_type": "code",
   "execution_count": 49,
   "metadata": {},
   "outputs": [],
   "source": [
    "public class Estudiante {\n",
    "    // Atributos\n",
    "    String nombres;\n",
    "    String correoInstitucional;\n",
    "    long numeroCelular;\n",
    "        \n",
    "    // Constructor\n",
    "    public Estudiante () {\n",
    "        this.nombres = \"Sin nombres\";\n",
    "        this.correoInstitucional = \"Sin correo\";\n",
    "        this.numeroCelular = 0;\n",
    "    }\n",
    "    \n",
    "    public Estudiante (String nombres, String correoInst, long nroCelular){\n",
    "        this.nombres = nombres;\n",
    "        this.correoInstitucional = correoInst;\n",
    "        this.numeroCelular = nroCelular;\n",
    "    }\n",
    "    \n",
    "    // Metodos\n",
    "    public void presentarse () {\n",
    "        System.out.println (\"NOMBRES: \" + nombres + \" CORREO: \" + correoInstitucional + \" CELULAR: \" + numeroCelular);\n",
    "    }\n",
    "    \n",
    "    public void guardarse (PrintWriter pw) {\n",
    "\n",
    "        // Escribir:\n",
    "        pw.println (nombres);\n",
    "        pw.println (correoInstitucional);\n",
    "        pw.println (numeroCelular);\n",
    "\n",
    "    }\n",
    "    \n",
    "    public void recuperarse (BufferedReader br) {\n",
    "        try {\n",
    "        \n",
    "        nombres = br.readLine ();\n",
    "        correoInstitucional = br.readLine ();\n",
    "        numeroCelular = new Long (br.readLine());\n",
    "            \n",
    "        }catch (IOException ex) {\n",
    "            System.out.println (\"Archivo no encontrado.\");\n",
    "        }\n",
    "    }\n",
    "}"
   ]
  },
  {
   "cell_type": "code",
   "execution_count": 52,
   "metadata": {},
   "outputs": [],
   "source": [
    "// Controlador que llama estudiante\n",
    "Estudiante e1 = new Estudiante (\"ana\",\"aa\", 11);\n",
    "Estudiante e2 = new Estudiante (\"beto\",\"bb\", 22);\n",
    "Estudiante e3 = new Estudiante (\"carla\",\"cc\", 33);\n",
    "\n",
    "// Construimo un unico flujo para los tres estudiantes\n",
    "FileWriter fw = new FileWriter (\"estudiantes.txt\");\n",
    "PrintWriter pw = new PrintWriter (fw);\n",
    "\n",
    "e1.guardarse (pw);\n",
    "e2.guardarse (pw);\n",
    "e3.guardarse (pw);\n",
    "\n",
    "pw.close ();"
   ]
  },
  {
   "cell_type": "code",
   "execution_count": 60,
   "metadata": {},
   "outputs": [
    {
     "name": "stdout",
     "output_type": "stream",
     "text": [
      "NOMBRES: ana CORREO: aa CELULAR: 11\n",
      "NOMBRES: beto CORREO: bb CELULAR: 22\n",
      "NOMBRES: carla CORREO: cc CELULAR: 33\n",
      "Fin de archivo.\n"
     ]
    }
   ],
   "source": [
    "// Leer tres estudiante de un mismo flujo o archivo\n",
    " \n",
    "\n",
    "try {\n",
    "    Estudiante x1 = new Estudiante ();\n",
    "    x1.recuperarse (br);\n",
    "    x1.presentarse ();\n",
    "\n",
    "    Estudiante x2 = new Estudiante ();\n",
    "    x2.recuperarse (br);\n",
    "    x2.presentarse ();\n",
    "\n",
    "    Estudiante x3 = new Estudiante ();\n",
    "    x3.recuperarse (br);\n",
    "    x3.presentarse ();\n",
    "\n",
    "    Estudiante x4 = new Estudiante ();\n",
    "    x4.recuperarse (br);\n",
    "    x4.presentarse ();\n",
    "}catch (NumberFormatException ex) {\n",
    "    System.out.println (\"Fin de archivo.\");\n",
    "}\n",
    "\n",
    "br.close();"
   ]
  },
  {
   "cell_type": "markdown",
   "metadata": {},
   "source": [
    "# Manejo de Archivos con el DAO\n",
    "- Primera opción: Dejar el DAO igual y que el controlador maneje los archivos\n",
    "    - Cuando arranca el programa entonces carga el archivo y llena el DAO con los estudiantes del archivo\n",
    "    - Cuando termina el programa entonces recupera los estudiantes del DAO y llena el archivo con esos estudiantes.\n",
    "    \n",
    "- Segunad opción: Modificar el DAO para que cada que haga una operación escriba TODA la lista al archivo\n",
    "  - Si Adiciona al DAO entonces recorre toda la lista y la guarda en el archivo.\n",
    "  - Si Modifica al DAO entonces recorre toda la lista y la guarda en el archivo.\n",
    "  - Si Elimina al DAO entonces recorre toda la lista y la guarda en el archivo."
   ]
  },
  {
   "cell_type": "markdown",
   "metadata": {},
   "source": [
    "## Primera opción: Dejar el DAO quieto y responsabilizar al controlador del manejo de archivos "
   ]
  },
  {
   "cell_type": "code",
   "execution_count": 65,
   "metadata": {},
   "outputs": [],
   "source": [
    "import java.util.ArrayList;\n",
    "\n",
    "public interface DirectorioDAOInterface {\n",
    "    public void crear ();\n",
    "    public void adicionar (Estudiante e);\n",
    "    public Estudiante buscar (String correoInst);\n",
    "    public void actualizar (String correoInst, Estudiante nuevo);\n",
    "    public void eliminar (String correoInst);\n",
    "    public ArrayList<Estudiante> obtenerTodos ();\n",
    "}\n",
    "\n",
    "import java.util.ArrayList;\n",
    "\n",
    "public class DirectorioDAO implements DirectorioDAOInterface {\n",
    "    // Atributos\n",
    "    ArrayList <Estudiante> listaEstudiantes;\n",
    "    \n",
    "    // Metodos\n",
    "    public void crear () {\n",
    "        // Inicializa el DAO creando la lista;\n",
    "        listaEstudiantes = new ArrayList<Estudiante> ();\n",
    "    }\n",
    "    \n",
    "    public void adicionar (Estudiante e) {\n",
    "        // Adiciona el estudiante \"e\" al DAO, es decir a la lista\n",
    "        listaEstudiantes.add (e);\n",
    "    }\n",
    "    \n",
    "    public Estudiante buscar (String correoInst) {\n",
    "        // Busca en el DAO el estudiante que tenga el correo igual a \"correoInst\"\n",
    "        System.out.println (\"Buscando en el DAO\");\n",
    "        for (int i=0; i < listaEstudiantes.size (); i++) {\n",
    "            Estudiante e = listaEstudiantes.get (i);\n",
    "            if (correoInst.equals (e.correoInstitucional))\n",
    "                return (e);\n",
    "        }\n",
    "        return (null);\n",
    "    }\n",
    "    \n",
    "    public void actualizar (String correoInst, Estudiante nuevo) {\n",
    "        // Buscae en el DAO el estudiante que tenga el correo igual al \"correoInst\" \n",
    "        // y lo cambia por el \"nuevo\" que llega\n",
    "        System.out.println (\"Actualizando DAO con nuevo estudiante...\");\n",
    "    }\n",
    "    public void eliminar (String correoInst){\n",
    "        // Elimina al estudiante del DAO que tenga correo igual al que ingresa\n",
    "        System.out.println (\"Eliminando estudiante del DAO...\");\n",
    "    }\n",
    "    public ArrayList<Estudiante> obtenerTodos (){\n",
    "        // Retorna una lista con todos los estudiantes\n",
    "        return (listaEstudiantes);\n",
    "    }\n",
    "    \n",
    "}"
   ]
  },
  {
   "cell_type": "code",
   "execution_count": 67,
   "metadata": {},
   "outputs": [
    {
     "name": "stdout",
     "output_type": "stream",
     "text": [
      "NOMBRES: ana CORREO: aa CELULAR: 11\n",
      "NOMBRES: beto CORREO: bb CELULAR: 22\n",
      "NOMBRES: carla CORREO: cc CELULAR: 33\n"
     ]
    }
   ],
   "source": []
  },
  {
   "cell_type": "code",
   "execution_count": 82,
   "metadata": {},
   "outputs": [
    {
     "name": "stdout",
     "output_type": "stream",
     "text": [
      "Fin de lecutura\n",
      "NOMBRES: ana CORREO: aa CELULAR: 11\n",
      "NOMBRES: beto CORREO: bb CELULAR: 22\n",
      "NOMBRES: carla CORREO: cc CELULAR: 33\n",
      "NOMBRES: aaaana CORREO: aa CELULAR: 11\n",
      "NOMBRES: bbbbeto CORREO: bb CELULAR: 22\n",
      "NOMBRES: ccccarla CORREO: cc CELULAR: 33\n"
     ]
    }
   ],
   "source": [
    "// Inicia la aplicación\n",
    "// Recuperar DAO\n",
    "DirectorioDAO miDAO = new DirectorioDAO ();\n",
    "miDAO.crear ();\n",
    "\n",
    "try {\n",
    "    \n",
    "    FileReader fr = new FileReader (\"estudiantesDAO.txt\");\n",
    "    BufferedReader br = new BufferedReader (fr);\n",
    "    \n",
    "    while (true) {\n",
    "        Estudiante e = new Estudiante ();\n",
    "        e.recuperarse (br);\n",
    "\n",
    "        miDAO.adicionar (e);    \n",
    "    }    \n",
    "    \n",
    "}catch (FileNotFoundException ex) {\n",
    "    System.out.println (\"Archivo no existe. Maneje Menu.\");\n",
    "}catch (Exception ex) {\n",
    "    System.out.println (\"Fin de lectura\");\n",
    "}\n",
    "br.close ();\n",
    "\n",
    "// Opcion 1\n",
    "Estudiante e1 = new Estudiante (\"aaaana\",\"aa\", 11);\n",
    "miDAO.adicionar (e1);\n",
    "\n",
    "Estudiante e2 = new Estudiante (\"bbbbeto\",\"bb\", 22);\n",
    "miDAO.adicionar (e2);\n",
    "\n",
    "Estudiante e3 = new Estudiante (\"ccccarla\",\"cc\", 33);\n",
    "miDAO.adicionar (e3);\n",
    "\n",
    "\n",
    "// Ver\n",
    "ArrayList <Estudiante> listaEstudiantes = miDAO.obtenerTodos ();\n",
    "for (int i=0; i < listaEstudiantes.size(); i++) {\n",
    "    Estudiante e = listaEstudiantes.get (i);\n",
    "    e.presentarse ();\n",
    "}\n"
   ]
  },
  {
   "cell_type": "code",
   "execution_count": 83,
   "metadata": {},
   "outputs": [
    {
     "name": "stdout",
     "output_type": "stream",
     "text": [
      "NOMBRES: ana CORREO: aa CELULAR: 11\n",
      "NOMBRES: beto CORREO: bb CELULAR: 22\n",
      "NOMBRES: carla CORREO: cc CELULAR: 33\n",
      "NOMBRES: aaaana CORREO: aa CELULAR: 11\n",
      "NOMBRES: bbbbeto CORREO: bb CELULAR: 22\n",
      "NOMBRES: ccccarla CORREO: cc CELULAR: 33\n"
     ]
    }
   ],
   "source": [
    "// Fin de la aplicación : opcion 5\n",
    "// Controlador\n",
    "\n",
    "// Ver\n",
    "ArrayList <Estudiante> listaEstudiantes = miDAO.obtenerTodos ();\n",
    "for (int i=0; i < listaEstudiantes.size(); i++) {\n",
    "    Estudiante e = listaEstudiantes.get (i);\n",
    "    e.presentarse ();\n",
    "}\n",
    "\n",
    "// Opcion 6:\n",
    "// Desde AQUI\n",
    "// Guardar DAO\n",
    "FileWriter fw = new FileWriter (\"estudiantesDAO.txt\");\n",
    "PrintWriter pw = new PrintWriter (fw);\n",
    "\n",
    "for (int i=0; i < listaEstudiantes.size(); i++) {\n",
    "    Estudiante e = listaEstudiantes.get (i);\n",
    "    e.guardarse (pw);\n",
    "}\n",
    "pw.close ();"
   ]
  }
 ],
 "metadata": {
  "kernelspec": {
   "display_name": "Java",
   "language": "java",
   "name": "java"
  },
  "language_info": {
   "codemirror_mode": "java",
   "file_extension": ".jshell",
   "mimetype": "text/x-java-source",
   "name": "Java",
   "pygments_lexer": "java",
   "version": "16.0.1+9-24"
  }
 },
 "nbformat": 4,
 "nbformat_minor": 4
}
