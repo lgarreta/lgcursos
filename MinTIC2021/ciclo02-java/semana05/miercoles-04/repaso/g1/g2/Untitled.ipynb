{
 "cells": [
  {
   "cell_type": "markdown",
   "metadata": {},
   "source": [
    "# Ejemplos Archivos (Segunda Parte)\n",
    "- Repaso programa ejemplo\n",
    "- Adición metodos guardarse/recuperarse en Estudiante\n",
    "- Adición de leer al inicio archivo y escribir al final\n",
    "  - Chequear si existe el archivo con File.exists\n",
    "  "
   ]
  }
 ],
 "metadata": {
  "kernelspec": {
   "display_name": "Java",
   "language": "java",
   "name": "java"
  },
  "language_info": {
   "codemirror_mode": "java",
   "file_extension": ".jshell",
   "mimetype": "text/x-java-source",
   "name": "Java",
   "pygments_lexer": "java",
   "version": "16.0.1+9-24"
  }
 },
 "nbformat": 4,
 "nbformat_minor": 4
}
