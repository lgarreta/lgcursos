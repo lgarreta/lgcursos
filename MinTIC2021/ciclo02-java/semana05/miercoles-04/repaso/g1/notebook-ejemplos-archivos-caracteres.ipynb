{
 "cells": [
  {
   "cell_type": "markdown",
   "metadata": {},
   "source": [
    "# Ejemplos de manejo de streams o flujos de caracteres en Java\n",
    "<img src=\"java-io-files.png\" width=\"800\">"
   ]
  },
  {
   "cell_type": "markdown",
   "metadata": {},
   "source": [
    "# Streams de Lectura/Escritura de caracteres\n",
    "- **FileWriter** : Perimite escribir caracteres a un archivo\n",
    "- **FileReader** : Permite leer caracteres desde un archivo\n",
    "  \n",
    "- **PrintWriter**    : Permite escribir cadenas de texto con formato (salto de linea)\n",
    "- **BufferedReader** : Permite leer cadenas de texto con formato (saltos de línea)\n",
    "\n",
    "<img src=\"img-java-reader-writer.jpg\" width=400>"
   ]
  },
  {
   "cell_type": "markdown",
   "metadata": {},
   "source": [
    "## Ejemplos de escritura/Lectura"
   ]
  },
  {
   "cell_type": "markdown",
   "metadata": {},
   "source": [
    "### Archivo de texto con formato (saltos de línea)"
   ]
  },
  {
   "cell_type": "code",
   "execution_count": 3,
   "metadata": {},
   "outputs": [],
   "source": [
    "// Escritura atributos linea por linea\n",
    "String nombre = \"ana\";\n",
    "String correo = \"a@a\";\n",
    "long   numero = 11;"
   ]
  },
  {
   "cell_type": "markdown",
   "metadata": {},
   "source": [
    "### Archivo de texto sin formato:"
   ]
  },
  {
   "cell_type": "code",
   "execution_count": 6,
   "metadata": {},
   "outputs": [],
   "source": [
    "// Escritura atributos linea por linea\\nString nombre = \"ana\";\\nString correo = \"a@a\";\\nlong   numero = 11;"
   ]
  },
  {
   "cell_type": "code",
   "execution_count": 8,
   "metadata": {},
   "outputs": [],
   "source": [
    "// Escritura texto linea por linea para un nuevo archivo\n",
    "// Crea un nuevo archivo\n",
    "String nombre = \"ana\";\n",
    "String correo = \"a@a\";\n",
    "long   numero = 11;\n",
    "\n",
    "// Abrir\n",
    "FileWriter fw  = new FileWriter (\"archivo-ej1.txt\");\n",
    "PrintWriter pw = new PrintWriter (fw);\n",
    "// Escribir\n",
    "pw.println (nombre);\n",
    "pw.println (correo);\n",
    "pw.println (numero);\n",
    "// Cerrar\n",
    "pw.close ();"
   ]
  },
  {
   "cell_type": "code",
   "execution_count": 11,
   "metadata": {},
   "outputs": [
    {
     "name": "stdout",
     "output_type": "stream",
     "text": [
      "ana, a@a, 11\n"
     ]
    }
   ],
   "source": [
    "// Lectura de texto linea por linea\n",
    "String nombre;\n",
    "String correo;\n",
    "long   numero;\n",
    "\n",
    "// Abrir\n",
    "FileReader fr  = new FileReader (\"archivo-ej1.txt\");\n",
    "BufferedReader br = new BufferedReader (fr);\n",
    "// Leer\n",
    "nombre = br.readLine();\n",
    "correo = br.readLine();\n",
    "numero = new Long (br.readLine());\n",
    "// Cerrar\n",
    "br.close();\n",
    "\n",
    "System.out.println (nombre + \", \" + correo + \", \" + numero);"
   ]
  },
  {
   "cell_type": "code",
   "execution_count": 30,
   "metadata": {},
   "outputs": [],
   "source": [
    "// Escritura texto linea por linea para  archivo existente\n",
    "// Addiciona a un archivo existente\n",
    "String nombre = \"beto\";\n",
    "String correo = \"b@b\";\n",
    "long   numero = 22;\n",
    "\n",
    "// Abrir para adicionar con el parámetro \"true\"\n",
    "FileWriter fw  = new FileWriter (\"archivo-ej1.txt\", true);\n",
    "PrintWriter pw = new PrintWriter (fw);\n",
    "// Escribir\n",
    "pw.println (nombre);\n",
    "pw.println (correo);\n",
    "pw.println (numero);\n",
    "// Cerrar\n",
    "pw.close ();"
   ]
  },
  {
   "cell_type": "markdown",
   "metadata": {},
   "source": [
    "## Ejemplos de Búsqueda en un archivo de texto"
   ]
  },
  {
   "cell_type": "markdown",
   "metadata": {},
   "source": [
    "### Opcion1: Verificar con if dentro del ciclo"
   ]
  },
  {
   "cell_type": "code",
   "execution_count": 28,
   "metadata": {},
   "outputs": [
    {
     "name": "stdout",
     "output_type": "stream",
     "text": [
      "No encontrado!\n"
     ]
    }
   ],
   "source": [
    "// Lectura y busqueda si existe el correo \"b@b\"\n",
    "// Verifica fin del archivo con un if\n",
    "FileReader fr  = new FileReader (\"archivo-ej1.txt\");\n",
    "BufferedReader br = new BufferedReader (fr);\n",
    "\n",
    "String linea;\n",
    "do {\n",
    "        linea = br.readLine ();\n",
    "        if (linea==null) {\n",
    "            System.out.println (\"No encontrado!\");\n",
    "            break;\n",
    "        }\n",
    "\n",
    "        if (linea.equals (\"c@c\")) {\n",
    "            System.out.println (\"Lo encontre!\");\n",
    "            break;\n",
    "        }\n",
    "\n",
    "}while (linea!=null); \n",
    "    \n",
    "\n",
    "br.close(); \n"
   ]
  },
  {
   "cell_type": "markdown",
   "metadata": {},
   "source": [
    "### Opcion2: Verificar con excepcion fuera del ciclo"
   ]
  },
  {
   "cell_type": "code",
   "execution_count": 29,
   "metadata": {},
   "outputs": [
    {
     "name": "stdout",
     "output_type": "stream",
     "text": [
      "No encontrado!\n"
     ]
    }
   ],
   "source": [
    "// Lectura y busqueda si existe el correo \"b@b\"\n",
    "// Verifica fin del archivo con la excepcion\n",
    "FileReader fr  = new FileReader (\"archivo-ej1.txt\");\n",
    "BufferedReader br = new BufferedReader (fr);\n",
    "\n",
    "String linea;\n",
    "try {\n",
    "    do {\n",
    "        linea = br.readLine ();\n",
    "\n",
    "        if (linea.equals (\"c@c\")) {\n",
    "            System.out.println (\"Lo encontre!\");\n",
    "            break;\n",
    "        }\n",
    "\n",
    "    }while (linea!=null); \n",
    "    \n",
    "}catch (NullPointerException ex) {\n",
    "    System.out.println (\"No encontrado!\");\n",
    "}\n",
    "\n",
    "br.close();"
   ]
  },
  {
   "cell_type": "markdown",
   "metadata": {},
   "source": [
    "### Opcion3: Verificar en la condición del while"
   ]
  },
  {
   "cell_type": "code",
   "execution_count": 26,
   "metadata": {},
   "outputs": [
    {
     "name": "stdout",
     "output_type": "stream",
     "text": [
      "No lo encontré\n"
     ]
    }
   ],
   "source": [
    "// Ciclo whilecon condicion y asignacion al mismo tiempo \n",
    "//Lectura y busqueda si existe el correo \"b@b\"\n",
    "// Verifica fin del archivo con un if\n",
    "FileReader fr  = new FileReader (\"archivo-ej1.txt\");\n",
    "BufferedReader br = new BufferedReader (fr);\n",
    "\n",
    "String linea;\n",
    "\n",
    "while ((linea=br.readLine()) != null) {\n",
    "        if (linea.equals (\"c@c\")) {\n",
    "            System.out.println (\"Lo encontre!\");\n",
    "            break;\n",
    "        }\n",
    "}\n",
    "\n",
    "// Chequeo si llegó al final del archivo y no lo encontró\n",
    "if (linea==null) \n",
    "    System.out.println (\"No lo encontré\");\n",
    "\n",
    "br.close();"
   ]
  },
  {
   "cell_type": "markdown",
   "metadata": {},
   "source": [
    "## Ejemplo de lectura/escritura con clase Estudianta"
   ]
  },
  {
   "cell_type": "code",
   "execution_count": 51,
   "metadata": {},
   "outputs": [],
   "source": [
    "public class Estudiante {\n",
    "    // Atributos\n",
    "    String nombres;\n",
    "    String correoInstitucional;\n",
    "    long numeroCelular;\n",
    "        \n",
    "    // Constructor\n",
    "    public Estudiante () {\n",
    "        this.nombres = \"Sin nombres\";\n",
    "        this.correoInstitucional = \"Sin correo\";\n",
    "        this.numeroCelular = 0;\n",
    "    }\n",
    "    \n",
    "    public Estudiante (String nombres, String correoInst, long nroCelular){\n",
    "        this.nombres = nombres;\n",
    "        this.correoInstitucional = correoInst;\n",
    "        this.numeroCelular = nroCelular;\n",
    "    }\n",
    "    \n",
    "    // Metodos\n",
    "    public void presentarse () {\n",
    "        System.out.println (\"NOMBRES: \" + nombres + \" CORREO: \" + correoInstitucional + \" CELULAR: \" + numeroCelular);\n",
    "    }\n",
    "    \n",
    "    public void guardarse (PrintWriter pw) {         \n",
    "        // Escribir\n",
    "        pw.println (nombres);\n",
    "        pw.println (correoInstitucional);\n",
    "        pw.println (numeroCelular);\n",
    "    }\n",
    "    \n",
    "    public void recuperarse (BufferedReader br) {\n",
    "        // Leer\n",
    "        try {\n",
    "            nombres             = br.readLine();\n",
    "            correoInstitucional = br.readLine();\n",
    "            numeroCelular       = new Long (br.readLine());\n",
    "        }catch (IOException ex) {\n",
    "            System.out.println (\"Error en lectura de archivo\");\n",
    "        }\n",
    "    }\n",
    "}"
   ]
  },
  {
   "cell_type": "code",
   "execution_count": 40,
   "metadata": {},
   "outputs": [
    {
     "name": "stdout",
     "output_type": "stream",
     "text": [
      "NOMBRES: paco CORREO: paco@a CELULAR31220\n"
     ]
    }
   ],
   "source": [
    "// Estudiante guardado en su propio archivo \"e1.txt\"\n",
    "Estudiante e1 = new Estudiante (\"paco\", \"paco@a\", 31220);\n",
    "e1.presentarse ();\n",
    "\n",
    "PrintWriter pw = new PrintWriter (new FileWriter(\"e1.txt\"));\n",
    "e1.guardarse (pw);\n",
    "pw.close();"
   ]
  },
  {
   "cell_type": "code",
   "execution_count": 42,
   "metadata": {},
   "outputs": [
    {
     "name": "stdout",
     "output_type": "stream",
     "text": [
      "NOMBRES: beto CORREO: beto@a CELULAR22222\n"
     ]
    }
   ],
   "source": [
    "// Estudiante guardado en su propio archivo \"e2.txt\"\n",
    "Estudiante e2 = new Estudiante (\"beto\", \"beto@a\", 22222);\n",
    "e2.presentarse ();\n",
    "\n",
    "PrintWriter pw = new PrintWriter (new FileWriter(\"e2.txt\"));\n",
    "e2.guardarse (pw);\n",
    "pw.close();"
   ]
  },
  {
   "cell_type": "code",
   "execution_count": 46,
   "metadata": {},
   "outputs": [
    {
     "name": "stdout",
     "output_type": "stream",
     "text": [
      "NOMBRES: paco CORREO: paco@a CELULAR31220\n",
      "NOMBRES: beto CORREO: beto@a CELULAR22222\n",
      "NOMBRES: beto CORREO: beto@a CELULAR22222\n"
     ]
    }
   ],
   "source": [
    "// Estudiantes guardados un mismo archivo \"estudiantes.txt\"\n",
    "Estudiante e1 = new Estudiante (\"paco\", \"paco@a\", 31220);\n",
    "e1.presentarse ();\n",
    "Estudiante e2 = new Estudiante (\"beto\", \"beto@a\", 22222);\n",
    "e2.presentarse ();\n",
    "Estudiante e3 = new Estudiante (\"maria\", \"maria@a\", 33333);\n",
    "e2.presentarse ();\n",
    "\n",
    "PrintWriter pw = new PrintWriter (new FileWriter(\"estudiantes.txt\"));\n",
    "e1.guardarse (pw);\n",
    "e2.guardarse (pw);\n",
    "e3.guardarse (pw);\n",
    "pw.close ();"
   ]
  },
  {
   "cell_type": "code",
   "execution_count": 58,
   "metadata": {},
   "outputs": [
    {
     "name": "stdout",
     "output_type": "stream",
     "text": [
      "NOMBRES: paco CORREO: paco@a CELULAR: 31220\n",
      "NOMBRES: beto CORREO: beto@a CELULAR: 22222\n",
      "NOMBRES: maria CORREO: maria@a CELULAR: 33333\n"
     ]
    }
   ],
   "source": [
    "// Lectura de estudiante\n",
    "FileReader fr  = new FileReader (\"estudiantes.txt\");\n",
    "BufferedReader br = new BufferedReader (fr);\n",
    "\n",
    "Estudiante ea = new Estudiante ();\n",
    "ea.recuperarse (br);\n",
    "ea.presentarse();\n",
    "\n",
    "Estudiante eb = new Estudiante ();\n",
    "eb.recuperarse (br);\n",
    "eb.presentarse();\n",
    "\n",
    "Estudiante ec = new Estudiante ();\n",
    "ec.recuperarse (br);\n",
    "ec.presentarse();\n",
    "\n",
    "br.close();"
   ]
  },
  {
   "cell_type": "markdown",
   "metadata": {},
   "source": [
    "## Usando el DAO"
   ]
  },
  {
   "cell_type": "code",
   "execution_count": 60,
   "metadata": {},
   "outputs": [],
   "source": [
    "import java.util.ArrayList;\n",
    "\n",
    "public interface DirectorioDAOInterface {\n",
    "    public void crear ();\n",
    "    public void adicionar (Estudiante e);\n",
    "    public Estudiante buscar (String correoInst);\n",
    "    public void actualizar (String correoInst, Estudiante nuevo);\n",
    "    public void eliminar (String correoInst);\n",
    "    public ArrayList<Estudiante> obtenerTodos ();\n",
    "}\n",
    "\n",
    "import java.util.ArrayList;\n",
    "\n",
    "public class DirectorioDAO implements DirectorioDAOInterface {\n",
    "    // Atributos\n",
    "    ArrayList <Estudiante> listaEstudiantes;\n",
    "    \n",
    "    // Metodos\n",
    "    public void crear () {\n",
    "        // Inicializa el DAO creando la lista;\n",
    "        listaEstudiantes = new ArrayList<Estudiante> ();\n",
    "    }\n",
    "    \n",
    "    public void adicionar (Estudiante e) {\n",
    "        // Adiciona el estudiante \"e\" al DAO, es decir a la lista\n",
    "        listaEstudiantes.add (e);\n",
    "    }\n",
    "    \n",
    "    public Estudiante buscar (String correoInst) {\n",
    "        // Busca en el DAO el estudiante que tenga el correo igual a \"correoInst\"\n",
    "        System.out.println (\"Buscando en el DAO\");\n",
    "        for (int i=0; i < listaEstudiantes.size (); i++) {\n",
    "            Estudiante e = listaEstudiantes.get (i);\n",
    "            if (correoInst.equals (e.correoInstitucional))\n",
    "                return (e);\n",
    "        }\n",
    "        return (null);\n",
    "    }\n",
    "    \n",
    "    public void actualizar (String correoInst, Estudiante nuevo) {\n",
    "        // Buscae en el DAO el estudiante que tenga el correo igual al \"correoInst\" \n",
    "        // y lo cambia por el \"nuevo\" que llega\n",
    "        System.out.println (\"Actualizando DAO con nuevo estudiante...\");\n",
    "    }\n",
    "    public void eliminar (String correoInst){\n",
    "        // Elimina al estudiante del DAO que tenga correo igual al que ingresa\n",
    "        System.out.println (\"Eliminando estudiante del DAO...\");\n",
    "    }\n",
    "    public ArrayList<Estudiante> obtenerTodos (){\n",
    "        // Retorna una lista con todos los estudiantes\n",
    "        return (listaEstudiantes);\n",
    "    }\n",
    "    \n",
    "}"
   ]
  },
  {
   "cell_type": "code",
   "execution_count": 66,
   "metadata": {},
   "outputs": [
    {
     "name": "stdout",
     "output_type": "stream",
     "text": [
      "NOMBRES: paco CORREO: paco@a CELULAR: 31220\n",
      "NOMBRES: beto CORREO: beto@a CELULAR: 22222\n",
      "NOMBRES: maria CORREO: maria@a CELULAR: 33333\n"
     ]
    }
   ],
   "source": [
    "// Controlador\n",
    "\n",
    "\n",
    "DirectorioDAO miDAO = new DirectorioDAO ();\n",
    "miDAO.crear ();\n",
    "\n",
    "Estudiante e1 = new Estudiante (\"paco\", \"paco@a\", 31220);\n",
    "Estudiante e2 = new Estudiante (\"beto\", \"beto@a\", 22222);\n",
    "Estudiante e3 = new Estudiante (\"maria\", \"maria@a\", 33333);\n",
    "\n",
    "miDAO.adicionar (e1);\n",
    "miDAO.adicionar (e2);\n",
    "miDAO.adicionar (e3);\n",
    "\n",
    "// Ver\n",
    "ArrayList <Estudiante> listaEstudiantes = miDAO.obtenerTodos ();\n",
    "for (int i=0; i < listaEstudiantes.size (); i++) {\n",
    "    Estudiante e = listaEstudiantes.get (i);\n",
    "    e.presentarse ();\n",
    "}\n",
    "\n",
    "\n"
   ]
  },
  {
   "cell_type": "code",
   "execution_count": 67,
   "metadata": {},
   "outputs": [],
   "source": [
    "// Guardar DAO\n",
    "PrintWriter pw = new PrintWriter (new FileWriter (\"DAO-Estudiantes.txt\"));\n",
    "ArrayList <Estudiante> listaEstudiantes = miDAO.obtenerTodos ();\n",
    "for (int i=0; i < listaEstudiantes.size (); i++) {\n",
    "    Estudiante e = listaEstudiantes.get (i);\n",
    "    e.guardarse (pw);\n",
    "}\n",
    "pw.close ();"
   ]
  },
  {
   "cell_type": "code",
   "execution_count": 73,
   "metadata": {},
   "outputs": [],
   "source": [
    "// Leer DAO\n",
    "BufferedReader bf = new BufferedReader (new FileReader (\"DAO-Estudiantes.txt\"));\n",
    "DirectorioDAO miDAO = new DirectorioDAO ();\n",
    "miDAO.crear ();\n",
    "\n",
    "try {\n",
    "    for (int i=0; i < 4; i++) {\n",
    "        Estudiante e = new Estudiante  ();\n",
    "        e.recuperarse (bf);\n",
    "        miDAO.adicionar (e);\n",
    "    }\n",
    "}catch (Exception ex) {\n",
    "    bf.close ();\n",
    "}\n"
   ]
  },
  {
   "cell_type": "code",
   "execution_count": null,
   "metadata": {},
   "outputs": [],
   "source": [
    "// Ver\n",
    "ArrayList <Estudiante> listaEstudiantes = miDAO.obtenerTodos ();\n",
    "for (int i=0; i < listaEstudiantes.size (); i++) {\n",
    "    Estudiante e = listaEstudiantes.get (i);\n",
    "    e.presentarse ();\n",
    "}"
   ]
  },
  {
   "cell_type": "code",
   "execution_count": null,
   "metadata": {},
   "outputs": [],
   "source": []
  }
 ],
 "metadata": {
  "kernelspec": {
   "display_name": "Java",
   "language": "java",
   "name": "java"
  },
  "language_info": {
   "codemirror_mode": "java",
   "file_extension": ".jshell",
   "mimetype": "text/x-java-source",
   "name": "Java",
   "pygments_lexer": "java",
   "version": "16.0.1+9-24"
  }
 },
 "nbformat": 4,
 "nbformat_minor": 4
}
