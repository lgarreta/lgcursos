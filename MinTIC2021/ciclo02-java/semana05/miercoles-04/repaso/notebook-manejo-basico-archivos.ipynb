{
 "cells": [
  {
   "cell_type": "markdown",
   "metadata": {},
   "source": [
    "# Manejo Básico de Archivos en Java\n",
    "<br>  \n",
    "  \n",
    "    \n",
    "<img src=\"java-io-files.png\" width=\"800\">"
   ]
  },
  {
   "cell_type": "markdown",
   "metadata": {},
   "source": [
    "## Streams o flujos\n",
    "Es la manera como Java maneja la lectura/escritura de datos (caractéres, números, bytes, etc)\n",
    " \n",
    "Dos tipos de flujos:\n",
    "  - **InputStream**  : Entrada, lectura de datos desde una fuente (archivo, internet, base datos, teclado)\n",
    "  - **OutputStream** : Salida, escritura (archivo, internet, base datos, pantalla)\n",
    "  \n",
    "  \n",
    "\n",
    "\n",
    "\n",
    "\n",
    "\n",
    "\n",
    "\n"
   ]
  },
  {
   "cell_type": "markdown",
   "metadata": {},
   "source": [
    "## Streams de lectura/escritura de caractéres\n",
    "- **FileWriter**: Escribe cadenas de caractéres a un archivo\n",
    "- **FileReader**: Lee cadenas de caractéres desde un archivo\n",
    " \n",
    " \n",
    "<img src=\"img-java-reader-writer.jpg\" width=400>"
   ]
  },
  {
   "cell_type": "markdown",
   "metadata": {},
   "source": [
    "### Ejemplos de escritura/lectura archivos caractéres"
   ]
  },
  {
   "cell_type": "code",
   "execution_count": 52,
   "metadata": {},
   "outputs": [],
   "source": [
    "// Escritura cada atributo en una línea\n",
    "String nombre = \"ana\";\n",
    "String correo = \"a@a\";\n",
    "long numero = 11;\n",
    "\n",
    "PrintWriter pw = new PrintWriter (new FileWriter (\"ej1.txt\"));\n",
    "pw.println (nombre);\n",
    "pw.println (correo);\n",
    "pw.println (numero);\n",
    "pw.close();"
   ]
  },
  {
   "cell_type": "code",
   "execution_count": 57,
   "metadata": {},
   "outputs": [
    {
     "name": "stdout",
     "output_type": "stream",
     "text": [
      "ana\n",
      "a@a\n",
      "11\n"
     ]
    }
   ],
   "source": [
    "// Lectura de los tres atributos\n",
    "String nombre;\n",
    "String correo;\n",
    "long numero;\n",
    "\n",
    "BufferedReader br = new BufferedReader (new FileReader (\"ej1.txt\"));\n",
    "nombre = br.readLine();\n",
    "correo = br.readLine ();\n",
    "numero = new Long (br.readLine());\n",
    "br.close();\n",
    "System.out.println (nombre);\n",
    "System.out.println (correo);\n",
    "System.out.println (numero);"
   ]
  },
  {
   "cell_type": "code",
   "execution_count": 72,
   "metadata": {},
   "outputs": [],
   "source": [
    "// Escritura en una sola línea separado por delimitador \"|\"\n",
    "String nombre = \"ana\";\n",
    "String correo = \"a@a\";\n",
    "long numero = 11;\n",
    "\n",
    "PrintWriter pw = new PrintWriter (new FileWriter (\"ej2.txt\"));\n",
    "String linea = nombre + \";\" + correo + \";\" + numero;\n",
    "pw.println (linea);\n",
    "pw.close();"
   ]
  },
  {
   "cell_type": "code",
   "execution_count": 61,
   "metadata": {},
   "outputs": [
    {
     "name": "stdout",
     "output_type": "stream",
     "text": [
      "null\n",
      "a@a\n",
      "11\n"
     ]
    }
   ],
   "source": [
    "// Lectura una linea y separación de atributos por delimitador \"|\"\n",
    "String nombre;\n",
    "String correo;\n",
    "long numero;\n",
    "\n",
    "BufferedReader br = new BufferedReader (new FileReader (\"ej1.txt\"));\n",
    "String linea  = br.readLine();\n",
    "\n",
    "correo = br.readLine ();\n",
    "numero = new Long (br.readLine());\n",
    "br.close();\n",
    "System.out.println (nombre);\n",
    "System.out.println (correo);\n",
    "System.out.println (numero);"
   ]
  },
  {
   "cell_type": "code",
   "execution_count": 75,
   "metadata": {},
   "outputs": [
    {
     "name": "stdout",
     "output_type": "stream",
     "text": [
      "ana\n"
     ]
    }
   ],
   "source": [
    "String s = \"ana;a@a;11\";\n",
    "String [] atributos = s.split (\";\");\n",
    "System.out.println (atributos[0]);"
   ]
  },
  {
   "cell_type": "markdown",
   "metadata": {},
   "source": [
    "## Lectura/Escritura Atributos Estudiante"
   ]
  },
  {
   "cell_type": "code",
   "execution_count": 88,
   "metadata": {},
   "outputs": [],
   "source": [
    "// Ejemplo\n",
    "\n",
    "public class Estudiante {\n",
    "    // Atributos\n",
    "    String nombres;\n",
    "    String correoInstitucional;\n",
    "    long numeroCelular;\n",
    "        \n",
    "    // Constructor\n",
    "    public Estudiante () {\n",
    "        this.nombres = \"Sin nombres\";\n",
    "        this.correoInstitucional = \"Sin correo\";\n",
    "        this.numeroCelular = 0;\n",
    "    }\n",
    "    \n",
    "    public Estudiante (String nombres, String correoInst, long nroCelular){\n",
    "        this.nombres = nombres;\n",
    "        this.correoInstitucional = correoInst;\n",
    "        this.numeroCelular = nroCelular;\n",
    "    }\n",
    "    \n",
    "    // Metodos\n",
    "    public void presentarse () {\n",
    "        System.out.println (\"NOMBRES: \" + nombres + \" CORREO: \" + correoInstitucional + \" CELULAR\" + numeroCelular);\n",
    "    }\n",
    "    \n",
    "    public void guardarse (PrintWriter pw) throws IOException {\n",
    "        pw.println (nombres);\n",
    "        pw.println (correoInstitucional);\n",
    "        pw.println (numeroCelular);\n",
    "    }\n",
    "    \n",
    "    public void recuperarse (BufferedReader fr) throws IOException {\n",
    "        nombres             = fr.readLine ();\n",
    "        correoInstitucional = fr.readLine ();\n",
    "        numeroCelular       = new Long (fr.readLine ());\n",
    "    }\n",
    "}"
   ]
  },
  {
   "cell_type": "code",
   "execution_count": null,
   "metadata": {},
   "outputs": [],
   "source": []
  },
  {
   "cell_type": "code",
   "execution_count": 77,
   "metadata": {},
   "outputs": [
    {
     "name": "stdout",
     "output_type": "stream",
     "text": [
      "NOMBRES: añá CORREO: aa CELULAR11\n"
     ]
    }
   ],
   "source": [
    "Estudiante e = new  Estudiante ();\n",
    "BufferedReader fr = new BufferedReader (new FileReader (\"test.txt\"));\n",
    "e.recuperarse (fr);\n",
    "fr.close();\n",
    "e.presentarse();"
   ]
  },
  {
   "cell_type": "code",
   "execution_count": 79,
   "metadata": {},
   "outputs": [],
   "source": [
    "Estudiante e = new  Estudiante (\"añá\", \"aa\", 11);\n",
    "PrintWriter pw = new PrintWriter (new FileWriter (\"test.txt\"));\n",
    "e.guardarse (pw);\n",
    "pw.close();"
   ]
  },
  {
   "cell_type": "code",
   "execution_count": 86,
   "metadata": {},
   "outputs": [],
   "source": [
    "import java.util.ArrayList;\n",
    "\n",
    "public interface DirectorioDAOInterface {\n",
    "    public void crear ();\n",
    "    public void adicionar (Estudiante e);\n",
    "    public Estudiante buscar (String correoInst);\n",
    "    public void actualizar (String correoInst, Estudiante nuevo);\n",
    "    public void eliminar (String correoInst);\n",
    "    public ArrayList<Estudiante> obtenerTodos ();\n",
    "}\n",
    "\n",
    "import java.util.ArrayList;\n",
    "\n",
    "public class DirectorioDAO implements DirectorioDAOInterface {\n",
    "    // Atributos\n",
    "    ArrayList <Estudiante> listaEstudiantes;\n",
    "    \n",
    "    // Metodos\n",
    "    public void crear () {\n",
    "        // Inicializa el DAO creando la lista;\n",
    "        listaEstudiantes = new ArrayList<Estudiante> ();\n",
    "    }\n",
    "    \n",
    "    public void adicionar (Estudiante e) {\n",
    "        // Adiciona el estudiante \"e\" al DAO, es decir a la lista\n",
    "        listaEstudiantes.add (e);\n",
    "    }\n",
    "    \n",
    "    public Estudiante buscar (String correoInst) {\n",
    "        // Busca en el DAO el estudiante que tenga el correo igual a \"correoInst\"\n",
    "        System.out.println (\"Buscando en el DAO\");\n",
    "        for (int i=0; i < listaEstudiantes.size (); i++) {\n",
    "            Estudiante e = listaEstudiantes.get (i);\n",
    "            if (correoInst.equals (e.correoInstitucional))\n",
    "                return (e);\n",
    "        }\n",
    "        return (null);\n",
    "    }\n",
    "    \n",
    "    public void actualizar (String correoInst, Estudiante nuevo) {\n",
    "        // Buscae en el DAO el estudiante que tenga el correo igual al \"correoInst\" \n",
    "        // y lo cambia por el \"nuevo\" que llega\n",
    "        System.out.println (\"Actualizando DAO con nuevo estudiante...\");\n",
    "    }\n",
    "    public void eliminar (String correoInst){\n",
    "        // Elimina al estudiante del DAO que tenga correo igual al que ingresa\n",
    "        System.out.println (\"Eliminando estudiante del DAO...\");\n",
    "    }\n",
    "    public ArrayList<Estudiante> obtenerTodos (){\n",
    "        // Retorna una lista con todos los estudiantes\n",
    "        return (listaEstudiantes);\n",
    "    }\n",
    "    \n",
    "}"
   ]
  },
  {
   "cell_type": "code",
   "execution_count": 99,
   "metadata": {},
   "outputs": [
    {
     "name": "stdout",
     "output_type": "stream",
     "text": [
      "NOMBRES: ana CORREO: aa CELULAR11\n",
      "NOMBRES: beto CORREO: bb CELULAR22\n",
      "NOMBRES: carlo CORREO: cc CELULAR22\n"
     ]
    }
   ],
   "source": [
    "// Controlador\n",
    "DirectorioDAO miDAO = new DirectorioDAO ();\n",
    "miDAO.crear ();\n",
    "\n",
    "Estudiante e1 = new  Estudiante (\"ana\", \"aa\", 11);\n",
    "Estudiante e2 = new  Estudiante (\"beto\", \"bb\", 22);\n",
    "Estudiante e3 = new  Estudiante (\"carlo\", \"cc\", 22);\n",
    "\n",
    "miDAO.adicionar (e1);\n",
    "miDAO.adicionar (e2);\n",
    "miDAO.adicionar (e3);\n",
    "\n",
    "// Grabar todos los estudiantes\n",
    "PrintWriter pw = new PrintWriter (new FileWriter (\"ej4-estudiantes.txt\"));\n",
    "ArrayList <Estudiante> listaEstudiantes = miDAO.obtenerTodos();\n",
    "\n",
    "for (int i=0; i < listaEstudiantes.size();i++ ) {\n",
    "    Estudiante e = listaEstudiantes.get (i);\n",
    "    e.presentarse ();\n",
    "    e.guardarse (pw);\n",
    "}\n",
    "pw.close();"
   ]
  }
 ],
 "metadata": {
  "kernelspec": {
   "display_name": "Java",
   "language": "java",
   "name": "java"
  },
  "language_info": {
   "codemirror_mode": "java",
   "file_extension": ".jshell",
   "mimetype": "text/x-java-source",
   "name": "Java",
   "pygments_lexer": "java",
   "version": "16.0.1+9-24"
  }
 },
 "nbformat": 4,
 "nbformat_minor": 4
}
