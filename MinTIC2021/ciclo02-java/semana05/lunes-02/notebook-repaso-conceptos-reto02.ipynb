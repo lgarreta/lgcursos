{
 "cells": [
  {
   "cell_type": "markdown",
   "metadata": {},
   "source": [
    "# Repaso conceptos del reto 02"
   ]
  },
  {
   "cell_type": "markdown",
   "metadata": {},
   "source": [
    "## Ciclos for\n",
    "- Tiene todos los elementos en una misma línea:\n",
    "- Inicialización\n",
    "- Condición\n",
    "- Incrementeo"
   ]
  },
  {
   "cell_type": "code",
   "execution_count": 2,
   "metadata": {},
   "outputs": [
    {
     "name": "stdout",
     "output_type": "stream",
     "text": [
      "0\n",
      "1\n",
      "2\n",
      "3\n",
      "4\n",
      "5\n",
      "6\n",
      "7\n",
      "8\n",
      "9\n"
     ]
    }
   ],
   "source": [
    "// Ejemplo for\n",
    "for (int i=0; i<10; i++) {\n",
    "    System.out.println (i);\n",
    "}"
   ]
  },
  {
   "cell_type": "code",
   "execution_count": null,
   "metadata": {},
   "outputs": [
    {
     "name": "stdout",
     "output_type": "stream",
     "text": [
      "Valor de i: 0\n",
      "Valor de i: 1\n",
      "Valor de i: 2\n",
      "Valor de i: 3\n",
      "Valor de i: 4\n",
      "Valor de i: 5\n",
      "Valor de i: 6\n",
      "Valor de i: 7\n",
      "Valor de i: 8\n",
      "Valor de i: 9\n"
     ]
    }
   ],
   "source": [
    "// ciclo infinito\n",
    "int i = 0;\n",
    "while (true) {\n",
    "    System.out.println (\"Valor de i: \" + i); \n",
    "    i++;\n",
    "    \n",
    "    if ( i == 10) \n",
    "        System.exit (0);\n",
    "}"
   ]
  },
  {
   "cell_type": "code",
   "execution_count": 5,
   "metadata": {},
   "outputs": [
    {
     "name": "stdout",
     "output_type": "stream",
     "text": [
      "Mostrando menu \n",
      "2\n",
      "Mostrando menu \n",
      "3\n",
      "Mostrando menu \n",
      "1\n",
      "Mostrando menu \n",
      "6\n"
     ]
    }
   ],
   "source": [
    "// do-while\n",
    "import java.util.Scanner;\n",
    "Scanner lector = new Scanner (System.in);\n",
    "int opcion;\n",
    "\n",
    "int i= 0;\n",
    "do {\n",
    "    System.out.println (\"Mostrando menu \"); \n",
    "    opcion = lector.nextInt ();\n",
    "}while (opcion !=6);"
   ]
  },
  {
   "cell_type": "markdown",
   "metadata": {},
   "source": [
    "## Excepciones\n",
    "- Relacionadas con manejo de errres\n",
    "- Dos tipos:\n",
    "  - Se capturan en tiempo de ejecución\n",
    "  - El compilador avisa que se debe \"atraparlas\"\n",
    "  \n",
    "- Tipos de errores que manejan excepciones:\n",
    "  - Nulo: esté trabajando con un valor nulo\n",
    "  - Archivo no existente: cuando supone que el archivo y no existe\n",
    "  - Entradas/Salidas: lee algo que no es el tipo que espera\n",
    "  - General: Atrapar cualquier error que se genere\n",
    "  \n",
    "- Bloque try-catch \n",
    "  - bloque de codigo donde posiblemente pueda existir un error"
   ]
  },
  {
   "cell_type": "code",
   "execution_count": 6,
   "metadata": {},
   "outputs": [],
   "source": [
    "// Ejemplo\n",
    "try {\n",
    "    // Bloque de código que posiblemente genere un error\n",
    "    // ...\n",
    "}catch (NullPointerException exc) {\n",
    "    // El tratamiento de la excepcion\n",
    "}"
   ]
  },
  {
   "cell_type": "code",
   "execution_count": 14,
   "metadata": {},
   "outputs": [
    {
     "ename": "CompilationException",
     "evalue": "",
     "output_type": "error",
     "traceback": [
      "\u001b[1m\u001b[30m|   \u001b[1m\u001b[30m\u001b[0m",
      "\u001b[1m\u001b[30m|   \u001b[1m\u001b[30m\u001b[0m",
      "\u001b[1m\u001b[30m|   \u001b[1m\u001b[30m\u001b[0m",
      "\u001b[1m\u001b[30m|   \u001b[1m\u001b[30mclass Controlador {\u001b[0m",
      "\u001b[1m\u001b[30m|   \u001b[1m\u001b[30m    // Atributos\u001b[0m",
      "\u001b[1m\u001b[30m|   \u001b[1m\u001b[30m    VistaMenu     miVista = new VistaMenu ();\u001b[0m",
      "\u001b[1m\u001b[30m|   \u001b[1m\u001b[30m    DirectorioDAO miDAO   = new DirectorioDAO ();\u001b[0m",
      "\u001b[1m\u001b[30m|   \u001b[1m\u001b[30m\u001b[0m",
      "\u001b[1m\u001b[30m|   \u001b[1m\u001b[30m    // Constructor\u001b[0m",
      "\u001b[1m\u001b[30m|   \u001b[1m\u001b[30m    public Controlador () {\u001b[0m",
      "\u001b[1m\u001b[30m|   \u001b[1m\u001b[30m        miDAO.crear ();\u001b[0m",
      "\u001b[1m\u001b[30m|   \u001b[1m\u001b[30m        Estudiante e1 = new Estudiante (\"ana\",\"aa\",11);\u001b[0m",
      "\u001b[1m\u001b[30m|   \u001b[1m\u001b[30m        miDAO.adicionar (e1);\u001b[0m",
      "\u001b[1m\u001b[30m|   \u001b[1m\u001b[30m        Estudiante e2 = new Estudiante (\"maria\",\"bb\",22);\u001b[0m",
      "\u001b[1m\u001b[30m|   \u001b[1m\u001b[30m        miDAO.adicionar (e2);\u001b[0m",
      "\u001b[1m\u001b[30m|   \u001b[1m\u001b[30m        Estudiante e3 = new Estudiante (\"juan\",\"cc\",33);\u001b[0m",
      "\u001b[1m\u001b[30m|   \u001b[1m\u001b[30m        miDAO.adicionar (e3);\u001b[0m",
      "\u001b[1m\u001b[30m|   \u001b[1m\u001b[30m        Estudiante e4 = new Estudiante (\"pedro\",\"dd\",44);\u001b[0m",
      "\u001b[1m\u001b[30m|   \u001b[1m\u001b[30m        miDAO.adicionar (e4);\u001b[0m",
      "\u001b[1m\u001b[30m|   \u001b[1m\u001b[30m    }\u001b[0m",
      "\u001b[1m\u001b[30m|   \u001b[1m\u001b[30m \u001b[0m",
      "\u001b[1m\u001b[30m|   \u001b[1m\u001b[30m    // Metodos\u001b[0m",
      "\u001b[1m\u001b[30m|   \u001b[1m\u001b[30m    public void iniciar () {\u001b[0m",
      "\u001b[1m\u001b[30m|   \u001b[1m\u001b[30m        while (true) {\u001b[0m",
      "\u001b[1m\u001b[30m|   \u001b[1m\u001b[30m            miVista.mostrarMenu ();\u001b[0m",
      "\u001b[1m\u001b[30m|   \u001b[1m\u001b[30m            int opcion = miVista.leerOpcion ();\u001b[0m",
      "\u001b[1m\u001b[30m|   \u001b[1m\u001b[30m            \u001b[0m",
      "\u001b[1m\u001b[30m|   \u001b[1m\u001b[30m                switch (opcion) {\u001b[0m",
      "\u001b[1m\u001b[30m|   \u001b[1m\u001b[30m                    case 1: adicionar (); break;\u001b[0m",
      "\u001b[1m\u001b[30m|   \u001b[1m\u001b[30m                    case 2: buscar (); break;\u001b[0m",
      "\u001b[1m\u001b[30m|   \u001b[1m\u001b[30m                    case 3: eliminar (); break;\u001b[0m",
      "\u001b[1m\u001b[30m|   \u001b[1m\u001b[30m                    case 4: modificar (); break;\u001b[0m",
      "\u001b[1m\u001b[30m|   \u001b[1m\u001b[30m                    case 5: ver (); break;\u001b[0m",
      "\u001b[1m\u001b[30m|   \u001b[1m\u001b[30m                    case 6: salir (); break;\u001b[0m",
      "\u001b[1m\u001b[30m|   \u001b[1m\u001b[30m                }\u001b[0m",
      "\u001b[1m\u001b[30m|   \u001b[1m\u001b[30m        }\u001b[0m",
      "\u001b[1m\u001b[30m|   \u001b[1m\u001b[30m    }\u001b[0m",
      "\u001b[1m\u001b[30m|   \u001b[1m\u001b[30m    \u001b[0m",
      "\u001b[1m\u001b[30m|   \u001b[1m\u001b[30m    // Adiciona estudiante al DAO\u001b[0m",
      "\u001b[1m\u001b[30m|   \u001b[1m\u001b[30m    public void adicionar () {\u001b[0m",
      "\u001b[1m\u001b[30m|   \u001b[1m\u001b[30m        System.out.println (\"Está adicionando...\");\u001b[0m",
      "\u001b[1m\u001b[30m|   \u001b[1m\u001b[30m        Estudiante e = miVista.leerDatos ();\u001b[0m",
      "\u001b[1m\u001b[30m|   \u001b[1m\u001b[30m        miDAO.adicionar (e);                \u001b[0m",
      "\u001b[1m\u001b[30m|   \u001b[1m\u001b[30m    }\u001b[0m",
      "\u001b[1m\u001b[30m|   \u001b[1m\u001b[30m    \u001b[0m",
      "\u001b[1m\u001b[30m|   \u001b[1m\u001b[30m    // Solicita correo y lo busca en el DAO e imprimer la informacion\u001b[0m",
      "\u001b[1m\u001b[30m|   \u001b[1m\u001b[30m    public void buscar () {\u001b[0m",
      "\u001b[1m\u001b[30m|   \u001b[1m\u001b[30m            System.out.println (\"Está buscando...\");\u001b[0m",
      "\u001b[1m\u001b[30m|   \u001b[1m\u001b[30m            String correo = miVista.leerCorreoInstitucional ();\u001b[0m",
      "\u001b[1m\u001b[30m|   \u001b[1m\u001b[30m            Estudiante e = miDAO.buscar (correo);\u001b[0m",
      "\u001b[1m\u001b[30m|   \u001b[1m\u001b[30m            if (e==null)\u001b[0m",
      "\u001b[1m\u001b[30m|   \u001b[1m\u001b[30m                System.out.println (\"Estudiante no encontrado\");\u001b[0m",
      "\u001b[1m\u001b[30m|   \u001b[1m\u001b[30m            else\u001b[0m",
      "\u001b[1m\u001b[30m|   \u001b[1m\u001b[30m                miVista.mostrarEstudiante (e);            \u001b[0m",
      "\u001b[1m\u001b[30m|   \u001b[1m\u001b[30m    }\u001b[0m",
      "\u001b[1m\u001b[30m|   \u001b[1m\u001b[30m    \u001b[0m",
      "\u001b[1m\u001b[30m|   \u001b[1m\u001b[30m    // Solicita el correo y le dice al DAO que lo elimine\u001b[0m",
      "\u001b[1m\u001b[30m|   \u001b[1m\u001b[30m    public void eliminar () {\u001b[0m",
      "\u001b[1m\u001b[30m|   \u001b[1m\u001b[30m        System.out.println (\"Está eliminando...\");\u001b[0m",
      "\u001b[1m\u001b[30m|   \u001b[1m\u001b[30m\t\tString correo = miVista.leerCorreoInstitucional ();\u001b[0m",
      "\u001b[1m\u001b[30m|   \u001b[1m\u001b[30m\t\tmiDAO.eliminar (correo);\u001b[0m",
      "\u001b[1m\u001b[30m|   \u001b[1m\u001b[30m    }\u001b[0m",
      "\u001b[1m\u001b[30m|   \u001b[1m\u001b[30m    \u001b[0m",
      "\u001b[1m\u001b[30m|   \u001b[1m\u001b[30m    // 1. Solita el correo \u001b[0m",
      "\u001b[1m\u001b[30m|   \u001b[1m\u001b[30m    // 2. Busco el estuddiante en el DAO\u001b[0m",
      "\u001b[1m\u001b[30m|   \u001b[1m\u001b[30m    // 3. Pedirle los datos a modificar y modificar el estudiante\u001b[0m",
      "\u001b[1m\u001b[30m|   \u001b[1m\u001b[30m    // 4. Actualiza en el DAO con ese correo y el estudiante modificado\u001b[0m",
      "\u001b[1m\u001b[30m|   \u001b[1m\u001b[30m    public void modificar () {\u001b[0m",
      "\u001b[1m\u001b[30m|   \u001b[1m\u001b[30m        System.out.println (\"Está modificando...\");\u001b[0m",
      "\u001b[1m\u001b[30m|   \u001b[1m\u001b[30m    }\u001b[0m",
      "\u001b[1m\u001b[30m|   \u001b[1m\u001b[30m    \u001b[0m",
      "\u001b[1m\u001b[30m|   \u001b[1m\u001b[30m    public void ver () {\u001b[0m",
      "\u001b[1m\u001b[30m|   \u001b[1m\u001b[30m        System.out.println (\"Está viendo directorio...\");\u001b[0m",
      "\u001b[1m\u001b[30m|   \u001b[1m\u001b[30m\tArrayList <Estudiante> miLista = miDAO.obtenerTodos();\u001b[0m",
      "\u001b[1m\u001b[30m|   \u001b[1m\u001b[30m\u001b[0m",
      "\u001b[1m\u001b[30m|   \u001b[1m\u001b[30m\tfor (int i=0; i < miLista.size (); i++) {\u001b[0m",
      "\u001b[1m\u001b[30m|   \u001b[1m\u001b[30m            Estudiante e = miLista.get (i);\u001b[0m",
      "\u001b[1m\u001b[30m|   \u001b[1m\u001b[30m            miVista.mostrarEstudiante (e);\u001b[0m",
      "\u001b[1m\u001b[30m|   \u001b[1m\u001b[30m\t}\u001b[0m",
      "\u001b[1m\u001b[30m|   \u001b[1m\u001b[30m    }\u001b[0m",
      "\u001b[1m\u001b[30m|   \u001b[1m\u001b[30m    public void salir () {\u001b[0m",
      "\u001b[1m\u001b[30m|   \u001b[1m\u001b[30m        System.out.println (\"Hasta pronto\");\u001b[0m",
      "\u001b[1m\u001b[30m|   \u001b[1m\u001b[30m        System.exit (0);\u001b[0m",
      "\u001b[1m\u001b[30m|   \u001b[1m\u001b[30m    }        \u001b[0m",
      "\u001b[1m\u001b[30m|   \u001b[1m\u001b[30m    \u001b[0m",
      "\u001b[1m\u001b[30m|   \u001b[1m\u001b[30m    \u001b[0m",
      "\u001b[1m\u001b[30m|   \u001b[1m\u001b[30m}\u001b[0m",
      "\u001b[1m\u001b[31mUnresolved dependencies:\u001b[0m",
      "\u001b[1m\u001b[31m   - class VistaMenu\u001b[0m"
     ]
    }
   ],
   "source": [
    "// Ejemplo clase estudiante\n",
    "class Estudiante {\n",
    "    // Atributos\n",
    "    String nombres;\n",
    "    String correoInstitucional;\n",
    "    long numeroCelular;\n",
    "        \n",
    "    // Constructor\n",
    "    public Estudiante () {\n",
    "        this.nombres = \"Sin nombres\";\n",
    "        this.correoInstitucional = \"Sin correo\";\n",
    "        this.numeroCelular = 0;\n",
    "    }\n",
    "    \n",
    "    public Estudiante (String nombres, String correoInst, long nroCelular){\n",
    "        this.nombres = nombres;\n",
    "        this.correoInstitucional = correoInst;\n",
    "        this.numeroCelular = nroCelular;\n",
    "    }\n",
    "    \n",
    "    // Metodos\n",
    "    public void presentarse () {\n",
    "        System.out.println (\"NOMBRES: \" + nombres + \" CORREO: \" + correoInstitucional + \" CELULAR\" + numeroCelular);\n",
    "    }            \n",
    "}"
   ]
  },
  {
   "cell_type": "code",
   "execution_count": 15,
   "metadata": {},
   "outputs": [
    {
     "name": "stdout",
     "output_type": "stream",
     "text": [
      "Estudiante invalido, ingrese otro codigo\n"
     ]
    }
   ],
   "source": [
    "// Manejo de excepciones\n",
    "import java.lang.NullPointerException;\n",
    "\n",
    "\n",
    "Estudiante e = null;\n",
    "\n",
    "try {\n",
    "    \n",
    "    e.nombres = \"Jaime\";\n",
    "    e.correoInstitucional = \"aaa\";\n",
    "    e.numeroCelular = 11;\n",
    "    \n",
    "}catch (NullPointerException exc) {\n",
    "    System.out.println (\"Estudiante invalido, ingrese otro codigo\");\n",
    "}"
   ]
  },
  {
   "cell_type": "code",
   "execution_count": 25,
   "metadata": {},
   "outputs": [
    {
     "name": "stdout",
     "output_type": "stream",
     "text": [
      "b no está inicializado\n"
     ]
    }
   ],
   "source": [
    "import java.lang.ArithmeticException;\n",
    "\n",
    "try {\n",
    "\n",
    "int a;\n",
    "int b=0;\n",
    "\n",
    "a = 10/b;\n",
    "\n",
    "}catch (ArithmeticException e){\n",
    "    System.out.println (\"b no está inicializado\");\n",
    "}"
   ]
  }
 ],
 "metadata": {
  "kernelspec": {
   "display_name": "Java",
   "language": "java",
   "name": "java"
  },
  "language_info": {
   "codemirror_mode": "java",
   "file_extension": ".jshell",
   "mimetype": "text/x-java-source",
   "name": "Java",
   "pygments_lexer": "java",
   "version": "16.0.1+9-24"
  }
 },
 "nbformat": 4,
 "nbformat_minor": 4
}
