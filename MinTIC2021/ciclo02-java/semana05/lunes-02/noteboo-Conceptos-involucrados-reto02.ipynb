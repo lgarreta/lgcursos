{
 "cells": [
  {
   "cell_type": "markdown",
   "metadata": {},
   "source": [
    "# Conceptos involucrados en reto02"
   ]
  },
  {
   "cell_type": "markdown",
   "metadata": {},
   "source": [
    "# Ciclos:\n",
    "  - while\n",
    "  - do-while\n",
    "  - for"
   ]
  },
  {
   "cell_type": "code",
   "execution_count": 2,
   "metadata": {},
   "outputs": [
    {
     "name": "stdout",
     "output_type": "stream",
     "text": [
      "Valor de i: 0\n",
      "Valor de i: 1\n",
      "Valor de i: 2\n",
      "Valor de i: 3\n",
      "Valor de i: 4\n",
      "Valor de i: 5\n",
      "Valor de i: 6\n",
      "Valor de i: 7\n",
      "Valor de i: 8\n",
      "Valor de i: 9\n"
     ]
    }
   ],
   "source": [
    "// ejemplo while\n",
    "int i = 0;\n",
    "int N = 10;\n",
    "\n",
    "while (i<N) {\n",
    "    System.out.println (\"Valor de i: \" + i);\n",
    "    i++;\n",
    "}"
   ]
  },
  {
   "cell_type": "code",
   "execution_count": 4,
   "metadata": {},
   "outputs": [
    {
     "name": "stdout",
     "output_type": "stream",
     "text": [
      "Valor de i: 0\n",
      "Valor de i: 1\n",
      "Valor de i: 2\n",
      "Valor de i: 3\n",
      "Valor de i: 4\n",
      "Valor de i: 5\n",
      "Valor de i: 6\n",
      "Valor de i: 7\n",
      "Valor de i: 8\n",
      "Valor de i: 9\n"
     ]
    }
   ],
   "source": [
    "// ejemplo do-while\n",
    "// Condicion se evalua al final y por lo tanto realiza por lo menos una ejecución\n",
    "\n",
    "int i = 0;\n",
    "int N = 10;\n",
    "\n",
    "do {\n",
    "    System.out.println (\"Valor de i: \" + i);\n",
    "    i++;\n",
    "} while (i<N);"
   ]
  },
  {
   "cell_type": "code",
   "execution_count": 8,
   "metadata": {},
   "outputs": [],
   "source": [
    "public class Estudiante {\n",
    "    // Atributos\n",
    "    String nombres;\n",
    "    String correoInstitucional;\n",
    "    long numeroCelular;\n",
    "        \n",
    "    // Constructor\n",
    "    public Estudiante () {\n",
    "        this.nombres = \"Sin nombres\";\n",
    "        this.correoInstitucional = \"Sin correo\";\n",
    "        this.numeroCelular = 0;\n",
    "    }\n",
    "    \n",
    "    public Estudiante (String nombres, String correoInst, long nroCelular){\n",
    "        this.nombres = nombres;\n",
    "        this.correoInstitucional = correoInst;\n",
    "        this.numeroCelular = nroCelular;\n",
    "    }\n",
    "    \n",
    "    // Metodos\n",
    "    public void presentarse () {\n",
    "        System.out.println (\"NOMBRES: \" + nombres + \" CORREO: \" + correoInstitucional + \" CELULAR\" + numeroCelular);\n",
    "    }            \n",
    "}"
   ]
  },
  {
   "cell_type": "code",
   "execution_count": 9,
   "metadata": {},
   "outputs": [],
   "source": [
    "import java.util.Scanner;\n",
    "\n",
    "public class VistaMenu {\n",
    "    // Atributos\n",
    "    Scanner lector = new Scanner (System.in);\n",
    "    \n",
    "    // Metodos\n",
    "    public void mostrarMenu () {\n",
    "        System.out.println (\"\");\n",
    "        System.out.println (\"----MENU----\");\n",
    "        System.out.println (\"1. Adicionar\");\n",
    "        System.out.println (\"2. Buscar\");\n",
    "        System.out.println (\"3. Eliminar\");\n",
    "        System.out.println (\"4. Modificar\");\n",
    "        System.out.println (\"5. Ver directorio completo\");\n",
    "        System.out.println (\"6. Salir\");\n",
    "    }\n",
    "    \n",
    "    public int leerOpcion () {\n",
    "        System.out.println (\"Opción:\");\n",
    "        int opcion = lector.nextInt ();\n",
    "        lector.nextLine ();\n",
    "        return (opcion);\n",
    "    }\n",
    "    \n",
    "    public Estudiante leerDatos () {\n",
    "        Estudiante e = new Estudiante ();\n",
    "        \n",
    "        e.nombres             = leerNombres ();\n",
    "        e.correoInstitucional = leerCorreoInstitucional();\n",
    "        e.numeroCelular       = leerNumeroCelular ();\n",
    "        \n",
    "        return (e);\n",
    "    }\n",
    "    \n",
    "    public void mostrarEstudiante (Estudiante e) {\n",
    "        System.out.println (\"NOMBRES: \" + e.nombres);\n",
    "        System.out.println (\"CORREO INST: \" + e.correoInstitucional); \n",
    "        System.out.println (\"CELULAR: \" + e.numeroCelular);        \n",
    "    }\n",
    "    \n",
    "    public String leerNombres () {\n",
    "        System.out.println (\"NOMBRES:\");\n",
    "        String nombres = lector.nextLine ();\n",
    "        return (nombres);\n",
    "    }\n",
    "    public String leerCorreoInstitucional () {\n",
    "        System.out.println (\"CORREO INST:\");\n",
    "        String correoInst = lector.nextLine ();\n",
    "        return (correoInst);        \n",
    "    }\n",
    "    public long leerNumeroCelular () {        \n",
    "        System.out.println (\"CELULAR:\");\n",
    "        long nroCelular = lector.nextLong ();\n",
    "        lector.nextLine ();\n",
    "        return (nroCelular);        \n",
    "    }    \n",
    "}"
   ]
  },
  {
   "cell_type": "code",
   "execution_count": 10,
   "metadata": {
    "collapsed": true
   },
   "outputs": [
    {
     "ename": "CompilationException",
     "evalue": "",
     "output_type": "error",
     "traceback": [
      "\u001b[1m\u001b[30m|   \u001b[1m\u001b[30m            \u001b[0m\u001b[1m\u001b[30m\u001b[41mmiVista\u001b[0m\u001b[1m\u001b[30m.mostrarMenu ();\u001b[0m",
      "\u001b[1m\u001b[31mcannot find symbol\u001b[0m",
      "\u001b[1m\u001b[31m  symbol:   variable miVista\u001b[0m",
      "",
      "\u001b[1m\u001b[30m|   \u001b[1m\u001b[30m            int opcion = \u001b[0m\u001b[1m\u001b[30m\u001b[41mmiVista\u001b[0m\u001b[1m\u001b[30m.leerOpcion ();\u001b[0m",
      "\u001b[1m\u001b[31mcannot find symbol\u001b[0m",
      "\u001b[1m\u001b[31m  symbol:   variable miVista\u001b[0m",
      "",
      "\u001b[1m\u001b[30m|   \u001b[1m\u001b[30m                    case 1: \u001b[0m\u001b[1m\u001b[30m\u001b[41madicionar\u001b[0m\u001b[1m\u001b[30m (); break;\u001b[0m",
      "\u001b[1m\u001b[31mcannot find symbol\u001b[0m",
      "\u001b[1m\u001b[31m  symbol:   method adicionar()\u001b[0m",
      "",
      "\u001b[1m\u001b[30m|   \u001b[1m\u001b[30m                    case 2: \u001b[0m\u001b[1m\u001b[30m\u001b[41mbuscar\u001b[0m\u001b[1m\u001b[30m (); break;\u001b[0m",
      "\u001b[1m\u001b[31mcannot find symbol\u001b[0m",
      "\u001b[1m\u001b[31m  symbol:   method buscar()\u001b[0m",
      "",
      "\u001b[1m\u001b[30m|   \u001b[1m\u001b[30m                    case 3: \u001b[0m\u001b[1m\u001b[30m\u001b[41meliminar\u001b[0m\u001b[1m\u001b[30m (); break;\u001b[0m",
      "\u001b[1m\u001b[31mcannot find symbol\u001b[0m",
      "\u001b[1m\u001b[31m  symbol:   method eliminar()\u001b[0m",
      "",
      "\u001b[1m\u001b[30m|   \u001b[1m\u001b[30m                    case 4: \u001b[0m\u001b[1m\u001b[30m\u001b[41mmodificar\u001b[0m\u001b[1m\u001b[30m (); break;\u001b[0m",
      "\u001b[1m\u001b[31mcannot find symbol\u001b[0m",
      "\u001b[1m\u001b[31m  symbol:   method modificar()\u001b[0m",
      "",
      "\u001b[1m\u001b[30m|   \u001b[1m\u001b[30m                    case 5: \u001b[0m\u001b[1m\u001b[30m\u001b[41mver\u001b[0m\u001b[1m\u001b[30m (); break;\u001b[0m",
      "\u001b[1m\u001b[31mcannot find symbol\u001b[0m",
      "\u001b[1m\u001b[31m  symbol:   method ver()\u001b[0m",
      "",
      "\u001b[1m\u001b[30m|   \u001b[1m\u001b[30m                    case 6: \u001b[0m\u001b[1m\u001b[30m\u001b[41msalir\u001b[0m\u001b[1m\u001b[30m (); break;\u001b[0m",
      "\u001b[1m\u001b[31mcannot find symbol\u001b[0m",
      "\u001b[1m\u001b[31m  symbol:   method salir()\u001b[0m",
      ""
     ]
    }
   ],
   "source": [
    "// Mostrar Menu con do-while\n",
    "int opcion;\n",
    "do {\n",
    "            miVista.mostrarMenu ();\n",
    "            int opcion = miVista.leerOpcion ();\n",
    "            \n",
    "                switch (opcion) {\n",
    "                    case 1: adicionar (); break;\n",
    "                    case 2: buscar (); break;\n",
    "                    case 3: eliminar (); break;\n",
    "                    case 4: modificar (); break;\n",
    "                    case 5: ver (); break;\n",
    "                    case 6: salir (); break;\n",
    "                }\n",
    "}while (opcion !=6);"
   ]
  },
  {
   "cell_type": "code",
   "execution_count": 13,
   "metadata": {},
   "outputs": [
    {
     "name": "stdout",
     "output_type": "stream",
     "text": [
      "Valor de i: 0\n",
      "Valor de i: 1\n",
      "Valor de i: 2\n",
      "Valor de i: 3\n",
      "Valor de i: 4\n",
      "Valor de i: 5\n",
      "Valor de i: 6\n",
      "Valor de i: 7\n",
      "Valor de i: 8\n",
      "Valor de i: 9\n"
     ]
    }
   ],
   "source": [
    "// Ciclo for (inicializacion; condicion; incremento) {\n",
    "   // Codigo\n",
    "// }\n",
    "\n",
    "// Ejemplo\n",
    "\n",
    "for (int i=0; i<10; i++) {\n",
    "    System.out.println (\"Valor de i: \" + i);\n",
    "}"
   ]
  },
  {
   "cell_type": "markdown",
   "metadata": {},
   "source": [
    "# Excepciones\n",
    "- Java busca ser seguro\n",
    "- Están relacionadas con el manejo de errores\n",
    "- Java es capaz de capturar diferentes errores o excepcione y avisarle al programa\n",
    "- Normalmente una excepcion no manejada termina el programa de forma abrupta o hace algo que no es.\n",
    "\n",
    "- Se maneja excepciones para bloques de código a travez del bloque **try-catch**"
   ]
  },
  {
   "cell_type": "markdown",
   "metadata": {},
   "source": [
    "## Bloque try-catch"
   ]
  },
  {
   "cell_type": "code",
   "execution_count": 14,
   "metadata": {},
   "outputs": [
    {
     "ename": "CompilationException",
     "evalue": "",
     "output_type": "error",
     "traceback": [
      "\u001b[1m\u001b[30m|   \u001b[1m\u001b[30m}catch (\u001b[0m\u001b[1m\u001b[30m\u001b[41mNombreDeLaExcepcion\u001b[0m\u001b[1m\u001b[30m x) {\u001b[0m",
      "\u001b[1m\u001b[31mcannot find symbol\u001b[0m",
      "\u001b[1m\u001b[31m  symbol:   class NombreDeLaExcepcion\u001b[0m",
      ""
     ]
    }
   ],
   "source": [
    "try {\n",
    "// Bloque de código\n",
    "// Bloque de código\n",
    "// Bloque de código\n",
    "// Bloque de código\n",
    "// Bloque de código\n",
    "}catch (NombreDeLaExcepcion x) {\n",
    "    // Bloque de manejo de la excepcion\n",
    "}"
   ]
  },
  {
   "cell_type": "code",
   "execution_count": 15,
   "metadata": {},
   "outputs": [
    {
     "ename": "EvalException",
     "evalue": "/ by zero",
     "output_type": "error",
     "traceback": [
      "\u001b[1m\u001b[31m---------------------------------------------------------------------------\u001b[0m",
      "\u001b[1m\u001b[31mjava.lang.ArithmeticException: / by zero\u001b[0m",
      "\u001b[1m\u001b[31m\tat .(#29:1)\u001b[0m"
     ]
    }
   ],
   "source": [
    "int a;\n",
    "int b;\n",
    "\n",
    "a = 20 / b;"
   ]
  }
 ],
 "metadata": {
  "kernelspec": {
   "display_name": "Java",
   "language": "java",
   "name": "java"
  },
  "language_info": {
   "codemirror_mode": "java",
   "file_extension": ".jshell",
   "mimetype": "text/x-java-source",
   "name": "Java",
   "pygments_lexer": "java",
   "version": "16.0.1+9-24"
  }
 },
 "nbformat": 4,
 "nbformat_minor": 4
}
