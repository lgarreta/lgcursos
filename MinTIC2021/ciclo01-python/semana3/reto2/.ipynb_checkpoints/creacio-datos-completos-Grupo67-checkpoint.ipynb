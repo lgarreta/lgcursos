{
 "cells": [
  {
   "cell_type": "markdown",
   "metadata": {},
   "source": [
    "# Create derived data from from original\n",
    "- NombreApellido and ApellidoNombre from Nombre and Apellido"
   ]
  },
  {
   "cell_type": "code",
   "execution_count": 2,
   "metadata": {},
   "outputs": [],
   "source": [
    "setwd (\"/home/lg/repos/lgcursos/2021/MinTIC2021/MinTIC-Python/asistencia/otros/\")"
   ]
  },
  {
   "cell_type": "code",
   "execution_count": 5,
   "metadata": {},
   "outputs": [
    {
     "data": {
      "text/html": [
       "<table class=\"dataframe\">\n",
       "<caption>A data.frame: 6 × 3</caption>\n",
       "<thead>\n",
       "\t<tr><th></th><th scope=col>Nombre</th><th scope=col>Apellido</th><th scope=col>Correo</th></tr>\n",
       "\t<tr><th></th><th scope=col>&lt;fct&gt;</th><th scope=col>&lt;fct&gt;</th><th scope=col>&lt;fct&gt;</th></tr>\n",
       "</thead>\n",
       "<tbody>\n",
       "\t<tr><th scope=row>1</th><td>GEOVANI ARIEL  </td><td>VILLAMIL AVILA    </td><td>geovaniariel@gmail.com      </td></tr>\n",
       "\t<tr><th scope=row>2</th><td>Fabian Andres  </td><td>Ruiz Muñoz        </td><td>f-arm@hotmail.com           </td></tr>\n",
       "\t<tr><th scope=row>3</th><td>OTONIEL Gonzalo</td><td>Parra Avendaño    </td><td>gpave2015@gmail.com         </td></tr>\n",
       "\t<tr><th scope=row>4</th><td>Miguel Angel   </td><td>Sepúlveda Burgos  </td><td>masbmiguelburgos@gmail.com  </td></tr>\n",
       "\t<tr><th scope=row>5</th><td>juan erasmo    </td><td>cruz barragan     </td><td>djcruz_92@hotmail.com       </td></tr>\n",
       "\t<tr><th scope=row>6</th><td>Pablo Julio    </td><td>Quintero Gutiérrez</td><td>quinteropablojulio@gmail.com</td></tr>\n",
       "</tbody>\n",
       "</table>\n"
      ],
      "text/latex": [
       "A data.frame: 6 × 3\n",
       "\\begin{tabular}{r|lll}\n",
       "  & Nombre & Apellido & Correo\\\\\n",
       "  & <fct> & <fct> & <fct>\\\\\n",
       "\\hline\n",
       "\t1 & GEOVANI ARIEL   & VILLAMIL AVILA     & geovaniariel@gmail.com      \\\\\n",
       "\t2 & Fabian Andres   & Ruiz Muñoz         & f-arm@hotmail.com           \\\\\n",
       "\t3 & OTONIEL Gonzalo & Parra Avendaño     & gpave2015@gmail.com         \\\\\n",
       "\t4 & Miguel Angel    & Sepúlveda Burgos   & masbmiguelburgos@gmail.com  \\\\\n",
       "\t5 & juan erasmo     & cruz barragan      & djcruz\\_92@hotmail.com       \\\\\n",
       "\t6 & Pablo Julio     & Quintero Gutiérrez & quinteropablojulio@gmail.com\\\\\n",
       "\\end{tabular}\n"
      ],
      "text/markdown": [
       "\n",
       "A data.frame: 6 × 3\n",
       "\n",
       "| <!--/--> | Nombre &lt;fct&gt; | Apellido &lt;fct&gt; | Correo &lt;fct&gt; |\n",
       "|---|---|---|---|\n",
       "| 1 | GEOVANI ARIEL   | VILLAMIL AVILA     | geovaniariel@gmail.com       |\n",
       "| 2 | Fabian Andres   | Ruiz Muñoz         | f-arm@hotmail.com            |\n",
       "| 3 | OTONIEL Gonzalo | Parra Avendaño     | gpave2015@gmail.com          |\n",
       "| 4 | Miguel Angel    | Sepúlveda Burgos   | masbmiguelburgos@gmail.com   |\n",
       "| 5 | juan erasmo     | cruz barragan      | djcruz_92@hotmail.com        |\n",
       "| 6 | Pablo Julio     | Quintero Gutiérrez | quinteropablojulio@gmail.com |\n",
       "\n"
      ],
      "text/plain": [
       "  Nombre          Apellido           Correo                      \n",
       "1 GEOVANI ARIEL   VILLAMIL AVILA     geovaniariel@gmail.com      \n",
       "2 Fabian Andres   Ruiz Muñoz         f-arm@hotmail.com           \n",
       "3 OTONIEL Gonzalo Parra Avendaño     gpave2015@gmail.com         \n",
       "4 Miguel Angel    Sepúlveda Burgos   masbmiguelburgos@gmail.com  \n",
       "5 juan erasmo     cruz barragan      djcruz_92@hotmail.com       \n",
       "6 Pablo Julio     Quintero Gutiérrez quinteropablojulio@gmail.com"
      ]
     },
     "metadata": {},
     "output_type": "display_data"
    }
   ],
   "source": [
    "data = read.csv (\"grupo67-FundamientosProgramacion-Prof-LuisGarreta.csv\")\n",
    "head (data)"
   ]
  },
  {
   "cell_type": "code",
   "execution_count": 8,
   "metadata": {},
   "outputs": [
    {
     "data": {
      "text/html": [
       "<table class=\"dataframe\">\n",
       "<caption>A data.frame: 6 × 5</caption>\n",
       "<thead>\n",
       "\t<tr><th></th><th scope=col>Nombre</th><th scope=col>Apellido</th><th scope=col>Correo</th><th scope=col>NombreApellido</th><th scope=col>ApellidoNombre</th></tr>\n",
       "\t<tr><th></th><th scope=col>&lt;fct&gt;</th><th scope=col>&lt;fct&gt;</th><th scope=col>&lt;fct&gt;</th><th scope=col>&lt;fct&gt;</th><th scope=col>&lt;fct&gt;</th></tr>\n",
       "</thead>\n",
       "<tbody>\n",
       "\t<tr><th scope=row>1</th><td>GEOVANI ARIEL  </td><td>VILLAMIL AVILA    </td><td>geovaniariel@gmail.com      </td><td>GEOVANI ARIEL VILLAMIL AVILA  </td><td>VILLAMIL AVILA GEOVANI ARIEL  </td></tr>\n",
       "\t<tr><th scope=row>2</th><td>Fabian Andres  </td><td>Ruiz Muñoz        </td><td>f-arm@hotmail.com           </td><td>Fabian Andres Ruiz Muñoz      </td><td>Ruiz Muñoz Fabian Andres      </td></tr>\n",
       "\t<tr><th scope=row>3</th><td>OTONIEL Gonzalo</td><td>Parra Avendaño    </td><td>gpave2015@gmail.com         </td><td>OTONIEL Gonzalo Parra Avendaño</td><td>Parra Avendaño OTONIEL Gonzalo</td></tr>\n",
       "\t<tr><th scope=row>4</th><td>Miguel Angel   </td><td>Sepúlveda Burgos  </td><td>masbmiguelburgos@gmail.com  </td><td>Miguel Angel Sepúlveda Burgos </td><td>Sepúlveda Burgos Miguel Angel </td></tr>\n",
       "\t<tr><th scope=row>5</th><td>juan erasmo    </td><td>cruz barragan     </td><td>djcruz_92@hotmail.com       </td><td>juan erasmo cruz barragan     </td><td>cruz barragan juan erasmo     </td></tr>\n",
       "\t<tr><th scope=row>6</th><td>Pablo Julio    </td><td>Quintero Gutiérrez</td><td>quinteropablojulio@gmail.com</td><td>Pablo Julio Quintero Gutiérrez</td><td>Quintero Gutiérrez Pablo Julio</td></tr>\n",
       "</tbody>\n",
       "</table>\n"
      ],
      "text/latex": [
       "A data.frame: 6 × 5\n",
       "\\begin{tabular}{r|lllll}\n",
       "  & Nombre & Apellido & Correo & NombreApellido & ApellidoNombre\\\\\n",
       "  & <fct> & <fct> & <fct> & <fct> & <fct>\\\\\n",
       "\\hline\n",
       "\t1 & GEOVANI ARIEL   & VILLAMIL AVILA     & geovaniariel@gmail.com       & GEOVANI ARIEL VILLAMIL AVILA   & VILLAMIL AVILA GEOVANI ARIEL  \\\\\n",
       "\t2 & Fabian Andres   & Ruiz Muñoz         & f-arm@hotmail.com            & Fabian Andres Ruiz Muñoz       & Ruiz Muñoz Fabian Andres      \\\\\n",
       "\t3 & OTONIEL Gonzalo & Parra Avendaño     & gpave2015@gmail.com          & OTONIEL Gonzalo Parra Avendaño & Parra Avendaño OTONIEL Gonzalo\\\\\n",
       "\t4 & Miguel Angel    & Sepúlveda Burgos   & masbmiguelburgos@gmail.com   & Miguel Angel Sepúlveda Burgos  & Sepúlveda Burgos Miguel Angel \\\\\n",
       "\t5 & juan erasmo     & cruz barragan      & djcruz\\_92@hotmail.com        & juan erasmo cruz barragan      & cruz barragan juan erasmo     \\\\\n",
       "\t6 & Pablo Julio     & Quintero Gutiérrez & quinteropablojulio@gmail.com & Pablo Julio Quintero Gutiérrez & Quintero Gutiérrez Pablo Julio\\\\\n",
       "\\end{tabular}\n"
      ],
      "text/markdown": [
       "\n",
       "A data.frame: 6 × 5\n",
       "\n",
       "| <!--/--> | Nombre &lt;fct&gt; | Apellido &lt;fct&gt; | Correo &lt;fct&gt; | NombreApellido &lt;fct&gt; | ApellidoNombre &lt;fct&gt; |\n",
       "|---|---|---|---|---|---|\n",
       "| 1 | GEOVANI ARIEL   | VILLAMIL AVILA     | geovaniariel@gmail.com       | GEOVANI ARIEL VILLAMIL AVILA   | VILLAMIL AVILA GEOVANI ARIEL   |\n",
       "| 2 | Fabian Andres   | Ruiz Muñoz         | f-arm@hotmail.com            | Fabian Andres Ruiz Muñoz       | Ruiz Muñoz Fabian Andres       |\n",
       "| 3 | OTONIEL Gonzalo | Parra Avendaño     | gpave2015@gmail.com          | OTONIEL Gonzalo Parra Avendaño | Parra Avendaño OTONIEL Gonzalo |\n",
       "| 4 | Miguel Angel    | Sepúlveda Burgos   | masbmiguelburgos@gmail.com   | Miguel Angel Sepúlveda Burgos  | Sepúlveda Burgos Miguel Angel  |\n",
       "| 5 | juan erasmo     | cruz barragan      | djcruz_92@hotmail.com        | juan erasmo cruz barragan      | cruz barragan juan erasmo      |\n",
       "| 6 | Pablo Julio     | Quintero Gutiérrez | quinteropablojulio@gmail.com | Pablo Julio Quintero Gutiérrez | Quintero Gutiérrez Pablo Julio |\n",
       "\n"
      ],
      "text/plain": [
       "  Nombre          Apellido           Correo                      \n",
       "1 GEOVANI ARIEL   VILLAMIL AVILA     geovaniariel@gmail.com      \n",
       "2 Fabian Andres   Ruiz Muñoz         f-arm@hotmail.com           \n",
       "3 OTONIEL Gonzalo Parra Avendaño     gpave2015@gmail.com         \n",
       "4 Miguel Angel    Sepúlveda Burgos   masbmiguelburgos@gmail.com  \n",
       "5 juan erasmo     cruz barragan      djcruz_92@hotmail.com       \n",
       "6 Pablo Julio     Quintero Gutiérrez quinteropablojulio@gmail.com\n",
       "  NombreApellido                 ApellidoNombre                \n",
       "1 GEOVANI ARIEL VILLAMIL AVILA   VILLAMIL AVILA GEOVANI ARIEL  \n",
       "2 Fabian Andres Ruiz Muñoz       Ruiz Muñoz Fabian Andres      \n",
       "3 OTONIEL Gonzalo Parra Avendaño Parra Avendaño OTONIEL Gonzalo\n",
       "4 Miguel Angel Sepúlveda Burgos  Sepúlveda Burgos Miguel Angel \n",
       "5 juan erasmo cruz barragan      cruz barragan juan erasmo     \n",
       "6 Pablo Julio Quintero Gutiérrez Quintero Gutiérrez Pablo Julio"
      ]
     },
     "metadata": {},
     "output_type": "display_data"
    }
   ],
   "source": [
    "nombreApellido = paste (data$Nombre, data$Apellido)\n",
    "apellidoNombre = paste (data$Apellido, data$Nombre)\n",
    "dataFull = data.frame (data, NombreApellido=nombreApellido, ApellidoNombre=apellidoNombre)\n",
    "head (dataFull)"
   ]
  },
  {
   "cell_type": "code",
   "execution_count": 9,
   "metadata": {},
   "outputs": [],
   "source": [
    "write.csv (dataFull,\"Grupo67-DatosCompletos.csv\", row.names=F)"
   ]
  }
 ],
 "metadata": {
  "kernelspec": {
   "display_name": "R",
   "language": "R",
   "name": "ir"
  },
  "language_info": {
   "codemirror_mode": "r",
   "file_extension": ".r",
   "mimetype": "text/x-r-source",
   "name": "R",
   "pygments_lexer": "r",
   "version": "3.6.3"
  }
 },
 "nbformat": 4,
 "nbformat_minor": 4
}
