{
 "cells": [
  {
   "cell_type": "markdown",
   "metadata": {},
   "source": [
    "# Get name and grade from subdirs gotten from VPL evaluator"
   ]
  },
  {
   "cell_type": "code",
   "execution_count": 13,
   "metadata": {},
   "outputs": [],
   "source": [
    "import os, sys"
   ]
  },
  {
   "cell_type": "code",
   "execution_count": 20,
   "metadata": {},
   "outputs": [],
   "source": [
    "inDir = \"VPL-Junio01\"\n",
    "dirList = [x for x in os.listdir (inDir)]"
   ]
  },
  {
   "cell_type": "code",
   "execution_count": 22,
   "metadata": {},
   "outputs": [
    {
     "name": "stdout",
     "output_type": "stream",
     "text": [
      "['2021-05-26-07-43-20.ceg', '2021-05-26-07-43-20']\n",
      "['2021-05-24-10-26-00', '2021-05-24-10-26-00.ceg']\n",
      "['2021-05-24-08-47-24.ceg', '2021-05-24-08-47-24']\n",
      "['2021-05-24-08-29-04.ceg', '2021-05-24-08-29-04']\n",
      "['2021-05-30-23-12-41', '2021-05-30-23-12-41.ceg']\n",
      "['2021-05-24-08-27-00', '2021-05-24-08-27-00.ceg']\n",
      "['2021-05-24-08-29-30.ceg', '2021-05-24-08-29-30']\n",
      "['2021-05-24-16-36-24.ceg', '2021-05-24-16-36-24']\n",
      "['2021-05-24-10-17-02.ceg', '2021-05-24-10-17-02']\n",
      "['2021-05-26-07-18-43', '2021-05-26-07-18-43.ceg']\n",
      "['2021-05-26-07-09-13.ceg', '2021-05-26-07-09-13']\n",
      "['2021-05-30-23-22-35.ceg', '2021-05-30-23-22-35']\n",
      "['2021-05-24-09-20-32', '2021-05-24-09-20-32.ceg']\n",
      "['2021-05-24-09-11-48', '2021-05-24-09-11-48.ceg']\n",
      "['2021-05-24-20-38-02.ceg', '2021-05-24-20-38-02']\n",
      "['2021-05-29-15-32-16', '2021-05-29-15-32-16.ceg']\n",
      "['2021-05-26-07-27-20.ceg', '2021-05-26-07-27-20']\n",
      "['2021-05-24-08-23-12', '2021-05-24-08-23-12.ceg']\n",
      "['2021-05-24-10-54-03', '2021-05-24-10-54-03.ceg']\n",
      "['2021-05-24-10-30-50', '2021-05-24-10-30-50.ceg']\n",
      "['2021-05-26-10-16-52', '2021-05-26-10-16-52.ceg']\n",
      "['2021-05-24-10-11-24.ceg', '2021-05-24-10-11-24']\n",
      "['2021-05-24-09-02-01.ceg', '2021-05-24-09-02-01']\n",
      "['2021-05-24-08-26-55.ceg', '2021-05-24-08-26-55']\n",
      "['2021-05-26-07-56-35', '2021-05-26-07-56-35.ceg']\n",
      "['2021-05-25-23-06-54', '2021-05-25-23-06-54.ceg']\n",
      "['2021-05-24-10-33-06', '2021-05-24-10-33-06.ceg']\n",
      "['2021-05-26-07-49-23', '2021-05-26-07-49-23.ceg']\n",
      "['2021-05-24-19-29-12.ceg', '2021-05-24-19-29-12']\n",
      "['2021-05-24-08-28-28.ceg', '2021-05-24-08-28-28']\n",
      "['2021-05-24-18-54-50', '2021-05-24-18-54-50.ceg']\n",
      "['2021-05-24-09-13-37.ceg', '2021-05-24-09-13-37']\n",
      "['2021-05-30-20-33-16.ceg', '2021-05-30-20-33-16']\n",
      "['2021-05-24-10-39-58.ceg', '2021-05-24-10-39-58']\n",
      "['2021-05-25-19-14-28.ceg', '2021-05-25-19-14-28']\n"
     ]
    }
   ],
   "source": [
    "outFile = open (\"calificaciones-reto2-VPL-Junio.csv\", \"w\")\n",
    "for dir in dirList:\n",
    "    name = dir.split()[:-1]\n",
    "    dirStudent = inDir+\"/\" + dir\n",
    "    sd = os.listdir (dirStudent)\n",
    "    \n",
    "    print (sd)\n",
    "    \n",
    "    cegDir = [dirStudent+\"/\"+x for x in sd if x.find (\".ceg\")>0][0]\n",
    "    compilationFile = cegDir+\"/execution.txt\"\n",
    "    gradeLine = open (compilationFile).readlines()[-1]\n",
    "    grade = gradeLine.split (\">>\")[-1]\n",
    "    nameGrade = (\"'%s', %s\" %(\" \".join (name), grade))\n",
    "    outFile.write (nameGrade)\n",
    "#\n",
    "outFile.close()\n",
    "    \n"
   ]
  },
  {
   "cell_type": "code",
   "execution_count": null,
   "metadata": {},
   "outputs": [],
   "source": []
  },
  {
   "cell_type": "code",
   "execution_count": null,
   "metadata": {},
   "outputs": [],
   "source": []
  }
 ],
 "metadata": {
  "kernelspec": {
   "display_name": "Python 3",
   "language": "python",
   "name": "python3"
  },
  "language_info": {
   "codemirror_mode": {
    "name": "ipython",
    "version": 3
   },
   "file_extension": ".py",
   "mimetype": "text/x-python",
   "name": "python",
   "nbconvert_exporter": "python",
   "pygments_lexer": "ipython3",
   "version": "3.8.5"
  }
 },
 "nbformat": 4,
 "nbformat_minor": 4
}
