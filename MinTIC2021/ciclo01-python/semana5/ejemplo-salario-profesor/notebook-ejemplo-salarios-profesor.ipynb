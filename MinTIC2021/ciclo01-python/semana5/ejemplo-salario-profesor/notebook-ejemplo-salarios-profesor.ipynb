{
 "cells": [
  {
   "cell_type": "code",
   "execution_count": 17,
   "metadata": {},
   "outputs": [],
   "source": [
    "# CONSTANTES\n",
    "porcentajeWEBEX = 0.04\n",
    "\n",
    "# Funciones \n",
    "def calcularPagoHorasFormador (horasTrabajadasTotales, valorHoraFormador):\n",
    "    if (horasTrabajadasTotales > 7.5):\n",
    "        horasTutor   = horasTrabajadasTotales - 7.5\n",
    "        horasFormador = horasTrabajadasTotales - horasTutor\n",
    "    else:\n",
    "        horasTutor   = 0\n",
    "        horasFormador = horasTrabajadas\n",
    "    #\n",
    "    pago = horasFormador * valorHoraFormador\n",
    "    return (pago)\n",
    "\n",
    "def calcularPagoHorasTutor (horasTrabajadasTotales, valorHoraFormador):\n",
    "    valorHoraTutor = 0.5 * valorHoraFormador  # 1/2\n",
    "    if (horasTrabajadasTotales > 7.5):\n",
    "        horasTutor = horasTrabajadasTotales - 7.5\n",
    "    else:\n",
    "        horasTutor = 0\n",
    "    #\n",
    "    pago = horasTutor * valorHoraTutor\n",
    "    return (pago)\n",
    "\n",
    "def calcularSueldoBruto (pagoFormador, pagoTutor, promEstudiantes, valorHoraFormador):\n",
    "    pagoEstudiantes = 0.01 * promEstudiantes * valorHoraFormador\n",
    "    \n",
    "    sueldoBruto = pagoFormador + pagoTutor + pagoEstudiantes\n",
    "    return (sueldoBruto)\n",
    "\n",
    "def calcularDescuentos (sueldoBruto):\n",
    "    totalDescuentos = 0.04*sueldoBruto + 0.04*sueldoBruto\n",
    "    return (totalDescuentos)\n",
    "  \n",
    "    \n",
    "# Inicializacion de Variable\n",
    "pagoHorasFormador = 0\n",
    "pagoHorasTutor    = 0\n",
    "sueldoBruto       = 0\n",
    "descuentos        = 0"
   ]
  },
  {
   "cell_type": "code",
   "execution_count": 18,
   "metadata": {},
   "outputs": [
    {
     "name": "stdout",
     "output_type": "stream",
     "text": [
      "Horas Trabajadas: 10\n",
      "Valor Hora: 200\n",
      "Promedio Estudiantes: 30\n",
      "Pago Horas Formaador:  1500.0\n",
      "Pago Horas Tutor:  250.0\n",
      "Sueldo Bruto:  1810.0\n",
      "Descuentos:  144.8\n"
     ]
    }
   ],
   "source": [
    "horasTrabajadasTotales = float (input(\"Horas Trabajadas: \"))\n",
    "valorHoraFormador      = int (input (\"Valor Hora: \"))\n",
    "promedioEstudiantes    = int (input (\"Promedio Estudiantes: \")) \n",
    "\n",
    "pagoHorasFormador = calcularPagoHorasFormador (horasTrabajadasTotales, valorHoraFormador)\n",
    "\n",
    "pagoHorasTutor     = calcularPagoHorasTutor (horasTrabajadasTotales, valorHoraFormador)\n",
    "\n",
    "sueldoBruto       = calcularSueldoBruto (pagoHorasFormador, pagoHorasTutor, promedioEstudiantes, valorHoraFormador)\n",
    "\n",
    "descuentos        = calcularDescuentos (sueldoBruto)\n",
    "\n",
    "print (\"Pago Horas Formaador: \", pagoHorasFormador)\n",
    "print (\"Pago Horas Tutor: \", pagoHorasTutor)\n",
    "print (\"Sueldo Bruto: \", sueldoBruto)\n",
    "print (\"Descuentos: \", descuentos)\n"
   ]
  },
  {
   "cell_type": "code",
   "execution_count": null,
   "metadata": {},
   "outputs": [],
   "source": []
  }
 ],
 "metadata": {
  "kernelspec": {
   "display_name": "Python 3",
   "language": "python",
   "name": "python3"
  },
  "language_info": {
   "codemirror_mode": {
    "name": "ipython",
    "version": 3
   },
   "file_extension": ".py",
   "mimetype": "text/x-python",
   "name": "python",
   "nbconvert_exporter": "python",
   "pygments_lexer": "ipython3",
   "version": "3.8.5"
  }
 },
 "nbformat": 4,
 "nbformat_minor": 4
}
