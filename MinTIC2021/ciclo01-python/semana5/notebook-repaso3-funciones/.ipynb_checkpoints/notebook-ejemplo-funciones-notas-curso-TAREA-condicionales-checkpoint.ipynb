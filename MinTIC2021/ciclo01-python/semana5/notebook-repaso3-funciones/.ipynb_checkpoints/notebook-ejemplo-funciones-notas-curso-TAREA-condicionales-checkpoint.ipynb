{
 "cells": [
  {
   "cell_type": "markdown",
   "metadata": {},
   "source": [
    "# Repaso 3: Funciones, Programación Top-Down\n",
    "- Subprogramas\n",
    "- Se definen primero\n",
    "- Se usan después (llamado a la función)\n",
    "\n",
    "- Definicion:\n"
   ]
  },
  {
   "cell_type": "code",
   "execution_count": 1,
   "metadata": {
    "collapsed": true
   },
   "outputs": [
    {
     "ename": "SyntaxError",
     "evalue": "invalid syntax (<ipython-input-1-8cf94177f070>, line 4)",
     "output_type": "error",
     "traceback": [
      "\u001b[0;36m  File \u001b[0;32m\"<ipython-input-1-8cf94177f070>\"\u001b[0;36m, line \u001b[0;32m4\u001b[0m\n\u001b[0;31m    ....\u001b[0m\n\u001b[0m        ^\u001b[0m\n\u001b[0;31mSyntaxError\u001b[0m\u001b[0;31m:\u001b[0m invalid syntax\n"
     ]
    }
   ],
   "source": [
    "def NOMBREFUNCION (Parametros):\n",
    "   intruccion1\n",
    "   instruccion2\n",
    "   ....\n",
    "#"
   ]
  },
  {
   "cell_type": "code",
   "execution_count": 6,
   "metadata": {},
   "outputs": [],
   "source": [
    "# Ejemplo1: división de dos números\n",
    "def division (a, b):\n",
    "    resultado = 0    \n",
    "    if (b==0):\n",
    "        resultado = 0\n",
    "    else:\n",
    "        resultado = a / b\n",
    "    #\n",
    "    return (resultado)\n",
    "#\n"
   ]
  },
  {
   "cell_type": "code",
   "execution_count": 8,
   "metadata": {},
   "outputs": [
    {
     "name": "stdout",
     "output_type": "stream",
     "text": [
      "2.0\n"
     ]
    }
   ],
   "source": [
    "# Llamado a la funcioón mutiplicacion\n",
    "x = division (6, 3)\n",
    "print (x)"
   ]
  },
  {
   "cell_type": "code",
   "execution_count": 10,
   "metadata": {},
   "outputs": [
    {
     "name": "stdout",
     "output_type": "stream",
     "text": [
      "2.3333333333333335\n"
     ]
    }
   ],
   "source": [
    "n = 7\n",
    "m = 3\n",
    "y = division (n, m)\n",
    "print (y)"
   ]
  },
  {
   "cell_type": "code",
   "execution_count": 12,
   "metadata": {},
   "outputs": [
    {
     "name": "stdout",
     "output_type": "stream",
     "text": [
      "2.0\n"
     ]
    }
   ],
   "source": [
    "n = 8\n",
    "z = division (n, 4)\n",
    "print (z)"
   ]
  },
  {
   "cell_type": "code",
   "execution_count": 15,
   "metadata": {},
   "outputs": [
    {
     "name": "stdout",
     "output_type": "stream",
     "text": [
      "0\n"
     ]
    }
   ],
   "source": [
    "w = division (9, 0)\n",
    "print (w)"
   ]
  },
  {
   "cell_type": "markdown",
   "metadata": {},
   "source": [
    "## Programación top-down: de arriba hacia bajo\n",
    "- Va desde arriba, desde lo más general hasta lo más específicio\n",
    "- Resuelve el algoritmo, asumiendo que las funciones ya están\n",
    "- Por cada función aplica el mismo principio top-down\n",
    "- La clave es establecer bien las funciones:\n",
    "  - Que le entra (parámetros)\n",
    "  - Que devuelven (retornan)"
   ]
  },
  {
   "cell_type": "markdown",
   "metadata": {},
   "source": [
    "# Ejemplo Notas de Curso:\n",
    "Se ingresan tres notas, se quiere calcular la nota definitiva (promedio). Para la nota definitiva tener en cuenta que la primera vale el 50% y la segunda el 30%. \n",
    "\n",
    "Tambien se ingresa el porcentaje de participacion y si es > 50% le da un bono de 0.5 y si es mayor de 30% le da un bono de 0.3, de lo contrario no le da bono.\n",
    "\n",
    "La nota total es la nota definitiva más el bono, pero debe teniendo en cuenta que no se pase de 5.0\n",
    "\n",
    "Finalmente, imprima la nota minima y la nota máxima."
   ]
  },
  {
   "cell_type": "code",
   "execution_count": 35,
   "metadata": {},
   "outputs": [
    {
     "name": "stdout",
     "output_type": "stream",
     "text": [
      "Ingrese Nota1: 5.0\n",
      "Ingrese Nota2: 4.5\n",
      "Ingrese Nota3: 4.8\n",
      "Ingrese Porcentaje Participación: 60\n"
     ]
    }
   ],
   "source": [
    "# ENTRADAS\n",
    "nota1 = float (input(\"Ingrese Nota1: \"))\n",
    "nota2 = float (input(\"Ingrese Nota2: \"))\n",
    "nota3 = float (input(\"Ingrese Nota3: \"))\n",
    "porcentajeParticipacion = int (input(\"Ingrese Porcentaje Participación: \"))\n",
    "\n",
    "# VARIABLES\n",
    "notaTotal = 0"
   ]
  },
  {
   "cell_type": "code",
   "execution_count": 47,
   "metadata": {},
   "outputs": [],
   "source": [
    "# DEFINICION DE FUNCIONES\n",
    "# Porcentajes definidos n1: 50%, n2:30%, n3:20%\n",
    "# Ejemplo: 0.5*3.0  + 0.3*4.0  + 0.2*2.0     = 3.1\n",
    "def calcularNotaDefinitiva (n1, n2, n3):\n",
    "    notaDef = 0.5*n1  +  0.3*n2   + 0.2*n3\n",
    "    return (notaDef)\n",
    "#\n",
    "\n",
    "# Funcion calcularBono: 50% : 0.5, 30% : 0.3, resto: 0.0\n",
    "def calcularBono (porcentaje):\n",
    "    valBono = 0\n",
    "    if (porcentaje >= 50):\n",
    "        valBono = 0.5\n",
    "    elif (porcentaje >= 30):\n",
    "        valBono = 0.3\n",
    "    else:\n",
    "        valBono = 0.0\n",
    "    #\n",
    "    return (valBono)\n",
    "#\n",
    "\n",
    "# Función calcularNotaTotal: notaDef + bono pero sin pasar de 5.0\n",
    "def calcularNotaTotal (nDef, vBono):\n",
    "    nTotal = nDef + vBono\n",
    "    \n",
    "    if (nTotal > 5.0):\n",
    "        nTotal = 5.0\n",
    "    #\n",
    "    return (nTotal)\n",
    "#\n",
    "\n",
    "# Función imprimir nota minima y máxima\n",
    "def imprimirMinimaMaxima (nota1, nota2, nota3):\n",
    "    # Realizarlo con condicionales  NO listas\n",
    "    #....x\n",
    "    #....\n",
    "    print (\"Minimo es: \", minimo)\n",
    "    print (\"Maximo es: \", maximo)\n",
    "#   "
   ]
  },
  {
   "cell_type": "code",
   "execution_count": 49,
   "metadata": {},
   "outputs": [
    {
     "name": "stdout",
     "output_type": "stream",
     "text": [
      "4.81\n",
      "0.5\n",
      "Nota total:  5.0\n",
      "Minimo es:  4.5\n",
      "Maximo es:  5.0\n"
     ]
    }
   ],
   "source": [
    "# PROCESO\n",
    "notaDefinitiva = calcularNotaDefinitiva (nota1, nota2, nota3)\n",
    "print (notaDefinitiva)\n",
    "\n",
    "valorBono    = calcularBono (porcentajeParticipacion)\n",
    "print (valorBono)\n",
    "\n",
    "notaTotal    = calcularNotaTotal (notaDefinitiva, valorBono)\n",
    "\n",
    "print (\"Nota total: \", notaTotal)\n",
    "\n",
    "imprimirMinimaMaxima (nota1, nota2, nota3)"
   ]
  },
  {
   "cell_type": "code",
   "execution_count": null,
   "metadata": {},
   "outputs": [],
   "source": [
    "# SALIDAS\n",
    "print (notaTotal)"
   ]
  },
  {
   "cell_type": "code",
   "execution_count": null,
   "metadata": {},
   "outputs": [],
   "source": []
  },
  {
   "cell_type": "code",
   "execution_count": null,
   "metadata": {},
   "outputs": [],
   "source": []
  },
  {
   "cell_type": "code",
   "execution_count": null,
   "metadata": {},
   "outputs": [],
   "source": []
  },
  {
   "cell_type": "code",
   "execution_count": null,
   "metadata": {},
   "outputs": [],
   "source": []
  },
  {
   "cell_type": "markdown",
   "metadata": {},
   "source": [
    "# Repaso Listas\n",
    "- Contenedor de varios elementos\n",
    "- Simbolo: []\n",
    "- Puede contener uno o más elementos\n",
    "- Elemento inicial esta en la posició 0\n",
    "- Elemento final está en la posición N-1, lista de N elementos"
   ]
  },
  {
   "cell_type": "code",
   "execution_count": 42,
   "metadata": {},
   "outputs": [
    {
     "name": "stdout",
     "output_type": "stream",
     "text": [
      "[3.0, 5.0, 1.0, 4.0]\n"
     ]
    }
   ],
   "source": [
    "## Ejemplos\n",
    "listaNumeros = [3.0, 5.0, 1.0, 4.0]\n",
    "print (listaNumeros)"
   ]
  },
  {
   "cell_type": "code",
   "execution_count": 43,
   "metadata": {},
   "outputs": [
    {
     "data": {
      "text/plain": [
       "1.0"
      ]
     },
     "execution_count": 43,
     "metadata": {},
     "output_type": "execute_result"
    }
   ],
   "source": [
    "# Función \"min\" retorna el mínimo de la lista\n",
    "min (listaNumeros)"
   ]
  },
  {
   "cell_type": "code",
   "execution_count": 44,
   "metadata": {},
   "outputs": [
    {
     "data": {
      "text/plain": [
       "5.0"
      ]
     },
     "execution_count": 44,
     "metadata": {},
     "output_type": "execute_result"
    }
   ],
   "source": [
    "max (listaNumeros)"
   ]
  },
  {
   "cell_type": "code",
   "execution_count": 14,
   "metadata": {},
   "outputs": [
    {
     "name": "stdout",
     "output_type": "stream",
     "text": [
      "\n",
      "\n",
      "\n",
      "\n",
      "\n",
      "\n",
      "\n",
      "\n",
      "\n",
      "\n",
      "\n",
      "\n",
      "\n",
      "\n",
      "\n",
      "\n",
      "\n",
      "\n",
      "\n",
      "\n",
      "\n",
      "\n",
      "\n",
      "\n",
      "\n",
      "\n",
      "\n",
      "\n",
      "\n",
      "\n",
      "\n",
      "\n",
      "\n",
      "\n",
      "\n",
      "\n",
      "\n",
      "\n",
      "\n",
      "\n",
      "\n",
      "\n",
      "\n",
      "\n",
      "\n",
      "\n",
      "\n",
      "\n",
      "\n",
      "\n",
      "\n",
      "\n",
      "\n",
      "\n",
      "\n",
      "\n",
      "\n",
      "\n",
      "\n",
      "\n",
      "\n",
      "\n",
      "\n",
      "\n",
      "\n",
      "\n",
      "\n",
      "\n",
      "\n",
      "\n",
      "\n",
      "\n",
      "\n",
      "\n",
      "\n",
      "\n",
      "\n",
      "\n",
      "\n",
      "\n",
      "\n",
      "\n",
      "\n",
      "\n",
      "\n",
      "\n",
      "\n",
      "\n",
      "\n",
      "\n",
      "\n",
      "\n",
      "\n",
      "\n",
      "\n",
      "\n",
      "\n",
      "\n",
      "\n",
      "\n",
      "\n"
     ]
    }
   ],
   "source": [
    "print (\"\\n\"*100)"
   ]
  },
  {
   "cell_type": "code",
   "execution_count": null,
   "metadata": {},
   "outputs": [],
   "source": []
  },
  {
   "cell_type": "code",
   "execution_count": null,
   "metadata": {},
   "outputs": [],
   "source": []
  },
  {
   "cell_type": "code",
   "execution_count": null,
   "metadata": {},
   "outputs": [],
   "source": []
  },
  {
   "cell_type": "code",
   "execution_count": null,
   "metadata": {},
   "outputs": [],
   "source": []
  },
  {
   "cell_type": "code",
   "execution_count": null,
   "metadata": {},
   "outputs": [],
   "source": []
  }
 ],
 "metadata": {
  "kernelspec": {
   "display_name": "Python 3",
   "language": "python",
   "name": "python3"
  },
  "language_info": {
   "codemirror_mode": {
    "name": "ipython",
    "version": 3
   },
   "file_extension": ".py",
   "mimetype": "text/x-python",
   "name": "python",
   "nbconvert_exporter": "python",
   "pygments_lexer": "ipython3",
   "version": "3.8.5"
  }
 },
 "nbformat": 4,
 "nbformat_minor": 4
}
