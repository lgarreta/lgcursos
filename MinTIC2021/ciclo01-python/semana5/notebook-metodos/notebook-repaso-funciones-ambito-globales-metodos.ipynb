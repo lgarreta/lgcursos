{
 "cells": [
  {
   "cell_type": "markdown",
   "metadata": {},
   "source": [
    "# Repaso y Ejemplos de Funciones\n",
    "- Subprogramas\n",
    "- Permiten reusar código\n",
    "- Permiten hacer programas modulares y más legibles\n",
    "\n",
    "## Funciones\n",
    "- Tienen un nombre \n",
    "- Tienen párametros/argumentos de entrada, generalmente\n",
    "- Retorna resultado, generalmente\n",
    "- Bloques de códigos: dos puntos, identación\n",
    "\n",
    "## Tipos de Funciones:\n",
    "- Funciones propias del lenguaje (built-in): print, input, int, float, str\n",
    "- Funciones externas (Librerias):\n",
    "  - **math**: cos, sin, pow, trunc\n",
    "  - **str**: upper, lower, concat, \n",
    "  - **random**: randint \n",
    "- Funciones propias del usuario:\n",
    "  - Construye el propio usuario\n",
    "  "
   ]
  },
  {
   "cell_type": "code",
   "execution_count": null,
   "metadata": {},
   "outputs": [],
   "source": []
  },
  {
   "cell_type": "markdown",
   "metadata": {},
   "source": [
    "## Ejemplos"
   ]
  },
  {
   "cell_type": "code",
   "execution_count": 2,
   "metadata": {},
   "outputs": [
    {
     "name": "stdout",
     "output_type": "stream",
     "text": [
      "Hola \n"
     ]
    }
   ],
   "source": [
    "print (\"Hola \")"
   ]
  },
  {
   "cell_type": "code",
   "execution_count": 9,
   "metadata": {},
   "outputs": [
    {
     "name": "stdout",
     "output_type": "stream",
     "text": [
      "Ingrese cadena: Maria\n",
      "Maria\n"
     ]
    }
   ],
   "source": [
    "a = input (\"Ingrese cadena: \")\n",
    "\n",
    "print (a)"
   ]
  },
  {
   "cell_type": "markdown",
   "metadata": {},
   "source": [
    "## Ejemplos de funciones externas"
   ]
  },
  {
   "cell_type": "code",
   "execution_count": 18,
   "metadata": {},
   "outputs": [
    {
     "name": "stdout",
     "output_type": "stream",
     "text": [
      "0.8775825618903728\n",
      "0.479425538604203\n",
      "8.0\n",
      "0.6967067093471654\n",
      "K:  0.6390124941652592\n"
     ]
    }
   ],
   "source": [
    "# Ejemplo1: libreria math\n",
    "\n",
    "from math import *   # cos, sin, trunc, pow,. ...\n",
    "\n",
    "x = 0.5\n",
    "\n",
    "y = cos (x)\n",
    "print (y)\n",
    "\n",
    "z = sin (x)\n",
    "print (z)\n",
    "\n",
    "w = pow (2, 3)   # 2^3 = 2*2*2\n",
    "print (w)\n",
    "\n",
    "m = cos (0.8)\n",
    "print (m)\n",
    "\n",
    "k = cos (y)\n",
    "print (\"K: \", k)"
   ]
  },
  {
   "cell_type": "code",
   "execution_count": 39,
   "metadata": {},
   "outputs": [
    {
     "name": "stdout",
     "output_type": "stream",
     "text": [
      "16\n"
     ]
    }
   ],
   "source": [
    "# Ejemplo2: libreria random\n",
    "from random import randint\n",
    "\n",
    "numeroMagico = randint (0,100)\n",
    "print (numeroMagico)"
   ]
  },
  {
   "cell_type": "markdown",
   "metadata": {},
   "source": [
    "# Funciones propias del usuario\n",
    "- Definirse con la palabra reservada **def**\n",
    "- nombre de la función\n",
    "- Los parámetros, entre parentesis\n",
    "- Dos puntos (bloque de código)\n",
    "- Bloque de instrucciones IDENTADO\n",
    "- Sale de la identación"
   ]
  },
  {
   "cell_type": "markdown",
   "metadata": {},
   "source": [
    "## Ejemplo función suma: definición y llamado\n",
    "suma de dos números, ingresan a y b y returna a+b"
   ]
  },
  {
   "cell_type": "code",
   "execution_count": 43,
   "metadata": {},
   "outputs": [],
   "source": [
    "# Definición de una función\n",
    "def suma (a, b):\n",
    "    c = a + b\n",
    "    return (c)"
   ]
  },
  {
   "cell_type": "code",
   "execution_count": 45,
   "metadata": {},
   "outputs": [
    {
     "name": "stdout",
     "output_type": "stream",
     "text": [
      "12\n",
      "100\n"
     ]
    }
   ],
   "source": [
    "## Llamado de una función\n",
    "z = suma (5, 7)\n",
    "print (z)\n",
    "print (c)"
   ]
  },
  {
   "cell_type": "code",
   "execution_count": 47,
   "metadata": {},
   "outputs": [
    {
     "name": "stdout",
     "output_type": "stream",
     "text": [
      "47\n"
     ]
    }
   ],
   "source": [
    "w = suma (7, 5) + suma (8,3) + suma (z, z)\n",
    "#       12      +     11     +    24\n",
    "print (w)"
   ]
  },
  {
   "cell_type": "code",
   "execution_count": 49,
   "metadata": {},
   "outputs": [],
   "source": [
    "def suma (a, b, c):\n",
    "    resultado = a + b + c\n",
    "    return (resultado)"
   ]
  },
  {
   "cell_type": "code",
   "execution_count": 51,
   "metadata": {},
   "outputs": [
    {
     "name": "stdout",
     "output_type": "stream",
     "text": [
      "20\n"
     ]
    }
   ],
   "source": [
    "x = suma (5, 7, 8)\n",
    "print (x)"
   ]
  },
  {
   "cell_type": "markdown",
   "metadata": {},
   "source": [
    "# Ambito o alcance de las variables\n",
    "\n",
    "## Variables Locales\n",
    "- Son las que están dentro de la función y SOLO las conoce la función\n",
    "- Diferentes a las variables que están fuera de la función, así tengan el mismo nombre\n",
    "\n",
    "## Variables Globales\n",
    "- Se definen en el programa principal\n",
    "- Se definen fuera de todas las funciones\n",
    "- Se conocen en todo el programa y tambien dentro de las funciones"
   ]
  },
  {
   "cell_type": "code",
   "execution_count": 58,
   "metadata": {},
   "outputs": [
    {
     "name": "stdout",
     "output_type": "stream",
     "text": [
      "2250.0\n",
      "2000\n",
      "3000\n"
     ]
    }
   ],
   "source": [
    "## Ejemplos\n",
    "# Variables globales\n",
    "def sumaMultiDivi (a, b, c, d):\n",
    "    # Variables locales\n",
    "    x = a + b\n",
    "    y = x * c\n",
    "    z = y / d\n",
    "    resultado = z * m\n",
    "    return (resultado)\n",
    "#\n",
    "\n",
    "a = 10\n",
    "b = 20\n",
    "c = 30\n",
    "d = 2\n",
    "\n",
    "x = 1000\n",
    "y = 2000\n",
    "z = 3000\n",
    "m = 5\n",
    "\n",
    "\n",
    "\n",
    "w = sumaMultiDivi (2,4,6,2)\n",
    "print (w)\n",
    "\n",
    "print (y)\n",
    "print (z)"
   ]
  },
  {
   "cell_type": "markdown",
   "metadata": {},
   "source": [
    "# Uso de Variables Globlales"
   ]
  },
  {
   "cell_type": "code",
   "execution_count": 75,
   "metadata": {},
   "outputs": [
    {
     "name": "stdout",
     "output_type": "stream",
     "text": [
      "Z:  12\n",
      "SUMATORIA:  12\n",
      "Z:  10\n",
      "SUMATORIA:  22\n"
     ]
    }
   ],
   "source": [
    "sumatoria = 0\n",
    "\n",
    "def acumularSuma (a, b):\n",
    "    global sumatoria    \n",
    "    c = a + b\n",
    "    sumatoria = sumatoria + c\n",
    "    return (c)\n",
    "\n",
    "\n",
    "z = acumularSuma (5,7)\n",
    "print (\"Z: \", z)\n",
    "print (\"SUMATORIA: \", sumatoria)\n",
    "\n",
    "z = acumularSuma (4,6)\n",
    "print (\"Z: \", z)\n",
    "print (\"SUMATORIA: \", sumatoria)\n"
   ]
  },
  {
   "cell_type": "markdown",
   "metadata": {},
   "source": [
    "# Métodos y Funciones\n",
    "- Son los mismo: funciones\n",
    "- Métodos hace referencia a clases y objetos \n",
    "- Funciones son las que están definas por el usuario o son externas"
   ]
  },
  {
   "cell_type": "markdown",
   "metadata": {},
   "source": [
    "# Ejemplo clase cadena : \"str\""
   ]
  },
  {
   "cell_type": "code",
   "execution_count": 76,
   "metadata": {},
   "outputs": [
    {
     "name": "stdout",
     "output_type": "stream",
     "text": [
      "hola mundo\n"
     ]
    }
   ],
   "source": [
    "s = \"hola mundo\"\n",
    "print (s)"
   ]
  },
  {
   "cell_type": "code",
   "execution_count": 77,
   "metadata": {},
   "outputs": [
    {
     "data": {
      "text/plain": [
       "str"
      ]
     },
     "execution_count": 77,
     "metadata": {},
     "output_type": "execute_result"
    }
   ],
   "source": [
    "type (s)"
   ]
  },
  {
   "cell_type": "markdown",
   "metadata": {},
   "source": [
    "# Clase str\n",
    "- Clase \"str\" tiene varias funciones que se conocen como métodos\n",
    "- Algunos de los métodos:\n",
    "  - Cambiar a mayúsculas\n",
    "  - Cambiar a minúsculas\n",
    "  - Contar cuantas veces se repite una letra\n",
    "  - .....\n",
    "  - Llamado es con el nombre de la clase \".\" nombre del método\n",
    "  CLASE.METODO. (PARAMETROS)"
   ]
  },
  {
   "cell_type": "code",
   "execution_count": 79,
   "metadata": {},
   "outputs": [
    {
     "name": "stdout",
     "output_type": "stream",
     "text": [
      "HOLA MUNDO\n"
     ]
    }
   ],
   "source": [
    "# Ejemplo1: metodo upper: cambiar a mayusculas\n",
    "s = \"hola mundo\"\n",
    "mayusculaS = str.upper (s)\n",
    "print (mayusculaS)"
   ]
  },
  {
   "cell_type": "code",
   "execution_count": 82,
   "metadata": {},
   "outputs": [
    {
     "name": "stdout",
     "output_type": "stream",
     "text": [
      "2\n"
     ]
    }
   ],
   "source": [
    "# Ejemplo2: metodo count: encontrar cuantas veces está una letra en una cadena\n",
    "n = str.count (s, \"o\")\n",
    "print(n)"
   ]
  },
  {
   "cell_type": "code",
   "execution_count": 83,
   "metadata": {},
   "outputs": [
    {
     "data": {
      "text/plain": [
       "10"
      ]
     },
     "execution_count": 83,
     "metadata": {},
     "output_type": "execute_result"
    }
   ],
   "source": [
    "r = \"ana maria juan pedro lucia \"\n",
    "str.find (r, \"juan\")"
   ]
  },
  {
   "cell_type": "code",
   "execution_count": 86,
   "metadata": {},
   "outputs": [
    {
     "name": "stdout",
     "output_type": "stream",
     "text": [
      "-1\n"
     ]
    }
   ],
   "source": [
    "x = str.find (r, \"lady\")\n",
    "print (x)"
   ]
  },
  {
   "cell_type": "code",
   "execution_count": null,
   "metadata": {},
   "outputs": [],
   "source": []
  },
  {
   "cell_type": "code",
   "execution_count": null,
   "metadata": {},
   "outputs": [],
   "source": []
  },
  {
   "cell_type": "code",
   "execution_count": null,
   "metadata": {},
   "outputs": [],
   "source": []
  },
  {
   "cell_type": "code",
   "execution_count": 74,
   "metadata": {},
   "outputs": [
    {
     "name": "stdout",
     "output_type": "stream",
     "text": [
      "\n",
      "\n",
      "\n",
      "\n",
      "\n",
      "\n",
      "\n",
      "\n",
      "\n",
      "\n",
      "\n",
      "\n",
      "\n",
      "\n",
      "\n",
      "\n",
      "\n",
      "\n",
      "\n",
      "\n",
      "\n",
      "\n",
      "\n",
      "\n",
      "\n",
      "\n",
      "\n",
      "\n",
      "\n",
      "\n",
      "\n",
      "\n",
      "\n",
      "\n",
      "\n",
      "\n",
      "\n",
      "\n",
      "\n",
      "\n",
      "\n",
      "\n",
      "\n",
      "\n",
      "\n",
      "\n",
      "\n",
      "\n",
      "\n",
      "\n",
      "\n",
      "\n",
      "\n",
      "\n",
      "\n",
      "\n",
      "\n",
      "\n",
      "\n",
      "\n",
      "\n",
      "\n",
      "\n",
      "\n",
      "\n",
      "\n",
      "\n",
      "\n",
      "\n",
      "\n",
      "\n",
      "\n",
      "\n",
      "\n",
      "\n",
      "\n",
      "\n",
      "\n",
      "\n",
      "\n",
      "\n",
      "\n",
      "\n",
      "\n",
      "\n",
      "\n",
      "\n",
      "\n",
      "\n",
      "\n",
      "\n",
      "\n",
      "\n",
      "\n",
      "\n",
      "\n",
      "\n",
      "\n",
      "\n",
      "\n",
      "\n"
     ]
    }
   ],
   "source": [
    "print (\"\\n\"*100)"
   ]
  },
  {
   "cell_type": "code",
   "execution_count": null,
   "metadata": {},
   "outputs": [],
   "source": []
  }
 ],
 "metadata": {
  "kernelspec": {
   "display_name": "Python 3",
   "language": "python",
   "name": "python3"
  },
  "language_info": {
   "codemirror_mode": {
    "name": "ipython",
    "version": 3
   },
   "file_extension": ".py",
   "mimetype": "text/x-python",
   "name": "python",
   "nbconvert_exporter": "python",
   "pygments_lexer": "ipython3",
   "version": "3.8.5"
  }
 },
 "nbformat": 4,
 "nbformat_minor": 4
}
