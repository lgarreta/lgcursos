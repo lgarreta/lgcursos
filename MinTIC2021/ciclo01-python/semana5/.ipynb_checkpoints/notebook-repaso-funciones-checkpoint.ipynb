{
 "cells": [
  {
   "cell_type": "markdown",
   "metadata": {},
   "source": [
    "# Funciones en Python\n",
    "- Cuando se quiere reusar un pedazo de programa (varias veces) se crea una función.\n",
    "- Funciones tiene entradas y salidas, porque son subprogramas.\n",
    "- Varios tipos de funciones:\n",
    "  - Nosotros podemos crear nuestras propias funciones\n",
    "  - Podemos usar funciones creadas por otros:\n",
    "    - En Python hay funciones propias y funciones externas (librerias)\n",
    "  - Funciones externas, por lo general son funciones más complejas, bien probadas, y muy específicas:\n",
    "    - Librerias para matemáticas (seno, coseno, tang, ecuaciones, derivadas,....)\n",
    "    - Librerias inteligencia artificial (Ej. predecir, ventas en el tiempo, )\n",
    "    - Manejo de cadenas (Ej. conteo de palabras)\n",
    "  - Funciones brindan modularidad a su programa:\n",
    "    - Cuando el programa es complejo, mejor dividirlo en modulos (funciones)\n",
    "    - Hace al programa más fácil de resolver el problema y de leerlo."
   ]
  },
  {
   "cell_type": "markdown",
   "metadata": {},
   "source": [
    "# Ejemplos"
   ]
  },
  {
   "cell_type": "code",
   "execution_count": 2,
   "metadata": {},
   "outputs": [
    {
     "data": {
      "text/plain": [
       "12"
      ]
     },
     "execution_count": 2,
     "metadata": {},
     "output_type": "execute_result"
    }
   ],
   "source": [
    "# Ejemplo de suma de dos números\n",
    "a = 5\n",
    "b  = 7\n",
    "c = a + b\n",
    "c"
   ]
  },
  {
   "cell_type": "markdown",
   "metadata": {},
   "source": [
    "# Algunas funciones predefinidas de Python\n",
    "- print (...): no retorna nada\n",
    "- input (mensaje): retorna una cadena\n",
    "- int (numero): retorna el valor entero de ese número\n",
    "- fload (numero):\n",
    "- range (...):\n",
    "  - Le ingreso o 1 o 2 o 3 parámetros\n",
    "  - Retorna es una lista de un rango de números\n",
    "- Para usarlas solo las llama (\"llamado de una función\")"
   ]
  },
  {
   "cell_type": "markdown",
   "metadata": {},
   "source": [
    "## Ejemplos"
   ]
  },
  {
   "cell_type": "code",
   "execution_count": 9,
   "metadata": {},
   "outputs": [
    {
     "name": "stdout",
     "output_type": "stream",
     "text": [
      "Hola Mundo\n",
      "Hola  Laura\n"
     ]
    }
   ],
   "source": [
    "# print\n",
    "print (\"Hola Mundo\")\n",
    "nombre = \"Laura\"\n",
    "print (\"Hola \", nombre)"
   ]
  },
  {
   "cell_type": "code",
   "execution_count": 13,
   "metadata": {},
   "outputs": [
    {
     "name": "stdout",
     "output_type": "stream",
     "text": [
      "Ingrese un valor minimo de temperatura: 100\n",
      "100\n"
     ]
    },
    {
     "data": {
      "text/plain": [
       "110"
      ]
     },
     "execution_count": 13,
     "metadata": {},
     "output_type": "execute_result"
    }
   ],
   "source": [
    "# input\n",
    "minimo = int (input (\"Ingrese un valor minimo de temperatura: \"))     \n",
    "\n",
    "print (minimo)\n",
    "10 + minimo"
   ]
  },
  {
   "cell_type": "code",
   "execution_count": 15,
   "metadata": {},
   "outputs": [
    {
     "name": "stdout",
     "output_type": "stream",
     "text": [
      "0\n",
      "1\n",
      "2\n",
      "3\n",
      "4\n"
     ]
    }
   ],
   "source": [
    "# range 1 solo parámetro: final\n",
    "rango1 = range (5)\n",
    "for i in rango1:\n",
    "    print (i)"
   ]
  },
  {
   "cell_type": "code",
   "execution_count": 16,
   "metadata": {},
   "outputs": [
    {
     "name": "stdout",
     "output_type": "stream",
     "text": [
      "10\n",
      "11\n",
      "12\n",
      "13\n",
      "14\n"
     ]
    }
   ],
   "source": [
    "# range con dos parametros: inicio y final\n",
    "rango2 = range (10, 15)\n",
    "for i in rango2:\n",
    "    print (i)"
   ]
  },
  {
   "cell_type": "code",
   "execution_count": 17,
   "metadata": {},
   "outputs": [
    {
     "name": "stdout",
     "output_type": "stream",
     "text": [
      "20\n",
      "23\n",
      "26\n",
      "29\n",
      "32\n"
     ]
    }
   ],
   "source": [
    "# range con tres parámetros: inicio, final, salto\n",
    "\n",
    "for i in range (20, 33, 3):\n",
    "    print (i)"
   ]
  },
  {
   "cell_type": "markdown",
   "metadata": {},
   "source": [
    "# Funciones externas: librerías\n",
    "- Muchas funciones externas ya listas para usar en python\n",
    "- Se conocen como librerías\n",
    "- Hay miles de librerías:\n",
    "  - Procesamiento de imágines\n",
    "  - Procesmiento de texto (Inteligencia Artificial)\n",
    "  - Matemáticas\n",
    "  - Para usarlas las librerias externas tiene que \"importarlas\"\n",
    "    - import XXXXXX"
   ]
  },
  {
   "cell_type": "markdown",
   "metadata": {},
   "source": [
    "## Ejemplo libreria matemática de python: \"math\""
   ]
  },
  {
   "cell_type": "code",
   "execution_count": 24,
   "metadata": {},
   "outputs": [],
   "source": [
    "# Importar la libreria mata\n",
    "from math import *          # pow: potencia, cos:coseno, pi:valor PI, trunk:truncar, asin: arcocoseno, sqrt:raiz cuadrada"
   ]
  },
  {
   "cell_type": "code",
   "execution_count": 25,
   "metadata": {},
   "outputs": [
    {
     "name": "stdout",
     "output_type": "stream",
     "text": [
      "72.0\n"
     ]
    }
   ],
   "source": [
    "# Potencia:\n",
    "x = pow (2,3)     # 2*2*2\n",
    "y = pow (3,2)     # 3*3\n",
    "\n",
    "z = x * y\n",
    "print (z)"
   ]
  },
  {
   "cell_type": "code",
   "execution_count": 29,
   "metadata": {},
   "outputs": [
    {
     "name": "stdout",
     "output_type": "stream",
     "text": [
      "8.94427190999916\n",
      "8\n"
     ]
    }
   ],
   "source": [
    "# Raiz cuadrada\n",
    "\n",
    "x = sqrt (80)\n",
    "z = trunc (x)\n",
    "print (x)\n",
    "print (z)\n"
   ]
  },
  {
   "cell_type": "markdown",
   "metadata": {},
   "source": [
    "# Funciones propias del usuario (creadas por nosotros)\n",
    "- inicia con la palabra \"def\" (definir)\n",
    "- Sigue la lista de parámetros entre parentesis: (parametro1, parametro2, ...)\n",
    "- Termina con el simbolo de bloque \":\"\n",
    "- El bloque de código va identado\n",
    "- Cuando termina la función se desindenta, se regresa a la identacion anterior"
   ]
  },
  {
   "cell_type": "code",
   "execution_count": null,
   "metadata": {},
   "outputs": [],
   "source": [
    "# Función suma\n",
    "# Entradas: Dos enteros a y b\n",
    "# Salidas : suma de a y b\n",
    "\n",
    "print (\"Iniciando\")\n",
    "\n",
    "def sumaManzanas (x, y):\n",
    "    z = x + y\n",
    "    return (z)\n",
    "#\n",
    "\n",
    "# Llamado a la funcion\n",
    "a = sumaManzanas (5, 7)\n",
    "print (a)\n",
    "\n",
    "b = sumaManzanas (8, 900)\n",
    "print (b)\n",
    "\n",
    "c = sumaManzanas (a, b)\n",
    "print (c)\n",
    "\n",
    "print (\"Adios\")\n"
   ]
  },
  {
   "cell_type": "code",
   "execution_count": null,
   "metadata": {},
   "outputs": [],
   "source": []
  },
  {
   "cell_type": "code",
   "execution_count": null,
   "metadata": {},
   "outputs": [],
   "source": []
  },
  {
   "cell_type": "code",
   "execution_count": null,
   "metadata": {},
   "outputs": [],
   "source": []
  },
  {
   "cell_type": "code",
   "execution_count": null,
   "metadata": {},
   "outputs": [],
   "source": []
  },
  {
   "cell_type": "code",
   "execution_count": null,
   "metadata": {},
   "outputs": [],
   "source": []
  },
  {
   "cell_type": "code",
   "execution_count": null,
   "metadata": {},
   "outputs": [],
   "source": []
  }
 ],
 "metadata": {
  "kernelspec": {
   "display_name": "Python 3",
   "language": "python",
   "name": "python3"
  },
  "language_info": {
   "codemirror_mode": {
    "name": "ipython",
    "version": 3
   },
   "file_extension": ".py",
   "mimetype": "text/x-python",
   "name": "python",
   "nbconvert_exporter": "python",
   "pygments_lexer": "ipython3",
   "version": "3.8.5"
  }
 },
 "nbformat": 4,
 "nbformat_minor": 4
}
