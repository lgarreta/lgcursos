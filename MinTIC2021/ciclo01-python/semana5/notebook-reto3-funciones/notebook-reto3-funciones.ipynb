{
 "cells": [
  {
   "cell_type": "code",
   "execution_count": null,
   "metadata": {},
   "outputs": [],
   "source": [
    "minLista, maxLista = leerTemperaturas ()\n",
    "erroresAmbosLista = buscarErroresAmbos (minLista, maxLista)\n",
    "erroresMinLista = buscarErroresMin (minLista)\n",
    "erroresMaxLista = buscarErroresMax (maxLista)\n",
    "\n",
    "totalDias = len (minLista)\n",
    "totalDiasErrores = len (erroresMinLista) + len (erroresMaxLista)\n",
    "totalDiasErroresMin = len (erroresMinLista)\n",
    "totalDiasErroresMax = len (erroresMaxLista)\n",
    "totalDiasErroresAmbos = len (erroresAmbosLista)\n",
    "\n",
    "promedioMin = calcularPromedio (erroresMinLista)\n",
    "promedioMax = calcularPromedio (erroresMaxLista)\n",
    "\n"
   ]
  }
 ],
 "metadata": {
  "kernelspec": {
   "display_name": "Python 3",
   "language": "python",
   "name": "python3"
  },
  "language_info": {
   "codemirror_mode": {
    "name": "ipython",
    "version": 3
   },
   "file_extension": ".py",
   "mimetype": "text/x-python",
   "name": "python",
   "nbconvert_exporter": "python",
   "pygments_lexer": "ipython3",
   "version": "3.8.5"
  }
 },
 "nbformat": 4,
 "nbformat_minor": 4
}
