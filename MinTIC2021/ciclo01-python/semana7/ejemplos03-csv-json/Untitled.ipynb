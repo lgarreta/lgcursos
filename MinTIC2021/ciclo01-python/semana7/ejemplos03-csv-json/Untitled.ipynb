{
 "cells": [
  {
   "cell_type": "code",
   "execution_count": 3,
   "metadata": {},
   "outputs": [],
   "source": [
    "contactos = [\n",
    "    [\"Manuel\", \"Desarrollador Web\", \"manuel@ejemplo.com\"],\n",
    "    [\"Lorena\", \"Gestora de proyectos\", \"lorena@ejemplo.com\"],\n",
    "    [\"Javier\", \"Analista de datos\", \"javier@ejemplo.com\"],\n",
    "    [\"Marta\", \"Experta en Python\", \"marta@ejemplo.com\"]\n",
    "]"
   ]
  },
  {
   "cell_type": "code",
   "execution_count": 8,
   "metadata": {},
   "outputs": [
    {
     "name": "stdout",
     "output_type": "stream",
     "text": [
      "[{'Nombre': 'Manuel', 'Empleo': 'Desarrollador Web', 'Email': 'manuel@ejemplo.com'}, {'Nombre': 'Lorena', 'Empleo': 'Gestora de proyectos', 'Email': 'lorena@ejemplo.com'}, {'Nombre': 'Javier', 'Empleo': 'Analista de datos', 'Email': 'javier@ejemplo.com'}, {'Nombre': 'Marta', 'Empleo': 'Experta en Python', 'Email': 'marta@ejemplo.com'}]\n"
     ]
    }
   ],
   "source": [
    "import json\n",
    "datosContactos = []\n",
    "for nombre, empleo, email in contactos:\n",
    "    dicCont = {\"Nombre\": nombre, \"Empleo\":empleo, \"Email\":email}\n",
    "    datosContactos.append (dicCont)\n",
    "    \n",
    "print (datosContactos)\n",
    "\n",
    "jsonfile = open (\"contactos.json\", \"w\")\n",
    "json.dump (contactos, jsonfile)\n"
   ]
  },
  {
   "cell_type": "code",
   "execution_count": 9,
   "metadata": {},
   "outputs": [],
   "source": [
    "jsonfile.close()"
   ]
  }
 ],
 "metadata": {
  "kernelspec": {
   "display_name": "Python 3",
   "language": "python",
   "name": "python3"
  },
  "language_info": {
   "codemirror_mode": {
    "name": "ipython",
    "version": 3
   },
   "file_extension": ".py",
   "mimetype": "text/x-python",
   "name": "python",
   "nbconvert_exporter": "python",
   "pygments_lexer": "ipython3",
   "version": "3.8.5"
  }
 },
 "nbformat": 4,
 "nbformat_minor": 4
}
