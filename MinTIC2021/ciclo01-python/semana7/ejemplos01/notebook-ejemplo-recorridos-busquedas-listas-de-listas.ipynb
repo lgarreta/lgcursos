{
 "cells": [
  {
   "cell_type": "markdown",
   "metadata": {},
   "source": [
    "# Tipos de Datos\n",
    "- Estáticos\n",
    "  - Los crea una vez y no puede expandirlos\n",
    "  - Ej. int, float, string, arreglos, matrices\n",
    "  - a = 10;    # Memoria queda reservado espacio para un entero\n",
    "  - s = \"hola\" # 4 bytes \n",
    "  - integer arregloEnteros [5];\n",
    "  - integer matrixEnteros [5][3];\n",
    "- Dinámicos:\n",
    "  - Crecen a medida que se adicione alementos:\n",
    "  - Ej. Listas, árboles, grafos\n",
    "  - ls = []\n",
    "  - ls.append (2)\n",
    "  - ls.append (8)\n",
    "  - ls.append (5)\n",
    "  - ls.append (1)"
   ]
  },
  {
   "cell_type": "markdown",
   "metadata": {},
   "source": [
    "# Arreglos unidimensionales: 1D, vectores\n",
    "- Secuencias lineal de varios elementos del mismo tipo\n",
    "- Arreglos de enteros   : ls = [1, 2, 5, 66]    \n",
    "- Arreglos de flotantes\n",
    "- Arreglos de caracteres: cadenas \"Hola Mundo\"  : [\"H\",\"o\",\"l\",\"a\"...]\n",
    "\n",
    "# Arreglos bidimensionales: matrices\n",
    "- Dos dimensions: \n",
    "   - Filas\n",
    "   - Columnas\n",
    "- Para referenciar un elemento se necesitan dos indices:"
   ]
  },
  {
   "cell_type": "code",
   "execution_count": 2,
   "metadata": {},
   "outputs": [
    {
     "name": "stdout",
     "output_type": "stream",
     "text": [
      "1\n",
      "99\n"
     ]
    }
   ],
   "source": [
    "## Ejemplo de un \"arreglo\"\n",
    "arregloEnteros = [1,55,88, 99]\n",
    "\n",
    "x = arregloEnteros [0]\n",
    "y = arregloEnteros [3]\n",
    "print (x)\n",
    "print (y)"
   ]
  },
  {
   "cell_type": "code",
   "execution_count": 7,
   "metadata": {},
   "outputs": [
    {
     "name": "stdout",
     "output_type": "stream",
     "text": [
      "34\n",
      "[[11, 22, 33, 44], [88, 99, 34, 55], [13, 15, 21, 11]]\n"
     ]
    }
   ],
   "source": [
    "## Ejemplo de una \"matrix\" 3 filas y 4 columnas\n",
    "matrixEnteros = [ [11,22,33,44],\n",
    "                  [88,99,34,22],\n",
    "                  [13,15,21,11]]\n",
    "\n",
    "x = matrixEnteros [1][2]\n",
    "print (x)\n",
    "\n",
    "matrixEnteros [1][3] = 55\n",
    "\n",
    "print (matrixEnteros)"
   ]
  },
  {
   "cell_type": "markdown",
   "metadata": {},
   "source": [
    "# Recorrido de una matrix\n",
    "- Se utiliza un doble ciclo (anidado):\n",
    "  - Primer ciclo para las filas\n",
    "  - Segundo ciclo para las columnas\n",
    "  - Dentro del segundo se realiza el proceso"
   ]
  },
  {
   "cell_type": "code",
   "execution_count": 14,
   "metadata": {},
   "outputs": [
    {
     "name": "stdout",
     "output_type": "stream",
     "text": [
      "11, 22, 33, 44, \n",
      "88, 99, 34, 55, \n",
      "13, 15, 21, 11, \n"
     ]
    }
   ],
   "source": [
    "# Recorrido de una matrix: filas y columnas\n",
    "nFilas = 3\n",
    "nColumnas = 4\n",
    "\n",
    "for fila in range(nFilas):  # 0, 1, 2\n",
    "    for columna in range (nColumnas):  # 0, 1, 2, 3\n",
    "        x = matrixEnteros [fila][columna]\n",
    "        print (x, end=\", \")\n",
    "    print (\"\")\n",
    "#    "
   ]
  },
  {
   "cell_type": "code",
   "execution_count": 16,
   "metadata": {},
   "outputs": [
    {
     "name": "stdout",
     "output_type": "stream",
     "text": [
      "11, 22, 33, 44, \n",
      "88, 99, 34, 55, \n",
      "13, 15, 21, 11, \n"
     ]
    }
   ],
   "source": [
    "# Recorrido de una matrix: filas y columnas\n",
    "nFilas = 3\n",
    "nColumnas = 4\n",
    "\n",
    "for i in range(nFilas):  # 0, 1, 2\n",
    "    for j in range (nColumnas):  # 0, 1, 2, 3\n",
    "        x = matrixEnteros [i][j]\n",
    "        print (x, end=\", \")\n",
    "    #\n",
    "    print (\"\")\n",
    "#    "
   ]
  },
  {
   "cell_type": "markdown",
   "metadata": {},
   "source": [
    "# Busqueda de un elemento dentro de una matrix\n",
    "- Imploica un recorrido de la matrix\n",
    "- Doble ciclo (anidado)\n",
    "  - Recorre primero por filas\n",
    "  - Para cada fila recorre todas las columnas\n",
    "  - Por cada columna que recorra hace su pregunta (búsqueda) y hace su proces"
   ]
  },
  {
   "cell_type": "code",
   "execution_count": 30,
   "metadata": {},
   "outputs": [
    {
     "name": "stdout",
     "output_type": "stream",
     "text": [
      "0 2\n",
      "Lo encontré\n"
     ]
    }
   ],
   "source": [
    "## Ejemplo búsqueda de una \"matrix\" 3 filas y 4 columnas\n",
    "matrixEnteros = [ [11,22,33,44],\n",
    "                  [88,99,34,22],\n",
    "                  [13,15,21,11]]\n",
    "\n",
    "N=33\n",
    "\n",
    "nFilas = 3\n",
    "nColumnas = 4\n",
    "\n",
    "senhalEncontrado = False\n",
    "for i in range (nFilas):\n",
    "    for j in range (nColumnas):\n",
    "        x = matrixEnteros [i][j]\n",
    "        if (x==N):\n",
    "            senhalEncontrado = True  \n",
    "            print (i,j)\n",
    "        #\n",
    "    #\n",
    "#\n",
    "if (senhalEncontrado==True):\n",
    "    print (\"Lo encontré\")\n",
    "else:\n",
    "    print (\"No lo encontré\")\n",
    "#\n",
    "    "
   ]
  },
  {
   "cell_type": "markdown",
   "metadata": {},
   "source": [
    "# Ejemplo búsqueda en una lista de lista"
   ]
  },
  {
   "cell_type": "code",
   "execution_count": 36,
   "metadata": {},
   "outputs": [
    {
     "name": "stdout",
     "output_type": "stream",
     "text": [
      "ana, 35, 500.5, \n",
      "maria, 40, 300.8, \n",
      "pedro, 25, 100.1, \n",
      "lady, 33, 200, \n",
      "john, 21, 100.5, \n"
     ]
    }
   ],
   "source": [
    "listaUsuarios = [ [\"ana\", 35, 500.50], \n",
    "             [\"maria\", 40, 300.8], \n",
    "             [\"pedro\", 25, 100.1],\n",
    "             [\"lady\", 33, 200],\n",
    "             [\"john\", 21, 100.50]\n",
    "           ]\n",
    "\n",
    "numFilas = len (listaUsuarios)\n",
    "numColumnas = 3\n",
    "\n",
    "for i in range (numFilas):\n",
    "    for j in range (numColumnas):\n",
    "        x = listaUsuarios [i][j]\n",
    "        print (x, end=\", \")\n",
    "    #\n",
    "    print (\"\")\n"
   ]
  },
  {
   "cell_type": "code",
   "execution_count": 49,
   "metadata": {
    "collapsed": true
   },
   "outputs": [
    {
     "ename": "KeyboardInterrupt",
     "evalue": "Interrupted by user",
     "output_type": "error",
     "traceback": [
      "\u001b[0;31m---------------------------------------------------------------------------\u001b[0m",
      "\u001b[0;31mKeyboardInterrupt\u001b[0m                         Traceback (most recent call last)",
      "\u001b[0;32m<ipython-input-49-181420a499ea>\u001b[0m in \u001b[0;36m<module>\u001b[0;34m\u001b[0m\n\u001b[1;32m      9\u001b[0m                 ]\n\u001b[1;32m     10\u001b[0m \u001b[0;34m\u001b[0m\u001b[0m\n\u001b[0;32m---> 11\u001b[0;31m \u001b[0mLetra\u001b[0m \u001b[0;34m=\u001b[0m \u001b[0minput\u001b[0m \u001b[0;34m(\u001b[0m\u001b[0;34m\"Ingrese letra: \"\u001b[0m\u001b[0;34m)\u001b[0m\u001b[0;34m\u001b[0m\u001b[0;34m\u001b[0m\u001b[0m\n\u001b[0m\u001b[1;32m     12\u001b[0m \u001b[0;34m\u001b[0m\u001b[0m\n\u001b[1;32m     13\u001b[0m \u001b[0mN\u001b[0m \u001b[0;34m=\u001b[0m \u001b[0mlen\u001b[0m \u001b[0;34m(\u001b[0m\u001b[0mlistaUsuarios\u001b[0m\u001b[0;34m)\u001b[0m\u001b[0;34m\u001b[0m\u001b[0;34m\u001b[0m\u001b[0m\n",
      "\u001b[0;32m/usr/lib/python3/dist-packages/ipykernel/kernelbase.py\u001b[0m in \u001b[0;36mraw_input\u001b[0;34m(self, prompt)\u001b[0m\n\u001b[1;32m    858\u001b[0m                 \u001b[0;34m\"raw_input was called, but this frontend does not support input requests.\"\u001b[0m\u001b[0;34m\u001b[0m\u001b[0;34m\u001b[0m\u001b[0m\n\u001b[1;32m    859\u001b[0m             )\n\u001b[0;32m--> 860\u001b[0;31m         return self._input_request(str(prompt),\n\u001b[0m\u001b[1;32m    861\u001b[0m             \u001b[0mself\u001b[0m\u001b[0;34m.\u001b[0m\u001b[0m_parent_ident\u001b[0m\u001b[0;34m,\u001b[0m\u001b[0;34m\u001b[0m\u001b[0;34m\u001b[0m\u001b[0m\n\u001b[1;32m    862\u001b[0m             \u001b[0mself\u001b[0m\u001b[0;34m.\u001b[0m\u001b[0m_parent_header\u001b[0m\u001b[0;34m,\u001b[0m\u001b[0;34m\u001b[0m\u001b[0;34m\u001b[0m\u001b[0m\n",
      "\u001b[0;32m/usr/lib/python3/dist-packages/ipykernel/kernelbase.py\u001b[0m in \u001b[0;36m_input_request\u001b[0;34m(self, prompt, ident, parent, password)\u001b[0m\n\u001b[1;32m    891\u001b[0m             \u001b[0;32mexcept\u001b[0m \u001b[0mKeyboardInterrupt\u001b[0m\u001b[0;34m:\u001b[0m\u001b[0;34m\u001b[0m\u001b[0;34m\u001b[0m\u001b[0m\n\u001b[1;32m    892\u001b[0m                 \u001b[0;31m# re-raise KeyboardInterrupt, to truncate traceback\u001b[0m\u001b[0;34m\u001b[0m\u001b[0;34m\u001b[0m\u001b[0;34m\u001b[0m\u001b[0m\n\u001b[0;32m--> 893\u001b[0;31m                 \u001b[0;32mraise\u001b[0m \u001b[0mKeyboardInterrupt\u001b[0m\u001b[0;34m(\u001b[0m\u001b[0;34m\"Interrupted by user\"\u001b[0m\u001b[0;34m)\u001b[0m \u001b[0;32mfrom\u001b[0m \u001b[0;32mNone\u001b[0m\u001b[0;34m\u001b[0m\u001b[0;34m\u001b[0m\u001b[0m\n\u001b[0m\u001b[1;32m    894\u001b[0m             \u001b[0;32melse\u001b[0m\u001b[0;34m:\u001b[0m\u001b[0;34m\u001b[0m\u001b[0;34m\u001b[0m\u001b[0m\n\u001b[1;32m    895\u001b[0m                 \u001b[0;32mbreak\u001b[0m\u001b[0;34m\u001b[0m\u001b[0;34m\u001b[0m\u001b[0m\n",
      "\u001b[0;31mKeyboardInterrupt\u001b[0m: Interrupted by user"
     ]
    }
   ],
   "source": [
    "# Busqueda por inicio de nombre\n",
    "listaUsuarios = [ [\"ana\", 35, 500.50], \n",
    "                  [\"maria\", 40, 300.8], \n",
    "                  [\"pedro\", 25, 100.1],\n",
    "                  [\"lady\", 33, 200],\n",
    "                  [\"john\", 21, 100.50],\n",
    "                  [\"pacho\", 22, 340],\n",
    "                  [\"mauricio\", 33, 250]\n",
    "                ]\n",
    "\n",
    "Letra = input (\"Ingrese letra: \")\n",
    "\n",
    "N = len (listaUsuarios)\n",
    "i = 0\n",
    "listaEncontrados = []\n",
    "while (i < N):\n",
    "    usuario = listaUsuarios [i]\n",
    "    nombre = usuario [0]\n",
    "    if (nombre [0]==Letra):\n",
    "        listaEncontrados.append (nombre)\n",
    "    #\n",
    "    i += 1\n",
    "#\n",
    "print (listaEncontrados)"
   ]
  },
  {
   "cell_type": "code",
   "execution_count": 53,
   "metadata": {
    "collapsed": true
   },
   "outputs": [
    {
     "ename": "KeyboardInterrupt",
     "evalue": "Interrupted by user",
     "output_type": "error",
     "traceback": [
      "\u001b[0;31m---------------------------------------------------------------------------\u001b[0m",
      "\u001b[0;31mKeyboardInterrupt\u001b[0m                         Traceback (most recent call last)",
      "\u001b[0;32m<ipython-input-53-72cd30027624>\u001b[0m in \u001b[0;36m<module>\u001b[0;34m\u001b[0m\n\u001b[1;32m      9\u001b[0m                 ]\n\u001b[1;32m     10\u001b[0m \u001b[0;34m\u001b[0m\u001b[0m\n\u001b[0;32m---> 11\u001b[0;31m \u001b[0medadBusqueda\u001b[0m \u001b[0;34m=\u001b[0m \u001b[0mint\u001b[0m \u001b[0;34m(\u001b[0m\u001b[0minput\u001b[0m \u001b[0;34m(\u001b[0m\u001b[0;34m\"Ingrese edad: \"\u001b[0m\u001b[0;34m)\u001b[0m\u001b[0;34m)\u001b[0m\u001b[0;34m\u001b[0m\u001b[0;34m\u001b[0m\u001b[0m\n\u001b[0m\u001b[1;32m     12\u001b[0m \u001b[0;34m\u001b[0m\u001b[0m\n\u001b[1;32m     13\u001b[0m \u001b[0mN\u001b[0m \u001b[0;34m=\u001b[0m \u001b[0mlen\u001b[0m \u001b[0;34m(\u001b[0m\u001b[0mlistaUsuarios\u001b[0m\u001b[0;34m)\u001b[0m\u001b[0;34m\u001b[0m\u001b[0;34m\u001b[0m\u001b[0m\n",
      "\u001b[0;32m/usr/lib/python3/dist-packages/ipykernel/kernelbase.py\u001b[0m in \u001b[0;36mraw_input\u001b[0;34m(self, prompt)\u001b[0m\n\u001b[1;32m    858\u001b[0m                 \u001b[0;34m\"raw_input was called, but this frontend does not support input requests.\"\u001b[0m\u001b[0;34m\u001b[0m\u001b[0;34m\u001b[0m\u001b[0m\n\u001b[1;32m    859\u001b[0m             )\n\u001b[0;32m--> 860\u001b[0;31m         return self._input_request(str(prompt),\n\u001b[0m\u001b[1;32m    861\u001b[0m             \u001b[0mself\u001b[0m\u001b[0;34m.\u001b[0m\u001b[0m_parent_ident\u001b[0m\u001b[0;34m,\u001b[0m\u001b[0;34m\u001b[0m\u001b[0;34m\u001b[0m\u001b[0m\n\u001b[1;32m    862\u001b[0m             \u001b[0mself\u001b[0m\u001b[0;34m.\u001b[0m\u001b[0m_parent_header\u001b[0m\u001b[0;34m,\u001b[0m\u001b[0;34m\u001b[0m\u001b[0;34m\u001b[0m\u001b[0m\n",
      "\u001b[0;32m/usr/lib/python3/dist-packages/ipykernel/kernelbase.py\u001b[0m in \u001b[0;36m_input_request\u001b[0;34m(self, prompt, ident, parent, password)\u001b[0m\n\u001b[1;32m    891\u001b[0m             \u001b[0;32mexcept\u001b[0m \u001b[0mKeyboardInterrupt\u001b[0m\u001b[0;34m:\u001b[0m\u001b[0;34m\u001b[0m\u001b[0;34m\u001b[0m\u001b[0m\n\u001b[1;32m    892\u001b[0m                 \u001b[0;31m# re-raise KeyboardInterrupt, to truncate traceback\u001b[0m\u001b[0;34m\u001b[0m\u001b[0;34m\u001b[0m\u001b[0;34m\u001b[0m\u001b[0m\n\u001b[0;32m--> 893\u001b[0;31m                 \u001b[0;32mraise\u001b[0m \u001b[0mKeyboardInterrupt\u001b[0m\u001b[0;34m(\u001b[0m\u001b[0;34m\"Interrupted by user\"\u001b[0m\u001b[0;34m)\u001b[0m \u001b[0;32mfrom\u001b[0m \u001b[0;32mNone\u001b[0m\u001b[0;34m\u001b[0m\u001b[0;34m\u001b[0m\u001b[0m\n\u001b[0m\u001b[1;32m    894\u001b[0m             \u001b[0;32melse\u001b[0m\u001b[0;34m:\u001b[0m\u001b[0;34m\u001b[0m\u001b[0;34m\u001b[0m\u001b[0m\n\u001b[1;32m    895\u001b[0m                 \u001b[0;32mbreak\u001b[0m\u001b[0;34m\u001b[0m\u001b[0;34m\u001b[0m\u001b[0m\n",
      "\u001b[0;31mKeyboardInterrupt\u001b[0m: Interrupted by user"
     ]
    }
   ],
   "source": [
    "# Busqueda por edad\n",
    "listaUsuarios = [ [\"ana\", 35, 500.50], \n",
    "                  [\"maria\", 40, 300.8], \n",
    "                  [\"pedro\", 25, 100.1],\n",
    "                  [\"lady\", 33, 200],\n",
    "                  [\"john\", 21, 100.50],\n",
    "                  [\"pacho\", 22, 340],\n",
    "                  [\"mauricio\", 33, 250]\n",
    "                ]\n",
    "\n",
    "edadBusqueda = int (input (\"Ingrese edad: \"))\n",
    "\n",
    "N = len (listaUsuarios)\n",
    "i = 0\n",
    "listaEncontrados = []\n",
    "while (i < N):\n",
    "    usuario = listaUsuarios [i]\n",
    "    nombre  = usuario [0]\n",
    "    edad    = usuario [1]\n",
    "    if (edad==edadBusqueda):\n",
    "        listaEncontrados.append (nombre)\n",
    "    #\n",
    "    i += 1\n",
    "#\n",
    "print (listaEncontrados)"
   ]
  },
  {
   "cell_type": "code",
   "execution_count": 59,
   "metadata": {
    "collapsed": true
   },
   "outputs": [
    {
     "ename": "KeyboardInterrupt",
     "evalue": "Interrupted by user",
     "output_type": "error",
     "traceback": [
      "\u001b[0;31m---------------------------------------------------------------------------\u001b[0m",
      "\u001b[0;31mKeyboardInterrupt\u001b[0m                         Traceback (most recent call last)",
      "\u001b[0;32m<ipython-input-59-12ef2203613c>\u001b[0m in \u001b[0;36m<module>\u001b[0;34m\u001b[0m\n\u001b[1;32m      9\u001b[0m                 ]\n\u001b[1;32m     10\u001b[0m \u001b[0;34m\u001b[0m\u001b[0m\n\u001b[0;32m---> 11\u001b[0;31m \u001b[0mnombreCompleto\u001b[0m \u001b[0;34m=\u001b[0m \u001b[0minput\u001b[0m \u001b[0;34m(\u001b[0m\u001b[0;34m\"Ingrese nombre completo: \"\u001b[0m\u001b[0;34m)\u001b[0m\u001b[0;34m\u001b[0m\u001b[0;34m\u001b[0m\u001b[0m\n\u001b[0m\u001b[1;32m     12\u001b[0m \u001b[0;34m\u001b[0m\u001b[0m\n\u001b[1;32m     13\u001b[0m \u001b[0mN\u001b[0m \u001b[0;34m=\u001b[0m \u001b[0mlen\u001b[0m \u001b[0;34m(\u001b[0m\u001b[0mlistaUsuarios\u001b[0m\u001b[0;34m)\u001b[0m\u001b[0;34m\u001b[0m\u001b[0;34m\u001b[0m\u001b[0m\n",
      "\u001b[0;32m/usr/lib/python3/dist-packages/ipykernel/kernelbase.py\u001b[0m in \u001b[0;36mraw_input\u001b[0;34m(self, prompt)\u001b[0m\n\u001b[1;32m    858\u001b[0m                 \u001b[0;34m\"raw_input was called, but this frontend does not support input requests.\"\u001b[0m\u001b[0;34m\u001b[0m\u001b[0;34m\u001b[0m\u001b[0m\n\u001b[1;32m    859\u001b[0m             )\n\u001b[0;32m--> 860\u001b[0;31m         return self._input_request(str(prompt),\n\u001b[0m\u001b[1;32m    861\u001b[0m             \u001b[0mself\u001b[0m\u001b[0;34m.\u001b[0m\u001b[0m_parent_ident\u001b[0m\u001b[0;34m,\u001b[0m\u001b[0;34m\u001b[0m\u001b[0;34m\u001b[0m\u001b[0m\n\u001b[1;32m    862\u001b[0m             \u001b[0mself\u001b[0m\u001b[0;34m.\u001b[0m\u001b[0m_parent_header\u001b[0m\u001b[0;34m,\u001b[0m\u001b[0;34m\u001b[0m\u001b[0;34m\u001b[0m\u001b[0m\n",
      "\u001b[0;32m/usr/lib/python3/dist-packages/ipykernel/kernelbase.py\u001b[0m in \u001b[0;36m_input_request\u001b[0;34m(self, prompt, ident, parent, password)\u001b[0m\n\u001b[1;32m    891\u001b[0m             \u001b[0;32mexcept\u001b[0m \u001b[0mKeyboardInterrupt\u001b[0m\u001b[0;34m:\u001b[0m\u001b[0;34m\u001b[0m\u001b[0;34m\u001b[0m\u001b[0m\n\u001b[1;32m    892\u001b[0m                 \u001b[0;31m# re-raise KeyboardInterrupt, to truncate traceback\u001b[0m\u001b[0;34m\u001b[0m\u001b[0;34m\u001b[0m\u001b[0;34m\u001b[0m\u001b[0m\n\u001b[0;32m--> 893\u001b[0;31m                 \u001b[0;32mraise\u001b[0m \u001b[0mKeyboardInterrupt\u001b[0m\u001b[0;34m(\u001b[0m\u001b[0;34m\"Interrupted by user\"\u001b[0m\u001b[0;34m)\u001b[0m \u001b[0;32mfrom\u001b[0m \u001b[0;32mNone\u001b[0m\u001b[0;34m\u001b[0m\u001b[0;34m\u001b[0m\u001b[0m\n\u001b[0m\u001b[1;32m    894\u001b[0m             \u001b[0;32melse\u001b[0m\u001b[0;34m:\u001b[0m\u001b[0;34m\u001b[0m\u001b[0;34m\u001b[0m\u001b[0m\n\u001b[1;32m    895\u001b[0m                 \u001b[0;32mbreak\u001b[0m\u001b[0;34m\u001b[0m\u001b[0;34m\u001b[0m\u001b[0m\n",
      "\u001b[0;31mKeyboardInterrupt\u001b[0m: Interrupted by user"
     ]
    }
   ],
   "source": [
    "# Busqueda por inicio de nombre completo\n",
    "listaUsuarios = [ [\"ana gonzales\", 35, 500.50], \n",
    "                  [\"maria belen\", 40, 300.8], \n",
    "                  [\"pedro paramo\", 25, 100.1],\n",
    "                  [\"lady arciniegas\", 33, 200],\n",
    "                  [\"john\", 21, 100.50],\n",
    "                  [\"pacho\", 22, 340],\n",
    "                  [\"mauricio galan\", 33, 250]\n",
    "                ]\n",
    "\n",
    "nombreCompleto = input (\"Ingrese nombre completo: \")\n",
    "\n",
    "N = len (listaUsuarios)\n",
    "i = 0\n",
    "listaEncontrados = []\n",
    "while (i < N):\n",
    "    usuario = listaUsuarios [i]\n",
    "    nombre = usuario [0]\n",
    "    if (nombre == nombreCompleto):\n",
    "        listaEncontrados.append (usuario)\n",
    "    #\n",
    "    i += 1\n",
    "#\n",
    "if (listaEncontrados==[]):\n",
    "    print (\"No encontré\")\n",
    "else:\n",
    "    print (listaEncontrados)"
   ]
  },
  {
   "cell_type": "code",
   "execution_count": null,
   "metadata": {},
   "outputs": [],
   "source": [
    "# Funciones de lista para remover elementos: \"remove\", \"pop\"\n",
    "- "
   ]
  },
  {
   "cell_type": "code",
   "execution_count": 62,
   "metadata": {},
   "outputs": [
    {
     "name": "stdout",
     "output_type": "stream",
     "text": [
      "[11, 22, 33, 66, 55]\n"
     ]
    }
   ],
   "source": [
    "# Ejemplo lista de enteros\n",
    "ls = [11, 22, 33, 44, 66, 55]\n",
    "ls.pop (3)\n",
    "print (ls)"
   ]
  },
  {
   "cell_type": "markdown",
   "metadata": {},
   "source": [
    "# Busqueda con recorrido y eliminación con funcion \"pop\"\n",
    "- Recorre la lista\n",
    "- Recupera cada usuario\n",
    "- Preguanta de acuerdo a su condición\n",
    "- Y si cumple remueve de la lista la posición en la que esta (indice ---> i)\n",
    "- Rompe el ciclo: break"
   ]
  },
  {
   "cell_type": "code",
   "execution_count": 65,
   "metadata": {},
   "outputs": [
    {
     "ename": "KeyboardInterrupt",
     "evalue": "Interrupted by user",
     "output_type": "error",
     "traceback": [
      "\u001b[0;31m---------------------------------------------------------------------------\u001b[0m",
      "\u001b[0;31mKeyboardInterrupt\u001b[0m                         Traceback (most recent call last)",
      "\u001b[0;32m<ipython-input-65-6656dae724db>\u001b[0m in \u001b[0;36m<module>\u001b[0;34m\u001b[0m\n\u001b[1;32m     10\u001b[0m \u001b[0mN\u001b[0m \u001b[0;34m=\u001b[0m \u001b[0mlen\u001b[0m \u001b[0;34m(\u001b[0m\u001b[0mlistaUsuarios\u001b[0m\u001b[0;34m)\u001b[0m\u001b[0;34m\u001b[0m\u001b[0;34m\u001b[0m\u001b[0m\n\u001b[1;32m     11\u001b[0m \u001b[0mi\u001b[0m \u001b[0;34m=\u001b[0m \u001b[0;36m0\u001b[0m\u001b[0;34m\u001b[0m\u001b[0;34m\u001b[0m\u001b[0m\n\u001b[0;32m---> 12\u001b[0;31m \u001b[0medadBusqueda\u001b[0m \u001b[0;34m=\u001b[0m \u001b[0mint\u001b[0m \u001b[0;34m(\u001b[0m\u001b[0minput\u001b[0m \u001b[0;34m(\u001b[0m\u001b[0;34m\"Edad a borrar:\"\u001b[0m\u001b[0;34m)\u001b[0m\u001b[0;34m)\u001b[0m\u001b[0;34m\u001b[0m\u001b[0;34m\u001b[0m\u001b[0m\n\u001b[0m\u001b[1;32m     13\u001b[0m \u001b[0;34m\u001b[0m\u001b[0m\n\u001b[1;32m     14\u001b[0m \u001b[0;32mwhile\u001b[0m \u001b[0;34m(\u001b[0m\u001b[0mi\u001b[0m \u001b[0;34m<\u001b[0m \u001b[0mN\u001b[0m\u001b[0;34m)\u001b[0m\u001b[0;34m:\u001b[0m\u001b[0;34m\u001b[0m\u001b[0;34m\u001b[0m\u001b[0m\n",
      "\u001b[0;32m/usr/lib/python3/dist-packages/ipykernel/kernelbase.py\u001b[0m in \u001b[0;36mraw_input\u001b[0;34m(self, prompt)\u001b[0m\n\u001b[1;32m    858\u001b[0m                 \u001b[0;34m\"raw_input was called, but this frontend does not support input requests.\"\u001b[0m\u001b[0;34m\u001b[0m\u001b[0;34m\u001b[0m\u001b[0m\n\u001b[1;32m    859\u001b[0m             )\n\u001b[0;32m--> 860\u001b[0;31m         return self._input_request(str(prompt),\n\u001b[0m\u001b[1;32m    861\u001b[0m             \u001b[0mself\u001b[0m\u001b[0;34m.\u001b[0m\u001b[0m_parent_ident\u001b[0m\u001b[0;34m,\u001b[0m\u001b[0;34m\u001b[0m\u001b[0;34m\u001b[0m\u001b[0m\n\u001b[1;32m    862\u001b[0m             \u001b[0mself\u001b[0m\u001b[0;34m.\u001b[0m\u001b[0m_parent_header\u001b[0m\u001b[0;34m,\u001b[0m\u001b[0;34m\u001b[0m\u001b[0;34m\u001b[0m\u001b[0m\n",
      "\u001b[0;32m/usr/lib/python3/dist-packages/ipykernel/kernelbase.py\u001b[0m in \u001b[0;36m_input_request\u001b[0;34m(self, prompt, ident, parent, password)\u001b[0m\n\u001b[1;32m    891\u001b[0m             \u001b[0;32mexcept\u001b[0m \u001b[0mKeyboardInterrupt\u001b[0m\u001b[0;34m:\u001b[0m\u001b[0;34m\u001b[0m\u001b[0;34m\u001b[0m\u001b[0m\n\u001b[1;32m    892\u001b[0m                 \u001b[0;31m# re-raise KeyboardInterrupt, to truncate traceback\u001b[0m\u001b[0;34m\u001b[0m\u001b[0;34m\u001b[0m\u001b[0;34m\u001b[0m\u001b[0m\n\u001b[0;32m--> 893\u001b[0;31m                 \u001b[0;32mraise\u001b[0m \u001b[0mKeyboardInterrupt\u001b[0m\u001b[0;34m(\u001b[0m\u001b[0;34m\"Interrupted by user\"\u001b[0m\u001b[0;34m)\u001b[0m \u001b[0;32mfrom\u001b[0m \u001b[0;32mNone\u001b[0m\u001b[0;34m\u001b[0m\u001b[0;34m\u001b[0m\u001b[0m\n\u001b[0m\u001b[1;32m    894\u001b[0m             \u001b[0;32melse\u001b[0m\u001b[0;34m:\u001b[0m\u001b[0;34m\u001b[0m\u001b[0;34m\u001b[0m\u001b[0m\n\u001b[1;32m    895\u001b[0m                 \u001b[0;32mbreak\u001b[0m\u001b[0;34m\u001b[0m\u001b[0;34m\u001b[0m\u001b[0m\n",
      "\u001b[0;31mKeyboardInterrupt\u001b[0m: Interrupted by user"
     ]
    }
   ],
   "source": [
    "# Busqueda por inicio de nombre completo\n",
    "listaUsuarios = [ [\"ana gonzales\", 35, 500.50], \n",
    "                  [\"maria belen\", 40, 300.8], \n",
    "                  [\"pedro paramo\", 25, 100.1],\n",
    "                  [\"lady arciniegas\", 33, 200],\n",
    "                  [\"john\", 21, 100.50],\n",
    "                  [\"pacho\", 22, 340],\n",
    "                  [\"mauricio galan\", 38, 250]\n",
    "                ]\n",
    "N = len (listaUsuarios)\n",
    "i = 0\n",
    "edadBusqueda = int (input (\"Edad a borrar:\"))\n",
    "\n",
    "while (i < N):\n",
    "    usuario = listaUsuarios [i]\n",
    "    edad    = usuario [1]\n",
    "    if (edad==edadBusqueda):\n",
    "        listaUsuarios.pop (i)\n",
    "        break\n",
    "    #\n",
    "    i+=1\n",
    "#\n",
    "print (listaUsuarios)"
   ]
  },
  {
   "cell_type": "markdown",
   "metadata": {},
   "source": [
    "# Manejo de Archivos básico\n",
    "- Archivos texto y archivos binarios\n",
    "- Archivos texto los que no tienen formato\n",
    "- Operaciones básicas sobre un archivo:\n",
    "    - Escribir (Guardar)\n",
    "    - Leer     (Cargar)\n",
    "\n",
    "## Escribir en un archivo:\n",
    "- Abrir el archivo (para escritura)       : archivo = open (\"agenda.txt\", \"w\")\n",
    "- Escribir en el archivo                  : archivo.write (nombre + \"\\n\")\n",
    "- Cerrar el archivo                       : archivo.close()\n",
    "\n",
    "## Leer desde un archivo\n",
    "- Abrir el archivo (para lectura)         : archivo = open (\"agenda.txt\", \"r\")\n",
    "- Lee desde el archivo                    : texto = archivo.readline ()\n",
    "- Cierra el archivo                       : archivo.close () "
   ]
  },
  {
   "cell_type": "code",
   "execution_count": 67,
   "metadata": {},
   "outputs": [
    {
     "name": "stdout",
     "output_type": "stream",
     "text": [
      "NOMBRE: ana gonzales\n",
      "EDAD:  35\n",
      "SALARIO:  500.5\n",
      "NOMBRE: maria belen\n",
      "EDAD:  40\n",
      "SALARIO:  300.8\n",
      "NOMBRE: pedro paramo\n",
      "EDAD:  25\n",
      "SALARIO:  100.1\n",
      "NOMBRE: lady arciniegas\n",
      "EDAD:  33\n",
      "SALARIO:  200\n",
      "NOMBRE: john\n",
      "EDAD:  21\n",
      "SALARIO:  100.5\n",
      "NOMBRE: pacho\n",
      "EDAD:  22\n",
      "SALARIO:  340\n",
      "NOMBRE: mauricio galan\n",
      "EDAD:  38\n",
      "SALARIO:  250\n"
     ]
    }
   ],
   "source": [
    "# Recorrido para imprimir los datos (listar)\n",
    "listaUsuarios = [ [\"ana gonzales\", 35, 500.50], \n",
    "                  [\"maria belen\", 40, 300.8], \n",
    "                  [\"pedro paramo\", 25, 100.1],\n",
    "                  [\"lady arciniegas\", 33, 200],\n",
    "                  [\"john\", 21, 100.50],\n",
    "                  [\"pacho\", 22, 340],\n",
    "                  [\"mauricio galan\", 38, 250]\n",
    "                ]\n",
    "\n",
    "N = len (listaUsuarios)\n",
    "i = 0\n",
    "\n",
    "while (i < N):\n",
    "    usuario = listaUsuarios [i]\n",
    "    \n",
    "    nombre  = usuario [0]\n",
    "    edad    = usuario [1]\n",
    "    salario = usuario [2]\n",
    "    \n",
    "    print (\"NOMBRE:\", nombre)\n",
    "    print (\"EDAD: \", edad)\n",
    "    print (\"SALARIO: \", salario)\n",
    "    \n",
    "    i += 1\n",
    "#"
   ]
  },
  {
   "cell_type": "code",
   "execution_count": 69,
   "metadata": {},
   "outputs": [],
   "source": [
    "# Recorrido y escritura en un archivo (listar)\n",
    "listaUsuarios = [ [\"ana gonzales\", 35, 500.50], \n",
    "                  [\"maria belen\", 40, 300.8], \n",
    "                  [\"pedro paramo\", 25, 100.1],\n",
    "                  [\"lady arciniegas\", 33, 200],\n",
    "                  [\"john\", 21, 100.50],\n",
    "                  [\"pacho\", 22, 340],\n",
    "                  [\"mauricio galan\", 38, 250]\n",
    "                ]\n",
    "\n",
    "N = len (listaUsuarios)\n",
    "i = 0\n",
    "\n",
    "# Abrir el archivo\n",
    "archivoDatos = open (\"agenda.txt\", \"w\")\n",
    "\n",
    "while (i < N):\n",
    "    usuario = listaUsuarios [i]\n",
    "    \n",
    "    nombre  = usuario [0]\n",
    "    edad    = usuario [1]\n",
    "    salario = usuario [2]\n",
    "    \n",
    "    # Escritura al archivo\n",
    "    archivoDatos.write (nombre + \"\\n\")\n",
    "    archivoDatos.write (str (edad) + \"\\n\")\n",
    "    archivoDatos.write (str (salario) + \"\\n\")\n",
    "    \n",
    "    i += 1\n",
    "#\n",
    "\n",
    "# Cierro el archivo\n",
    "archivoDatos.close ()"
   ]
  },
  {
   "cell_type": "code",
   "execution_count": 29,
   "metadata": {},
   "outputs": [
    {
     "name": "stdout",
     "output_type": "stream",
     "text": [
      "\n",
      "\n",
      "\n",
      "\n",
      "\n",
      "\n",
      "\n",
      "\n",
      "\n",
      "\n",
      "\n",
      "\n",
      "\n",
      "\n",
      "\n",
      "\n",
      "\n",
      "\n",
      "\n",
      "\n",
      "\n",
      "\n",
      "\n",
      "\n",
      "\n",
      "\n",
      "\n",
      "\n",
      "\n",
      "\n",
      "\n",
      "\n",
      "\n",
      "\n",
      "\n",
      "\n",
      "\n",
      "\n",
      "\n",
      "\n",
      "\n",
      "\n",
      "\n",
      "\n",
      "\n",
      "\n",
      "\n",
      "\n",
      "\n",
      "\n",
      "\n",
      "\n",
      "\n",
      "\n",
      "\n",
      "\n",
      "\n",
      "\n",
      "\n",
      "\n",
      "\n",
      "\n",
      "\n",
      "\n",
      "\n",
      "\n",
      "\n",
      "\n",
      "\n",
      "\n",
      "\n",
      "\n",
      "\n",
      "\n",
      "\n",
      "\n",
      "\n",
      "\n",
      "\n",
      "\n",
      "\n",
      "\n",
      "\n",
      "\n",
      "\n",
      "\n",
      "\n",
      "\n",
      "\n",
      "\n",
      "\n",
      "\n",
      "\n",
      "\n",
      "\n",
      "\n",
      "\n",
      "\n",
      "\n",
      "\n",
      "\n"
     ]
    }
   ],
   "source": [
    "print (\"\\n\"*100)"
   ]
  },
  {
   "cell_type": "code",
   "execution_count": null,
   "metadata": {},
   "outputs": [],
   "source": []
  }
 ],
 "metadata": {
  "kernelspec": {
   "display_name": "Python 3",
   "language": "python",
   "name": "python3"
  },
  "language_info": {
   "codemirror_mode": {
    "name": "ipython",
    "version": 3
   },
   "file_extension": ".py",
   "mimetype": "text/x-python",
   "name": "python",
   "nbconvert_exporter": "python",
   "pygments_lexer": "ipython3",
   "version": "3.8.5"
  }
 },
 "nbformat": 4,
 "nbformat_minor": 4
}
