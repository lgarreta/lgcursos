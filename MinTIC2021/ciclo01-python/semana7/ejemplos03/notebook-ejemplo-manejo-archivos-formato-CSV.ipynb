{
 "cells": [
  {
   "cell_type": "markdown",
   "metadata": {},
   "source": [
    "# Manejo de archivos en formato CSV\n",
    "- Separado por comas\n",
    "- Archivo texto\n",
    "- Se puede procesar manualmente o utilizar librerias\n",
    "- Generalmente corresponden a tablas de datos (Ej. tipo excel)"
   ]
  },
  {
   "cell_type": "code",
   "execution_count": 10,
   "metadata": {
    "collapsed": true
   },
   "outputs": [
    {
     "name": "stdout",
     "output_type": "stream",
     "text": [
      "NOMBRE,CODUGO,PLAN,NOTA1,NOTA2,NOTA3,DEFINITIVA,APROBO\n",
      "\n",
      "NOMBRE\n",
      "CODUGO\n",
      "\n",
      "Ana,1010,20,4.5,3.5,5,4.5,Si\n",
      "\n",
      "Ana\n",
      "1010\n",
      "\n",
      "Juan,2020,20,4,3.4,2.8,3,SI\n",
      "\n",
      "Juan\n",
      "2020\n",
      "\n",
      "Maria,3030,20,4,5,5,4.5,SI\n",
      "\n",
      "Maria\n",
      "3030\n",
      "\n"
     ]
    },
    {
     "data": {
      "text/plain": [
       "<function TextIOWrapper.close()>"
      ]
     },
     "execution_count": 10,
     "metadata": {},
     "output_type": "execute_result"
    }
   ],
   "source": [
    "# Ejemplo: lecutra de un archivo .csv\n",
    "archivo = open (\"usuarios.csv\", \"r\")\n",
    "\n",
    "for linea in archivo:\n",
    "    datos = str.split (linea, \",\")\n",
    "    print (linea)\n",
    "    print (datos [0])\n",
    "    print (datos [1])\n",
    "    print ()\n",
    "archivo.close"
   ]
  },
  {
   "cell_type": "code",
   "execution_count": 13,
   "metadata": {},
   "outputs": [],
   "source": [
    "# Escribir a un archivo en formato CSV\n",
    "archivo = open (\"usuarios.csv\", \"a\")\n",
    "\n",
    "nuevoUsuario = \"Pedro, 4040, 20, 1.0, 3, 5, 2.5, NO\"\n",
    "\n",
    "archivo.write (nuevoUsuario+\"\\n\")\n",
    "\n",
    "archivo.close ()"
   ]
  },
  {
   "cell_type": "code",
   "execution_count": 17,
   "metadata": {},
   "outputs": [
    {
     "name": "stdout",
     "output_type": "stream",
     "text": [
      "['NOMBRE', 'CODUGO', 'PLAN', 'NOTA1', 'NOTA2', 'NOTA3', 'DEFINITIVA', 'APROBO']\n",
      "['Ana', '1010', '20', '4.5', '3.5', '5', '4.5', 'Si']\n",
      "['Juan', '2020', '20', '4', '3.4', '2.8', '3', 'SI']\n",
      "['Maria', '3030', '20', '4', '5', '5', '4.5', 'SI']\n",
      "['Pedro', ' 4040', ' 20', ' 1.0', ' 3', ' 5', ' 2.5', ' NO']\n"
     ]
    }
   ],
   "source": [
    "# Lectura de archivos CSV por medio de una libreria\n",
    "import csv\n",
    "\n",
    "archivo = open (\"usuarios.csv\")\n",
    "lector  = csv.reader (archivo)\n",
    "\n",
    "for dato in lector:\n",
    "    print (dato)\n",
    "\n",
    "archivo.close()"
   ]
  },
  {
   "cell_type": "code",
   "execution_count": 19,
   "metadata": {},
   "outputs": [],
   "source": [
    "# Escritura en un archivo CSV\n",
    "import csv\n",
    "\n",
    "archivo  = open (\"usuarios.csv\",\"a\")\n",
    "escritor = csv.writer (archivo)\n",
    "\n",
    "dato = [\"Carlos\", 5050, 20, 4.5, 3.0, 1.0, 2.4, \"NO\"]\n",
    "escritor.writerow (dato)\n",
    "\n",
    "archivo.close()"
   ]
  }
 ],
 "metadata": {
  "kernelspec": {
   "display_name": "Python 3",
   "language": "python",
   "name": "python3"
  },
  "language_info": {
   "codemirror_mode": {
    "name": "ipython",
    "version": 3
   },
   "file_extension": ".py",
   "mimetype": "text/x-python",
   "name": "python",
   "nbconvert_exporter": "python",
   "pygments_lexer": "ipython3",
   "version": "3.8.5"
  }
 },
 "nbformat": 4,
 "nbformat_minor": 4
}
