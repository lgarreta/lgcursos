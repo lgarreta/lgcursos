{
 "cells": [
  {
   "cell_type": "markdown",
   "metadata": {},
   "source": [
    "# Repaso de Archivos\n",
    "## Tipos de archivos:\n",
    " - Binarios: No se pueden editar en un editor de texto (ej. notepad)\n",
    "   Ej: excel (.xls), word (.doc), programas (.exe), imagenes (.png, jpg, .bmp), sonido (.mp3), video (.mp4, .wma)\n",
    "   - Conformados por bits (1,0): miden en bytes\n",
    " \n",
    " - Texto: si se pueden editar en cualquier editor de texto:\n",
    "   Ej. python (.py), texto (.txt), java (.java), separados por comas (.csv), separados por campos (.json)\n",
    "   - Conformados por carácteres (simbolos) ocuban 1 byte.\n",
    "   \n",
    "## Tipos de archivos por acceso:\n",
    "- Secuencial:\n",
    "  - Se leen/escriben de uno en uno de forma secuencial. Es decir desde el primer elemento hasta el ultimo de forma seguida.\n",
    "- Directo\n",
    "- Indexado directo"
   ]
  },
  {
   "cell_type": "markdown",
   "metadata": {},
   "source": [
    "# Operaciones sobre archivos:\n",
    "- Abrir un archivo (Leer, Escribir, Adicionar)\n",
    "  - open\n",
    "- Leer  \n",
    "  - readline \n",
    "- Escribir\n",
    "  - write\n",
    "- Adicionar\n",
    "  - write\n",
    "- Cerrar\n",
    "  - close"
   ]
  },
  {
   "cell_type": "code",
   "execution_count": 8,
   "metadata": {},
   "outputs": [],
   "source": [
    "# Ejemplo creación de un archivo de usuarios (modo escritura: \"w\")\n",
    "# APERTURA DEL ARCHIVO\n",
    "archivo = open (\"agenda.txt\", \"w\")   # nombre archivo, modo\n",
    "\n",
    "# ESCRITURA EN EL ARCHIVO\n",
    "archivo.write (\"juan, 1010, 310\\n\")\n",
    "archivo.write (\"ana, 2020, 320\\n\")\n",
    "archivo.write (\"maria, 3030, 330\\n\")\n",
    "archivo.write (\"marta, 4040, 340\\n\")\n",
    "\n",
    "# CIERRA EL ARCHIVO\n",
    "archivo.close ()"
   ]
  },
  {
   "cell_type": "code",
   "execution_count": 10,
   "metadata": {},
   "outputs": [],
   "source": [
    "# Ejemplo abrir archivo modo adición \"a\"\n",
    "archivo = open (\"agenda.txt\", \"a\")\n",
    "archivo.write (\"pedro, 5050, 350\")\n",
    "archivo.close ()"
   ]
  },
  {
   "cell_type": "markdown",
   "metadata": {},
   "source": [
    "## Lectura desde un archivo"
   ]
  },
  {
   "cell_type": "code",
   "execution_count": 14,
   "metadata": {},
   "outputs": [
    {
     "name": "stdout",
     "output_type": "stream",
     "text": [
      ">>>  juan, 1010, 310\n",
      "\n",
      ">>>  ana, 2020, 320\n",
      "\n",
      ">>>  maria, 3030, 330\n",
      "\n",
      ">>>  marta, 4040, 340\n",
      "\n",
      ">>>  pedro, 5050, 350\n",
      "\n",
      ">>>  angela, 6060, 360\n",
      "\n"
     ]
    }
   ],
   "source": [
    "# Ejemplo Abrir archivo en modo lectura : \"r\" : read\n",
    "archivo = open (\"agenda.txt\", \"r\")\n",
    "for linea in archivo:\n",
    "    print (\">>> \", linea)\n",
    "#\n",
    "archivo.close ()"
   ]
  },
  {
   "cell_type": "code",
   "execution_count": 19,
   "metadata": {},
   "outputs": [
    {
     "name": "stdout",
     "output_type": "stream",
     "text": [
      "Ingrese letra inical de nombre: m\n",
      "NOMBRE:  maria TEL:   3030 CEL:   330\n",
      "\n",
      "NOMBRE:  marta TEL:   4040 CEL:   340\n",
      "\n"
     ]
    }
   ],
   "source": [
    "## Proceso de un archivo: imprimir nombre que inicien por una letra\n",
    "letra = input (\"Ingrese letra inical de nombre: \")\n",
    "\n",
    "archivo = open (\"agenda.txt\", \"r\")\n",
    "\n",
    "for linea in archivo:\n",
    "    listaCampos = str.split (linea, \",\")\n",
    "    nombre   = listaCampos [0]\n",
    "    telefono = listaCampos [1]\n",
    "    celular  = listaCampos [2]\n",
    "    \n",
    "    if (nombre [0]==letra):\n",
    "        print (\"NOMBRE: \", nombre, \"TEL: \", telefono, \"CEL: \", celular)\n",
    "#\n",
    "archivo.close ()"
   ]
  },
  {
   "cell_type": "code",
   "execution_count": 26,
   "metadata": {},
   "outputs": [
    {
     "name": "stdout",
     "output_type": "stream",
     "text": [
      "Ingrese numero de telefono: 330\n",
      "[['marta', ' 4040', 340, 200.0], ['pedro', ' 5050', 350, 300.2], ['angela', ' 6060', 360, 250.3]]\n",
      "\n",
      "marta  4040 340\n",
      "pedro  5050 350\n",
      "angela  6060 360\n"
     ]
    }
   ],
   "source": [
    "## Proceso de un archivo: imprimir nombres con telefono mayor a un numero\n",
    "numero = int (input (\"Ingrese numero de telefono: \"))\n",
    "\n",
    "archivo = open (\"agenda.txt\", \"r\")\n",
    "listaEncontrados = []\n",
    "for linea in archivo:\n",
    "    listaCampos = str.split (linea, \",\")\n",
    "    nombre    = listaCampos [0]\n",
    "    cedula    = listaCampos [1]\n",
    "    telefono  = int (listaCampos [2])\n",
    "    sueldo    = float (listaCampos [3])\n",
    "    \n",
    "    if (telefono > numero):\n",
    "        #print (\"NOMBRE: \", nombre, \"CEDULA: \", cedula, \"TEL: \", telefono)\n",
    "        usuario = [nombre, cedula, telefono, sueldo]\n",
    "        listaEncontrados.append (usuario)\n",
    "#\n",
    "archivo.close ()\n",
    "\n",
    "print (listaEncontrados)\n",
    "print ()\n",
    "for listaRegistro in listaEncontrados:\n",
    "    nm = listaRegistro [0]\n",
    "    cd = listaRegistro [1]\n",
    "    tl = listaRegistro [2]\n",
    "    print (nm, cd, tl)\n"
   ]
  },
  {
   "cell_type": "markdown",
   "metadata": {},
   "source": [
    "# Ejemplo proceso de datos de archivo agenda vertical\n",
    "juan\n",
    "1010\n",
    "310\n",
    "ana\n",
    "2020\n",
    "320\n",
    "maria\n",
    "3030\n",
    "330\n",
    "marta\n",
    "4040\n",
    "340\n",
    "pedro\n",
    "5050\n",
    "350\n",
    "angela\n",
    "6060\n",
    "360"
   ]
  },
  {
   "cell_type": "code",
   "execution_count": 32,
   "metadata": {},
   "outputs": [
    {
     "name": "stdout",
     "output_type": "stream",
     "text": [
      "juan\n",
      "1010\n",
      "310\n",
      "ana\n",
      "2020\n",
      "320\n",
      "maria\n",
      "3030\n",
      "330\n",
      "marta\n",
      "4040\n",
      "340\n",
      "pedro\n",
      "5050\n",
      "350\n",
      "angela\n",
      "6060\n",
      "360\n"
     ]
    }
   ],
   "source": [
    "# Lectura Simple con\n",
    "archivo = open (\"agenda-vertical.txt\", \"r\")\n",
    "\n",
    "for linea in archivo:\n",
    "    lineaSimple = str.strip (linea)\n",
    "    print (lineaSimple)\n",
    "#\n",
    "archivo.close()"
   ]
  },
  {
   "cell_type": "markdown",
   "metadata": {},
   "source": [
    "# Archivos como listas : \"readlines\"\n",
    "- Función que me lleva todas las lineas del archivo a una lista\n",
    "- Se puede trabajar a nivel de lista \"olvidándome\" del archivo"
   ]
  },
  {
   "cell_type": "code",
   "execution_count": 42,
   "metadata": {},
   "outputs": [
    {
     "name": "stdout",
     "output_type": "stream",
     "text": [
      "juan\n",
      " 1010\n",
      " 310\n",
      "\n",
      "ana\n",
      " 2020\n",
      " 320\n",
      "\n",
      "maria\n",
      " 3030\n",
      " 330\n",
      "\n",
      "marta\n",
      " 4040\n",
      " 340\n",
      "\n",
      "pedro\n",
      " 5050\n",
      " 350\n",
      "\n",
      "angela\n",
      " 6060\n",
      " 360\n",
      "\n"
     ]
    }
   ],
   "source": [
    "# Ejemplo de archivo a listas\n",
    "archivo = open (\"agenda-vertical.txt\", \"r\")\n",
    "listaLineas = archivo.readlines ()\n",
    "archivo.close ()\n",
    "\n",
    "n = len (listaLineas)\n",
    "i = 0\n",
    "while (i < n):\n",
    "    nombre   = listaLineas [i]\n",
    "    cedula   = listaLineas [i+1]\n",
    "    telefono = listaLineas [i+2]\n",
    "    \n",
    "    print (nombre, cedula, telefono)\n",
    "    i += 3\n",
    "#"
   ]
  },
  {
   "cell_type": "code",
   "execution_count": 3,
   "metadata": {},
   "outputs": [
    {
     "name": "stdout",
     "output_type": "stream",
     "text": [
      "\n",
      "\n",
      "\n",
      "\n",
      "\n",
      "\n",
      "\n",
      "\n",
      "\n",
      "\n",
      "\n",
      "\n",
      "\n",
      "\n",
      "\n",
      "\n",
      "\n",
      "\n",
      "\n",
      "\n",
      "\n",
      "\n",
      "\n",
      "\n",
      "\n",
      "\n",
      "\n",
      "\n",
      "\n",
      "\n",
      "\n",
      "\n",
      "\n",
      "\n",
      "\n",
      "\n",
      "\n",
      "\n",
      "\n",
      "\n",
      "\n",
      "\n",
      "\n",
      "\n",
      "\n",
      "\n",
      "\n",
      "\n",
      "\n",
      "\n",
      "\n",
      "\n",
      "\n",
      "\n",
      "\n",
      "\n",
      "\n",
      "\n",
      "\n",
      "\n",
      "\n",
      "\n",
      "\n",
      "\n",
      "\n",
      "\n",
      "\n",
      "\n",
      "\n",
      "\n",
      "\n",
      "\n",
      "\n",
      "\n",
      "\n",
      "\n",
      "\n",
      "\n",
      "\n",
      "\n",
      "\n",
      "\n",
      "\n",
      "\n",
      "\n",
      "\n",
      "\n",
      "\n",
      "\n",
      "\n",
      "\n",
      "\n",
      "\n",
      "\n",
      "\n",
      "\n",
      "\n",
      "\n",
      "\n",
      "\n",
      "\n"
     ]
    }
   ],
   "source": [
    "print (\"\\n\"*100)"
   ]
  },
  {
   "cell_type": "code",
   "execution_count": null,
   "metadata": {},
   "outputs": [],
   "source": []
  }
 ],
 "metadata": {
  "kernelspec": {
   "display_name": "Python 3",
   "language": "python",
   "name": "python3"
  },
  "language_info": {
   "codemirror_mode": {
    "name": "ipython",
    "version": 3
   },
   "file_extension": ".py",
   "mimetype": "text/x-python",
   "name": "python",
   "nbconvert_exporter": "python",
   "pygments_lexer": "ipython3",
   "version": "3.8.5"
  }
 },
 "nbformat": 4,
 "nbformat_minor": 4
}
