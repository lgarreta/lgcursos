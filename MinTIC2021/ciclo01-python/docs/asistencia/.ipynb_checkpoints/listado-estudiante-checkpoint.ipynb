{
 "cells": [
  {
   "cell_type": "markdown",
   "metadata": {},
   "source": [
    "# Listado de Estudiantes Curso Intro Programación\n"
   ]
  },
  {
   "cell_type": "code",
   "execution_count": 7,
   "metadata": {
    "scrolled": false
   },
   "outputs": [
    {
     "name": "stderr",
     "output_type": "stream",
     "text": [
      "lista :  data.frame : (49 x 3)\n",
      "\n"
     ]
    },
    {
     "name": "stdout",
     "output_type": "stream",
     "text": [
      "           Nombre         Apellido                     Correo\n",
      "1   GEOVANI ARIEL   VILLAMIL AVILA     geovaniariel@gmail.com\n",
      "2   Fabian Andres       Ruiz Muñoz          f-arm@hotmail.com\n",
      "3 OTONIEL Gonzalo   Parra Avendaño        gpave2015@gmail.com\n",
      "4    Miguel Angel Sepúlveda Burgos masbmiguelburgos@gmail.com\n",
      "5     juan erasmo    cruz barragan      djcruz_92@hotmail.com\n"
     ]
    }
   ],
   "source": [
    "source (\"lglib08.R\")\n",
    "suppressMessages (library (dplyr))\n",
    "lista = read.csv (\"grupo-67-FundamientosProgramacion-Prof-LuisGarreta.csv\")\n",
    "view (lista)"
   ]
  },
  {
   "cell_type": "markdown",
   "metadata": {},
   "source": [
    "# Preproceso lista: Capitalización, Ordenamiento"
   ]
  },
  {
   "cell_type": "code",
   "execution_count": 18,
   "metadata": {},
   "outputs": [
    {
     "name": "stderr",
     "output_type": "stream",
     "text": [
      "listaOrdenada :  data.frame : (49 x 4)\n",
      "\n"
     ]
    },
    {
     "name": "stdout",
     "output_type": "stream",
     "text": [
      "  Numero         Nombre        Apellido                     Correo\n",
      "1      1   Jorge Andres   Acevedo Ariza      viajerosrcn@gmail.com\n",
      "2      2  Diego Nicolas  Ahumada rincón    nicolas1504@hotmail.com\n",
      "3      3         Andres Aldana  Barrera ing.andresaldana@gmail.com\n",
      "4      4   Flor Mariles   Arias Camargo  florimar-1986@hotmail.com\n",
      "5      5 Lorent Dhalila   Barajas Ochoa   dhalilabarajas@gmail.com\n"
     ]
    }
   ],
   "source": [
    "nombre = tools::toTitleCase (tolower (lista$Nombre))\n",
    "apellido = tools::toTitleCase (tolower (lista$Apellido))\n",
    "numeroLista = 1:nrow(lista)\n",
    "listaPre = data.frame (Nombre=nombre, Apellido=apellido, Correo=lista$Correo)\n",
    "listaOrdenada = data.frame (Numero=numeroLista, arrange (listaPre, Apellido))\n",
    "view (listaOrdenada)"
   ]
  },
  {
   "cell_type": "code",
   "execution_count": null,
   "metadata": {},
   "outputs": [],
   "source": []
  }
 ],
 "metadata": {
  "kernelspec": {
   "display_name": "R",
   "language": "R",
   "name": "ir"
  },
  "language_info": {
   "codemirror_mode": "r",
   "file_extension": ".r",
   "mimetype": "text/x-r-source",
   "name": "R",
   "pygments_lexer": "r",
   "version": "3.6.3"
  }
 },
 "nbformat": 4,
 "nbformat_minor": 4
}
