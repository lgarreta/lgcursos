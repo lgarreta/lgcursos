{
 "cells": [
  {
   "cell_type": "markdown",
   "metadata": {},
   "source": [
    "# Listado de Estudiantes Curso Intro Programación\n"
   ]
  },
  {
   "cell_type": "code",
   "execution_count": 23,
   "metadata": {
    "scrolled": false
   },
   "outputs": [
    {
     "name": "stderr",
     "output_type": "stream",
     "text": [
      "lista :  data.frame : (49 x 3)\n",
      "\n"
     ]
    },
    {
     "name": "stdout",
     "output_type": "stream",
     "text": [
      "           Nombre         Apellido                     Correo\n",
      "1   GEOVANI ARIEL   VILLAMIL AVILA     geovaniariel@gmail.com\n",
      "2   Fabian Andres       Ruiz Muñoz          f-arm@hotmail.com\n",
      "3 OTONIEL Gonzalo   Parra Avendaño        gpave2015@gmail.com\n",
      "4    Miguel Angel Sepúlveda Burgos masbmiguelburgos@gmail.com\n",
      "5     juan erasmo    cruz barragan      djcruz_92@hotmail.com\n",
      "[1] 49\n",
      "[1] 49\n"
     ]
    }
   ],
   "source": [
    "source (\"lglib08.R\")\n",
    "suppressMessages (library (dplyr))\n",
    "lista = read.csv (\"grupo-67-FundamientosProgramacion-Prof-LuisGarreta.csv\")\n",
    "view (lista)\n",
    "print (length (lista$Nombre))\n",
    "print (length (lista$Apellido))"
   ]
  },
  {
   "cell_type": "markdown",
   "metadata": {},
   "source": [
    "# Preproceso lista: Capitalización, Ordenamiento"
   ]
  },
  {
   "cell_type": "code",
   "execution_count": 52,
   "metadata": {},
   "outputs": [
    {
     "name": "stderr",
     "output_type": "stream",
     "text": [
      "listaOrdenada :  data.frame : (49 x 5)\n",
      "\n"
     ]
    },
    {
     "name": "stdout",
     "output_type": "stream",
     "text": [
      "  Numero        Apellido         Nombre                     Correo               NombreApellido\n",
      "1      1   Acevedo Ariza   Jorge Andres      viajerosrcn@gmail.com   Jorge Andres Acevedo Ariza\n",
      "2      2  Ahumada Rincón  Diego Nicolas    nicolas1504@hotmail.com Diego Nicolas Ahumada Rincón\n",
      "3      3 Aldana  Barrera         Andres ing.andresaldana@gmail.com       Andres Aldana  Barrera\n",
      "4      4   Arias Camargo   Flor Mariles  florimar-1986@hotmail.com   Flor Mariles Arias Camargo\n",
      "5      5   Barajas Ochoa Lorent Dhalila   dhalilabarajas@gmail.com Lorent Dhalila Barajas Ochoa\n"
     ]
    }
   ],
   "source": [
    "nombresApellidos = paste (lista$Nombre, lista$Apellido)\n",
    "numeroLista = 1:nrow(lista)\n",
    "listaPre = data.frame (Apellido=lista$Apellido, Nombre=lista$Nombre, Correo=lista$Correo, NombreApellido=nombresApellidos)\n",
    "listaOrdenada = data.frame (Numero=numeroLista, arrange (listaPre, Apellido))\n",
    "view (listaOrdenada)"
   ]
  },
  {
   "cell_type": "markdown",
   "metadata": {},
   "source": [
    "# Leo la lista asistencia\n"
   ]
  },
  {
   "cell_type": "code",
   "execution_count": 61,
   "metadata": {
    "scrolled": true
   },
   "outputs": [
    {
     "name": "stdout",
     "output_type": "stream",
     "text": [
      "   Numero                            Correo                     NombreApellido       Date\n",
      "1       1             viajerosrcn@gmail.com         Jorge Andres Acevedo Ariza 05/07/2021\n",
      "2       2           nicolas1504@hotmail.com       Diego Nicolas Ahumada Rincón 05/07/2021\n",
      "3       3        ing.andresaldana@gmail.com             Andres Aldana  Barrera       <NA>\n",
      "4       4         florimar-1986@hotmail.com         Flor Mariles Arias Camargo       <NA>\n",
      "5       5          dhalilabarajas@gmail.com       Lorent Dhalila Barajas Ochoa       <NA>\n",
      "6       6            yarilennys@hotmail.com       Nancy Yarilennys Bastos Meza       <NA>\n",
      "7       7           maikol.stally@gmail.com       Michael Stally Beleño Ortega 05/07/2021\n",
      "8       8        dalejobeltranver@gmail.com   Daniel Alejandro Beltran Vergara 05/07/2021\n",
      "9       9             danpowerful@gmail.com                     Daniel Bergano       <NA>\n",
      "10     10        johannapbm_911@hotmail.com       Johanna Paola Briceño Moreno 05/07/2021\n",
      "11     11 sebastian.caleroespitia@gmail.com           Sebastian Calero Espitia 05/07/2021\n",
      "12     12       leidyalejacastell@gmail.com Leidy Alejandra Castro Castellanos 05/07/2021\n",
      "13     13               cami.co@hotmail.com        Laura Camila Colorado Perez 05/07/2021\n",
      "14     14      Hackgivercomputers@gmail.com      Héctor Antonio Córdoba Nariño       <NA>\n",
      "15     15             djcruz_92@hotmail.com          juan erasmo cruz barragan 05/07/2021\n",
      "16     16     luzalbaduquegiraldo@yahoo.com             Luz Alba Duque Giraldo       <NA>\n",
      "17     17           milleresrenza@gmail.com          Jose Miller Escobar Renza 05/07/2021\n",
      "18     18                 pr_gm@hotmail.com          Pedro Rodolfo Girata Mora 05/07/2021\n",
      "19     19         alejogonzabot@hotmail.com          Alejandro Gonzalez Arango       <NA>\n",
      "20     20              agonzalez@acatas.com           Andrea Gonzalez Garavito 05/07/2021\n",
      "21     21        marlensita_123@hotmail.com         Marleny Gutierrez Cubillos 05/07/2021\n",
      "22     22          niletizquierdo@gmail.com    Nilet Yolanda Izquierdo Alarcon 05/07/2021\n",
      "23     23         majollagu2000@hotmail.com          María José Llamas Gulloso       <NA>\n",
      "24     24              elsie.lg@hotmail.com      Elsie Geraldine Lopez Gamarra 05/07/2021\n",
      "25     25               renzadmon@gmail.com  RENZZO ANTONIO MARTINEZ BENAVIDES 05/07/2021\n",
      "26     26               joamen842@gmail.com         Lady Joanna Mendoza Garcia 05/07/2021\n",
      "27     27           wmontealegre1@gmail.com william fernando montealegre ramos 05/07/2021\n",
      "28     28             yandra.94@hotmail.com                      Yandra Moreno       <NA>\n",
      "29     29               liangil@hotmail.com        Liliana Marisela Norena Gil 05/07/2021\n",
      "30     30        andresfelipe1915@gmail.com          Andres Felipe Ortiz Hunda 05/07/2021\n",
      "31     31              ang.paez@outlook.com         Angela Daniela Paez Torres       <NA>\n",
      "32     32               gpave2015@gmail.com     OTONIEL Gonzalo Parra Avendaño 05/07/2021\n",
      "33     33                 jalpuba@gmail.com       James Albeiro Pulido Baquero       <NA>\n",
      "34     34      quinteropablojulio@gmail.com     Pablo Julio Quintero Gutiérrez 05/07/2021\n",
      "35     35              yopa_640@hotmail.com       Carlos Felipe Quiroga Yopasa 05/07/2021\n",
      "36     36           roliverio@misena.edu.co                      Oliverio Ruiz 05/07/2021\n",
      "37     37                 f-arm@hotmail.com           Fabian Andres Ruiz Muñoz 05/07/2021\n",
      "38     38           26salazarjuan@gmail.com        Juan Pablo Salazar Portilla 05/07/2021\n",
      "39     39                jass3784@gmail.com  Jennifer Alejandra Sanchez Suarez 05/07/2021\n",
      "40     40        masbmiguelburgos@gmail.com      Miguel Angel Sepúlveda Burgos 05/07/2021\n",
      "41     41               jesnei9@hotmail.com         Jhon Esneider Serna Forero 05/07/2021\n",
      "42     42        laurasinisterrac@gmail.com              Laura Sinisterra Ciro       <NA>\n",
      "43     43            davidmil6423@gmail.com         Jeison david Solano suarez       <NA>\n",
      "44     44        nicosuarez2086@hotmail.com    Andrei Nicolás Suárez Rodríguez       <NA>\n",
      "45     45            rodneytequia@gmail.com     Rodney Snehyder Tequia Pinilla 05/07/2021\n",
      "46     46          brandonvega0@hotmail.com       Brandon Sneider Vega Tapiero 05/07/2021\n",
      "47     47            afvelandia97@gmail.com  Andrés Fernando Velandia Martínez 05/07/2021\n",
      "48     48            geovaniariel@gmail.com       GEOVANI ARIEL VILLAMIL AVILA 05/07/2021\n",
      "49     49      villamizardaniel01@gmail.com                  Daniel Villamizar       <NA>\n",
      "   Numero           Apellido             Nombre                            Correo                     NombreApellido Date\n",
      "1       1      Acevedo Ariza       Jorge Andres             viajerosrcn@gmail.com         Jorge Andres Acevedo Ariza   SI\n",
      "2       2     Ahumada Rincón      Diego Nicolas           nicolas1504@hotmail.com       Diego Nicolas Ahumada Rincón   SI\n",
      "3       3    Aldana  Barrera             Andres        ing.andresaldana@gmail.com             Andres Aldana  Barrera   NO\n",
      "4       4      Arias Camargo       Flor Mariles         florimar-1986@hotmail.com         Flor Mariles Arias Camargo   NO\n",
      "5       5      Barajas Ochoa     Lorent Dhalila          dhalilabarajas@gmail.com       Lorent Dhalila Barajas Ochoa   NO\n",
      "6       6        Bastos Meza   Nancy Yarilennys            yarilennys@hotmail.com       Nancy Yarilennys Bastos Meza   NO\n",
      "7       7      Beleño Ortega     Michael Stally           maikol.stally@gmail.com       Michael Stally Beleño Ortega   SI\n",
      "8       8    Beltran Vergara   Daniel Alejandro        dalejobeltranver@gmail.com   Daniel Alejandro Beltran Vergara   SI\n",
      "9       9            Bergano             Daniel             danpowerful@gmail.com                     Daniel Bergano   NO\n",
      "10     10     Briceño Moreno      Johanna Paola        johannapbm_911@hotmail.com       Johanna Paola Briceño Moreno   SI\n",
      "11     11     Calero Espitia          Sebastian sebastian.caleroespitia@gmail.com           Sebastian Calero Espitia   SI\n",
      "12     12 Castro Castellanos    Leidy Alejandra       leidyalejacastell@gmail.com Leidy Alejandra Castro Castellanos   SI\n",
      "13     13     Colorado Perez       Laura Camila               cami.co@hotmail.com        Laura Camila Colorado Perez   SI\n",
      "14     14     Córdoba Nariño     Héctor Antonio      Hackgivercomputers@gmail.com      Héctor Antonio Córdoba Nariño   NO\n",
      "15     15      cruz barragan        juan erasmo             djcruz_92@hotmail.com          juan erasmo cruz barragan   SI\n",
      "16     16      Duque Giraldo           Luz Alba     luzalbaduquegiraldo@yahoo.com             Luz Alba Duque Giraldo   NO\n",
      "17     17      Escobar Renza        Jose Miller           milleresrenza@gmail.com          Jose Miller Escobar Renza   SI\n",
      "18     18        Girata Mora      Pedro Rodolfo                 pr_gm@hotmail.com          Pedro Rodolfo Girata Mora   SI\n",
      "19     19    Gonzalez Arango          Alejandro         alejogonzabot@hotmail.com          Alejandro Gonzalez Arango   NO\n",
      "20     20  Gonzalez Garavito             Andrea              agonzalez@acatas.com           Andrea Gonzalez Garavito   SI\n",
      "21     21 Gutierrez Cubillos            Marleny        marlensita_123@hotmail.com         Marleny Gutierrez Cubillos   SI\n",
      "22     22  Izquierdo Alarcon      Nilet Yolanda          niletizquierdo@gmail.com    Nilet Yolanda Izquierdo Alarcon   SI\n",
      "23     23     Llamas Gulloso         María José         majollagu2000@hotmail.com          María José Llamas Gulloso   NO\n",
      "24     24      Lopez Gamarra    Elsie Geraldine              elsie.lg@hotmail.com      Elsie Geraldine Lopez Gamarra   SI\n",
      "25     25 MARTINEZ BENAVIDES     RENZZO ANTONIO               renzadmon@gmail.com  RENZZO ANTONIO MARTINEZ BENAVIDES   SI\n",
      "26     26     Mendoza Garcia        Lady Joanna               joamen842@gmail.com         Lady Joanna Mendoza Garcia   SI\n",
      "27     27  montealegre ramos   william fernando           wmontealegre1@gmail.com william fernando montealegre ramos   SI\n",
      "28     28             Moreno             Yandra             yandra.94@hotmail.com                      Yandra Moreno   NO\n",
      "29     29         Norena Gil   Liliana Marisela               liangil@hotmail.com        Liliana Marisela Norena Gil   SI\n",
      "30     30        Ortiz Hunda      Andres Felipe        andresfelipe1915@gmail.com          Andres Felipe Ortiz Hunda   SI\n",
      "31     31        Paez Torres     Angela Daniela              ang.paez@outlook.com         Angela Daniela Paez Torres   NO\n",
      "32     32     Parra Avendaño    OTONIEL Gonzalo               gpave2015@gmail.com     OTONIEL Gonzalo Parra Avendaño   SI\n",
      "33     33     Pulido Baquero      James Albeiro                 jalpuba@gmail.com       James Albeiro Pulido Baquero   NO\n",
      "34     34 Quintero Gutiérrez        Pablo Julio      quinteropablojulio@gmail.com     Pablo Julio Quintero Gutiérrez   SI\n",
      "35     35     Quiroga Yopasa      Carlos Felipe              yopa_640@hotmail.com       Carlos Felipe Quiroga Yopasa   SI\n",
      "36     36               Ruiz           Oliverio           roliverio@misena.edu.co                      Oliverio Ruiz   SI\n",
      "37     37         Ruiz Muñoz      Fabian Andres                 f-arm@hotmail.com           Fabian Andres Ruiz Muñoz   SI\n",
      "38     38   Salazar Portilla         Juan Pablo           26salazarjuan@gmail.com        Juan Pablo Salazar Portilla   SI\n",
      "39     39     Sanchez Suarez Jennifer Alejandra                jass3784@gmail.com  Jennifer Alejandra Sanchez Suarez   SI\n",
      "40     40   Sepúlveda Burgos       Miguel Angel        masbmiguelburgos@gmail.com      Miguel Angel Sepúlveda Burgos   SI\n",
      "41     41       Serna Forero      Jhon Esneider               jesnei9@hotmail.com         Jhon Esneider Serna Forero   SI\n",
      "42     42    Sinisterra Ciro              Laura        laurasinisterrac@gmail.com              Laura Sinisterra Ciro   NO\n",
      "43     43      Solano suarez       Jeison david            davidmil6423@gmail.com         Jeison david Solano suarez   NO\n",
      "44     44   Suárez Rodríguez     Andrei Nicolás        nicosuarez2086@hotmail.com    Andrei Nicolás Suárez Rodríguez   NO\n",
      "45     45     Tequia Pinilla    Rodney Snehyder            rodneytequia@gmail.com     Rodney Snehyder Tequia Pinilla   SI\n",
      "46     46       Vega Tapiero    Brandon Sneider          brandonvega0@hotmail.com       Brandon Sneider Vega Tapiero   SI\n",
      "47     47  Velandia Martínez    Andrés Fernando            afvelandia97@gmail.com  Andrés Fernando Velandia Martínez   SI\n",
      "48     48     VILLAMIL AVILA      GEOVANI ARIEL            geovaniariel@gmail.com       GEOVANI ARIEL VILLAMIL AVILA   SI\n",
      "49     49         Villamizar             Daniel      villamizardaniel01@gmail.com                  Daniel Villamizar   NO\n"
     ]
    }
   ],
   "source": [
    "listaAsistencia = read.csv (\"asisitencia-viernes-05-mayo.csv\")\n",
    "listaAsistenciaDia = left_join (x=listaOrdenada, y=listaAsistencia,by= c(\"NombreApellido\"=\"Attendees\")) \n",
    "print (listaAsistenciaDia[,-c(2,3)])\n",
    "listaAsistenciaDia$Date = sapply (listaAsistenciaDia$Date, function (x) {if (is.na(x)) \"NO\" else \"SI\"})\n",
    "print (listaAsistenciaDia)                                                                         \n",
    "                                                                        \n",
    "                                                                         \n",
    "write.csv (listaAsistenciaDia, \"asistencias-Lunes,Miercoles-Jueves.csv\", quote=F, row.names=F)"
   ]
  },
  {
   "cell_type": "code",
   "execution_count": null,
   "metadata": {},
   "outputs": [],
   "source": []
  }
 ],
 "metadata": {
  "kernelspec": {
   "display_name": "R",
   "language": "R",
   "name": "ir"
  },
  "language_info": {
   "codemirror_mode": "r",
   "file_extension": ".r",
   "mimetype": "text/x-r-source",
   "name": "R",
   "pygments_lexer": "r",
   "version": "3.6.3"
  }
 },
 "nbformat": 4,
 "nbformat_minor": 4
}
