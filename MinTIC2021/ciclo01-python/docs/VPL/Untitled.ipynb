{
 "cells": [
  {
   "cell_type": "code",
   "execution_count": 1,
   "metadata": {},
   "outputs": [
    {
     "data": {
      "text/html": [
       "'/home/lg/repos/lgcursos/2021/MinTIC2021/MinTIC-Python/docs/VPL'"
      ],
      "text/latex": [
       "'/home/lg/repos/lgcursos/2021/MinTIC2021/MinTIC-Python/docs/VPL'"
      ],
      "text/markdown": [
       "'/home/lg/repos/lgcursos/2021/MinTIC2021/MinTIC-Python/docs/VPL'"
      ],
      "text/plain": [
       "[1] \"/home/lg/repos/lgcursos/2021/MinTIC2021/MinTIC-Python/docs/VPL\""
      ]
     },
     "metadata": {},
     "output_type": "display_data"
    }
   ],
   "source": [
    "getwd()"
   ]
  }
 ],
 "metadata": {
  "kernelspec": {
   "display_name": "R",
   "language": "R",
   "name": "ir"
  },
  "language_info": {
   "codemirror_mode": "r",
   "file_extension": ".r",
   "mimetype": "text/x-r-source",
   "name": "R",
   "pygments_lexer": "r",
   "version": "3.6.3"
  }
 },
 "nbformat": 4,
 "nbformat_minor": 4
}
