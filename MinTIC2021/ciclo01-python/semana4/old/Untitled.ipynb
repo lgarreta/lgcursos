{
 "cells": [
  {
   "cell_type": "markdown",
   "metadata": {},
   "source": [
    "# Repaso de ciclos"
   ]
  },
  {
   "cell_type": "markdown",
   "metadata": {},
   "source": [
    "## Cliclo while\n",
    "Cuatro partes:\n",
    "    - Inicializacion\n",
    "    - Evaluación de la condición\n",
    "    - Proceso\n",
    "    - Avance\n",
    "   "
   ]
  },
  {
   "cell_type": "code",
   "execution_count": 3,
   "metadata": {},
   "outputs": [
    {
     "name": "stdout",
     "output_type": "stream",
     "text": [
      "0\n",
      "1\n",
      "2\n",
      "3\n",
      "4\n",
      "5\n",
      "6\n",
      "7\n",
      "8\n",
      "9\n",
      "\n",
      "Adios\n"
     ]
    }
   ],
   "source": [
    "# Ejemplo: Contar desde 0 hasta 10\n",
    "i = 0\n",
    "while (i < 10):\n",
    "    print (i)\n",
    "    i = i+1\n",
    "#\n",
    "print (\"\")\n",
    "print (\"Adios\")"
   ]
  },
  {
   "cell_type": "code",
   "execution_count": 4,
   "metadata": {},
   "outputs": [
    {
     "name": "stdout",
     "output_type": "stream",
     "text": [
      "100\n",
      "95\n",
      "90\n",
      "85\n",
      "80\n",
      "75\n",
      "70\n",
      "65\n",
      "60\n",
      "55\n",
      "50\n",
      "45\n",
      "40\n",
      "35\n",
      "30\n",
      "25\n",
      "20\n",
      "15\n",
      "10\n",
      "5\n",
      "\n",
      "Adios\n"
     ]
    }
   ],
   "source": [
    "# Ejemplo decreciente de 5 en 5, desde 100 hasta 0\n",
    "n = 100\n",
    "while (n > 0):\n",
    "    print (n)\n",
    "    n = n - 5\n",
    "#\n",
    "print (\"\")\n",
    "print (\"Adios\")"
   ]
  }
 ],
 "metadata": {
  "kernelspec": {
   "display_name": "Python 3",
   "language": "python",
   "name": "python3"
  },
  "language_info": {
   "codemirror_mode": {
    "name": "ipython",
    "version": 3
   },
   "file_extension": ".py",
   "mimetype": "text/x-python",
   "name": "python",
   "nbconvert_exporter": "python",
   "pygments_lexer": "ipython3",
   "version": "3.8.5"
  }
 },
 "nbformat": 4,
 "nbformat_minor": 4
}
