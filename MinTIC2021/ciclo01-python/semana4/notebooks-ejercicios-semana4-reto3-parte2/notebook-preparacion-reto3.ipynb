{
 "cells": [
  {
   "cell_type": "markdown",
   "metadata": {},
   "source": [
    "# Ejemplo preparatorio reto3\n",
    "## Problema:\n",
    "\n",
    "- Como operador aereo tiene que leer las medidas de las revoluciones del motor. Especificamente la minima y la maxima (va de 0 a 1000).\n",
    "- Si la minima es menor que 300 revoluciones (bajas), hay error\n",
    "- Si la maxima es mayor que 700 revoluciones (altas), hay error\n",
    "- Para terminar de revisar aviones, digita 9999\n",
    "\n",
    "Usted debe reportar:\n",
    "- Cuantos aviones revisó \n",
    "- Total de revoluciones bajas de todos los aviones\n",
    "- Total de revoluciones altas de todos los aviones\n",
    "- Promedio revoluciones bajas\n",
    "- Promedio revoluciones altas\n",
    "- Promedio revoluciones buenas\n",
    "- Calcula de la media de revoluciones bajas"
   ]
  },
  {
   "cell_type": "code",
   "execution_count": 1,
   "metadata": {},
   "outputs": [
    {
     "name": "stdout",
     "output_type": "stream",
     "text": [
      "Revolucion minima: 10\n",
      "Revolucion maxima: 900\n",
      "Revoluciones fueron:  10 900\n",
      "Revolucion minima: 200\n",
      "Revolucion maxima: 400\n",
      "Revoluciones fueron:  200 400\n",
      "Revolucion minima: 9999\n",
      "Revolucion maxima: 9\n",
      "Revoluciones fueron:  9999 9\n",
      "\n",
      "Adios\n"
     ]
    }
   ],
   "source": [
    "# Caso1: Salida del ciclo\n",
    "# ENTRADAS:\n",
    "revMin = 0\n",
    "revMax = 0\n",
    "\n",
    "while (True):\n",
    "    revMin = int (input (\"Revolucion minima: \"))\n",
    "    revMax = int (input (\"Revolucion maxima: \"))\n",
    "    print (\"Revoluciones fueron: \", revMin, revMax)\n",
    "    \n",
    "    if (revMin==9999 or revMax==9999):\n",
    "        break\n",
    "    #\n",
    "#\n",
    "print (\"\")\n",
    "print (\"Adios\")\n",
    "    \n",
    "    "
   ]
  },
  {
   "cell_type": "code",
   "execution_count": 4,
   "metadata": {},
   "outputs": [
    {
     "name": "stdout",
     "output_type": "stream",
     "text": [
      "Revolucion minima: 10\n",
      "Revolucion maxima: 100\n",
      "Revoluciones fueron:  10 100\n",
      "Revolucion minima: 20\n",
      "Revolucion maxima: 200\n",
      "Revoluciones fueron:  20 200\n",
      "Revolucion minima: 9999\n",
      "Revolucion maxima: 0\n",
      "Revoluciones fueron:  9999 0\n",
      "\n",
      "Conteo aviones:  2\n"
     ]
    }
   ],
   "source": [
    "# Caso2: Conteo de aviones\n",
    "# ENTRADAS:\n",
    "revMin = 0\n",
    "revMax = 0\n",
    "\n",
    "# SALIDAS:\n",
    "conteoAviones = 0 # Acumulador de numero de aviones\n",
    "\n",
    "while (True):\n",
    "    conteoAviones = conteoAviones + 1\n",
    "\n",
    "    revMin = int (input (\"Revolucion minima: \"))\n",
    "    revMax = int (input (\"Revolucion maxima: \"))\n",
    "    print (\"Revoluciones fueron: \", revMin, revMax)\n",
    "\n",
    "    if (revMin==9999 or revMax==9999):\n",
    "        conteoAviones = conteoAviones - 1\n",
    "        break\n",
    "    #\n",
    "#\n",
    "print (\"\")\n",
    "print (\"Conteo aviones: \", conteoAviones)"
   ]
  },
  {
   "cell_type": "code",
   "execution_count": 9,
   "metadata": {},
   "outputs": [
    {
     "name": "stdout",
     "output_type": "stream",
     "text": [
      "Revolucion minima: 10\n",
      "Revolucion maxima: 900\n",
      "Revoluciones fueron:  10 900\n",
      "\n",
      "Revolucion minima: 20\n",
      "Revolucion maxima: 400\n",
      "Revoluciones fueron:  20 400\n",
      "\n",
      "Revolucion minima: 0\n",
      "\n",
      "Conteo aviones:  2\n",
      "Conteo rev minimas:  2\n",
      "Conteo rev maximas:  1\n"
     ]
    }
   ],
   "source": [
    "# Caso2: Contro salida, Conteo de aviones, conteo bajas (rev min) y altas (rev max)\n",
    "# ENTRADAS:\n",
    "revMin = 0\n",
    "revMax = 0\n",
    "\n",
    "# SALIDAS:\n",
    "conteoAviones = 0 # Acumulador de numero de aviones\n",
    "conteoMinimas = 0   # Conteo de revoluciones minimas (menor a 300 rev)\n",
    "conteoMaximas = 0   # Conteo de revoluciones maximas (mayor a 700 rev)\n",
    "\n",
    "while (True):\n",
    "    # Lectura de entradas\n",
    "    revMin = int (input (\"Revolucion minima: \"))\n",
    "    if  (revMin==0):\n",
    "        break\n",
    "    revMax = int (input (\"Revolucion maxima: \"))\n",
    "    if (revMax==0):\n",
    "        break\n",
    "    \n",
    "    print (\"Revoluciones fueron: \", revMin, revMax)\n",
    "    print (\"\")\n",
    "    \n",
    "    conteoAviones = conteoAviones + 1\n",
    "    \n",
    "    # Conteo minimas y maximas\n",
    "    if (revMin < 300):\n",
    "        conteoMinimas +=1            ## conteoMinimas = conteoMinimas + 1 \n",
    "    #\n",
    "    if (revMax >  700):\n",
    "        conteoMaximas +=1\n",
    "\n",
    "    #\n",
    "#\n",
    "print (\"\")\n",
    "print (\"Conteo aviones: \", conteoAviones)\n",
    "print (\"Conteo rev minimas: \", conteoMinimas)\n",
    "print (\"Conteo rev maximas: \", conteoMaximas)"
   ]
  },
  {
   "cell_type": "code",
   "execution_count": null,
   "metadata": {},
   "outputs": [],
   "source": []
  },
  {
   "cell_type": "code",
   "execution_count": null,
   "metadata": {},
   "outputs": [],
   "source": []
  },
  {
   "cell_type": "code",
   "execution_count": null,
   "metadata": {},
   "outputs": [],
   "source": []
  }
 ],
 "metadata": {
  "kernelspec": {
   "display_name": "Python 3",
   "language": "python",
   "name": "python3"
  },
  "language_info": {
   "codemirror_mode": {
    "name": "ipython",
    "version": 3
   },
   "file_extension": ".py",
   "mimetype": "text/x-python",
   "name": "python",
   "nbconvert_exporter": "python",
   "pygments_lexer": "ipython3",
   "version": "3.8.5"
  }
 },
 "nbformat": 4,
 "nbformat_minor": 4
}
