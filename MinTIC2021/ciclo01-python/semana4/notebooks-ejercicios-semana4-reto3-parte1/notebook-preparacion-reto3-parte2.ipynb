{
 "cells": [
  {
   "cell_type": "markdown",
   "metadata": {},
   "source": [
    "# Ejemplo preparatorio reto3\n",
    "## Problema:\n",
    "\n",
    "- Como operador aereo tiene que leer las medidas de las revoluciones del motor. Especificamente la minima y la maxima (va de 0 a 1000).\n",
    "- Si la minima es menor que 300 revoluciones (bajas), hay error\n",
    "- Si la maxima es mayor que 700 revoluciones (altas), hay error\n",
    "- Para terminar de revisar aviones, digita 9999\n",
    "\n",
    "Usted debe reportar:\n",
    "- Cuantos aviones revisó \n",
    "- Total de revoluciones bajas de todos los aviones\n",
    "- Total de revoluciones altas de todos los aviones\n",
    "- Total de revoluciones altas y bajas que ocurren al mismo tiempo\n",
    "- Promedio revoluciones buenas ( no hay error)\n",
    "- Calcula de la media de revoluciones bajas"
   ]
  },
  {
   "cell_type": "code",
   "execution_count": 6,
   "metadata": {},
   "outputs": [
    {
     "name": "stdout",
     "output_type": "stream",
     "text": [
      "Revolucion minima: 100\n",
      "Revolucion maxima: 500\n",
      "Revoluciones fueron:  100 500\n",
      "\n",
      "Revolucion minima: 400\n",
      "Revolucion maxima: 900\n",
      "Revoluciones fueron:  400 900\n",
      "\n",
      "Revolucion minima: 100\n",
      "Revolucion maxima: 900\n",
      "Revoluciones fueron:  100 900\n",
      "\n",
      "Revolucion minima: 400\n",
      "Revolucion maxima: 600\n",
      "Revoluciones fueron:  400 600\n",
      "\n",
      "Revolucion minima: 0\n",
      "Revolucion maxima: 0\n",
      "\n",
      "Conteo aviones:  4\n",
      "Conteo rev minimas:  1\n",
      "Conteo rev maximas:  1\n",
      "Conteo rev minimas y maximas, al mismo tiempo:  1\n",
      "Promedio Buenos:  0.5\n"
     ]
    }
   ],
   "source": [
    "# Caso2: Contro salida, Conteo de aviones, conteo bajas (rev min) y altas (rev max)\n",
    "# ENTRADAS:\n",
    "revMin = 0\n",
    "revMax = 0\n",
    "\n",
    "# SALIDAS:\n",
    "conteoAviones        = 0 # Acumulador de numero de aviones\n",
    "conteoMinimas        = 0   # Conteo de revoluciones minimas (menor a 300 rev)\n",
    "conteoMaximas        = 0   # Conteo de revoluciones maximas (mayor a 700 rev)\n",
    "conteoMinimasMaximas = 0   # Cuando ocurren al mismo tiempo\n",
    "\n",
    "# VARIABLES\n",
    "conteoBuenas = 0\n",
    " \n",
    "while (True):\n",
    "    # Lectura de entradas\n",
    "    revMin = int (input (\"Revolucion minima: \"))\n",
    "    revMax = int (input (\"Revolucion maxima: \"))\n",
    "    if  (revMin==0 and revMax == 0):\n",
    "        break\n",
    "    \n",
    "    print (\"Revoluciones fueron: \", revMin, revMax)\n",
    "    print (\"\")\n",
    "    \n",
    "    conteoAviones = conteoAviones + 1\n",
    "    \n",
    "    # Conteo minimas y maximas\n",
    "    if (revMin >=300 and revMax <=700):\n",
    "        conteoBuenas +=1\n",
    "    #    \n",
    "    if (revMin < 300 and revMax > 700):\n",
    "        conteoMinimasMaximas +=1\n",
    "    else:        \n",
    "        if (revMin < 300):\n",
    "            conteoMinimas +=1            ## conteoMinimas = conteoMinimas + 1 \n",
    "        #\n",
    "        if (revMax >  700):\n",
    "            conteoMaximas +=1            ## conteoMaximas = conteoMaximas + 1\n",
    "        #\n",
    "#\n",
    "print (\"\")\n",
    "print (\"Conteo aviones: \", conteoAviones)\n",
    "print (\"Conteo rev minimas: \", conteoMinimas)\n",
    "print (\"Conteo rev maximas: \", conteoMaximas)\n",
    "print (\"Conteo rev minimas y maximas, al mismo tiempo: \", conteoMinimasMaximas)\n",
    "\n",
    "## Promedios\n",
    "promedioBuenas = conteoBuenas / conteoAviones\n",
    "print (\"Promedio Buenos: \", promedioBuenas)"
   ]
  },
  {
   "cell_type": "code",
   "execution_count": null,
   "metadata": {},
   "outputs": [],
   "source": []
  },
  {
   "cell_type": "code",
   "execution_count": null,
   "metadata": {},
   "outputs": [],
   "source": []
  },
  {
   "cell_type": "code",
   "execution_count": null,
   "metadata": {},
   "outputs": [],
   "source": []
  }
 ],
 "metadata": {
  "kernelspec": {
   "display_name": "Python 3",
   "language": "python",
   "name": "python3"
  },
  "language_info": {
   "codemirror_mode": {
    "name": "ipython",
    "version": 3
   },
   "file_extension": ".py",
   "mimetype": "text/x-python",
   "name": "python",
   "nbconvert_exporter": "python",
   "pygments_lexer": "ipython3",
   "version": "3.8.5"
  }
 },
 "nbformat": 4,
 "nbformat_minor": 4
}
