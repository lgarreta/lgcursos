{
 "cells": [
  {
   "cell_type": "markdown",
   "metadata": {},
   "source": [
    "# Manejo de Listas y Listas de Listas\n",
    "- Secuencia de elementos\n",
    "- Tienen un inicio: posición 0\n",
    "- Tienen un final: posición N-1\n",
    "- Tienen N elementos\n",
    "- Pueden contener cualquier tipo de elementos:\n",
    "  - Cadeana (ej. nombres de usuarios)\n",
    "  - Enteros (ej. edad)\n",
    "  - Flotantes (ej. salario.\n",
    "- Operaciones sobre listas (Funciones):\n",
    "  - Adicionar elementos\n",
    "  - Busquedas\n",
    "  - Remover elementos\n",
    "  - ..."
   ]
  },
  {
   "cell_type": "markdown",
   "metadata": {},
   "source": [
    "## Ejemplos"
   ]
  },
  {
   "cell_type": "code",
   "execution_count": 6,
   "metadata": {},
   "outputs": [
    {
     "name": "stdout",
     "output_type": "stream",
     "text": [
      "ana\n",
      "maria\n",
      "['ana', 'juan', 'maria', 'pedro']\n",
      "['ana', 'juan', 'alibaba', 'pedro']\n"
     ]
    }
   ],
   "source": [
    "# Lista vacia:\n",
    "usuarios = []\n",
    "\n",
    "# Lista con elementos\n",
    "nombres = [\"ana\", \"juan\", \"maria\", \"pedro\"]\n",
    "\n",
    "# Acceso\n",
    "n0 = nombres [0]\n",
    "print (n0)\n",
    "\n",
    "print (nombres [2])\n",
    "\n",
    "print (nombres)\n",
    "# Modificar los elementos\n",
    "nombres [2] = \"alibaba\"\n",
    "print (nombres)"
   ]
  },
  {
   "cell_type": "markdown",
   "metadata": {},
   "source": [
    "# Adicion de elementos, método append\n",
    "- Adiciona un elemento al final de la lista\n",
    "- Pasa de N elementos a N+1"
   ]
  },
  {
   "cell_type": "code",
   "execution_count": 8,
   "metadata": {},
   "outputs": [
    {
     "name": "stdout",
     "output_type": "stream",
     "text": [
      "['ana', 'juan', 'maria', 'pedro', 'josejose']\n"
     ]
    }
   ],
   "source": [
    "# Lista con elementos\n",
    "nombres = [\"ana\", \"juan\", \"maria\", \"pedro\"]\n",
    "\n",
    "nombres.append (\"josejose\")\n",
    "\n",
    "print (nombres)"
   ]
  },
  {
   "cell_type": "markdown",
   "metadata": {},
   "source": [
    "## Longitud de una lista: función **len**\n",
    "- Numero de elementos"
   ]
  },
  {
   "cell_type": "code",
   "execution_count": 12,
   "metadata": {},
   "outputs": [
    {
     "name": "stdout",
     "output_type": "stream",
     "text": [
      "4\n",
      "5\n"
     ]
    }
   ],
   "source": [
    "nombres = [\"ana\", \"juan\", \"maria\", \"pedro\"]\n",
    "\n",
    "N = len (nombres)\n",
    "print (N)\n",
    "\n",
    "nombres.append (\"leidy\")\n",
    "N = len (nombres)\n",
    "print (N)"
   ]
  },
  {
   "cell_type": "markdown",
   "metadata": {},
   "source": [
    "## Lista con diferentes tipos de datos"
   ]
  },
  {
   "cell_type": "code",
   "execution_count": 16,
   "metadata": {},
   "outputs": [
    {
     "name": "stdout",
     "output_type": "stream",
     "text": [
      "['jose', 35, 500.5]\n",
      "['maria', 40, 350.2]\n",
      "['jose', 85, 500.5]\n",
      "['andres', 85, 500.5]\n"
     ]
    }
   ],
   "source": [
    "# Ejemplo lista variada\n",
    "usuario1 = [\"jose\", 35, 500.50]\n",
    "usuario2 = [\"maria\", 40, 350.20]\n",
    "\n",
    "print (usuario1)\n",
    "print (usuario2)\n",
    "\n",
    "# Asignacion de valores\n",
    "usuario1 [1] = 85\n",
    "print (usuario1)\n",
    "\n",
    "usuario1 [0] = \"andres\"\n",
    "print (usuario1)"
   ]
  },
  {
   "cell_type": "markdown",
   "metadata": {},
   "source": [
    "# Listas de Listas\n",
    "- Tener una lista dentro de otra lista\n",
    "- Podriamos construir algo como bases de datos"
   ]
  },
  {
   "cell_type": "code",
   "execution_count": 19,
   "metadata": {},
   "outputs": [
    {
     "name": "stdout",
     "output_type": "stream",
     "text": [
      "3\n",
      "[[], [], []]\n"
     ]
    }
   ],
   "source": [
    "# Ejemplo simple:\n",
    "ls = [ [], [], [] ]\n",
    "N = len (ls)\n",
    "print (N)\n",
    "print (ls)"
   ]
  },
  {
   "cell_type": "code",
   "execution_count": 27,
   "metadata": {},
   "outputs": [
    {
     "name": "stdout",
     "output_type": "stream",
     "text": [
      "3\n",
      "[['ana', 35, 500.5], ['maria', 40, 300.8], ['pedro', 25, 100.1]]\n",
      "['ana', 35, 500.5]\n",
      "['maria', 40, 300.8]\n",
      "maria\n"
     ]
    }
   ],
   "source": [
    "# Ejemplo mas completo:\n",
    "# Indice general       0                     1                     2 \n",
    "usuarios = [ [\"ana\", 35, 500.50], [\"maria\", 40, 300.8], [\"pedro\", 25, 100.1]  ]\n",
    "# Indice        0     1    2           0     1    2         0      1    2\n",
    "\n",
    "\n",
    "N = len (usuarios)\n",
    "print (N)\n",
    "print (usuarios)\n",
    "print (usuarios [0])\n",
    "\n",
    "usuX = usuarios [1]\n",
    "print (usuX)\n",
    "nombre = usuX [0]\n",
    "print (nombre)"
   ]
  },
  {
   "cell_type": "markdown",
   "metadata": {},
   "source": [
    "# Ejercicio: Cual es el sueldo de \"pedro\""
   ]
  },
  {
   "cell_type": "code",
   "execution_count": 28,
   "metadata": {},
   "outputs": [
    {
     "name": "stdout",
     "output_type": "stream",
     "text": [
      "['pedro', 25, 100.1]\n"
     ]
    }
   ],
   "source": [
    "# Indice general       0                     1                     2 \n",
    "usuarios = [ [\"ana\", 35, 500.50], [\"maria\", 40, 300.8], [\"pedro\", 25, 100.1]  ]\n",
    "# Indice        0     1    2           0     1    2         0      1    2\n",
    "\n",
    "usuPedro = usuarios [2]\n",
    "print (usuPedro)"
   ]
  },
  {
   "cell_type": "code",
   "execution_count": 31,
   "metadata": {},
   "outputs": [
    {
     "name": "stdout",
     "output_type": "stream",
     "text": [
      "100.1\n"
     ]
    }
   ],
   "source": [
    "salario = usuPedro [2]\n",
    "print (salario)"
   ]
  },
  {
   "cell_type": "code",
   "execution_count": 33,
   "metadata": {},
   "outputs": [
    {
     "name": "stdout",
     "output_type": "stream",
     "text": [
      "300.8\n"
     ]
    }
   ],
   "source": [
    "# Acceso de forma directa: indice de indices\n",
    "# Salario de \"maria\"\n",
    "salarioMaria = usuarios [1][2]\n",
    "print (salarioMaria)"
   ]
  },
  {
   "cell_type": "code",
   "execution_count": 35,
   "metadata": {},
   "outputs": [
    {
     "name": "stdout",
     "output_type": "stream",
     "text": [
      "[['ana', 35, 500.5], ['maria', 40, 300.8], ['pedro', 25, 100.1], ['lady', 28, 1000.0]]\n"
     ]
    }
   ],
   "source": [
    "# Adicion de elementos en una lista de listas\n",
    "# Indice general       0                     1                     2 \n",
    "usuarios = [ [\"ana\", 35, 500.50], [\"maria\", 40, 300.8], [\"pedro\", 25, 100.1]  ]\n",
    "# Indice\n",
    "\n",
    "nuevoUsuario = [\"lady\", 28, 1000.0]\n",
    "\n",
    "usuarios.append (nuevoUsuario)\n",
    "print (usuarios)"
   ]
  },
  {
   "cell_type": "markdown",
   "metadata": {},
   "source": [
    "# Recorrido de listas\n",
    "- Ir de elemento en elemento en las lista y hacer algún proceso\n",
    "- Se realiza con ciclos: while o for\n",
    "- Si usa **for** el acceso a cada elemento es automatico\n",
    "- Si usa **while** el acceso es manual: inicialización, condición, proceso, incremento"
   ]
  },
  {
   "cell_type": "code",
   "execution_count": 42,
   "metadata": {},
   "outputs": [
    {
     "name": "stdout",
     "output_type": "stream",
     "text": [
      "Hola  ana\n",
      "Hola  juan\n",
      "Hola  maria\n",
      "Hola  pedro\n",
      "Hola  david\n",
      "Hola  juliana\n"
     ]
    }
   ],
   "source": [
    "# Ejemplo simple con ciclo for\n",
    "listaNombres = [\"ana\", \"juan\", \"maria\", \"pedro\", \"david\", \"juliana\"]\n",
    "\n",
    "for nombre in listaNombres:\n",
    "    print (\"Hola \", nombre)\n",
    "#"
   ]
  },
  {
   "cell_type": "code",
   "execution_count": 45,
   "metadata": {},
   "outputs": [
    {
     "name": "stdout",
     "output_type": "stream",
     "text": [
      "Hola  ana\n",
      "Hola  maria\n",
      "Hola  david\n"
     ]
    }
   ],
   "source": [
    "# Ejemplo con ciclo while\n",
    "#                 0       1     2          3        4         5\n",
    "listaNombres = [\"ana\", \"juan\", \"maria\", \"pedro\", \"david\", \"juliana\"]\n",
    "i = 0\n",
    "N = len (listaNombres)\n",
    "while (i < N):\n",
    "    nombre = listaNombres [i]\n",
    "    print (\"Hola \", nombre)\n",
    "    i+=1\n",
    "#\n",
    "  "
   ]
  },
  {
   "cell_type": "markdown",
   "metadata": {},
   "source": [
    "# Recorrido con listas de listas\n",
    "- Acceso a los elementos generales de la lista\n",
    "- De los generales acceso a los específicos"
   ]
  },
  {
   "cell_type": "markdown",
   "metadata": {},
   "source": [
    "## Ciclo for"
   ]
  },
  {
   "cell_type": "code",
   "execution_count": 49,
   "metadata": {},
   "outputs": [
    {
     "name": "stdout",
     "output_type": "stream",
     "text": [
      "hola ana  usted gana  500.5\n",
      "hola maria  usted gana  300.8\n",
      "hola pedro  usted gana  100.1\n"
     ]
    }
   ],
   "source": [
    "# Indice general       0                     1                     2 \n",
    "listaUsuarios = [ [\"ana\", 35, 500.50], [\"maria\", 40, 300.8], [\"pedro\", 25, 100.1]  ]\n",
    "# Indice            0     1    2           0     1    2         0      1    2\n",
    "\n",
    "for usuario in listaUsuarios:\n",
    "    nombre  = usuario [0]\n",
    "    salario = usuario [2]\n",
    "    print (\"hola\", nombre, \" usted gana \", salario)"
   ]
  },
  {
   "cell_type": "markdown",
   "metadata": {},
   "source": [
    "## Ciclo while"
   ]
  },
  {
   "cell_type": "code",
   "execution_count": 51,
   "metadata": {},
   "outputs": [
    {
     "name": "stdout",
     "output_type": "stream",
     "text": [
      "hola  ana usted gana  500.5\n",
      "hola  maria usted gana  300.8\n",
      "hola  pedro usted gana  100.1\n"
     ]
    }
   ],
   "source": [
    "# Indice general       0                     1                     2 \n",
    "listaUsuarios = [ [\"ana\", 35, 500.50], [\"maria\", 40, 300.8], [\"pedro\", 25, 100.1]  ]\n",
    "# Indice            0     1    2           0     1    2         0      1    2\n",
    "\n",
    "N = len (listaUsuarios)\n",
    "i = 0\n",
    "while (i < N):\n",
    "    usuario = listaUsuarios [i]\n",
    "    nombre  = usuario [0]\n",
    "    salario = usuario [2]\n",
    "    print (\"hola \", nombre, \"usted gana \", salario)\n",
    "    i +=1\n",
    "#\n",
    "    "
   ]
  },
  {
   "cell_type": "markdown",
   "metadata": {},
   "source": [
    "## Proceso más complejo de recorrido: imprimir nombres con salario de más de 200 dolares"
   ]
  },
  {
   "cell_type": "code",
   "execution_count": 54,
   "metadata": {},
   "outputs": [
    {
     "name": "stdout",
     "output_type": "stream",
     "text": [
      "Mas de 200 es: ana\n",
      "Mas de 200 es: maria\n"
     ]
    }
   ],
   "source": [
    "# Indice general       0                     1                     2 \n",
    "listaUsuarios = [ [\"ana\", 35, 500.50], [\"maria\", 40, 300.8], [\"pedro\", 25, 100.1]  ]\n",
    "# Indice            0     1    2           0     1    2         0      1    2\n",
    "\n",
    "N = len (listaUsuarios)\n",
    "i = 0\n",
    "while (i < N):\n",
    "    usuario = listaUsuarios [i]\n",
    "    salario = usuario [2]\n",
    "    nombre = usuario [0]\n",
    "    \n",
    "    if (salario > 200):    \n",
    "        print (\"Mas de 200 es:\", nombre)\n",
    "    #    \n",
    "     \n",
    "    i +=1\n",
    "#\n",
    "    "
   ]
  },
  {
   "cell_type": "markdown",
   "metadata": {},
   "source": [
    "# Manejo de cadenas (str) : Arreglos de elementos\n",
    "- Cadenas son arreglos de caracteres (algo así como listas)\n",
    "- Tienen varios elementos\n",
    "- Posicion inicial 0\n",
    "- Posicion final N-1\n",
    "- Tienen N elementos\n",
    "- No crecen, no se puede adicionar elementos.\n",
    "- Las funciones principales de cadenas están en la clase \"str\""
   ]
  },
  {
   "cell_type": "code",
   "execution_count": 57,
   "metadata": {},
   "outputs": [
    {
     "name": "stdout",
     "output_type": "stream",
     "text": [
      "10\n"
     ]
    }
   ],
   "source": [
    "# Ejemplo:\n",
    "s = \"hola mundo\"\n",
    "N = len (s)\n",
    "print (N)"
   ]
  },
  {
   "cell_type": "markdown",
   "metadata": {},
   "source": [
    "# Operaciones con cadenas\n",
    "- Cambiar a mayusculas: upper\n",
    "- Cambiar a minuscular: lower\n",
    "- Buscar si existe un elemento: find\n",
    "- ..."
   ]
  },
  {
   "cell_type": "code",
   "execution_count": 63,
   "metadata": {},
   "outputs": [
    {
     "name": "stdout",
     "output_type": "stream",
     "text": [
      "HOLA MUNDO\n"
     ]
    }
   ],
   "source": [
    "# Ejemplos de funciones\n",
    "s = \"Hola Mundo\"\n",
    "s = str.upper (s)\n",
    "print (s)"
   ]
  },
  {
   "cell_type": "code",
   "execution_count": 64,
   "metadata": {},
   "outputs": [
    {
     "name": "stdout",
     "output_type": "stream",
     "text": [
      "hola mundo\n"
     ]
    }
   ],
   "source": [
    "s = str.lower (s)\n",
    "print (s)"
   ]
  },
  {
   "cell_type": "code",
   "execution_count": 66,
   "metadata": {},
   "outputs": [
    {
     "name": "stdout",
     "output_type": "stream",
     "text": [
      "3\n"
     ]
    }
   ],
   "source": [
    "s = \"Hola Mundo\"\n",
    "n = str.find (s, \"a\")\n",
    "print (n)"
   ]
  },
  {
   "cell_type": "code",
   "execution_count": 69,
   "metadata": {},
   "outputs": [
    {
     "name": "stdout",
     "output_type": "stream",
     "text": [
      "H\n",
      "M\n"
     ]
    }
   ],
   "source": [
    "# Indexacion en arreglos: en cadenas\n",
    "s = \"Hola Mundo\"  # Arreglo de caracteres\n",
    "print (s [0])\n",
    "x = s [5]\n",
    "print (x)"
   ]
  },
  {
   "cell_type": "code",
   "execution_count": 78,
   "metadata": {},
   "outputs": [
    {
     "name": "stdout",
     "output_type": "stream",
     "text": [
      "Inicia con a\n"
     ]
    }
   ],
   "source": [
    "# Ejemplo: ver si la cadena inicia con una letra\n",
    "nm = \"Ana\"\n",
    "c   = nm [0]\n",
    "if (c==\"a\" or c==\"A\"):\n",
    "    print (\"Inicia con a\")"
   ]
  },
  {
   "cell_type": "markdown",
   "metadata": {},
   "source": [
    "## Ejemplo de buscar por letra inicial\n",
    "- Buscar elemento en la posición 0 de la cadena y compararlo"
   ]
  },
  {
   "cell_type": "code",
   "execution_count": 84,
   "metadata": {},
   "outputs": [
    {
     "ename": "KeyboardInterrupt",
     "evalue": "Interrupted by user",
     "output_type": "error",
     "traceback": [
      "\u001b[0;31m---------------------------------------------------------------------------\u001b[0m",
      "\u001b[0;31mKeyboardInterrupt\u001b[0m                         Traceback (most recent call last)",
      "\u001b[0;32m<ipython-input-84-311081f76747>\u001b[0m in \u001b[0;36m<module>\u001b[0;34m\u001b[0m\n\u001b[1;32m      3\u001b[0m \u001b[0mi\u001b[0m \u001b[0;34m=\u001b[0m \u001b[0;36m0\u001b[0m\u001b[0;34m\u001b[0m\u001b[0;34m\u001b[0m\u001b[0m\n\u001b[1;32m      4\u001b[0m \u001b[0mN\u001b[0m \u001b[0;34m=\u001b[0m \u001b[0mlen\u001b[0m \u001b[0;34m(\u001b[0m\u001b[0mlistaNombres\u001b[0m\u001b[0;34m)\u001b[0m\u001b[0;34m\u001b[0m\u001b[0;34m\u001b[0m\u001b[0m\n\u001b[0;32m----> 5\u001b[0;31m \u001b[0mc\u001b[0m \u001b[0;34m=\u001b[0m \u001b[0minput\u001b[0m \u001b[0;34m(\u001b[0m\u001b[0;34m\"Ingrese caracter: \"\u001b[0m\u001b[0;34m)\u001b[0m\u001b[0;34m\u001b[0m\u001b[0;34m\u001b[0m\u001b[0m\n\u001b[0m\u001b[1;32m      6\u001b[0m \u001b[0;32mwhile\u001b[0m \u001b[0;34m(\u001b[0m\u001b[0mi\u001b[0m \u001b[0;34m<\u001b[0m \u001b[0mN\u001b[0m\u001b[0;34m)\u001b[0m\u001b[0;34m:\u001b[0m\u001b[0;34m\u001b[0m\u001b[0;34m\u001b[0m\u001b[0m\n\u001b[1;32m      7\u001b[0m     \u001b[0mnombre\u001b[0m \u001b[0;34m=\u001b[0m \u001b[0mlistaNombres\u001b[0m \u001b[0;34m[\u001b[0m\u001b[0mi\u001b[0m\u001b[0;34m]\u001b[0m\u001b[0;34m\u001b[0m\u001b[0;34m\u001b[0m\u001b[0m\n",
      "\u001b[0;32m/usr/lib/python3/dist-packages/ipykernel/kernelbase.py\u001b[0m in \u001b[0;36mraw_input\u001b[0;34m(self, prompt)\u001b[0m\n\u001b[1;32m    858\u001b[0m                 \u001b[0;34m\"raw_input was called, but this frontend does not support input requests.\"\u001b[0m\u001b[0;34m\u001b[0m\u001b[0;34m\u001b[0m\u001b[0m\n\u001b[1;32m    859\u001b[0m             )\n\u001b[0;32m--> 860\u001b[0;31m         return self._input_request(str(prompt),\n\u001b[0m\u001b[1;32m    861\u001b[0m             \u001b[0mself\u001b[0m\u001b[0;34m.\u001b[0m\u001b[0m_parent_ident\u001b[0m\u001b[0;34m,\u001b[0m\u001b[0;34m\u001b[0m\u001b[0;34m\u001b[0m\u001b[0m\n\u001b[1;32m    862\u001b[0m             \u001b[0mself\u001b[0m\u001b[0;34m.\u001b[0m\u001b[0m_parent_header\u001b[0m\u001b[0;34m,\u001b[0m\u001b[0;34m\u001b[0m\u001b[0;34m\u001b[0m\u001b[0m\n",
      "\u001b[0;32m/usr/lib/python3/dist-packages/ipykernel/kernelbase.py\u001b[0m in \u001b[0;36m_input_request\u001b[0;34m(self, prompt, ident, parent, password)\u001b[0m\n\u001b[1;32m    891\u001b[0m             \u001b[0;32mexcept\u001b[0m \u001b[0mKeyboardInterrupt\u001b[0m\u001b[0;34m:\u001b[0m\u001b[0;34m\u001b[0m\u001b[0;34m\u001b[0m\u001b[0m\n\u001b[1;32m    892\u001b[0m                 \u001b[0;31m# re-raise KeyboardInterrupt, to truncate traceback\u001b[0m\u001b[0;34m\u001b[0m\u001b[0;34m\u001b[0m\u001b[0;34m\u001b[0m\u001b[0m\n\u001b[0;32m--> 893\u001b[0;31m                 \u001b[0;32mraise\u001b[0m \u001b[0mKeyboardInterrupt\u001b[0m\u001b[0;34m(\u001b[0m\u001b[0;34m\"Interrupted by user\"\u001b[0m\u001b[0;34m)\u001b[0m \u001b[0;32mfrom\u001b[0m \u001b[0;32mNone\u001b[0m\u001b[0;34m\u001b[0m\u001b[0;34m\u001b[0m\u001b[0m\n\u001b[0m\u001b[1;32m    894\u001b[0m             \u001b[0;32melse\u001b[0m\u001b[0;34m:\u001b[0m\u001b[0;34m\u001b[0m\u001b[0;34m\u001b[0m\u001b[0m\n\u001b[1;32m    895\u001b[0m                 \u001b[0;32mbreak\u001b[0m\u001b[0;34m\u001b[0m\u001b[0;34m\u001b[0m\u001b[0m\n",
      "\u001b[0;31mKeyboardInterrupt\u001b[0m: Interrupted by user"
     ]
    }
   ],
   "source": [
    "#                 0       1     2          3        4         5\n",
    "listaNombres = [\"ana\", \"juan\", \"maria\", \"Andrea\", \"Juancho\", \"david\", \"andres\", \"juliana\"]\n",
    "i = 0\n",
    "N = len (listaNombres)\n",
    "c = input (\"Ingrese caracter: \")\n",
    "while (i < N):\n",
    "    nombre = listaNombres [i]\n",
    "    nombreMayusculas = str.upper (nombre)\n",
    "    C = str.upper (c)\n",
    "    \n",
    "    if (nombreMayusculas [0] == C):\n",
    "        print (\"Hola \", nombre)\n",
    "    #\n",
    "    i+=1\n",
    "#"
   ]
  },
  {
   "cell_type": "markdown",
   "metadata": {},
   "source": [
    "# Ejemplo programa con menu\n",
    "- Ciclo infinito\n",
    "- Presenta unas opciones para que escoja una de ellas\n",
    "- Opciones generalmente a través de número\n",
    "- Opción para salir (ej. 0 salir)\n",
    "- Cada opción llama a una función"
   ]
  },
  {
   "cell_type": "code",
   "execution_count": 87,
   "metadata": {},
   "outputs": [
    {
     "name": "stdout",
     "output_type": "stream",
     "text": [
      ">>>>>>>>>>> OPCIONES <<<<<<<<<<<<<<<<<<\n",
      "0. Salir\n",
      "1. Buscar por nombre\n",
      "2. Borrar\n",
      "3. Adicionar\n",
      "4. Imprimir\n",
      ">>>>>>>>>>>>>>>>>><<<<<<<<<<<<<<<<<<<<<<\n",
      "Ingrese la opción4\n",
      "Aun no implementada\n",
      ">>>>>>>>>>> OPCIONES <<<<<<<<<<<<<<<<<<\n",
      "0. Salir\n",
      "1. Buscar por nombre\n",
      "2. Borrar\n",
      "3. Adicionar\n",
      "4. Imprimir\n",
      ">>>>>>>>>>>>>>>>>><<<<<<<<<<<<<<<<<<<<<<\n",
      "Ingrese la opción1\n",
      "Aun no implementada\n",
      ">>>>>>>>>>> OPCIONES <<<<<<<<<<<<<<<<<<\n",
      "0. Salir\n",
      "1. Buscar por nombre\n",
      "2. Borrar\n",
      "3. Adicionar\n",
      "4. Imprimir\n",
      ">>>>>>>>>>>>>>>>>><<<<<<<<<<<<<<<<<<<<<<\n",
      "Ingrese la opción0\n",
      "\n",
      "Adios\n"
     ]
    }
   ],
   "source": [
    "# Ejemplo programa con menu\n",
    "## FUNCIONES\n",
    "def buscarPorNombre ():\n",
    "    #....\n",
    "    print (\"Aun no implementada\")\n",
    "    \n",
    "def borrarUsuario ():\n",
    "    print (\"Aun no implementada\")\n",
    "    \n",
    "def adicionarUsuario ():\n",
    "    print (\"Aun no implementada\")\n",
    "\n",
    "def imprimirUsuarios ():\n",
    "    print (\"Aun no implementada\")\n",
    "\n",
    "## PRINCIPAL    \n",
    "while (True):\n",
    "    print (\">>>>>>>>>>> OPCIONES <<<<<<<<<<<<<<<<<<\")\n",
    "    print (\"0. Salir\")\n",
    "    print (\"1. Buscar por nombre\")\n",
    "    print (\"2. Borrar\")\n",
    "    print (\"3. Adicionar\")\n",
    "    print (\"4. Imprimir\")\n",
    "    print (\">>>>>>>>>>>>>>>>>><<<<<<<<<<<<<<<<<<<<<<\")\n",
    "    \n",
    "    opcion = int (input (\"Ingrese la opción\"))\n",
    "    \n",
    "    if (opcion==0):\n",
    "        break\n",
    "    elif (opcion==1):\n",
    "        buscarPorNombre ()\n",
    "    elif (opcion==2):\n",
    "        borrarUsuario()\n",
    "    elif (opcion==3):\n",
    "        adicionarUsuario ()\n",
    "    elif (opcion==4):\n",
    "        imprimirUsuarios ()\n",
    "    else:\n",
    "        print (\"Opción no valida\")\n",
    "    #\n",
    "    print ()\n",
    "#\n",
    "print ()\n",
    "print (\"Adios\")\n",
    "    \n",
    "    "
   ]
  },
  {
   "cell_type": "code",
   "execution_count": 53,
   "metadata": {},
   "outputs": [
    {
     "name": "stdout",
     "output_type": "stream",
     "text": [
      "\n",
      "\n",
      "\n",
      "\n",
      "\n",
      "\n",
      "\n",
      "\n",
      "\n",
      "\n",
      "\n",
      "\n",
      "\n",
      "\n",
      "\n",
      "\n",
      "\n",
      "\n",
      "\n",
      "\n",
      "\n",
      "\n",
      "\n",
      "\n",
      "\n",
      "\n",
      "\n",
      "\n",
      "\n",
      "\n",
      "\n",
      "\n",
      "\n",
      "\n",
      "\n",
      "\n",
      "\n",
      "\n",
      "\n",
      "\n",
      "\n",
      "\n",
      "\n",
      "\n",
      "\n",
      "\n",
      "\n",
      "\n",
      "\n",
      "\n",
      "\n",
      "\n",
      "\n",
      "\n",
      "\n",
      "\n",
      "\n",
      "\n",
      "\n",
      "\n",
      "\n",
      "\n",
      "\n",
      "\n",
      "\n",
      "\n",
      "\n",
      "\n",
      "\n",
      "\n",
      "\n",
      "\n",
      "\n",
      "\n",
      "\n",
      "\n",
      "\n",
      "\n",
      "\n",
      "\n",
      "\n",
      "\n",
      "\n",
      "\n",
      "\n",
      "\n",
      "\n",
      "\n",
      "\n",
      "\n",
      "\n",
      "\n",
      "\n",
      "\n",
      "\n",
      "\n",
      "\n",
      "\n",
      "\n",
      "\n",
      "\n"
     ]
    }
   ],
   "source": [
    "print (\"\\n\"*100)"
   ]
  },
  {
   "cell_type": "code",
   "execution_count": null,
   "metadata": {},
   "outputs": [],
   "source": []
  }
 ],
 "metadata": {
  "kernelspec": {
   "display_name": "Python 3",
   "language": "python",
   "name": "python3"
  },
  "language_info": {
   "codemirror_mode": {
    "name": "ipython",
    "version": 3
   },
   "file_extension": ".py",
   "mimetype": "text/x-python",
   "name": "python",
   "nbconvert_exporter": "python",
   "pygments_lexer": "ipython3",
   "version": "3.8.5"
  }
 },
 "nbformat": 4,
 "nbformat_minor": 4
}
